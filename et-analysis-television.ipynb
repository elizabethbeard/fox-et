{
 "cells": [
  {
   "cell_type": "markdown",
   "metadata": {},
   "source": [
    "# Fox: Eyetracking - Television\n",
    "\n",
    "This notebook:\n",
    "\n",
    "1. Preprocessing television conditions by\n",
    "\n",
    "    a. aligning pupil labs data with the open bci event data\n",
    "\n",
    "    b. extract pupil labs data for each ad, saving data associated with each ad\n",
    "\n",
    "2. AOI Analyses starting with\n",
    "\n",
    "    a. finding the television screen in the world video recordings from each advertisement\n",
    "\n",
    "    b. creating an AOI based on the television screen defined from step 1\n",
    "\n",
    "    c. aggregating pupil labs ET data for each frame of the world video recordings\n",
    "    \n",
    "    d. processes whether the fixation is inside or outside of the AOI\n",
    "    "
   ]
  },
  {
   "cell_type": "code",
   "execution_count": 1,
   "metadata": {},
   "outputs": [],
   "source": [
    "# libraries\n",
    "import cv2\n",
    "import numpy as np\n",
    "import pandas as pd\n",
    "import os\n",
    "import csv\n",
    "import av\n",
    "import subprocess\n",
    "import matplotlib.pyplot as plt\n",
    "import glob\n",
    "from datetime import datetime\n",
    "from PIL import Image, ImageDraw\n",
    "from scipy.interpolate import interp1d"
   ]
  },
  {
   "cell_type": "code",
   "execution_count": 3,
   "metadata": {},
   "outputs": [
    {
     "name": "stdout",
     "output_type": "stream",
     "text": [
      "109\n"
     ]
    },
    {
     "data": {
      "text/plain": [
       "['/Volumes/T7 Shield/fox/et/sub-019_tv-lego-42b0cb7d',\n",
       " '/Volumes/T7 Shield/fox/et/sub-021_tv-pickers-97606087',\n",
       " '/Volumes/T7 Shield/fox/et/sub-022_tv-cnn-6db56780',\n",
       " '/Volumes/T7 Shield/fox/et/sub-023_tv-continental-594a5c2b',\n",
       " '/Volumes/T7 Shield/fox/et/sub-024_tv-fox-96dfc1c4',\n",
       " '/Volumes/T7 Shield/fox/et/sub-025_tv-nfl-a6e3e656',\n",
       " '/Volumes/T7 Shield/fox/et/sub-027_tv-lego-2e4ef2bf',\n",
       " '/Volumes/T7 Shield/fox/et/sub-028_tv-bigmood-76d32333',\n",
       " '/Volumes/T7 Shield/fox/et/sub-029_tv-pickers-bf2ffb67',\n",
       " '/Volumes/T7 Shield/fox/et/sub-030_tv-cnn-b8d33fbe',\n",
       " '/Volumes/T7 Shield/fox/et/sub-031_tv-continental-8c85bd3f',\n",
       " '/Volumes/T7 Shield/fox/et/sub-032_tv-fox-b5beca97',\n",
       " '/Volumes/T7 Shield/fox/et/sub-033_tv-nfl-3d751d85',\n",
       " '/Volumes/T7 Shield/fox/et/sub-034_tv-control-e9c00262',\n",
       " '/Volumes/T7 Shield/fox/et/sub-035_tv-lego-27d35985',\n",
       " '/Volumes/T7 Shield/fox/et/sub-036_tv-bigmood-2a7adbc3',\n",
       " '/Volumes/T7 Shield/fox/et/sub-037_tv-pickers-f8e0659f',\n",
       " '/Volumes/T7 Shield/fox/et/sub-038_tv-cnn-f65c3e71',\n",
       " '/Volumes/T7 Shield/fox/et/sub-039_tv-continental-25a4dbdb',\n",
       " '/Volumes/T7 Shield/fox/et/sub-040_tv-nfl-527c4962',\n",
       " '/Volumes/T7 Shield/fox/et/sub-041_tv-control-a5fa75d0',\n",
       " '/Volumes/T7 Shield/fox/et/sub-042_tv-control-e6c21502',\n",
       " '/Volumes/T7 Shield/fox/et/sub-043_tv-foxnews-63621102',\n",
       " '/Volumes/T7 Shield/fox/et/sub-044_tv-lego-b9e2d9a7',\n",
       " '/Volumes/T7 Shield/fox/et/sub-045_tv-bigmood-80bf8c6a',\n",
       " '/Volumes/T7 Shield/fox/et/sub-046_tv-pickers-c130f175',\n",
       " '/Volumes/T7 Shield/fox/et/sub-047_tv-cnn-3b19bacd',\n",
       " '/Volumes/T7 Shield/fox/et/sub-049_tv-fox-74761213',\n",
       " '/Volumes/T7 Shield/fox/et/sub-053_tv-lego-63478be7',\n",
       " '/Volumes/T7 Shield/fox/et/sub-054_tv-pickers-49c544bb',\n",
       " '/Volumes/T7 Shield/fox/et/sub-055_tv-cnn-656c583f',\n",
       " '/Volumes/T7 Shield/fox/et/sub-056_tv-continental-55b96040',\n",
       " '/Volumes/T7 Shield/fox/et/sub-057_tv-nfl-c05e3fbd',\n",
       " '/Volumes/T7 Shield/fox/et/sub-058_tv-control-88ec9916',\n",
       " '/Volumes/T7 Shield/fox/et/sub-060_tv-bigmood-81f062b9',\n",
       " '/Volumes/T7 Shield/fox/et/sub-062_tv-cnn-fdc95126',\n",
       " '/Volumes/T7 Shield/fox/et/sub-063_tv-continental-d980b9d9',\n",
       " '/Volumes/T7 Shield/fox/et/sub-064_tv-control-80c3105d',\n",
       " '/Volumes/T7 Shield/fox/et/sub-066_tv-bigmood-9d2e3954',\n",
       " '/Volumes/T7 Shield/fox/et/sub-067_tv-nfl-9bf4ae0a',\n",
       " '/Volumes/T7 Shield/fox/et/sub-068_tv-pickers-a2a4a067',\n",
       " '/Volumes/T7 Shield/fox/et/sub-069_tv-cnn-0225c103',\n",
       " '/Volumes/T7 Shield/fox/et/sub-071_tv-continental-82f0129a',\n",
       " '/Volumes/T7 Shield/fox/et/sub-072_tv-foxnews-604794d4',\n",
       " '/Volumes/T7 Shield/fox/et/sub-074_tv-foxnews-400b9320',\n",
       " '/Volumes/T7 Shield/fox/et/sub-075_tv-control-4b3934c4',\n",
       " '/Volumes/T7 Shield/fox/et/sub-077_tv-bigmood-6fdd2804',\n",
       " '/Volumes/T7 Shield/fox/et/sub-078_tv-pickers-9e9192ba',\n",
       " '/Volumes/T7 Shield/fox/et/sub-079_tv-cnn-65777e73',\n",
       " '/Volumes/T7 Shield/fox/et/sub-080_tv-continental-47182ab6',\n",
       " '/Volumes/T7 Shield/fox/et/sub-081_tv-control-37a03660',\n",
       " '/Volumes/T7 Shield/fox/et/sub-082_tv-fox-25954b84',\n",
       " '/Volumes/T7 Shield/fox/et/sub-083_tv-lego-2988a03f',\n",
       " '/Volumes/T7 Shield/fox/et/sub-084_tv-nfl-48d56dc8',\n",
       " '/Volumes/T7 Shield/fox/et/sub-085_tv-x-29cd2b22',\n",
       " '/Volumes/T7 Shield/fox/et/sub-086_tv-nfl-26da6c99',\n",
       " '/Volumes/T7 Shield/fox/et/sub-087_tv-bigmood-9f9214c5',\n",
       " '/Volumes/T7 Shield/fox/et/sub-088_tv-pickers-5a5d4a11',\n",
       " '/Volumes/T7 Shield/fox/et/sub-089_tv-foxnews-6ca45d4d',\n",
       " '/Volumes/T7 Shield/fox/et/sub-090_tv-cnn-43253432',\n",
       " '/Volumes/T7 Shield/fox/et/sub-091_tv-foxnews-08834a6c',\n",
       " '/Volumes/T7 Shield/fox/et/sub-101_tv-youtube-2b9775a3',\n",
       " '/Volumes/T7 Shield/fox/et/sub-102_tv-youtube-4f54a052',\n",
       " '/Volumes/T7 Shield/fox/et/sub-103_tv-youtube-96d8ca64',\n",
       " '/Volumes/T7 Shield/fox/et/sub-112_tv-youtube-0fbb0967',\n",
       " '/Volumes/T7 Shield/fox/et/sub-113_tv-youtube-ae8cef00',\n",
       " '/Volumes/T7 Shield/fox/et/sub-114_tv-youtube-a64a5ef4',\n",
       " '/Volumes/T7 Shield/fox/et/sub-120_tv-continental-11b3e28a',\n",
       " '/Volumes/T7 Shield/fox/et/sub-121_tv-continental-a8dba278',\n",
       " '/Volumes/T7 Shield/fox/et/sub-123_tv-bigmood-e589eeb6',\n",
       " '/Volumes/T7 Shield/fox/et/sub-124_tv-pickers-754cd85b',\n",
       " '/Volumes/T7 Shield/fox/et/sub-125_tv-cnn-b7a4d7f1',\n",
       " '/Volumes/T7 Shield/fox/et/sub-126_tv-nfl-8a3b7d10',\n",
       " '/Volumes/T7 Shield/fox/et/sub-127_tv-lego-e4770d05',\n",
       " '/Volumes/T7 Shield/fox/et/sub-129_tv-bigmood-61c12e40',\n",
       " '/Volumes/T7 Shield/fox/et/sub-130_tv-pickers-8dc0d23e',\n",
       " '/Volumes/T7 Shield/fox/et/sub-131_tv-fox-3ce1a73b',\n",
       " '/Volumes/T7 Shield/fox/et/sub-132_tv-fox-b37908c1',\n",
       " '/Volumes/T7 Shield/fox/et/sub-133_tv-nfl-f88dd9c5',\n",
       " '/Volumes/T7 Shield/fox/et/sub-134_tv-fox-e0127dca',\n",
       " '/Volumes/T7 Shield/fox/et/sub-135_tv-cnn-c18d0871',\n",
       " '/Volumes/T7 Shield/fox/et/sub-136_tv-continental-60408165',\n",
       " '/Volumes/T7 Shield/fox/et/sub-137_tv-fox-6e20cbbd',\n",
       " '/Volumes/T7 Shield/fox/et/sub-138_tv-control-5dc429c4',\n",
       " '/Volumes/T7 Shield/fox/et/sub-139_tv-nfl-c853e31c',\n",
       " '/Volumes/T7 Shield/fox/et/sub-140_tv-bigmood-2f22df09',\n",
       " '/Volumes/T7 Shield/fox/et/sub-141_tv-lego-5672168b',\n",
       " '/Volumes/T7 Shield/fox/et/sub-142_tv-fox-0209c207',\n",
       " '/Volumes/T7 Shield/fox/et/sub-143_tv-pickers-287a4656',\n",
       " '/Volumes/T7 Shield/fox/et/sub-144_tv-cnn-f248f696',\n",
       " '/Volumes/T7 Shield/fox/et/sub-145_tv-continental-8d8903a7',\n",
       " '/Volumes/T7 Shield/fox/et/sub-146_tv-control-212fcc82',\n",
       " '/Volumes/T7 Shield/fox/et/sub-147_tv-lego-675532c1',\n",
       " '/Volumes/T7 Shield/fox/et/sub-148_tv-lego-fa9fdcb9',\n",
       " '/Volumes/T7 Shield/fox/et/sub-149_tv-bigmood-078a00e5',\n",
       " '/Volumes/T7 Shield/fox/et/sub-150_tv-pickers-f517fd49',\n",
       " '/Volumes/T7 Shield/fox/et/sub-151_tv-cnn-894dee50',\n",
       " '/Volumes/T7 Shield/fox/et/sub-155_tv-control-dec554d2',\n",
       " '/Volumes/T7 Shield/fox/et/sub-159_tv-pickers-046a0016',\n",
       " '/Volumes/T7 Shield/fox/et/sub-160_tv-cnn-0f5a2548',\n",
       " '/Volumes/T7 Shield/fox/et/sub-165_tv-continental-7afd4bfa',\n",
       " '/Volumes/T7 Shield/fox/et/sub-166_tv-continental-eb97a04f',\n",
       " '/Volumes/T7 Shield/fox/et/sub-167_tv-fox-35f84d88',\n",
       " '/Volumes/T7 Shield/fox/et/sub-173_tv-control-d26563a0',\n",
       " '/Volumes/T7 Shield/fox/et/sub-174_tv-lego-15a48bb4',\n",
       " '/Volumes/T7 Shield/fox/et/sub-175_tv-bigmood-dc3484b5',\n",
       " '/Volumes/T7 Shield/fox/et/sub-176_tv-pickers-ae18b3fa',\n",
       " '/Volumes/T7 Shield/fox/et/sub-180_tv-cnn-458c55e4',\n",
       " '/Volumes/T7 Shield/fox/et/sub-181_tv-continental-397237c0']"
      ]
     },
     "execution_count": 3,
     "metadata": {},
     "output_type": "execute_result"
    }
   ],
   "source": [
    "# paths and files for subj looping\n",
    "t7sheild = os.path.join('/Volumes/T7 Shield/fox')\n",
    "subj_folders = glob.glob(os.path.join('/Volumes/T7 Shield/fox/et','sub-[0-9][0-9][0-9]_tv-*'))\n",
    "subj_folders.sort()\n",
    "print(len(subj_folders))\n",
    "subj_folders"
   ]
  },
  {
   "cell_type": "code",
   "execution_count": 4,
   "metadata": {},
   "outputs": [],
   "source": [
    "# paths and files for testing\n",
    "# locally\n",
    "# subj_folder = os.path.join('data', 'sub-053_tv-lego-63478be7')\n",
    "# video = os.path.join(subj_folder, 'a5ba9c89_0.0-813.692.mp4')\n",
    "# events = pd.read_csv(os.path.join(subj_folder,'events.csv'))\n",
    "# gaze = pd.read_csv(os.path.join(subj_folder,'gaze.csv'))\n",
    "# world_timestamps = pd.read_csv(os.path.join(subj_folder,'world_timestamps.csv'))\n",
    "# task_events = pd.read_csv('/Users/ebeard/Dropbox (Penn)/i3/foxmedia/data/tv_event/sub-053_lego/sub-053_task-events.csv')\n",
    "\n",
    "# on t7shield\n",
    "subj_folder = subj_folders[0]\n",
    "big_video = os.path.join(subj_folder, '09e25ad2_0.0-784.762.mp4')\n",
    "ad_folder = os.path.join(subj_folder, 'ads', '2')\n",
    "ad_video = os.path.join(ad_folder, '2.mp4')\n",
    "gaze_data_raw = os.path.join(ad_folder, 'gaze.csv')\n",
    "gaze_data_avg = os.path.join(ad_folder, 'averaged_gaze_data.csv')\n",
    "rectangle_data_raw = os.path.join(ad_folder, 'rectangle_data.csv')\n",
    "filtered_rectangle_data = os.path.join(ad_folder, 'filtered_rectangle_data.csv')"
   ]
  },
  {
   "cell_type": "markdown",
   "metadata": {},
   "source": [
    "# Preprocessing"
   ]
  },
  {
   "cell_type": "code",
   "execution_count": 5,
   "metadata": {},
   "outputs": [],
   "source": [
    "def log_error(error_message, subj=None):\n",
    "    today_date = datetime.now().strftime(\"%Y-%m-%d\")\n",
    "    log_filename = f\"error_log-tv-{today_date}.txt\"\n",
    "    with open(log_filename, \"a\") as log_file:\n",
    "        if subj:\n",
    "            log_file.write(f\"Subject: {subj}\\n\")\n",
    "        log_file.write(f\"Error: {error_message}\\n\\n\")"
   ]
  },
  {
   "cell_type": "markdown",
   "metadata": {},
   "source": [
    "## Subset Ad Block Videos\n",
    "This is less relevant now, since we're going to block specifically into the ad videos"
   ]
  },
  {
   "cell_type": "code",
   "execution_count": null,
   "metadata": {},
   "outputs": [],
   "source": [
    "# trying from https://gist.github.com/rennis250/6aa2bde829b58361fbd40ded8af9720c\n",
    "\n",
    "# look for event just before onset\n",
    "event_list = ['ad-1.begin', 'ad-1.end', 'ad-2.begin', 'ad-2.end']\n",
    "\n",
    "for ad in event_list:\n",
    "\n",
    "    event_name = ad\n",
    "    event_id = event_name.split('.')[0].split('-')[-1]\n",
    "    start_of_event = events[events['name'] == event_name]\n",
    "\n",
    "    event_ts = start_of_event['timestamp [ns]'].values[0]\n",
    "    frame_num = np.searchsorted(world_timestamps['timestamp [ns]'], event_ts)\n",
    "    frame_num = int(frame_num)\n",
    "\n",
    "    # find frame using pyav\n",
    "    container = av.open(video)\n",
    "    video_stream = container.streams.video[0]\n",
    "\n",
    "    timestamp = frame_num * video_stream.time_base\n",
    "    container.seek(int(timestamp * av.time_base), stream=video_stream)\n",
    "\n",
    "    save_dir = os.path.join(subj_folder, f'adBlock_{event_id}')\n",
    "    os.makedirs(save_dir, exist_ok=True)\n",
    "\n",
    "    # save frame\n",
    "    fc = 0\n",
    "    for frame in container.decode(video=0):\n",
    "        if fc == frame_num:\n",
    "            frame = frame.to_ndarray(format=\"bgr24\")\n",
    "            save_path = os.path.join(save_dir, f'event_{frame_num}-{event_name}.jpg')\n",
    "            cv2.imwrite(save_path, frame)\n",
    "            break\n",
    "            \n",
    "        fc += 1"
   ]
  },
  {
   "cell_type": "code",
   "execution_count": null,
   "metadata": {},
   "outputs": [],
   "source": [
    "# List of ad events\n",
    "event_pairs = [\n",
    "    ('ad-1.begin', 'ad-1.end'),\n",
    "    ('ad-2.begin', 'ad-2.end')\n",
    "]\n",
    "\n",
    "# Check the duration of the input video using FFmpeg\n",
    "def get_video_duration(video_path):\n",
    "    ffmpeg_command = [\n",
    "        'ffprobe',\n",
    "        '-v', 'error',\n",
    "        '-show_entries', 'format=duration',\n",
    "        '-of', 'default=noprint_wrappers=1:nokey=1',\n",
    "        video_path\n",
    "    ]\n",
    "    try:\n",
    "        duration = subprocess.check_output(ffmpeg_command, stderr=subprocess.STDOUT).decode().strip()\n",
    "        return float(duration)\n",
    "    except subprocess.CalledProcessError as e:\n",
    "        print(\"Error getting video duration:\", e.output.decode())\n",
    "        return None\n",
    "\n",
    "# Get the video duration\n",
    "video_duration = get_video_duration(video)\n",
    "if video_duration is None:\n",
    "    raise RuntimeError(\"Failed to retrieve video duration.\")\n",
    "\n",
    "# Get the base timestamp to normalize the timeline\n",
    "base_timestamp = world_timestamps['timestamp [ns]'].iloc[0]\n",
    "print(f\"Base timestamp: {base_timestamp}\")\n",
    "\n",
    "# Process each ad event pair\n",
    "for ad_begin, ad_end in event_pairs:\n",
    "\n",
    "    ad_id = ad_begin.split('.')[0].split('-')[-1]\n",
    "    save_dir = os.path.join(subj_folder, f'adBlock_{ad_id}')\n",
    "\n",
    "    # Get the start and end timestamps for the ad in nanoseconds\n",
    "    start_ts = events[events['name'] == ad_begin]['timestamp [ns]'].values[0]\n",
    "    end_ts = events[events['name'] == ad_end]['timestamp [ns]'].values[0]\n",
    "\n",
    "    # Sort the gaze data by filtering the start and end timestamps\n",
    "    gaze_data = gaze[(gaze['timestamp [ns]'] >= start_ts) & (gaze['timestamp [ns]'] <= end_ts)]\n",
    "    gaze_data.to_csv(os.path.join(save_dir, f'adBlock_{ad_id}_gaze.csv'), index=False)\n",
    "\n",
    "    # Normalize timestamps to video timeline\n",
    "    normalized_start_ts = start_ts - base_timestamp\n",
    "    normalized_end_ts = end_ts - base_timestamp\n",
    "\n",
    "    # Find the corresponding frame numbers\n",
    "    start_index = np.searchsorted(world_timestamps['timestamp [ns]'], normalized_start_ts + base_timestamp)\n",
    "    end_index = np.searchsorted(world_timestamps['timestamp [ns]'], normalized_end_ts + base_timestamp)\n",
    "\n",
    "    # Convert normalized timestamps to time in seconds\n",
    "    start_time = normalized_start_ts / 1e9\n",
    "    end_time = normalized_end_ts / 1e9\n",
    "    duration = end_time - start_time\n",
    "\n",
    "    # Check if the duration matches the duration of the gaze_data\n",
    "    gaze_duration = (gaze_data['timestamp [ns]'].iloc[-1] - gaze_data['timestamp [ns]'].iloc[0]) / 1e9\n",
    "    if abs(duration - gaze_duration) > 0.01:\n",
    "        print(f\"Warning: Duration mismatch between video segment and gaze data. Video duration: {duration}, Gaze data duration: {gaze_duration}\")\n",
    "\n",
    "    # Debug: Print calculated times\n",
    "    print(f\"Event: {ad_begin} to {ad_end}\")\n",
    "    print(f\"Start Time: {start_time}, End Time: {end_time}, Duration: {duration}\")\n",
    "\n",
    "    # Check if the start time and duration are valid\n",
    "    if start_time < 0 or duration <= 0 or start_time + duration > video_duration:\n",
    "        print(f\"Invalid time range for {ad_begin} to {ad_end}. Skipping.\")\n",
    "        continue\n",
    "\n",
    "    # Output file path\n",
    "    output_path = os.path.join(save_dir, f'adBlock_{ad_id}.mp4')\n",
    "\n",
    "    # FFmpeg command to extract the video segment\n",
    "    ffmpeg_command = [\n",
    "        'ffmpeg',\n",
    "        '-i', video,\n",
    "        '-ss', f'{start_time:.3f}',  # Start time with millisecond precision\n",
    "        '-t', f'{duration:.3f}',     # Duration with millisecond precision\n",
    "        '-c:v', 'libx264',           # Video codec\n",
    "        '-c:a', 'aac',               # Audio codec\n",
    "        '-strict', 'experimental',\n",
    "        '-y',                        # Overwrite output file\n",
    "        output_path\n",
    "    ]\n",
    "\n",
    "    # Execute the FFmpeg command\n",
    "    try:\n",
    "        subprocess.run(ffmpeg_command, check=True, stderr=subprocess.PIPE)\n",
    "        print(f\"Segment saved: {output_path}\")\n",
    "    except subprocess.CalledProcessError as e:\n",
    "        print(f\"Error extracting segment {ad_begin} to {ad_end}: {e.stderr.decode()}\")\n",
    "\n",
    "print(\"Video processing completed.\")\n"
   ]
  },
  {
   "cell_type": "markdown",
   "metadata": {},
   "source": [
    "## Subset Individual Ads"
   ]
  },
  {
   "cell_type": "markdown",
   "metadata": {},
   "source": [
    "### Align Pupil Labs with OpenBCI Event Markers"
   ]
  },
  {
   "cell_type": "code",
   "execution_count": 24,
   "metadata": {},
   "outputs": [],
   "source": [
    "def align_events(events_df, world_timestamps_df, task_events_df):\n",
    "    # Check if the input files are dataframes\n",
    "    if not isinstance(events_df, pd.DataFrame) or not isinstance(world_timestamps_df, pd.DataFrame) or not isinstance(task_events_df, pd.DataFrame):\n",
    "        raise ValueError(\"Input files must be dataframes.\")\n",
    "\n",
    "    # Filter out event_id 1\n",
    "    task_events_df = task_events_df[task_events_df['event_id'] != 1].reset_index(drop=True)\n",
    "\n",
    "    # Identify the 'ad-1.begin' timestamp in nanoseconds from events.csv\n",
    "    ad_1_begin_timestamp = events_df.loc[events_df['name'] == 'ad-1.begin', 'timestamp [ns]'].values[0]\n",
    "    frame_num = np.searchsorted(world_timestamps_df['timestamp [ns]'], ad_1_begin_timestamp)#, 'right')\n",
    "    frame_num = int(frame_num)\n",
    "    ad_1_begin_timestamp_world = world_timestamps_df['timestamp [ns]'].iloc[frame_num]\n",
    "\n",
    "    # Calculate the adjusted onset times for event_ids using ad-1.begin as a reference\n",
    "    # Note: Onset should be aligned so that event_id 2 matches ad-1.begin\n",
    "    event_id_2_onset = task_events_df.loc[task_events_df['event_id'] == 2, 'onset'].values[0]\n",
    "    event_id_2_onset_ns = (event_id_2_onset * (1_000/250)) * 1_000_000\n",
    "    event_id_2_onset_ns = event_id_2_onset_ns.astype(np.int64)\n",
    "    offset_ns = ad_1_begin_timestamp_world - event_id_2_onset_ns\n",
    "    \n",
    "    # Debugging: print offset and initial timestamp details\n",
    "    # print(f\"Offset (ns): {offset_ns}\")\n",
    "    # print(f\"ad-1.begin timestamp: {ad_1_begin_timestamp}\")\n",
    "    # print(f\"ad-1.begin timestamp world: {ad_1_begin_timestamp_world}\")\n",
    "    # print(f\"Initial onset for event_id 2: {event_id_2_onset}\")\n",
    "    # print(f\"Initial onset for event_id 2 (ns): {event_id_2_onset_ns}\")\n",
    "\n",
    "    # Adjust onset times for the remaining event_ids\n",
    "    adjusted_onsets_ns = ((task_events_df['onset'] * (1_000/250)) * 1_000_000) + offset_ns\n",
    "    adjusted_onsets_ns = adjusted_onsets_ns.astype(np.int64)\n",
    "\n",
    "    # Debugging: print adjusted onsets\n",
    "    # print(\"Adjusted Onsets (ns):\")\n",
    "    # print(adjusted_onsets_ns)\n",
    "\n",
    "    # Find the nearest timestamps in world_timestamps.csv for each adjusted onset\n",
    "    nearest_timestamps_ns = []\n",
    "\n",
    "    for onset_ns in adjusted_onsets_ns:\n",
    "\n",
    "        # Calculate differences to all world timestamps\n",
    "        diffs = np.abs(world_timestamps_df['timestamp [ns]'] - onset_ns)\n",
    "\n",
    "        # Find the index of the smallest difference\n",
    "        nearest_index = diffs.argmin()\n",
    "        \n",
    "        # Get the nearest timestamp\n",
    "        nearest_timestamp = world_timestamps_df['timestamp [ns]'].iloc[nearest_index]\n",
    "        nearest_timestamps_ns.append(nearest_timestamp)\n",
    "\n",
    "        # Debugging: print comparison details\n",
    "        # print(f\"Onset (ns): {onset_ns}, Nearest Timestamp (ns): {nearest_timestamp}, Difference (ns): {diffs[nearest_index]}\")\n",
    "\n",
    "\n",
    "    # Calculate durations in nanoseconds\n",
    "    durations_ns = (task_events_df['duration'] * (1_000/250)) * 1_000_000\n",
    "\n",
    "    # Create a DataFrame to display event IDs, adjusted onsets, nearest timestamps, and durations\n",
    "    aligned_events_df = pd.DataFrame({\n",
    "        'event_id': task_events_df['event_id'],\n",
    "        'adjusted_onset_ns': adjusted_onsets_ns,\n",
    "        'nearest_timestamp_ns': nearest_timestamps_ns,\n",
    "        'duration_ns': durations_ns\n",
    "    })\n",
    "\n",
    "    return aligned_events_df"
   ]
  },
  {
   "cell_type": "markdown",
   "metadata": {},
   "source": [
    "#### Testing"
   ]
  },
  {
   "cell_type": "code",
   "execution_count": null,
   "metadata": {},
   "outputs": [],
   "source": [
    "# Example usage\n",
    "aligned_events_df_2 = align_events(events, world_timestamps, task_events)\n",
    "print(aligned_events_df_2)"
   ]
  },
  {
   "cell_type": "code",
   "execution_count": null,
   "metadata": {},
   "outputs": [],
   "source": [
    "# Check data types\n",
    "print(f\"Data Type of Nearest Timestamps: {aligned_events_df_2['nearest_timestamp_ns'].dtype}\")\n",
    "print(f\"Data Type of World Timestamps: {world_timestamps['timestamp [ns]'].dtype}\")\n",
    "\n",
    "# Ensure both are in np.int64\n",
    "aligned_events_df_2['nearest_timestamp_ns'] = aligned_events_df_2['nearest_timestamp_ns'].astype(np.int64)\n",
    "world_timestamps['timestamp [ns]'] = world_timestamps['timestamp [ns]'].astype(np.int64)\n"
   ]
  },
  {
   "cell_type": "code",
   "execution_count": null,
   "metadata": {},
   "outputs": [],
   "source": [
    "# Check for matching timestamps with a tolerance\n",
    "tolerance = 10  # nanoseconds\n",
    "\n",
    "for idx, row in aligned_events_df_2.iterrows():\n",
    "    if not any(np.isclose(row['nearest_timestamp_ns'], world_timestamps['timestamp [ns]'].values, atol=tolerance)):\n",
    "        print(f\"No match found for {row['nearest_timestamp_ns']} within tolerance.\")\n",
    "\n",
    "# To see all non-matches\n",
    "non_matches = aligned_events_df_2[~aligned_events_df_2['nearest_timestamp_ns'].isin(world_timestamps['timestamp [ns]'])]\n",
    "print(\"Non-matching timestamps:\")\n",
    "print(non_matches)\n"
   ]
  },
  {
   "cell_type": "markdown",
   "metadata": {},
   "source": [
    "#### QC Checks"
   ]
  },
  {
   "cell_type": "code",
   "execution_count": 6,
   "metadata": {},
   "outputs": [],
   "source": [
    "def plot_adjusted_onsets_vs_world_timestamps(aligned_events_df, world_timestamps_df, save_dir):\n",
    "    # Extract values for plotting\n",
    "    adjusted_onsets = aligned_events_df['adjusted_onset_ns']\n",
    "    world_timestamps = world_timestamps_df['timestamp [ns]']\n",
    "\n",
    "    # Calculate min and max of adjusted_onsets\n",
    "    min_onset = adjusted_onsets.min()\n",
    "    max_onset = adjusted_onsets.max()\n",
    "\n",
    "    # Define the range within 5 values of min and max\n",
    "    lower_bound = min_onset \n",
    "    upper_bound = max_onset \n",
    "\n",
    "    # Filter world_timestamps based on the defined range\n",
    "    filtered_world_timestamps = world_timestamps[(world_timestamps >= lower_bound) & (world_timestamps <= upper_bound)]\n",
    "\n",
    "    print(len(adjusted_onsets))\n",
    "    print(len(world_timestamps))\n",
    "    print(len(filtered_world_timestamps))\n",
    "\n",
    "    # Plot adjusted onsets\n",
    "    plt.figure(figsize=(14, 6))\n",
    "    plt.scatter(adjusted_onsets, adjusted_onsets, color='red', label='Adjusted Onsets', marker='x')\n",
    "\n",
    "    # Plot world timestamps\n",
    "    plt.plot(filtered_world_timestamps, filtered_world_timestamps, label='World Timestamps', alpha=0.7)\n",
    "\n",
    "    # Labels and legend\n",
    "    plt.xlabel('Timestamps (ns)')\n",
    "    plt.ylabel('')\n",
    "    plt.title('Adjusted Onsets vs. World Timestamps')\n",
    "    plt.legend()\n",
    "    \n",
    "    # Save the plot\n",
    "    plot_path = os.path.join(save_dir, 'adjusted_onsets_vs_world_timestamps.png')\n",
    "    plt.savefig(plot_path)\n",
    "    plt.close()\n",
    "\n",
    "    return plot_path\n",
    "\n",
    "# Plot the data\n",
    "#plot_adjusted_onsets_vs_world_timestamps(aligned_events_df_2, world_timestamps)\n",
    "\n",
    "# we'll want to update these to save the plots into the correct folder\n"
   ]
  },
  {
   "cell_type": "code",
   "execution_count": 7,
   "metadata": {},
   "outputs": [],
   "source": [
    "def plot_nearest_timestamps(aligned_events_df, save_dir):\n",
    "    # Extract values for plotting\n",
    "    adjusted_onsets = aligned_events_df['adjusted_onset_ns']\n",
    "    nearest_timestamps = aligned_events_df['nearest_timestamp_ns']\n",
    "    event_ids = aligned_events_df['event_id']\n",
    "\n",
    "    # Plot nearest timestamps\n",
    "    plt.figure(figsize=(14, 6))\n",
    "    plt.scatter(adjusted_onsets, event_ids, color='blue', label='Adjusted Onsets', marker='o', alpha=0.8)\n",
    "    plt.scatter(nearest_timestamps, event_ids, color='green', label='Nearest Timestamps', marker='x')\n",
    "\n",
    "    # Labels and legend\n",
    "    plt.xlabel('Timestamps (ns)')\n",
    "    plt.ylabel('Event ID')\n",
    "    plt.title('Adjusted Onsets and Nearest Timestamps per Event')\n",
    "    plt.legend()\n",
    "    \n",
    "    # Save the plot\n",
    "    plot_path = os.path.join(save_dir, 'adjusted_onsets_nearest_timestamps.png')\n",
    "    plt.savefig(plot_path)\n",
    "    plt.close()\n",
    "\n",
    "    return plot_path\n",
    "\n",
    "# Plot the nearest timestamps\n",
    "# plot_nearest_timestamps(aligned_events_df_2)"
   ]
  },
  {
   "cell_type": "code",
   "execution_count": 8,
   "metadata": {},
   "outputs": [],
   "source": [
    "def plot_event_durations(aligned_events_df, save_dir):\n",
    "    # Extract values for plotting\n",
    "    event_ids = aligned_events_df['event_id']\n",
    "    adjusted_onsets = aligned_events_df['adjusted_onset_ns']\n",
    "    durations = aligned_events_df['duration_ns']\n",
    "\n",
    "    # Calculate end times based on durations\n",
    "    adjusted_ends = adjusted_onsets + durations\n",
    "\n",
    "    # Plot event durations\n",
    "    plt.figure(figsize=(14, 6))\n",
    "    for i, event_id in enumerate(event_ids):\n",
    "        plt.plot([adjusted_onsets[i], adjusted_ends[i]], [event_id, event_id], marker='|', label=f'Event {event_id}' if i == 0 else \"\")\n",
    "\n",
    "    # Labels and legend\n",
    "    plt.xlabel('Timestamps (ns)')\n",
    "    plt.ylabel('Event ID')\n",
    "    plt.title('Event Durations and Onsets')\n",
    "    plt.legend()\n",
    "    \n",
    "    # Save the plot\n",
    "    plot_path = os.path.join(save_dir, 'event_durations_and_onsets.png')\n",
    "    plt.savefig(plot_path)\n",
    "    plt.close()\n",
    "\n",
    "    return plot_path\n",
    "# Plot the event durations\n",
    "# plot_event_durations(aligned_events_df_2)\n"
   ]
  },
  {
   "cell_type": "code",
   "execution_count": null,
   "metadata": {},
   "outputs": [],
   "source": [
    "# New code to handle aligned_events_df_2\n",
    "# Save frames from aligned events (for QC/testing)\n",
    "# find frame using pyav\n",
    "container = av.open(video)\n",
    "video_stream = container.streams.video[0]\n",
    "\n",
    "save_dir = os.path.join(subj_folder, 'ads')\n",
    "os.makedirs(save_dir, exist_ok=True)\n",
    "\n",
    "for index, row in aligned_events_df_2.iterrows():\n",
    "\n",
    "    event_id = row['event_id']\n",
    "    nearest_timestamp_ns = row['nearest_timestamp_ns']\n",
    "    duration = row['duration_ns']\n",
    "\n",
    "    # Calculate the second timestamp\n",
    "    second_timestamp_ns = nearest_timestamp_ns + duration\n",
    "\n",
    "    # Find the frame numbers for both timestamps\n",
    "    frame_num_1 = np.searchsorted(world_timestamps['timestamp [ns]'], nearest_timestamp_ns)\n",
    "    frame_num_2 = np.searchsorted(world_timestamps['timestamp [ns]'], second_timestamp_ns)\n",
    "\n",
    "    frame_num_1 = int(frame_num_1)\n",
    "    frame_num_2 = int(frame_num_2)\n",
    "\n",
    "    # Save both frames\n",
    "    for frame_num in [frame_num_1, frame_num_2]:\n",
    "        timestamp = frame_num * video_stream.time_base\n",
    "        container.seek(int(timestamp * av.time_base), stream=video_stream)\n",
    "\n",
    "        fc = 0\n",
    "        for frame in container.decode(video=0):\n",
    "            if fc == frame_num:\n",
    "                frame = frame.to_ndarray(format=\"bgr24\")\n",
    "                save_path = os.path.join(save_dir, f'event-{int(event_id)}_{frame_num}.jpg')\n",
    "                cv2.imwrite(save_path, frame)\n",
    "                break\n",
    "                \n",
    "            fc += 1"
   ]
  },
  {
   "cell_type": "markdown",
   "metadata": {},
   "source": [
    "### Extract Pupil Labs Videos and Eye Gaze Data"
   ]
  },
  {
   "cell_type": "code",
   "execution_count": 45,
   "metadata": {},
   "outputs": [],
   "source": [
    "def process_video_segments(video, world_timestamps, aligned_events_df, gaze, save_dir):\n",
    "    # Check the duration of the input video using FFmpeg\n",
    "    def get_video_duration(video_path):\n",
    "        ffmpeg_command = [\n",
    "            'ffprobe',\n",
    "            '-v', 'error',\n",
    "            '-show_entries', 'format=duration',\n",
    "            '-of', 'default=noprint_wrappers=1:nokey=1',\n",
    "            video_path\n",
    "        ]\n",
    "        try:\n",
    "            duration = subprocess.check_output(ffmpeg_command, stderr=subprocess.STDOUT).decode().strip()\n",
    "            return float(duration)\n",
    "        except subprocess.CalledProcessError as e:\n",
    "            error_message = f\"Error getting video duration: {e.output.decode()}\"\n",
    "            print(error_message)\n",
    "            log_error(error_message)\n",
    "            return None\n",
    "\n",
    "    # Get the video duration\n",
    "    video_duration = get_video_duration(video)\n",
    "    if video_duration is None:\n",
    "        raise RuntimeError(\"Failed to retrieve video duration.\")\n",
    "\n",
    "    # Get the base timestamp to normalize the timeline\n",
    "    base_timestamp = world_timestamps['timestamp [ns]'].iloc[0]\n",
    "    # print(f\"Base timestamp: {base_timestamp}\")\n",
    "\n",
    "    # Process each ad \n",
    "    for index, row in aligned_events_df.iterrows():\n",
    "        event_id = row['event_id']\n",
    "\n",
    "        if event_id == 6:\n",
    "            continue\n",
    "\n",
    "        ad_save_dir = os.path.join(save_dir, f'{int(event_id)}')\n",
    "        os.makedirs(ad_save_dir, exist_ok=True)\n",
    "\n",
    "        nearest_timestamp_ns = row['nearest_timestamp_ns']\n",
    "        duration = row['duration_ns']\n",
    "\n",
    "        # Calculate the second timestamp\n",
    "        second_timestamp_ns = nearest_timestamp_ns + duration\n",
    "\n",
    "        # Find the frame numbers for both timestamps\n",
    "        frame_num_1 = np.searchsorted(world_timestamps['timestamp [ns]'], nearest_timestamp_ns)\n",
    "        frame_num_2 = np.searchsorted(world_timestamps['timestamp [ns]'], second_timestamp_ns)\n",
    "\n",
    "        frame_num_1 = int(frame_num_1)\n",
    "        frame_num_2 = int(frame_num_2)\n",
    "\n",
    "        # Get the start and end timestamps for the ad in nanoseconds\n",
    "        start_ts = world_timestamps['timestamp [ns]'].iloc[frame_num_1]\n",
    "        end_ts = world_timestamps['timestamp [ns]'].iloc[frame_num_2]\n",
    "\n",
    "        # Sort the gaze data by filtering the start and end timestamps\n",
    "        gaze_data = gaze[(gaze['timestamp [ns]'] >= start_ts) & (gaze['timestamp [ns]'] <= end_ts)]\n",
    "        gaze_data.to_csv(os.path.join(ad_save_dir, f'gaze.csv'), index=False)\n",
    "\n",
    "        # Normalize timestamps to video timeline\n",
    "        normalized_start_ts = start_ts - base_timestamp\n",
    "        normalized_end_ts = end_ts - base_timestamp\n",
    "\n",
    "        # Find the corresponding frame numbers\n",
    "        start_index = np.searchsorted(world_timestamps['timestamp [ns]'], normalized_start_ts + base_timestamp)\n",
    "        end_index = np.searchsorted(world_timestamps['timestamp [ns]'], normalized_end_ts + base_timestamp)\n",
    "\n",
    "        # Convert normalized timestamps to time in seconds\n",
    "        start_time = normalized_start_ts / 1e9\n",
    "        end_time = normalized_end_ts / 1e9\n",
    "        duration = end_time - start_time\n",
    "\n",
    "        # Check if the duration matches the duration of the gaze_data\n",
    "        gaze_duration = (gaze_data['timestamp [ns]'].iloc[-1] - gaze_data['timestamp [ns]'].iloc[0]) / 1e9\n",
    "        if abs(duration - gaze_duration) > 0.01:\n",
    "            print(f\"Warning: Duration mismatch between video segment and gaze data. Video duration: {duration}, Gaze data duration: {gaze_duration}\")\n",
    "\n",
    "        # Debug: Print calculated times\n",
    "        # print(f\"Event {int(event_id)}: {start_ts} to {end_ts}\")\n",
    "        # print(f\"Start Time: {start_time}, End Time: {end_time}, Duration: {duration}\")\n",
    "\n",
    "        # Check if the start time and duration are valid\n",
    "        if start_time < 0 or duration <= 0 or start_time + duration > video_duration:\n",
    "            print(f\"Invalid time range for {start_ts} to {end_ts}. Skipping.\")\n",
    "            continue\n",
    "\n",
    "        # Output file path\n",
    "        output_path = os.path.join(ad_save_dir, f'{int(event_id)}.mp4')\n",
    "\n",
    "        # FFmpeg command to extract the video segment\n",
    "        ffmpeg_command = [\n",
    "            'ffmpeg',\n",
    "            '-i', video,\n",
    "            '-ss', f'{start_time:.3f}',  # Start time with millisecond precision\n",
    "            '-t', f'{duration:.3f}',     # Duration with millisecond precision\n",
    "            '-c:v', 'libx264',           # Video codec\n",
    "            '-c:a', 'aac',               # Audio codec\n",
    "            '-strict', 'experimental',\n",
    "            '-y',                        # Overwrite output file\n",
    "            output_path\n",
    "        ]\n",
    "\n",
    "        # Execute the FFmpeg command\n",
    "        try:\n",
    "            subprocess.run(ffmpeg_command, check=True, stderr=subprocess.PIPE)\n",
    "            print(f\"Segment saved: {output_path}\")\n",
    "        except subprocess.CalledProcessError as e:\n",
    "            error_message = f\"Error extracting segment {start_ts} to {end_ts}: {e.stderr.decode()}\"\n",
    "            print(error_message)\n",
    "            log_error(error_message)\n",
    "\n",
    "    print(\"Video processing completed.\")"
   ]
  },
  {
   "cell_type": "markdown",
   "metadata": {},
   "source": [
    "# Extracting Television AOI"
   ]
  },
  {
   "cell_type": "code",
   "execution_count": 10,
   "metadata": {},
   "outputs": [],
   "source": [
    "def detect_tv_screen2(video_path, min_width, min_height, max_width, max_height, output_folder, save_frame):\n",
    "    # Open the video\n",
    "    cap = cv2.VideoCapture(video_path)\n",
    "    frame_index = 0  # To keep track of frame numbers\n",
    "\n",
    "    if not os.path.exists(output_folder):\n",
    "        os.makedirs(output_folder)\n",
    "\n",
    "    frame_folder = os.path.join(output_folder, 'tv_frames')\n",
    "    os.makedirs(frame_folder, exist_ok=True)\n",
    "    \n",
    "    # Prepare to save rectangle data\n",
    "    rectangle_data = []\n",
    "\n",
    "    while cap.isOpened():\n",
    "        ret, frame = cap.read()\n",
    "        if not ret:\n",
    "            break\n",
    "        \n",
    "        # Convert to grayscale\n",
    "        gray = cv2.cvtColor(frame, cv2.COLOR_BGR2GRAY)\n",
    "\n",
    "        # Use GaussianBlur to reduce noise and improve edge detection\n",
    "        blurred = cv2.GaussianBlur(gray, (5, 5), 0)\n",
    "\n",
    "        # Adaptive thresholding for better edge detection in varying lighting\n",
    "        thresh = cv2.adaptiveThreshold(blurred, 255, cv2.ADAPTIVE_THRESH_GAUSSIAN_C,\n",
    "                                       cv2.THRESH_BINARY_INV, 11, 2)\n",
    "\n",
    "        # Find contours\n",
    "        contours, _ = cv2.findContours(thresh, cv2.RETR_TREE, cv2.CHAIN_APPROX_SIMPLE)\n",
    "\n",
    "        # Loop over the contours\n",
    "        for contour in contours:\n",
    "            # Approximate the contour to reduce the number of points\n",
    "            epsilon = 0.02 * cv2.arcLength(contour, True)\n",
    "            approx = cv2.approxPolyDP(contour, epsilon, True)\n",
    "\n",
    "            # Check if it's a rectangle (has 4 points) and large enough\n",
    "            if len(approx) == 4 and cv2.contourArea(approx) > 3000:\n",
    "                x, y, w, h = cv2.boundingRect(approx)\n",
    "\n",
    "                # Check if the rectangle is within the specified size range\n",
    "                if (min_width <= w <= max_width) and (min_height <= h <= max_height):\n",
    "                    # Calculate aspect ratio\n",
    "                    aspect_ratio = float(w) / h\n",
    "                    # Check if the aspect ratio is similar to a TV screen\n",
    "                    if 1.33 < aspect_ratio < 1.78:  # Typical aspect ratios for TV screens\n",
    "                        # Draw the contour on the frame\n",
    "                        cv2.drawContours(frame, [approx], -1, (0, 255, 0), 3)\n",
    "\n",
    "                        # Optionally save frames with drawn rectangles\n",
    "                        if save_frame:\n",
    "                            cv2.imwrite(f'{frame_folder}/frame_{frame_index}.jpg', frame)  # Save each frame to a file\n",
    "                        \n",
    "                        # Save rectangle data\n",
    "                        rectangle_data.append({\n",
    "                            'frame': frame_index,\n",
    "                            'x': x,\n",
    "                            'y': y,\n",
    "                            'width': w,\n",
    "                            'height': h\n",
    "                        })\n",
    "\n",
    "        frame_index += 1  # Increment frame index\n",
    "\n",
    "        # Display the resulting frame\n",
    "        cv2.imshow('Frame', frame)\n",
    "\n",
    "        if cv2.waitKey(1) & 0xFF == ord('q'):   \n",
    "            break\n",
    "\n",
    "    cap.release()\n",
    "    cv2.destroyAllWindows()\n",
    "\n",
    "    for i in range(2):\n",
    "        cv2.waitKey(1)\n",
    "\n",
    "    # Save rectangle data to a CSV file\n",
    "    with open(os.path.join(output_folder, 'rectangle_data.csv'), 'w', newline='') as csvfile:\n",
    "        fieldnames = ['frame', 'x', 'y', 'width', 'height']\n",
    "        writer = csv.DictWriter(csvfile, fieldnames=fieldnames)\n",
    "        writer.writeheader()\n",
    "        for data in rectangle_data:\n",
    "            writer.writerow(data)\n",
    "\n",
    "# Example usage\n"
   ]
  },
  {
   "cell_type": "code",
   "execution_count": null,
   "metadata": {},
   "outputs": [],
   "source": [
    "# testing\n",
    "short_video = os.path.join(subj_folder, 'ads', '7.mp4')\n",
    "output_file = os.path.join(subj_folder, 'ads', '7-rak')\n",
    "\n",
    "detect_tv_screen2(short_video, min_width=400, min_height=200, max_width=600, max_height=400, output_folder=output_file, save_frame=True)"
   ]
  },
  {
   "cell_type": "code",
   "execution_count": 11,
   "metadata": {},
   "outputs": [],
   "source": [
    "def filter_rectangles(csv_path, output_csv_path):\n",
    "    # Load rectangle data\n",
    "    rectangles = pd.read_csv(csv_path)\n",
    "\n",
    "    # Calculate the aspect ratio (width/height)\n",
    "    rectangles['aspect_ratio'] = rectangles['width'] / rectangles['height']\n",
    "\n",
    "    # Define acceptable aspect ratio range (e.g., between 4/3 and 16/9)\n",
    "    min_aspect_ratio = 4/3\n",
    "    max_aspect_ratio = 16/9\n",
    "\n",
    "    # Filter rectangles based on aspect ratio\n",
    "    filtered_rectangles = rectangles[\n",
    "        (rectangles['aspect_ratio'] >= min_aspect_ratio) &\n",
    "        (rectangles['aspect_ratio'] <= max_aspect_ratio)\n",
    "    ]\n",
    "\n",
    "    # Save the filtered data to a new CSV file\n",
    "    filtered_rectangles.to_csv(output_csv_path, index=False)\n",
    "    print(f\"Filtered rectangles saved to {output_csv_path}\")\n",
    "\n",
    "# # Define paths\n",
    "# input_csv_path = os.path.join(output_file, 'rectangle_data.csv')  # Update this path\n",
    "# output_csv_path = os.path.join(output_file, 'filtered_rectangle_data.csv')\n",
    "\n",
    "# Call the function\n",
    "# filter_rectangles(input_csv_path, output_csv_path)"
   ]
  },
  {
   "cell_type": "code",
   "execution_count": 5,
   "metadata": {},
   "outputs": [],
   "source": [
    "# testing    \n",
    "save_dir_2 = os.path.join(subj_folder, 'ads', '2-bk', 'v2')\n",
    "save_dir_7 = os.path.join(subj_folder, 'ads', '7-rak')\n",
    "\n",
    "input_csv_path = os.path.join(save_dir_2, 'rectangle_data.csv')\n",
    "output_csv_path = os.path.join(save_dir_2, 'filtered_rectangle_data.csv')\n",
    "filter_rectangles(input_csv_path, output_csv_path)"
   ]
  },
  {
   "cell_type": "markdown",
   "metadata": {},
   "source": [
    "## Alternate TV Processing Functions"
   ]
  },
  {
   "cell_type": "code",
   "execution_count": null,
   "metadata": {},
   "outputs": [],
   "source": [
    "def detect_tv_screen(video_path, min_width, min_height, max_width, max_height, output_folder, save_frame):\n",
    "    # Open the video\n",
    "    cap = cv2.VideoCapture(video_path)\n",
    "    frame_index = 0  # To keep track of frame numbers\n",
    "\n",
    "    if not os.path.exists(output_folder):\n",
    "        os.makedirs(output_folder)\n",
    "\n",
    "    frame_folder = os.path.join(output_folder, 'tv_frames')\n",
    "    os.makedirs(frame_folder, exist_ok=True)\n",
    "    \n",
    "    # Prepare to save rectangle data\n",
    "    rectangle_data = []\n",
    "\n",
    "    while cap.isOpened():\n",
    "        ret, frame = cap.read()\n",
    "        if not ret:\n",
    "            break\n",
    "        \n",
    "        # Convert to grayscale\n",
    "        gray = cv2.cvtColor(frame, cv2.COLOR_BGR2GRAY)\n",
    "\n",
    "        # Edge detection\n",
    "        edges = cv2.Canny(gray, 85, 255)\n",
    "\n",
    "        # Find contours\n",
    "        contours, _ = cv2.findContours(edges, cv2.RETR_TREE, cv2.CHAIN_APPROX_SIMPLE)\n",
    "\n",
    "        # Loop over the contours\n",
    "        for contour in contours:\n",
    "            # Approximate the contour to reduce the number of points\n",
    "            epsilon = 0.05 * cv2.arcLength(contour, True)\n",
    "            approx = cv2.approxPolyDP(contour, epsilon, True)\n",
    "\n",
    "            # Check if it's a rectangle (has 4 points) and large enough\n",
    "            if len(approx) == 4 and cv2.contourArea(approx) > 3000:\n",
    "                x, y, w, h = cv2.boundingRect(approx)\n",
    "\n",
    "                # Check if the rectangle is within the specified size range\n",
    "                if (min_width <= w <= max_width) and (min_height <= h <= max_height):\n",
    "                    # Draw the contour on the frame\n",
    "                    cv2.drawContours(frame, [approx], -1, (0, 255, 0), 3)\n",
    "\n",
    "                    # Optionally save frames with drawn rectangles\n",
    "                    if save_frame == True:\n",
    "                        cv2.imwrite(f'{frame_folder}/frame_{frame_index}.jpg', frame)  # Save each frame to a file\n",
    "                    \n",
    "                    # Save rectangle data\n",
    "                    rectangle_data.append({\n",
    "                        'frame': frame_index,\n",
    "                        'x': x,\n",
    "                        'y': y,\n",
    "                        'width': w,\n",
    "                        'height': h\n",
    "                    })\n",
    "\n",
    "        frame_index += 1  # Increment frame index\n",
    "\n",
    "        # Display the resulting frame\n",
    "        cv2.imshow('Frame', frame)\n",
    "\n",
    "        if cv2.waitKey(1) & 0xFF == ord('q'):   \n",
    "            break\n",
    "\n",
    "    cap.release()\n",
    "    cv2.destroyAllWindows()\n",
    "\n",
    "    for i in range(2):\n",
    "        cv2.waitKey(1)\n",
    "\n",
    "    # Save rectangle data to a CSV file\n",
    "    with open(os.path.join(output_folder, 'rectangle_data.csv'), 'w', newline='') as csvfile:\n",
    "        fieldnames = ['frame', 'x', 'y', 'width', 'height']\n",
    "        writer = csv.DictWriter(csvfile, fieldnames=fieldnames)\n",
    "        writer.writeheader()\n",
    "        for data in rectangle_data:\n",
    "            writer.writerow(data)\n",
    "\n",
    "# Example usage: Only find screens between 50x50 and 200x150 pixels\n"
   ]
  },
  {
   "cell_type": "code",
   "execution_count": null,
   "metadata": {},
   "outputs": [],
   "source": [
    "output_file = os.path.join(subj_folder, 'ads', '2-bk', 'v1')\n",
    "\n",
    "detect_tv_screen(short_video, min_width=400, min_height=200, max_width=600, max_height=400, output_folder=output_file, save_frame=True)"
   ]
  },
  {
   "cell_type": "markdown",
   "metadata": {},
   "source": [
    "1. Machine Learning-based Object Detection\n",
    "a. Deep Learning Models\n",
    "Utilize deep learning models like YOLO (You Only Look Once), SSD (Single Shot Multibox Detector), or Faster R-CNN to detect objects, including TV screens. These models are trained on large datasets and can generalize well to different environments.\n",
    "\n",
    "YOLO (You Only Look Once): Fast and efficient for real-time detection.\n",
    "SSD (Single Shot MultiBox Detector): Balances speed and accuracy well.\n",
    "Faster R-CNN: Offers high accuracy but may be slower than YOLO and SSD.\n",
    "Steps:\n",
    "Data Preparation: Annotate a dataset of TV screens if a suitable pre-trained model isn't available.\n",
    "Model Training: Train the model on the dataset (if using a custom dataset).\n",
    "Inference: Use the trained model to detect TV screens in each video frame.\n",
    "Output AOI: Save the detected bounding boxes as areas of interest (AOIs).\n",
    "Libraries:\n",
    "TensorFlow: Object Detection API\n",
    "PyTorch: TorchVision\n",
    "OpenCV with DNN Module: DNN Module Documentation"
   ]
  },
  {
   "cell_type": "code",
   "execution_count": null,
   "metadata": {},
   "outputs": [],
   "source": [
    "def detect_tv_screen_yolo(video_path, confidence_threshold, output_folder):\n",
    "    # Load YOLO\n",
    "    # Load YOLO\n",
    "    net = cv2.dnn.readNetFromDarknet(\"/Users/ebeard/Documents/darknet/cfg/yolov3.cfg\", \"/Users/ebeard/Documents/darknet/yolov3.weights\")\n",
    "    layer_names = net.getLayerNames()\n",
    "    output_layers = [layer_names[i - 1] for i in net.getUnconnectedOutLayers()]\n",
    "\n",
    "    # Load class names\n",
    "    with open(\"/Users/ebeard/Documents/darknet/data/coco.names\", 'r') as f:\n",
    "        classes = [line.strip() for line in f.readlines()]\n",
    "\n",
    "    # Open the video\n",
    "    cap = cv2.VideoCapture(video_path)\n",
    "    frame_index = 0  # To keep track of frame numbers\n",
    "\n",
    "    if not os.path.exists(output_folder):\n",
    "        os.makedirs(output_folder)\n",
    "\n",
    "    frame_folder = os.path.join(output_folder, 'tv_frames')\n",
    "    os.makedirs(frame_folder, exist_ok=True)\n",
    "    \n",
    "    # Prepare to save rectangle data\n",
    "    rectangle_data = []\n",
    "\n",
    "    while cap.isOpened():\n",
    "        ret, frame = cap.read()\n",
    "        if not ret:\n",
    "            break\n",
    "        \n",
    "        height, width, channels = frame.shape\n",
    "\n",
    "        # Prepare the image for YOLO\n",
    "        blob = cv2.dnn.blobFromImage(frame, 0.00392, (416, 416), (0, 0, 0), True, crop=False)\n",
    "        net.setInput(blob)\n",
    "        outs = net.forward(output_layers)\n",
    "\n",
    "        # Process detections\n",
    "        for out in outs:\n",
    "            for detection in out:\n",
    "                scores = detection[5:]\n",
    "                class_id = np.argmax(scores)\n",
    "                confidence = scores[class_id]\n",
    "                \n",
    "                if confidence > confidence_threshold and classes[class_id] == 'tvmonitor':\n",
    "                    # Object detected\n",
    "                    center_x = int(detection[0] * width)\n",
    "                    center_y = int(detection[1] * height)\n",
    "                    w = int(detection[2] * width)\n",
    "                    h = int(detection[3] * height)\n",
    "\n",
    "                    # Rectangle coordinates\n",
    "                    x = int(center_x - w / 2)\n",
    "                    y = int(center_y - h / 2)\n",
    "\n",
    "                    # Draw the rectangle\n",
    "                    cv2.rectangle(frame, (x, y), (x + w, y + h), (0, 255, 0), 2)\n",
    "                    rectangle_data.append({\n",
    "                        'frame': frame_index,\n",
    "                        'x': x,\n",
    "                        'y': y,\n",
    "                        'width': w,\n",
    "                        'height': h\n",
    "                    })\n",
    "\n",
    "        frame_index += 1\n",
    "\n",
    "        # Save the frame with the detected screen\n",
    "        cv2.imwrite(f'{frame_folder}/frame_{frame_index}.jpg', frame)\n",
    "        \n",
    "        # Display the resulting frame\n",
    "        cv2.imshow('Frame', frame)\n",
    "        if cv2.waitKey(1) & 0xFF == ord('q'):\n",
    "            break\n",
    "\n",
    "    cap.release()\n",
    "    cv2.destroyAllWindows()\n",
    "\n",
    "    # Save rectangle data to a CSV file\n",
    "    with open(os.path.join(output_folder, 'rectangle_data.csv'), 'w', newline='') as csvfile:\n",
    "        fieldnames = ['frame', 'x', 'y', 'width', 'height']\n",
    "        writer = csv.DictWriter(csvfile, fieldnames=fieldnames)\n",
    "        writer.writeheader()\n",
    "        for data in rectangle_data:\n",
    "            writer.writerow(data)\n",
    "\n",
    "# Example usage\n",
    "# detect_tv_screen_yolo('video.mp4', 'yolov3.cfg', 'yolov3.weights', 'coco.names', 0.5, 'output_folder')\n"
   ]
  },
  {
   "cell_type": "code",
   "execution_count": null,
   "metadata": {},
   "outputs": [],
   "source": [
    "output_file = os.path.join(subj_folder, 'ads', '2-bk', 'v3')\n",
    "detect_tv_screen_yolo(short_video, 0.5, output_file)"
   ]
  },
  {
   "cell_type": "markdown",
   "metadata": {},
   "source": [
    "3. Background Subtraction\n",
    "If the TV screen is the only moving object in the scene or has a distinct movement pattern, background subtraction can be an effective approach.\n",
    "\n",
    "Background Subtraction: Use methods like MOG2 or KNN from OpenCV to segment moving objects from the background.\n",
    "Contour Detection: Apply contour detection on the foreground mask to identify the TV screen."
   ]
  },
  {
   "cell_type": "code",
   "execution_count": null,
   "metadata": {},
   "outputs": [],
   "source": [
    "def detect_tv_screen_background_subtraction(video_path, output_folder):\n",
    "    # Create Background Subtractor\n",
    "    backSub = cv2.createBackgroundSubtractorMOG2()\n",
    "\n",
    "    # Open the video\n",
    "    cap = cv2.VideoCapture(video_path)\n",
    "    frame_index = 0  # To keep track of frame numbers\n",
    "\n",
    "    if not os.path.exists(output_folder):\n",
    "        os.makedirs(output_folder)\n",
    "\n",
    "    frame_folder = os.path.join(output_folder, 'tv_frames')\n",
    "    os.makedirs(frame_folder, exist_ok=True)\n",
    "    \n",
    "    # Prepare to save rectangle data\n",
    "    rectangle_data = []\n",
    "\n",
    "    while cap.isOpened():\n",
    "        ret, frame = cap.read()\n",
    "        if not ret:\n",
    "            break\n",
    "        \n",
    "        # Apply background subtraction\n",
    "        fgMask = backSub.apply(frame)\n",
    "\n",
    "        # Find contours in the mask\n",
    "        contours, _ = cv2.findContours(fgMask, cv2.RETR_TREE, cv2.CHAIN_APPROX_SIMPLE)\n",
    "\n",
    "        for contour in contours:\n",
    "            if cv2.contourArea(contour) > 3000:  # Filter small areas\n",
    "                x, y, w, h = cv2.boundingRect(contour)\n",
    "                cv2.rectangle(frame, (x, y), (x + w, y + h), (0, 255, 0), 2)\n",
    "                rectangle_data.append({\n",
    "                    'frame': frame_index,\n",
    "                    'x': x,\n",
    "                    'y': y,\n",
    "                    'width': w,\n",
    "                    'height': h\n",
    "                })\n",
    "\n",
    "        frame_index += 1\n",
    "\n",
    "        # Save the frame with the detected screen\n",
    "        cv2.imwrite(f'{frame_folder}/frame_{frame_index}.jpg', frame)\n",
    "\n",
    "        # Display the resulting frame\n",
    "        cv2.imshow('Frame', frame)\n",
    "        if cv2.waitKey(1) & 0xFF == ord('q'):\n",
    "            break\n",
    "\n",
    "    cap.release()\n",
    "    cv2.destroyAllWindows()\n",
    "\n",
    "    # Save rectangle data to a CSV file\n",
    "    with open(os.path.join(output_folder, 'rectangle_data.csv'), 'w', newline='') as csvfile:\n",
    "        fieldnames = ['frame', 'x', 'y', 'width', 'height']\n",
    "        writer = csv.DictWriter(csvfile, fieldnames=fieldnames)\n",
    "        writer.writeheader()\n",
    "        for data in rectangle_data:\n",
    "            writer.writerow(data)\n",
    "\n",
    "# Example usage\n",
    "# detect_tv_screen_background_subtraction('video.mp4', 'output_folder')\n"
   ]
  },
  {
   "cell_type": "code",
   "execution_count": null,
   "metadata": {},
   "outputs": [],
   "source": [
    "output_folder = os.path.join(subj_folder, 'ads', '2-bk', 'v4')\n",
    "detect_tv_screen_background_subtraction(short_video, output_folder)"
   ]
  },
  {
   "cell_type": "markdown",
   "metadata": {},
   "source": [
    "4. Color-Based Segmentation\n",
    "If the TV screen has a distinct color profile (e.g., a blue tint from a video game or a specific show), you can use color-based segmentation to isolate it.\n",
    "\n",
    "Color Space Conversion: Convert the frame to the HSV or LAB color space.\n",
    "Color Thresholding: Apply thresholding to segment regions matching the screen's color."
   ]
  },
  {
   "cell_type": "code",
   "execution_count": null,
   "metadata": {},
   "outputs": [],
   "source": [
    "def detect_tv_screen_color_segmentation(video_path, lower_color, upper_color, output_folder):\n",
    "    # Open the video\n",
    "    cap = cv2.VideoCapture(video_path)\n",
    "    frame_index = 0  # To keep track of frame numbers\n",
    "\n",
    "    if not os.path.exists(output_folder):\n",
    "        os.makedirs(output_folder)\n",
    "\n",
    "    frame_folder = os.path.join(output_folder, 'tv_frames')\n",
    "    os.makedirs(frame_folder, exist_ok=True)\n",
    "    \n",
    "    # Prepare to save rectangle data\n",
    "    rectangle_data = []\n",
    "\n",
    "    while cap.isOpened():\n",
    "        ret, frame = cap.read()\n",
    "        if not ret:\n",
    "            break\n",
    "        \n",
    "        # Convert to HSV color space\n",
    "        hsv = cv2.cvtColor(frame, cv2.COLOR_BGR2HSV)\n",
    "\n",
    "        # Create a mask based on the specified color range\n",
    "        mask = cv2.inRange(hsv, lower_color, upper_color)\n",
    "\n",
    "        # Find contours in the mask\n",
    "        contours, _ = cv2.findContours(mask, cv2.RETR_TREE, cv2.CHAIN_APPROX_SIMPLE)\n",
    "\n",
    "        for contour in contours:\n",
    "            if cv2.contourArea(contour) > 3000:  # Filter small areas\n",
    "                x, y, w, h = cv2.boundingRect(contour)\n",
    "                cv2.rectangle(frame, (x, y), (x + w, y + h), (0, 255, 0), 2)\n",
    "                rectangle_data.append({\n",
    "                    'frame': frame_index,\n",
    "                    'x': x,\n",
    "                    'y': y,\n",
    "                    'width': w,\n",
    "                    'height': h\n",
    "                })\n",
    "\n",
    "        frame_index += 1\n",
    "\n",
    "        # Save the frame with the detected screen\n",
    "        cv2.imwrite(f'{frame_folder}/frame_{frame_index}.jpg', frame)\n",
    "\n",
    "        # Display the resulting frame\n",
    "        cv2.imshow('Frame', frame)\n",
    "        if cv2.waitKey(1) & 0xFF == ord('q'):\n",
    "            break\n",
    "\n",
    "    cap.release()\n",
    "    cv2.destroyAllWindows()\n",
    "\n",
    "    # Save rectangle data to a CSV file\n",
    "    with open(os.path.join(output_folder, 'rectangle_data.csv'), 'w', newline='') as csvfile:\n",
    "        fieldnames = ['frame', 'x', 'y', 'width', 'height']\n",
    "        writer = csv.DictWriter(csvfile, fieldnames=fieldnames)\n",
    "        writer.writeheader()\n",
    "        for data in rectangle_data:\n",
    "            writer.writerow(data)\n",
    "\n",
    "# Example usage\n",
    "# detect_tv_screen_color_segmentation('video.mp4', (100, 150, 150), (140, 255, 255), 'output_folder')\n"
   ]
  },
  {
   "cell_type": "code",
   "execution_count": null,
   "metadata": {},
   "outputs": [],
   "source": [
    "output_folder = os.path.join(subj_folder, 'ads', '2-bk', 'v5')\n",
    "detect_tv_screen_color_segmentation(short_video, (100, 150, 150), (140, 255, 255), output_folder)"
   ]
  },
  {
   "cell_type": "markdown",
   "metadata": {},
   "source": [
    "5. Optical Flow Analysis\n",
    "If the TV screen's content changes noticeably while the surrounding environment remains static, optical flow can be used to track motion differences between frames.\n",
    "\n",
    "Optical Flow Calculation: Use methods like Lucas-Kanade or Farneback to compute the flow of moving regions.\n",
    "Motion Segmentation: Identify areas with consistent motion patterns that match the TV screen.\n",
    "\n",
    "Explanation of Key Steps:\n",
    "Capture Video Frames: Open the video file and read the first frame to initialize the process.\n",
    "Grayscale Conversion: Convert each frame to grayscale, as optical flow calculations require single-channel images.\n",
    "Optical Flow Calculation: Use cv2.calcOpticalFlowFarneback to calculate the optical flow between the current frame and the previous frame.\n",
    "Magnitude and Angle: Convert flow vectors to magnitude and angle using cv2.cartToPolar.\n",
    "Thresholding: Apply a threshold to the magnitude to isolate regions of significant motion.\n",
    "Contour Detection: Find contours in the binary mask created by the thresholding step.\n",
    "Draw and Save Detected Regions: Draw bounding rectangles around detected contours, save the frame, and store AOI data.\n",
    "Considerations:\n",
    "Thresholding: The threshold value for motion magnitude needs to be adjusted based on the video content. A higher threshold may reduce false positives but might also miss more subtle motion.\n",
    "Contour Area: Adjust the area threshold in cv2.contourArea(contour) > 5000 to filter out noise and only focus on larger moving objects, like a TV screen.\n",
    "Performance: Optical flow calculations can be computationally expensive. Consider downscaling frames for faster processing if necessary.\n",
    "Lighting Conditions: Optical flow can be sensitive to lighting changes, so ensure consistent lighting in your video.\n",
    "Potential Improvements:\n",
    "Adaptive Thresholding: Implement adaptive thresholding techniques to adjust the motion threshold dynamically based on frame content.\n",
    "Post-processing: Use morphological operations to clean up the binary mask before contour detection.\n",
    "ROI Refinement: Implement additional checks to refine detected ROIs based on expected size, shape, and position."
   ]
  },
  {
   "cell_type": "code",
   "execution_count": null,
   "metadata": {},
   "outputs": [],
   "source": [
    "def detect_tv_screen_optical_flow(video_path, threshold, output_folder):\n",
    "    # Open the video\n",
    "    cap = cv2.VideoCapture(video_path)\n",
    "    ret, prev_frame = cap.read()\n",
    "\n",
    "    if not ret:\n",
    "        print(\"Failed to read the video file.\")\n",
    "        return\n",
    "    \n",
    "    prev_gray = cv2.cvtColor(prev_frame, cv2.COLOR_BGR2GRAY)\n",
    "\n",
    "    frame_index = 0\n",
    "\n",
    "    if not os.path.exists(output_folder):\n",
    "        os.makedirs(output_folder)\n",
    "\n",
    "    frame_folder = os.path.join(output_folder, 'tv_frames')\n",
    "    os.makedirs(frame_folder, exist_ok=True)\n",
    "\n",
    "    # Prepare to save rectangle data\n",
    "    rectangle_data = []\n",
    "\n",
    "    while True:\n",
    "        ret, frame = cap.read()\n",
    "        if not ret:\n",
    "            break\n",
    "\n",
    "        gray = cv2.cvtColor(frame, cv2.COLOR_BGR2GRAY)\n",
    "\n",
    "        # Calculate dense optical flow using Farneback method\n",
    "        flow = cv2.calcOpticalFlowFarneback(prev_gray, gray, None, \n",
    "                                            pyr_scale=0.5, levels=3, winsize=15, \n",
    "                                            iterations=3, poly_n=5, poly_sigma=1.2, flags=0)\n",
    "\n",
    "        # Compute the magnitude and angle of the flow vectors\n",
    "        magnitude, angle = cv2.cartToPolar(flow[..., 0], flow[..., 1])\n",
    "\n",
    "        # Threshold the magnitude to create a binary mask\n",
    "        mask = np.zeros_like(gray)\n",
    "        mask[magnitude > threshold] = 255\n",
    "\n",
    "        # Find contours in the mask\n",
    "        contours, _ = cv2.findContours(mask, cv2.RETR_EXTERNAL, cv2.CHAIN_APPROX_SIMPLE)\n",
    "\n",
    "        for contour in contours:\n",
    "            if cv2.contourArea(contour) > 5000:  # Adjust this threshold based on your needs\n",
    "                x, y, w, h = cv2.boundingRect(contour)\n",
    "                cv2.rectangle(frame, (x, y), (x + w, y + h), (0, 255, 0), 2)\n",
    "                \n",
    "                # Save rectangle data\n",
    "                rectangle_data.append({\n",
    "                    'frame': frame_index,\n",
    "                    'x': x,\n",
    "                    'y': y,\n",
    "                    'width': w,\n",
    "                    'height': h\n",
    "                })\n",
    "\n",
    "        # Save the frame with the detected screen\n",
    "        cv2.imwrite(f'{frame_folder}/frame_{frame_index}.jpg', frame)\n",
    "        \n",
    "        # Display the resulting frame\n",
    "        cv2.imshow('Frame', frame)\n",
    "        if cv2.waitKey(1) & 0xFF == ord('q'):\n",
    "            break\n",
    "\n",
    "        # Update the previous frame and previous gray frame\n",
    "        prev_gray = gray\n",
    "        frame_index += 1\n",
    "\n",
    "    cap.release()\n",
    "    cv2.destroyAllWindows()\n",
    "\n",
    "    # Save rectangle data to a CSV file\n",
    "    with open(os.path.join(output_folder, 'rectangle_data.csv'), 'w', newline='') as csvfile:\n",
    "        fieldnames = ['frame', 'x', 'y', 'width', 'height']\n",
    "        writer = csv.DictWriter(csvfile, fieldnames=fieldnames)\n",
    "        writer.writeheader()\n",
    "        for data in rectangle_data:\n",
    "            writer.writerow(data)\n",
    "\n",
    "# Example usage\n",
    "# detect_tv_screen_optical_flow('video.mp4', threshold=5, output_folder='output_folder')\n"
   ]
  },
  {
   "cell_type": "code",
   "execution_count": null,
   "metadata": {},
   "outputs": [],
   "source": [
    "output_folder = os.path.join(subj_folder, 'ads', '2-bk', 'v6')\n",
    "detect_tv_screen_optical_flow(short_video, threshold=5, output_folder=output_folder)"
   ]
  },
  {
   "cell_type": "markdown",
   "metadata": {},
   "source": [
    "# Average Gaze Data for each video frame"
   ]
  },
  {
   "cell_type": "code",
   "execution_count": 37,
   "metadata": {},
   "outputs": [],
   "source": [
    "# missing synchronized data function\n",
    "def average_gaze_data(gaze_data_path, world_timestamps_path):\n",
    "\n",
    "    if not isinstance(gaze_data_path, pd.DataFrame):\n",
    "        # Load gaze data\n",
    "        gaze_data = pd.read_csv(gaze_data_path)\n",
    "    else:\n",
    "        try:\n",
    "            gaze_data = gaze_data_path\n",
    "        except Exception as e:\n",
    "            print(\"Error loading gaze_data:\", e)\n",
    "            return None\n",
    "        \n",
    "    if not isinstance(world_timestamps_path, pd.DataFrame):\n",
    "        # Load world timestamps\n",
    "        world_timestamps = pd.read_csv(world_timestamps_path)\n",
    "    else:\n",
    "        try:\n",
    "            world_timestamps = world_timestamps_path\n",
    "        except Exception as e:\n",
    "            print(\"Error loading world_timestamps:\", e)\n",
    "            return None\n",
    "    \n",
    "    # Calculate average frame duration in nanoseconds\n",
    "    frame_durations = world_timestamps['timestamp [ns]'].diff().dropna()\n",
    "    average_frame_duration = frame_durations.mean()\n",
    "\n",
    "    # Calculate the index of the world timestamp for each gaze point\n",
    "    gaze_data['world_timestamp_index'] = ((gaze_data['timestamp [ns]'] - world_timestamps['timestamp [ns]'].iloc[0]) / average_frame_duration).astype(int)\n",
    "    gaze_data['world_timestamp_index'] = gaze_data['world_timestamp_index'].clip(0, len(world_timestamps) - 1)  # Prevent out of bounds indexing\n",
    "\n",
    "    # Map the calculated index to the actual world timestamps\n",
    "    gaze_data['world_timestamp [ns]'] = gaze_data['world_timestamp_index'].map(world_timestamps['timestamp [ns]'])\n",
    "\n",
    "    # Group by the world timestamp and average the gaze coordinates\n",
    "    averaged_gaze = gaze_data.groupby('world_timestamp [ns]').agg({\n",
    "        'gaze x [px]': 'mean',\n",
    "        'gaze y [px]': 'mean'\n",
    "    }).reset_index()\n",
    "\n",
    "    return averaged_gaze\n",
    "\n",
    "# gaze_data = os.path.join(subj_folder, 'gaze.csv')\n",
    "# world_timestamps = os.path.join(subj_folder, 'world_timestamps.csv')\n",
    "\n",
    "# # Test the function with the previously loaded gaze_data and world_timestamps\n",
    "# averaged_gaze_output = average_gaze_data(gaze_data, world_timestamps)\n",
    "\n",
    "# averaged_gaze_output.to_csv(os.path.join(output_file,'averaged_gaze_data.csv'))"
   ]
  },
  {
   "cell_type": "code",
   "execution_count": 29,
   "metadata": {},
   "outputs": [],
   "source": [
    "# testing\n",
    "\n",
    "\n",
    "gaze_data = os.path.join(subj_folder, 'ads', f'event-{int(7)}_gaze.csv')\n",
    "\n",
    "averaged_gaze_output = average_gaze_data(gaze_data, world_timestamps)\n",
    "averaged_gaze_output.to_csv(os.path.join(save_dir_7, 'averaged_gaze_data.csv'))\n"
   ]
  },
  {
   "cell_type": "markdown",
   "metadata": {},
   "source": [
    "# AOI For Each Frame"
   ]
  },
  {
   "cell_type": "code",
   "execution_count": 43,
   "metadata": {},
   "outputs": [],
   "source": [
    "def interpolate_aoi_data_from_video(rectangle_df, video_path):\n",
    "    \"\"\"\n",
    "    Interpolates missing AOI data (x, y, width, height) based on the number of frames in the video.\n",
    "    \n",
    "    Parameters:\n",
    "    - rectangle_df (pd.DataFrame): A dataframe containing 'frame', 'x', 'y', 'width', 'height' columns for detected AOIs.\n",
    "    - video_path (str): Path to the video file to get the total number of frames.\n",
    "    \n",
    "    Returns:\n",
    "    - interpolated_df (pd.DataFrame): A dataframe with interpolated AOI values for each frame in the video.\n",
    "    \"\"\"\n",
    "\n",
    "    # Check if rectangle_df is a file path\n",
    "    if isinstance(rectangle_df, str):\n",
    "        rectangle_df = pd.read_csv(rectangle_df)\n",
    "\n",
    "    # Open the video file\n",
    "    cap = cv2.VideoCapture(video_path)\n",
    "    \n",
    "    if not cap.isOpened():\n",
    "        print(f\"Error: Could not open video file {video_path}\")\n",
    "        return None\n",
    "    \n",
    "    # Get total number of frames in the video\n",
    "    total_frames = int(cap.get(cv2.CAP_PROP_FRAME_COUNT))\n",
    "    cap.release()  # Close the video capture\n",
    "\n",
    "    # Ensure rectangle_df contains only necessary columns and is sorted by frame\n",
    "    rectangle_df = rectangle_df[['frame', 'x', 'y', 'width', 'height']].sort_values(by='frame').reset_index(drop=True)\n",
    "    \n",
    "    # Create a DataFrame that has all frame numbers from 0 to total_frames - 1\n",
    "    all_frames = pd.DataFrame({'frame': np.arange(total_frames)})\n",
    "    \n",
    "    # Merge with the existing AOI data (this will insert NaNs for missing AOI data)\n",
    "    full_frame_df = pd.merge(all_frames, rectangle_df, how='left', on='frame')\n",
    "    \n",
    "    # Interpolate missing values for x, y, width, height\n",
    "    full_frame_df[['x', 'y', 'width', 'height']] = full_frame_df[['x', 'y', 'width', 'height']].interpolate(\n",
    "        method='linear', limit_direction='forward', axis=0)\n",
    "    \n",
    "    # Fill any remaining NaNs with the nearest available values\n",
    "    full_frame_df = full_frame_df.bfill()\n",
    "    full_frame_df = full_frame_df.ffill()\n",
    "    \n",
    "    return full_frame_df\n",
    "\n",
    "# Example usage:\n",
    "# Assuming you have a filtered AOI dataframe 'filtered_rectangle_df' and video 'input_video.mp4'\n",
    "# interpolated_aoi_df = interpolate_aoi_data_from_video(filtered_rectangle_df, 'input_video.mp4')"
   ]
  },
  {
   "cell_type": "code",
   "execution_count": 10,
   "metadata": {},
   "outputs": [
    {
     "name": "stderr",
     "output_type": "stream",
     "text": [
      "/var/folders/4z/r7mkx_mj2d73zrgl4w0848ww0000gq/T/ipykernel_64518/1299098279.py:42: FutureWarning: DataFrame.fillna with 'method' is deprecated and will raise in a future version. Use obj.ffill() or obj.bfill() instead.\n",
      "  full_frame_df.fillna(method='bfill', inplace=True)\n",
      "/var/folders/4z/r7mkx_mj2d73zrgl4w0848ww0000gq/T/ipykernel_64518/1299098279.py:43: FutureWarning: DataFrame.fillna with 'method' is deprecated and will raise in a future version. Use obj.ffill() or obj.bfill() instead.\n",
      "  full_frame_df.fillna(method='ffill', inplace=True)\n"
     ]
    }
   ],
   "source": [
    "# testing\n",
    "aoi_df = interpolate_aoi_data_from_video(filtered_rectangle_data, ad_video)"
   ]
  },
  {
   "cell_type": "code",
   "execution_count": null,
   "metadata": {},
   "outputs": [],
   "source": [
    "def overlay_aoi_on_video(video_path, aoi_data, output_path):\n",
    "    \"\"\"\n",
    "    Overlays AOI rectangles onto each frame of a video.\n",
    "    \n",
    "    Parameters:\n",
    "    - video_path (str): Path to the input video file.\n",
    "    - aoi_data (pd.DataFrame): DataFrame containing AOI data with 'frame', 'x', 'y', 'width', 'height'.\n",
    "    - output_path (str): Path to save the output video with AOIs overlaid.\n",
    "    \n",
    "    Returns:\n",
    "    - None\n",
    "    \"\"\"\n",
    "    # Open the video file\n",
    "    cap = cv2.VideoCapture(video_path)\n",
    "    \n",
    "    # Get video properties\n",
    "    frame_width = int(cap.get(cv2.CAP_PROP_FRAME_WIDTH))\n",
    "    frame_height = int(cap.get(cv2.CAP_PROP_FRAME_HEIGHT))\n",
    "    fps = cap.get(cv2.CAP_PROP_FPS)\n",
    "    total_frames = int(cap.get(cv2.CAP_PROP_FRAME_COUNT))\n",
    "    \n",
    "    # Define the codec and create VideoWriter object to save output video\n",
    "    fourcc = cv2.VideoWriter_fourcc(*'mp4v')\n",
    "    out = cv2.VideoWriter(output_path, fourcc, fps, (frame_width, frame_height))\n",
    "    \n",
    "    # Loop through each frame in the video\n",
    "    for i in range(total_frames):\n",
    "        ret, frame = cap.read()\n",
    "        if not ret:\n",
    "            break\n",
    "        \n",
    "        # Get AOI for the current frame\n",
    "        aoi_row = aoi_data[aoi_data['frame'] == i]\n",
    "        \n",
    "        if not aoi_row.empty:\n",
    "            # Extract x, y, width, height of the AOI\n",
    "            x = int(aoi_row['x'].values[0])\n",
    "            y = int(aoi_row['y'].values[0])\n",
    "            width = int(aoi_row['width'].values[0])\n",
    "            height = int(aoi_row['height'].values[0])\n",
    "            \n",
    "            # Draw rectangle on the frame (Green color, thickness 2)\n",
    "            cv2.rectangle(frame, (x, y), (x + width, y + height), (0, 255, 0), 2)\n",
    "        \n",
    "        # Write the frame with the AOI overlay to the output video\n",
    "        out.write(frame)\n",
    "    \n",
    "    # Release everything\n",
    "    cap.release()\n",
    "    out.release()\n",
    "    print(f\"Output video saved as {output_path}\")\n",
    "\n",
    "# Example usage:\n",
    "# Assuming you have a video file 'input_video.mp4' and interpolated AOI DataFrame 'interpolated_aoi_df'\n",
    "# overlay_aoi_on_video('input_video.mp4', interpolated_aoi_df, 'output_with_aoi.mp4')\n"
   ]
  },
  {
   "cell_type": "code",
   "execution_count": null,
   "metadata": {},
   "outputs": [],
   "source": [
    "# testing\n",
    "overlay_aoi_on_video(ad_video, aoi_df, os.path.join(ad_folder, 'output_with_aoi.mp4'))"
   ]
  },
  {
   "cell_type": "markdown",
   "metadata": {},
   "source": [
    "# Map Gaze Onto Scene Video, Gaze Within AOI"
   ]
  },
  {
   "cell_type": "code",
   "execution_count": 47,
   "metadata": {},
   "outputs": [],
   "source": [
    "def calculate_fixation_durations(fixation_data):\n",
    "    \"\"\" Calculate fixation duration based on the number of gaze points for each fixation ID. \"\"\"\n",
    "    fixation_data = fixation_data.copy()\n",
    "    fixation_data.loc[:,'fixation_duration'] = fixation_data.groupby('fixation id')['fixation id'].transform('count')\n",
    "    return fixation_data\n",
    "\n",
    "def is_point_in_aoi(gaze_x, gaze_y, aoi_row):\n",
    "    \"\"\" Check if a given gaze point (gaze_x, gaze_y) is inside the AOI rectangle. \"\"\"\n",
    "    aoi_x = int(aoi_row['x'])\n",
    "    aoi_y = int(aoi_row['y'])\n",
    "    aoi_width = int(aoi_row['width'])\n",
    "    aoi_height = int(aoi_row['height'])\n",
    "    \n",
    "    return aoi_x <= gaze_x <= aoi_x + aoi_width and aoi_y <= gaze_y <= aoi_y + aoi_height\n",
    "\n",
    "def add_within_aoi_column(gaze_data, aoi_data, video_start_timestamp, frame_duration_ns):\n",
    "    \"\"\" Add a 'within_aoi' column to the gaze data, indicating if the gaze point is within the AOI. \"\"\"\n",
    "    within_aoi = []\n",
    "    \n",
    "    for _, gaze_row in gaze_data.iterrows():\n",
    "        gaze_timestamp = gaze_row['timestamp [ns]']\n",
    "        gaze_x = int(gaze_row['gaze x [px]'])\n",
    "        gaze_y = int(gaze_row['gaze y [px]'])\n",
    "        \n",
    "        # Find the corresponding frame based on the timestamp\n",
    "        frame_idx = int((gaze_timestamp - video_start_timestamp) // frame_duration_ns)\n",
    "        aoi_row = aoi_data[aoi_data['frame'] == frame_idx]\n",
    "        \n",
    "        if not aoi_row.empty:\n",
    "            # Check if the gaze point is within the AOI\n",
    "            within_aoi.append(is_point_in_aoi(gaze_x, gaze_y, aoi_row.iloc[0]))\n",
    "        else:\n",
    "            within_aoi.append(False)  # If no AOI for the frame, assume False\n",
    "    \n",
    "    gaze_data['within_aoi'] = within_aoi\n",
    "    return gaze_data\n",
    "\n",
    "def overlay_gaze_and_aoi_on_video_ffmpeg(video_path, gaze_data, aoi_data, output_path, video_start_timestamp):\n",
    "    \"\"\"\n",
    "    Overlays averaged gaze points (both fixation and non-fixation) onto each frame of a video.\n",
    "    Scanpaths are drawn between averaged gaze points for continuous movement visualization.\n",
    "    \n",
    "    Parameters:\n",
    "    - video_path (str): Path to the input video file.\n",
    "    - gaze_data (pd.DataFrame): Raw gaze data with 'timestamp [ns]', 'gaze x [px]', 'gaze y [px]', 'fixation id' columns.\n",
    "    - aoi_data (pd.DataFrame): AOI data with 'frame', 'x', 'y', 'width', 'height' columns for each frame.\n",
    "    - output_path (str): Path to save the output video with AOIs, gaze points, and scanpaths overlaid.\n",
    "    - video_start_timestamp (int): The starting timestamp of the subset video in nanoseconds.\n",
    "    \n",
    "    Returns:\n",
    "    - None\n",
    "    \"\"\"\n",
    "\n",
    "    # Check if gaze_data is a file path\n",
    "    if isinstance(gaze_data, str):\n",
    "        gaze_data = pd.read_csv(gaze_data)\n",
    "\n",
    "    # Check if aoi_data is a file path\n",
    "    if isinstance(aoi_data, str):\n",
    "        aoi_data = pd.read_csv(aoi_data)\n",
    "\n",
    "    # Calculate fixation durations based on the number of gaze points per fixation ID\n",
    "    fixation_data = gaze_data[gaze_data['fixation id'].notna()]\n",
    "    fixation_data = calculate_fixation_durations(fixation_data)  # Calculate fixation durations\n",
    "    \n",
    "    # Calculate the frame duration based on average_rate\n",
    "    input_container = av.open(video_path)\n",
    "    input_stream = input_container.streams.video[0]\n",
    "    frame_rate = input_stream.average_rate\n",
    "    frame_duration_ns = int(1 / frame_rate * 1e9)\n",
    "    \n",
    "    # Add the 'within_aoi' column to the gaze data\n",
    "    gaze_data = add_within_aoi_column(gaze_data, aoi_data, video_start_timestamp, frame_duration_ns)\n",
    "\n",
    "    # Define the path for the output video\n",
    "    new_video_path = os.path.join(output_path, 'output_with_aoi_and_gaze.mp4')\n",
    "    \n",
    "    # Open the video file using PyAV\n",
    "    output_container = av.open(new_video_path, mode='w')\n",
    "    output_stream = output_container.add_stream('mpeg4', rate=input_stream.average_rate)\n",
    "    output_stream.width = input_stream.width\n",
    "    output_stream.height = input_stream.height\n",
    "    output_stream.pix_fmt = 'yuv420p'\n",
    "\n",
    "    # Variables to store previous averaged gaze point for scanpath drawing\n",
    "    prev_gaze_x = None\n",
    "    prev_gaze_y = None\n",
    "    \n",
    "    # Iterate over frames in the input video\n",
    "    for frame_idx, frame in enumerate(input_container.decode(video=0)):\n",
    "        # Convert the PyAV frame to a PIL image for drawing\n",
    "        img = frame.to_image()\n",
    "\n",
    "        # Calculate the timestamp for the current frame\n",
    "        current_frame_timestamp = video_start_timestamp + frame_idx * frame_duration_ns\n",
    "\n",
    "        # Draw AOI for the current frame if available\n",
    "        aoi_row = aoi_data[aoi_data['frame'] == frame_idx]\n",
    "        if not aoi_row.empty:\n",
    "            draw = ImageDraw.Draw(img)\n",
    "            aoi_x = int(aoi_row['x'].values[0])\n",
    "            aoi_y = int(aoi_row['y'].values[0])\n",
    "            aoi_width = int(aoi_row['width'].values[0])\n",
    "            aoi_height = int(aoi_row['height'].values[0])\n",
    "            draw.rectangle([(aoi_x, aoi_y), (aoi_x + aoi_width, aoi_y + aoi_height)], outline=(0, 255, 0), width=4)\n",
    "\n",
    "        # Find gaze points for the current frame and calculate the average\n",
    "        gaze_points = gaze_data[(gaze_data['timestamp [ns]'] >= current_frame_timestamp) &\n",
    "                                (gaze_data['timestamp [ns]'] < current_frame_timestamp + frame_duration_ns)]\n",
    "        \n",
    "        if not gaze_points.empty:\n",
    "            # Average the gaze points for this frame\n",
    "            avg_gaze_x = int(gaze_points['gaze x [px]'].mean())\n",
    "            avg_gaze_y = int(gaze_points['gaze y [px]'].mean())\n",
    "            is_within_aoi = gaze_points['within_aoi'].mean() > 0.5  # If majority of points are inside AOI\n",
    "            \n",
    "            # Draw gaze point based on whether it's within AOI\n",
    "            color = \"blue\" if is_within_aoi else \"orange\"\n",
    "            draw.ellipse([(avg_gaze_x - 3, avg_gaze_y - 3), (avg_gaze_x + 3, avg_gaze_y + 3)], fill=color, outline=color)\n",
    "            \n",
    "            # Draw scanpath (line between consecutive averaged gaze points)\n",
    "            if prev_gaze_x is not None and prev_gaze_y is not None:\n",
    "                draw.line([(prev_gaze_x, prev_gaze_y), (avg_gaze_x, avg_gaze_y)], fill=\"blue\", width=2)\n",
    "\n",
    "            # Update the previous gaze point for the next frame\n",
    "            prev_gaze_x, prev_gaze_y = avg_gaze_x, avg_gaze_y\n",
    "\n",
    "        # Find fixation points within the current frame's time window and calculate the average\n",
    "        fixation_rows = fixation_data[(fixation_data['timestamp [ns]'] >= current_frame_timestamp) &\n",
    "                                      (fixation_data['timestamp [ns]'] < current_frame_timestamp + frame_duration_ns)]\n",
    "        if not fixation_rows.empty:\n",
    "            # Average the fixation points for this frame\n",
    "            avg_fixation_x = int(fixation_rows['gaze x [px]'].mean())\n",
    "            avg_fixation_y = int(fixation_rows['gaze y [px]'].mean())\n",
    "            avg_fixation_duration = fixation_rows['fixation_duration'].mean()\n",
    "            \n",
    "            # Base size of the circle and scaling it by the averaged fixation duration\n",
    "            base_size = 3\n",
    "            scaled_size = base_size + 2 * (avg_fixation_duration ** 0.5)\n",
    "            radius = int(scaled_size)\n",
    "            \n",
    "            # Draw the averaged fixation point with no fill and size proportional to the averaged fixation duration\n",
    "            draw.ellipse([(avg_fixation_x - radius, avg_fixation_y - radius), (avg_fixation_x + radius, avg_fixation_y + radius)], outline=\"blue\", width=2)\n",
    "\n",
    "        # Convert the image back to a PyAV frame\n",
    "        frame = av.VideoFrame.from_image(img)\n",
    "\n",
    "        # Encode and write the frame\n",
    "        packet = output_stream.encode(frame)\n",
    "        output_container.mux(packet)\n",
    "    \n",
    "    # Finalize the video\n",
    "    packet = output_stream.encode(None)\n",
    "    output_container.mux(packet)\n",
    "\n",
    "    # Close the input and output containers\n",
    "    input_container.close()\n",
    "    output_container.close()\n",
    "\n",
    "    print(f\"Output video with averaged gaze points, fixations, and scanpath saved as {new_video_path}\")\n",
    "\n",
    "     # print the updated gaze_data with 'within_aoi' column\n",
    "    # Save the updated gaze data to a new CSV file\n",
    "    gaze_data.to_csv(os.path.join(output_path, 'updated_gaze_data.csv'), index=False)\n",
    "\n",
    "# Example usage:\n",
    "# video_start_timestamp = 1712761742852933376  # Taken from the 'aligned_events.csv'\n",
    "# overlay_gaze_and_aoi_on_video_ffmpeg('input_video.mp4', gaze_data_raw_df, aoi_df, 'output_with_averaged_gaze_and_scanpath.mp4', video_start_timestamp)\n"
   ]
  },
  {
   "cell_type": "code",
   "execution_count": 24,
   "metadata": {},
   "outputs": [
    {
     "name": "stderr",
     "output_type": "stream",
     "text": [
      "/var/folders/4z/r7mkx_mj2d73zrgl4w0848ww0000gq/T/ipykernel_64518/727462044.py:3: SettingWithCopyWarning: \n",
      "A value is trying to be set on a copy of a slice from a DataFrame.\n",
      "Try using .loc[row_indexer,col_indexer] = value instead\n",
      "\n",
      "See the caveats in the documentation: https://pandas.pydata.org/pandas-docs/stable/user_guide/indexing.html#returning-a-view-versus-a-copy\n",
      "  fixation_data['fixation_duration'] = fixation_data.groupby('fixation id')['fixation id'].transform('count')\n",
      "No accelerated colorspace conversion found from yuv420p to rgb24.\n",
      "No accelerated colorspace conversion found from yuv420p to rgb24.\n",
      " (repeated 600 more times)\n"
     ]
    },
    {
     "name": "stdout",
     "output_type": "stream",
     "text": [
      "Output video with averaged gaze points, fixations, and scanpath saved as /Volumes/T7 Shield/fox/et/sub-019_tv-lego-42b0cb7d/ads/2/output_with_aoi_and_gaze.mp4\n"
     ]
    }
   ],
   "source": [
    "# test\n",
    "# Assuming 'input_video.mp4' is the video, 'gaze_data' is the DataFrame for gaze, and 'aoi_data' is the AOI data\n",
    "aligned_events = pd.read_csv(os.path.join(subj_folder, 'ads','aligned_events.csv'))\n",
    "video_start_timestamp = aligned_events.loc[aligned_events['event_id'] == 2, 'nearest_timestamp_ns'].values[0]\n",
    "overlay_gaze_and_aoi_on_video_ffmpeg(ad_video, gaze_data_raw, aoi_df, ad_folder, video_start_timestamp)\n"
   ]
  },
  {
   "cell_type": "markdown",
   "metadata": {},
   "source": [
    "# Loop Through All Subjects"
   ]
  },
  {
   "cell_type": "code",
   "execution_count": 46,
   "metadata": {},
   "outputs": [
    {
     "name": "stdout",
     "output_type": "stream",
     "text": [
      "Splitting ads for  sub-021\n",
      "Error aligning events: index 0 is out of bounds for axis 0 with size 0\n",
      "Splitting ads for  sub-022\n",
      "9\n",
      "23634\n",
      "15023\n",
      "Segment saved: /Volumes/T7 Shield/fox/et/sub-022_tv-cnn-6db56780/ads/2/2.mp4\n",
      "Segment saved: /Volumes/T7 Shield/fox/et/sub-022_tv-cnn-6db56780/ads/3/3.mp4\n",
      "Segment saved: /Volumes/T7 Shield/fox/et/sub-022_tv-cnn-6db56780/ads/4/4.mp4\n",
      "Segment saved: /Volumes/T7 Shield/fox/et/sub-022_tv-cnn-6db56780/ads/5/5.mp4\n",
      "Segment saved: /Volumes/T7 Shield/fox/et/sub-022_tv-cnn-6db56780/ads/7/7.mp4\n",
      "Segment saved: /Volumes/T7 Shield/fox/et/sub-022_tv-cnn-6db56780/ads/8/8.mp4\n",
      "Segment saved: /Volumes/T7 Shield/fox/et/sub-022_tv-cnn-6db56780/ads/9/9.mp4\n",
      "Segment saved: /Volumes/T7 Shield/fox/et/sub-022_tv-cnn-6db56780/ads/10/10.mp4\n",
      "Video processing completed.\n",
      "Filtered rectangles saved to /Volumes/T7 Shield/fox/et/sub-022_tv-cnn-6db56780/ads/2/filtered_rectangle_data.csv\n",
      "Processed AOI data saved to /Volumes/T7 Shield/fox/et/sub-022_tv-cnn-6db56780/ads/2\n",
      "Filtered rectangles saved to /Volumes/T7 Shield/fox/et/sub-022_tv-cnn-6db56780/ads/3/filtered_rectangle_data.csv\n",
      "Processed AOI data saved to /Volumes/T7 Shield/fox/et/sub-022_tv-cnn-6db56780/ads/3\n",
      "Filtered rectangles saved to /Volumes/T7 Shield/fox/et/sub-022_tv-cnn-6db56780/ads/4/filtered_rectangle_data.csv\n",
      "Processed AOI data saved to /Volumes/T7 Shield/fox/et/sub-022_tv-cnn-6db56780/ads/4\n",
      "Filtered rectangles saved to /Volumes/T7 Shield/fox/et/sub-022_tv-cnn-6db56780/ads/5/filtered_rectangle_data.csv\n",
      "Processed AOI data saved to /Volumes/T7 Shield/fox/et/sub-022_tv-cnn-6db56780/ads/5\n",
      "Filtered rectangles saved to /Volumes/T7 Shield/fox/et/sub-022_tv-cnn-6db56780/ads/7/filtered_rectangle_data.csv\n",
      "Processed AOI data saved to /Volumes/T7 Shield/fox/et/sub-022_tv-cnn-6db56780/ads/7\n",
      "Filtered rectangles saved to /Volumes/T7 Shield/fox/et/sub-022_tv-cnn-6db56780/ads/8/filtered_rectangle_data.csv\n",
      "Processed AOI data saved to /Volumes/T7 Shield/fox/et/sub-022_tv-cnn-6db56780/ads/8\n",
      "Filtered rectangles saved to /Volumes/T7 Shield/fox/et/sub-022_tv-cnn-6db56780/ads/9/filtered_rectangle_data.csv\n",
      "Processed AOI data saved to /Volumes/T7 Shield/fox/et/sub-022_tv-cnn-6db56780/ads/9\n",
      "Filtered rectangles saved to /Volumes/T7 Shield/fox/et/sub-022_tv-cnn-6db56780/ads/10/filtered_rectangle_data.csv\n",
      "Processed AOI data saved to /Volumes/T7 Shield/fox/et/sub-022_tv-cnn-6db56780/ads/10\n",
      "Splitting ads for  sub-023\n",
      "9\n",
      "20526\n",
      "13389\n",
      "Segment saved: /Volumes/T7 Shield/fox/et/sub-023_tv-continental-594a5c2b/ads/2/2.mp4\n",
      "Segment saved: /Volumes/T7 Shield/fox/et/sub-023_tv-continental-594a5c2b/ads/3/3.mp4\n",
      "Segment saved: /Volumes/T7 Shield/fox/et/sub-023_tv-continental-594a5c2b/ads/4/4.mp4\n",
      "Segment saved: /Volumes/T7 Shield/fox/et/sub-023_tv-continental-594a5c2b/ads/5/5.mp4\n",
      "Segment saved: /Volumes/T7 Shield/fox/et/sub-023_tv-continental-594a5c2b/ads/7/7.mp4\n",
      "Segment saved: /Volumes/T7 Shield/fox/et/sub-023_tv-continental-594a5c2b/ads/8/8.mp4\n",
      "Warning: Duration mismatch between video segment and gaze data. Video duration: 30.026488889000007, Gaze data duration: 30.016119\n",
      "Segment saved: /Volumes/T7 Shield/fox/et/sub-023_tv-continental-594a5c2b/ads/9/9.mp4\n",
      "Segment saved: /Volumes/T7 Shield/fox/et/sub-023_tv-continental-594a5c2b/ads/10/10.mp4\n",
      "Video processing completed.\n",
      "Filtered rectangles saved to /Volumes/T7 Shield/fox/et/sub-023_tv-continental-594a5c2b/ads/2/filtered_rectangle_data.csv\n",
      "Processed AOI data saved to /Volumes/T7 Shield/fox/et/sub-023_tv-continental-594a5c2b/ads/2\n",
      "Filtered rectangles saved to /Volumes/T7 Shield/fox/et/sub-023_tv-continental-594a5c2b/ads/3/filtered_rectangle_data.csv\n",
      "Processed AOI data saved to /Volumes/T7 Shield/fox/et/sub-023_tv-continental-594a5c2b/ads/3\n",
      "Filtered rectangles saved to /Volumes/T7 Shield/fox/et/sub-023_tv-continental-594a5c2b/ads/4/filtered_rectangle_data.csv\n",
      "Processed AOI data saved to /Volumes/T7 Shield/fox/et/sub-023_tv-continental-594a5c2b/ads/4\n",
      "Filtered rectangles saved to /Volumes/T7 Shield/fox/et/sub-023_tv-continental-594a5c2b/ads/5/filtered_rectangle_data.csv\n",
      "Processed AOI data saved to /Volumes/T7 Shield/fox/et/sub-023_tv-continental-594a5c2b/ads/5\n",
      "Filtered rectangles saved to /Volumes/T7 Shield/fox/et/sub-023_tv-continental-594a5c2b/ads/7/filtered_rectangle_data.csv\n",
      "Processed AOI data saved to /Volumes/T7 Shield/fox/et/sub-023_tv-continental-594a5c2b/ads/7\n",
      "Filtered rectangles saved to /Volumes/T7 Shield/fox/et/sub-023_tv-continental-594a5c2b/ads/8/filtered_rectangle_data.csv\n",
      "Processed AOI data saved to /Volumes/T7 Shield/fox/et/sub-023_tv-continental-594a5c2b/ads/8\n",
      "Filtered rectangles saved to /Volumes/T7 Shield/fox/et/sub-023_tv-continental-594a5c2b/ads/9/filtered_rectangle_data.csv\n",
      "Processed AOI data saved to /Volumes/T7 Shield/fox/et/sub-023_tv-continental-594a5c2b/ads/9\n",
      "Filtered rectangles saved to /Volumes/T7 Shield/fox/et/sub-023_tv-continental-594a5c2b/ads/10/filtered_rectangle_data.csv\n",
      "Processed AOI data saved to /Volumes/T7 Shield/fox/et/sub-023_tv-continental-594a5c2b/ads/10\n",
      "Splitting ads for  sub-024\n",
      "CSV file not found: [Errno 2] No such file or directory: '/Volumes/T7 Shield/fox/eeg/sub-024_task-events.csv'\n",
      "Splitting ads for  sub-025\n",
      "9\n",
      "21830\n",
      "15102\n",
      "Segment saved: /Volumes/T7 Shield/fox/et/sub-025_tv-nfl-a6e3e656/ads/2/2.mp4\n",
      "Warning: Duration mismatch between video segment and gaze data. Video duration: 30.007133333000013, Gaze data duration: 29.996037\n",
      "Segment saved: /Volumes/T7 Shield/fox/et/sub-025_tv-nfl-a6e3e656/ads/3/3.mp4\n",
      "Warning: Duration mismatch between video segment and gaze data. Video duration: 75.038555556, Gaze data duration: 75.02796\n",
      "Segment saved: /Volumes/T7 Shield/fox/et/sub-025_tv-nfl-a6e3e656/ads/4/4.mp4\n",
      "Segment saved: /Volumes/T7 Shield/fox/et/sub-025_tv-nfl-a6e3e656/ads/5/5.mp4\n",
      "Segment saved: /Volumes/T7 Shield/fox/et/sub-025_tv-nfl-a6e3e656/ads/7/7.mp4\n",
      "Segment saved: /Volumes/T7 Shield/fox/et/sub-025_tv-nfl-a6e3e656/ads/8/8.mp4\n",
      "Segment saved: /Volumes/T7 Shield/fox/et/sub-025_tv-nfl-a6e3e656/ads/9/9.mp4\n",
      "Warning: Duration mismatch between video segment and gaze data. Video duration: 15.009344444000021, Gaze data duration: 14.995871\n",
      "Segment saved: /Volumes/T7 Shield/fox/et/sub-025_tv-nfl-a6e3e656/ads/10/10.mp4\n",
      "Video processing completed.\n",
      "Filtered rectangles saved to /Volumes/T7 Shield/fox/et/sub-025_tv-nfl-a6e3e656/ads/2/filtered_rectangle_data.csv\n",
      "Processed AOI data saved to /Volumes/T7 Shield/fox/et/sub-025_tv-nfl-a6e3e656/ads/2\n",
      "Filtered rectangles saved to /Volumes/T7 Shield/fox/et/sub-025_tv-nfl-a6e3e656/ads/3/filtered_rectangle_data.csv\n",
      "Processed AOI data saved to /Volumes/T7 Shield/fox/et/sub-025_tv-nfl-a6e3e656/ads/3\n",
      "Filtered rectangles saved to /Volumes/T7 Shield/fox/et/sub-025_tv-nfl-a6e3e656/ads/4/filtered_rectangle_data.csv\n",
      "Processed AOI data saved to /Volumes/T7 Shield/fox/et/sub-025_tv-nfl-a6e3e656/ads/4\n",
      "Filtered rectangles saved to /Volumes/T7 Shield/fox/et/sub-025_tv-nfl-a6e3e656/ads/5/filtered_rectangle_data.csv\n",
      "Processed AOI data saved to /Volumes/T7 Shield/fox/et/sub-025_tv-nfl-a6e3e656/ads/5\n",
      "Filtered rectangles saved to /Volumes/T7 Shield/fox/et/sub-025_tv-nfl-a6e3e656/ads/7/filtered_rectangle_data.csv\n",
      "Processed AOI data saved to /Volumes/T7 Shield/fox/et/sub-025_tv-nfl-a6e3e656/ads/7\n",
      "Filtered rectangles saved to /Volumes/T7 Shield/fox/et/sub-025_tv-nfl-a6e3e656/ads/8/filtered_rectangle_data.csv\n",
      "Processed AOI data saved to /Volumes/T7 Shield/fox/et/sub-025_tv-nfl-a6e3e656/ads/8\n",
      "Filtered rectangles saved to /Volumes/T7 Shield/fox/et/sub-025_tv-nfl-a6e3e656/ads/9/filtered_rectangle_data.csv\n",
      "Processed AOI data saved to /Volumes/T7 Shield/fox/et/sub-025_tv-nfl-a6e3e656/ads/9\n",
      "Filtered rectangles saved to /Volumes/T7 Shield/fox/et/sub-025_tv-nfl-a6e3e656/ads/10/filtered_rectangle_data.csv\n",
      "Processed AOI data saved to /Volumes/T7 Shield/fox/et/sub-025_tv-nfl-a6e3e656/ads/10\n",
      "Splitting ads for  sub-027\n",
      "9\n",
      "22339\n",
      "13739\n",
      "Segment saved: /Volumes/T7 Shield/fox/et/sub-027_tv-lego-2e4ef2bf/ads/2/2.mp4\n",
      "Segment saved: /Volumes/T7 Shield/fox/et/sub-027_tv-lego-2e4ef2bf/ads/3/3.mp4\n",
      "Segment saved: /Volumes/T7 Shield/fox/et/sub-027_tv-lego-2e4ef2bf/ads/4/4.mp4\n",
      "Segment saved: /Volumes/T7 Shield/fox/et/sub-027_tv-lego-2e4ef2bf/ads/5/5.mp4\n",
      "Segment saved: /Volumes/T7 Shield/fox/et/sub-027_tv-lego-2e4ef2bf/ads/7/7.mp4\n",
      "Segment saved: /Volumes/T7 Shield/fox/et/sub-027_tv-lego-2e4ef2bf/ads/8/8.mp4\n",
      "Segment saved: /Volumes/T7 Shield/fox/et/sub-027_tv-lego-2e4ef2bf/ads/9/9.mp4\n",
      "Segment saved: /Volumes/T7 Shield/fox/et/sub-027_tv-lego-2e4ef2bf/ads/10/10.mp4\n",
      "Video processing completed.\n",
      "Filtered rectangles saved to /Volumes/T7 Shield/fox/et/sub-027_tv-lego-2e4ef2bf/ads/2/filtered_rectangle_data.csv\n",
      "Processed AOI data saved to /Volumes/T7 Shield/fox/et/sub-027_tv-lego-2e4ef2bf/ads/2\n",
      "Filtered rectangles saved to /Volumes/T7 Shield/fox/et/sub-027_tv-lego-2e4ef2bf/ads/3/filtered_rectangle_data.csv\n",
      "Processed AOI data saved to /Volumes/T7 Shield/fox/et/sub-027_tv-lego-2e4ef2bf/ads/3\n",
      "Filtered rectangles saved to /Volumes/T7 Shield/fox/et/sub-027_tv-lego-2e4ef2bf/ads/4/filtered_rectangle_data.csv\n",
      "Processed AOI data saved to /Volumes/T7 Shield/fox/et/sub-027_tv-lego-2e4ef2bf/ads/4\n",
      "Filtered rectangles saved to /Volumes/T7 Shield/fox/et/sub-027_tv-lego-2e4ef2bf/ads/5/filtered_rectangle_data.csv\n",
      "Processed AOI data saved to /Volumes/T7 Shield/fox/et/sub-027_tv-lego-2e4ef2bf/ads/5\n",
      "Filtered rectangles saved to /Volumes/T7 Shield/fox/et/sub-027_tv-lego-2e4ef2bf/ads/7/filtered_rectangle_data.csv\n",
      "Processed AOI data saved to /Volumes/T7 Shield/fox/et/sub-027_tv-lego-2e4ef2bf/ads/7\n",
      "Filtered rectangles saved to /Volumes/T7 Shield/fox/et/sub-027_tv-lego-2e4ef2bf/ads/8/filtered_rectangle_data.csv\n",
      "Processed AOI data saved to /Volumes/T7 Shield/fox/et/sub-027_tv-lego-2e4ef2bf/ads/8\n",
      "Filtered rectangles saved to /Volumes/T7 Shield/fox/et/sub-027_tv-lego-2e4ef2bf/ads/9/filtered_rectangle_data.csv\n",
      "Processed AOI data saved to /Volumes/T7 Shield/fox/et/sub-027_tv-lego-2e4ef2bf/ads/9\n",
      "Filtered rectangles saved to /Volumes/T7 Shield/fox/et/sub-027_tv-lego-2e4ef2bf/ads/10/filtered_rectangle_data.csv\n",
      "Processed AOI data saved to /Volumes/T7 Shield/fox/et/sub-027_tv-lego-2e4ef2bf/ads/10\n",
      "Splitting ads for  sub-028\n",
      "9\n",
      "21267\n",
      "13922\n",
      "Segment saved: /Volumes/T7 Shield/fox/et/sub-028_tv-bigmood-76d32333/ads/2/2.mp4\n",
      "Segment saved: /Volumes/T7 Shield/fox/et/sub-028_tv-bigmood-76d32333/ads/3/3.mp4\n",
      "Segment saved: /Volumes/T7 Shield/fox/et/sub-028_tv-bigmood-76d32333/ads/4/4.mp4\n",
      "Segment saved: /Volumes/T7 Shield/fox/et/sub-028_tv-bigmood-76d32333/ads/5/5.mp4\n",
      "Segment saved: /Volumes/T7 Shield/fox/et/sub-028_tv-bigmood-76d32333/ads/7/7.mp4\n",
      "Segment saved: /Volumes/T7 Shield/fox/et/sub-028_tv-bigmood-76d32333/ads/8/8.mp4\n",
      "Segment saved: /Volumes/T7 Shield/fox/et/sub-028_tv-bigmood-76d32333/ads/9/9.mp4\n",
      "Segment saved: /Volumes/T7 Shield/fox/et/sub-028_tv-bigmood-76d32333/ads/10/10.mp4\n",
      "Video processing completed.\n",
      "Filtered rectangles saved to /Volumes/T7 Shield/fox/et/sub-028_tv-bigmood-76d32333/ads/2/filtered_rectangle_data.csv\n",
      "Processed AOI data saved to /Volumes/T7 Shield/fox/et/sub-028_tv-bigmood-76d32333/ads/2\n",
      "Filtered rectangles saved to /Volumes/T7 Shield/fox/et/sub-028_tv-bigmood-76d32333/ads/3/filtered_rectangle_data.csv\n",
      "Processed AOI data saved to /Volumes/T7 Shield/fox/et/sub-028_tv-bigmood-76d32333/ads/3\n",
      "Filtered rectangles saved to /Volumes/T7 Shield/fox/et/sub-028_tv-bigmood-76d32333/ads/4/filtered_rectangle_data.csv\n",
      "Processed AOI data saved to /Volumes/T7 Shield/fox/et/sub-028_tv-bigmood-76d32333/ads/4\n",
      "Filtered rectangles saved to /Volumes/T7 Shield/fox/et/sub-028_tv-bigmood-76d32333/ads/5/filtered_rectangle_data.csv\n",
      "Processed AOI data saved to /Volumes/T7 Shield/fox/et/sub-028_tv-bigmood-76d32333/ads/5\n",
      "Filtered rectangles saved to /Volumes/T7 Shield/fox/et/sub-028_tv-bigmood-76d32333/ads/7/filtered_rectangle_data.csv\n",
      "Processed AOI data saved to /Volumes/T7 Shield/fox/et/sub-028_tv-bigmood-76d32333/ads/7\n",
      "Filtered rectangles saved to /Volumes/T7 Shield/fox/et/sub-028_tv-bigmood-76d32333/ads/8/filtered_rectangle_data.csv\n",
      "Processed AOI data saved to /Volumes/T7 Shield/fox/et/sub-028_tv-bigmood-76d32333/ads/8\n",
      "Filtered rectangles saved to /Volumes/T7 Shield/fox/et/sub-028_tv-bigmood-76d32333/ads/9/filtered_rectangle_data.csv\n",
      "Processed AOI data saved to /Volumes/T7 Shield/fox/et/sub-028_tv-bigmood-76d32333/ads/9\n",
      "Filtered rectangles saved to /Volumes/T7 Shield/fox/et/sub-028_tv-bigmood-76d32333/ads/10/filtered_rectangle_data.csv\n",
      "Processed AOI data saved to /Volumes/T7 Shield/fox/et/sub-028_tv-bigmood-76d32333/ads/10\n",
      "Splitting ads for  sub-029\n",
      "9\n",
      "22246\n",
      "13284\n",
      "Segment saved: /Volumes/T7 Shield/fox/et/sub-029_tv-pickers-bf2ffb67/ads/2/2.mp4\n",
      "Segment saved: /Volumes/T7 Shield/fox/et/sub-029_tv-pickers-bf2ffb67/ads/3/3.mp4\n",
      "Segment saved: /Volumes/T7 Shield/fox/et/sub-029_tv-pickers-bf2ffb67/ads/4/4.mp4\n",
      "Segment saved: /Volumes/T7 Shield/fox/et/sub-029_tv-pickers-bf2ffb67/ads/5/5.mp4\n",
      "Segment saved: /Volumes/T7 Shield/fox/et/sub-029_tv-pickers-bf2ffb67/ads/7/7.mp4\n",
      "Segment saved: /Volumes/T7 Shield/fox/et/sub-029_tv-pickers-bf2ffb67/ads/8/8.mp4\n",
      "Segment saved: /Volumes/T7 Shield/fox/et/sub-029_tv-pickers-bf2ffb67/ads/9/9.mp4\n",
      "Segment saved: /Volumes/T7 Shield/fox/et/sub-029_tv-pickers-bf2ffb67/ads/10/10.mp4\n",
      "Video processing completed.\n",
      "Filtered rectangles saved to /Volumes/T7 Shield/fox/et/sub-029_tv-pickers-bf2ffb67/ads/2/filtered_rectangle_data.csv\n",
      "Processed AOI data saved to /Volumes/T7 Shield/fox/et/sub-029_tv-pickers-bf2ffb67/ads/2\n",
      "Filtered rectangles saved to /Volumes/T7 Shield/fox/et/sub-029_tv-pickers-bf2ffb67/ads/3/filtered_rectangle_data.csv\n",
      "Processed AOI data saved to /Volumes/T7 Shield/fox/et/sub-029_tv-pickers-bf2ffb67/ads/3\n",
      "Filtered rectangles saved to /Volumes/T7 Shield/fox/et/sub-029_tv-pickers-bf2ffb67/ads/4/filtered_rectangle_data.csv\n",
      "Processed AOI data saved to /Volumes/T7 Shield/fox/et/sub-029_tv-pickers-bf2ffb67/ads/4\n",
      "Filtered rectangles saved to /Volumes/T7 Shield/fox/et/sub-029_tv-pickers-bf2ffb67/ads/5/filtered_rectangle_data.csv\n",
      "Processed AOI data saved to /Volumes/T7 Shield/fox/et/sub-029_tv-pickers-bf2ffb67/ads/5\n",
      "Filtered rectangles saved to /Volumes/T7 Shield/fox/et/sub-029_tv-pickers-bf2ffb67/ads/7/filtered_rectangle_data.csv\n",
      "Processed AOI data saved to /Volumes/T7 Shield/fox/et/sub-029_tv-pickers-bf2ffb67/ads/7\n",
      "Filtered rectangles saved to /Volumes/T7 Shield/fox/et/sub-029_tv-pickers-bf2ffb67/ads/8/filtered_rectangle_data.csv\n",
      "Processed AOI data saved to /Volumes/T7 Shield/fox/et/sub-029_tv-pickers-bf2ffb67/ads/8\n",
      "Filtered rectangles saved to /Volumes/T7 Shield/fox/et/sub-029_tv-pickers-bf2ffb67/ads/9/filtered_rectangle_data.csv\n",
      "Processed AOI data saved to /Volumes/T7 Shield/fox/et/sub-029_tv-pickers-bf2ffb67/ads/9\n",
      "Filtered rectangles saved to /Volumes/T7 Shield/fox/et/sub-029_tv-pickers-bf2ffb67/ads/10/filtered_rectangle_data.csv\n",
      "Processed AOI data saved to /Volumes/T7 Shield/fox/et/sub-029_tv-pickers-bf2ffb67/ads/10\n",
      "Splitting ads for  sub-030\n",
      "9\n",
      "24964\n",
      "14760\n",
      "Warning: Duration mismatch between video segment and gaze data. Video duration: 30.042533333999984, Gaze data duration: 30.032013\n",
      "Segment saved: /Volumes/T7 Shield/fox/et/sub-030_tv-cnn-b8d33fbe/ads/2/2.mp4\n",
      "Segment saved: /Volumes/T7 Shield/fox/et/sub-030_tv-cnn-b8d33fbe/ads/3/3.mp4\n",
      "Segment saved: /Volumes/T7 Shield/fox/et/sub-030_tv-cnn-b8d33fbe/ads/4/4.mp4\n",
      "Segment saved: /Volumes/T7 Shield/fox/et/sub-030_tv-cnn-b8d33fbe/ads/5/5.mp4\n",
      "Segment saved: /Volumes/T7 Shield/fox/et/sub-030_tv-cnn-b8d33fbe/ads/7/7.mp4\n",
      "Segment saved: /Volumes/T7 Shield/fox/et/sub-030_tv-cnn-b8d33fbe/ads/8/8.mp4\n",
      "Segment saved: /Volumes/T7 Shield/fox/et/sub-030_tv-cnn-b8d33fbe/ads/9/9.mp4\n",
      "Segment saved: /Volumes/T7 Shield/fox/et/sub-030_tv-cnn-b8d33fbe/ads/10/10.mp4\n",
      "Video processing completed.\n",
      "Filtered rectangles saved to /Volumes/T7 Shield/fox/et/sub-030_tv-cnn-b8d33fbe/ads/2/filtered_rectangle_data.csv\n",
      "Processed AOI data saved to /Volumes/T7 Shield/fox/et/sub-030_tv-cnn-b8d33fbe/ads/2\n",
      "Filtered rectangles saved to /Volumes/T7 Shield/fox/et/sub-030_tv-cnn-b8d33fbe/ads/3/filtered_rectangle_data.csv\n",
      "Processed AOI data saved to /Volumes/T7 Shield/fox/et/sub-030_tv-cnn-b8d33fbe/ads/3\n",
      "Filtered rectangles saved to /Volumes/T7 Shield/fox/et/sub-030_tv-cnn-b8d33fbe/ads/4/filtered_rectangle_data.csv\n",
      "Processed AOI data saved to /Volumes/T7 Shield/fox/et/sub-030_tv-cnn-b8d33fbe/ads/4\n",
      "Filtered rectangles saved to /Volumes/T7 Shield/fox/et/sub-030_tv-cnn-b8d33fbe/ads/5/filtered_rectangle_data.csv\n",
      "Processed AOI data saved to /Volumes/T7 Shield/fox/et/sub-030_tv-cnn-b8d33fbe/ads/5\n",
      "Filtered rectangles saved to /Volumes/T7 Shield/fox/et/sub-030_tv-cnn-b8d33fbe/ads/7/filtered_rectangle_data.csv\n",
      "Processed AOI data saved to /Volumes/T7 Shield/fox/et/sub-030_tv-cnn-b8d33fbe/ads/7\n",
      "Filtered rectangles saved to /Volumes/T7 Shield/fox/et/sub-030_tv-cnn-b8d33fbe/ads/8/filtered_rectangle_data.csv\n",
      "Processed AOI data saved to /Volumes/T7 Shield/fox/et/sub-030_tv-cnn-b8d33fbe/ads/8\n",
      "Filtered rectangles saved to /Volumes/T7 Shield/fox/et/sub-030_tv-cnn-b8d33fbe/ads/9/filtered_rectangle_data.csv\n",
      "Processed AOI data saved to /Volumes/T7 Shield/fox/et/sub-030_tv-cnn-b8d33fbe/ads/9\n",
      "Filtered rectangles saved to /Volumes/T7 Shield/fox/et/sub-030_tv-cnn-b8d33fbe/ads/10/filtered_rectangle_data.csv\n",
      "Processed AOI data saved to /Volumes/T7 Shield/fox/et/sub-030_tv-cnn-b8d33fbe/ads/10\n",
      "Splitting ads for  sub-031\n",
      "9\n",
      "22401\n",
      "13225\n",
      "Segment saved: /Volumes/T7 Shield/fox/et/sub-031_tv-continental-8c85bd3f/ads/2/2.mp4\n",
      "Segment saved: /Volumes/T7 Shield/fox/et/sub-031_tv-continental-8c85bd3f/ads/3/3.mp4\n",
      "Segment saved: /Volumes/T7 Shield/fox/et/sub-031_tv-continental-8c85bd3f/ads/4/4.mp4\n",
      "Segment saved: /Volumes/T7 Shield/fox/et/sub-031_tv-continental-8c85bd3f/ads/5/5.mp4\n",
      "Segment saved: /Volumes/T7 Shield/fox/et/sub-031_tv-continental-8c85bd3f/ads/7/7.mp4\n",
      "Warning: Duration mismatch between video segment and gaze data. Video duration: 30.018555556000024, Gaze data duration: 30.007822\n",
      "Segment saved: /Volumes/T7 Shield/fox/et/sub-031_tv-continental-8c85bd3f/ads/8/8.mp4\n",
      "Segment saved: /Volumes/T7 Shield/fox/et/sub-031_tv-continental-8c85bd3f/ads/9/9.mp4\n",
      "Segment saved: /Volumes/T7 Shield/fox/et/sub-031_tv-continental-8c85bd3f/ads/10/10.mp4\n",
      "Video processing completed.\n",
      "Filtered rectangles saved to /Volumes/T7 Shield/fox/et/sub-031_tv-continental-8c85bd3f/ads/2/filtered_rectangle_data.csv\n",
      "Processed AOI data saved to /Volumes/T7 Shield/fox/et/sub-031_tv-continental-8c85bd3f/ads/2\n",
      "Filtered rectangles saved to /Volumes/T7 Shield/fox/et/sub-031_tv-continental-8c85bd3f/ads/3/filtered_rectangle_data.csv\n",
      "Processed AOI data saved to /Volumes/T7 Shield/fox/et/sub-031_tv-continental-8c85bd3f/ads/3\n",
      "Filtered rectangles saved to /Volumes/T7 Shield/fox/et/sub-031_tv-continental-8c85bd3f/ads/4/filtered_rectangle_data.csv\n",
      "Processed AOI data saved to /Volumes/T7 Shield/fox/et/sub-031_tv-continental-8c85bd3f/ads/4\n",
      "Filtered rectangles saved to /Volumes/T7 Shield/fox/et/sub-031_tv-continental-8c85bd3f/ads/5/filtered_rectangle_data.csv\n",
      "Processed AOI data saved to /Volumes/T7 Shield/fox/et/sub-031_tv-continental-8c85bd3f/ads/5\n",
      "Filtered rectangles saved to /Volumes/T7 Shield/fox/et/sub-031_tv-continental-8c85bd3f/ads/7/filtered_rectangle_data.csv\n",
      "Processed AOI data saved to /Volumes/T7 Shield/fox/et/sub-031_tv-continental-8c85bd3f/ads/7\n",
      "Filtered rectangles saved to /Volumes/T7 Shield/fox/et/sub-031_tv-continental-8c85bd3f/ads/8/filtered_rectangle_data.csv\n",
      "Processed AOI data saved to /Volumes/T7 Shield/fox/et/sub-031_tv-continental-8c85bd3f/ads/8\n",
      "Filtered rectangles saved to /Volumes/T7 Shield/fox/et/sub-031_tv-continental-8c85bd3f/ads/9/filtered_rectangle_data.csv\n",
      "Processed AOI data saved to /Volumes/T7 Shield/fox/et/sub-031_tv-continental-8c85bd3f/ads/9\n",
      "Filtered rectangles saved to /Volumes/T7 Shield/fox/et/sub-031_tv-continental-8c85bd3f/ads/10/filtered_rectangle_data.csv\n",
      "Processed AOI data saved to /Volumes/T7 Shield/fox/et/sub-031_tv-continental-8c85bd3f/ads/10\n",
      "Splitting ads for  sub-032\n",
      "9\n",
      "24989\n",
      "14842\n",
      "Segment saved: /Volumes/T7 Shield/fox/et/sub-032_tv-fox-b5beca97/ads/2/2.mp4\n",
      "Segment saved: /Volumes/T7 Shield/fox/et/sub-032_tv-fox-b5beca97/ads/3/3.mp4\n",
      "Segment saved: /Volumes/T7 Shield/fox/et/sub-032_tv-fox-b5beca97/ads/4/4.mp4\n",
      "Segment saved: /Volumes/T7 Shield/fox/et/sub-032_tv-fox-b5beca97/ads/5/5.mp4\n",
      "Segment saved: /Volumes/T7 Shield/fox/et/sub-032_tv-fox-b5beca97/ads/7/7.mp4\n",
      "Segment saved: /Volumes/T7 Shield/fox/et/sub-032_tv-fox-b5beca97/ads/8/8.mp4\n",
      "Segment saved: /Volumes/T7 Shield/fox/et/sub-032_tv-fox-b5beca97/ads/9/9.mp4\n",
      "Segment saved: /Volumes/T7 Shield/fox/et/sub-032_tv-fox-b5beca97/ads/10/10.mp4\n",
      "Video processing completed.\n",
      "Filtered rectangles saved to /Volumes/T7 Shield/fox/et/sub-032_tv-fox-b5beca97/ads/2/filtered_rectangle_data.csv\n",
      "Processed AOI data saved to /Volumes/T7 Shield/fox/et/sub-032_tv-fox-b5beca97/ads/2\n",
      "Filtered rectangles saved to /Volumes/T7 Shield/fox/et/sub-032_tv-fox-b5beca97/ads/3/filtered_rectangle_data.csv\n",
      "Processed AOI data saved to /Volumes/T7 Shield/fox/et/sub-032_tv-fox-b5beca97/ads/3\n",
      "Filtered rectangles saved to /Volumes/T7 Shield/fox/et/sub-032_tv-fox-b5beca97/ads/4/filtered_rectangle_data.csv\n",
      "Processed AOI data saved to /Volumes/T7 Shield/fox/et/sub-032_tv-fox-b5beca97/ads/4\n",
      "Filtered rectangles saved to /Volumes/T7 Shield/fox/et/sub-032_tv-fox-b5beca97/ads/5/filtered_rectangle_data.csv\n",
      "Processed AOI data saved to /Volumes/T7 Shield/fox/et/sub-032_tv-fox-b5beca97/ads/5\n",
      "Filtered rectangles saved to /Volumes/T7 Shield/fox/et/sub-032_tv-fox-b5beca97/ads/7/filtered_rectangle_data.csv\n",
      "Processed AOI data saved to /Volumes/T7 Shield/fox/et/sub-032_tv-fox-b5beca97/ads/7\n",
      "Filtered rectangles saved to /Volumes/T7 Shield/fox/et/sub-032_tv-fox-b5beca97/ads/8/filtered_rectangle_data.csv\n",
      "Processed AOI data saved to /Volumes/T7 Shield/fox/et/sub-032_tv-fox-b5beca97/ads/8\n",
      "Filtered rectangles saved to /Volumes/T7 Shield/fox/et/sub-032_tv-fox-b5beca97/ads/9/filtered_rectangle_data.csv\n",
      "Processed AOI data saved to /Volumes/T7 Shield/fox/et/sub-032_tv-fox-b5beca97/ads/9\n",
      "Filtered rectangles saved to /Volumes/T7 Shield/fox/et/sub-032_tv-fox-b5beca97/ads/10/filtered_rectangle_data.csv\n",
      "Processed AOI data saved to /Volumes/T7 Shield/fox/et/sub-032_tv-fox-b5beca97/ads/10\n",
      "Splitting ads for  sub-033\n",
      "9\n",
      "22711\n",
      "15130\n",
      "Segment saved: /Volumes/T7 Shield/fox/et/sub-033_tv-nfl-3d751d85/ads/2/2.mp4\n",
      "Segment saved: /Volumes/T7 Shield/fox/et/sub-033_tv-nfl-3d751d85/ads/3/3.mp4\n",
      "Segment saved: /Volumes/T7 Shield/fox/et/sub-033_tv-nfl-3d751d85/ads/4/4.mp4\n",
      "Segment saved: /Volumes/T7 Shield/fox/et/sub-033_tv-nfl-3d751d85/ads/5/5.mp4\n",
      "Segment saved: /Volumes/T7 Shield/fox/et/sub-033_tv-nfl-3d751d85/ads/7/7.mp4\n",
      "Segment saved: /Volumes/T7 Shield/fox/et/sub-033_tv-nfl-3d751d85/ads/8/8.mp4\n",
      "Segment saved: /Volumes/T7 Shield/fox/et/sub-033_tv-nfl-3d751d85/ads/9/9.mp4\n",
      "Segment saved: /Volumes/T7 Shield/fox/et/sub-033_tv-nfl-3d751d85/ads/10/10.mp4\n",
      "Video processing completed.\n",
      "Filtered rectangles saved to /Volumes/T7 Shield/fox/et/sub-033_tv-nfl-3d751d85/ads/2/filtered_rectangle_data.csv\n",
      "Processed AOI data saved to /Volumes/T7 Shield/fox/et/sub-033_tv-nfl-3d751d85/ads/2\n",
      "Filtered rectangles saved to /Volumes/T7 Shield/fox/et/sub-033_tv-nfl-3d751d85/ads/3/filtered_rectangle_data.csv\n",
      "Processed AOI data saved to /Volumes/T7 Shield/fox/et/sub-033_tv-nfl-3d751d85/ads/3\n",
      "Filtered rectangles saved to /Volumes/T7 Shield/fox/et/sub-033_tv-nfl-3d751d85/ads/4/filtered_rectangle_data.csv\n",
      "Processed AOI data saved to /Volumes/T7 Shield/fox/et/sub-033_tv-nfl-3d751d85/ads/4\n",
      "Filtered rectangles saved to /Volumes/T7 Shield/fox/et/sub-033_tv-nfl-3d751d85/ads/5/filtered_rectangle_data.csv\n",
      "Processed AOI data saved to /Volumes/T7 Shield/fox/et/sub-033_tv-nfl-3d751d85/ads/5\n",
      "Filtered rectangles saved to /Volumes/T7 Shield/fox/et/sub-033_tv-nfl-3d751d85/ads/7/filtered_rectangle_data.csv\n",
      "Processed AOI data saved to /Volumes/T7 Shield/fox/et/sub-033_tv-nfl-3d751d85/ads/7\n",
      "Filtered rectangles saved to /Volumes/T7 Shield/fox/et/sub-033_tv-nfl-3d751d85/ads/8/filtered_rectangle_data.csv\n",
      "Processed AOI data saved to /Volumes/T7 Shield/fox/et/sub-033_tv-nfl-3d751d85/ads/8\n",
      "Filtered rectangles saved to /Volumes/T7 Shield/fox/et/sub-033_tv-nfl-3d751d85/ads/9/filtered_rectangle_data.csv\n",
      "Processed AOI data saved to /Volumes/T7 Shield/fox/et/sub-033_tv-nfl-3d751d85/ads/9\n",
      "Filtered rectangles saved to /Volumes/T7 Shield/fox/et/sub-033_tv-nfl-3d751d85/ads/10/filtered_rectangle_data.csv\n",
      "Processed AOI data saved to /Volumes/T7 Shield/fox/et/sub-033_tv-nfl-3d751d85/ads/10\n",
      "Splitting ads for  sub-034\n",
      "Skipping control or youtube condition\n",
      "Splitting ads for  sub-035\n",
      "9\n",
      "22221\n",
      "13817\n",
      "Segment saved: /Volumes/T7 Shield/fox/et/sub-035_tv-lego-27d35985/ads/2/2.mp4\n",
      "Segment saved: /Volumes/T7 Shield/fox/et/sub-035_tv-lego-27d35985/ads/3/3.mp4\n",
      "Segment saved: /Volumes/T7 Shield/fox/et/sub-035_tv-lego-27d35985/ads/4/4.mp4\n",
      "Segment saved: /Volumes/T7 Shield/fox/et/sub-035_tv-lego-27d35985/ads/5/5.mp4\n",
      "Segment saved: /Volumes/T7 Shield/fox/et/sub-035_tv-lego-27d35985/ads/7/7.mp4\n",
      "Segment saved: /Volumes/T7 Shield/fox/et/sub-035_tv-lego-27d35985/ads/8/8.mp4\n",
      "Segment saved: /Volumes/T7 Shield/fox/et/sub-035_tv-lego-27d35985/ads/9/9.mp4\n",
      "Segment saved: /Volumes/T7 Shield/fox/et/sub-035_tv-lego-27d35985/ads/10/10.mp4\n",
      "Video processing completed.\n",
      "Filtered rectangles saved to /Volumes/T7 Shield/fox/et/sub-035_tv-lego-27d35985/ads/2/filtered_rectangle_data.csv\n",
      "Processed AOI data saved to /Volumes/T7 Shield/fox/et/sub-035_tv-lego-27d35985/ads/2\n",
      "Filtered rectangles saved to /Volumes/T7 Shield/fox/et/sub-035_tv-lego-27d35985/ads/3/filtered_rectangle_data.csv\n",
      "Processed AOI data saved to /Volumes/T7 Shield/fox/et/sub-035_tv-lego-27d35985/ads/3\n",
      "Filtered rectangles saved to /Volumes/T7 Shield/fox/et/sub-035_tv-lego-27d35985/ads/4/filtered_rectangle_data.csv\n",
      "Processed AOI data saved to /Volumes/T7 Shield/fox/et/sub-035_tv-lego-27d35985/ads/4\n",
      "Filtered rectangles saved to /Volumes/T7 Shield/fox/et/sub-035_tv-lego-27d35985/ads/5/filtered_rectangle_data.csv\n",
      "Processed AOI data saved to /Volumes/T7 Shield/fox/et/sub-035_tv-lego-27d35985/ads/5\n",
      "Filtered rectangles saved to /Volumes/T7 Shield/fox/et/sub-035_tv-lego-27d35985/ads/7/filtered_rectangle_data.csv\n",
      "Processed AOI data saved to /Volumes/T7 Shield/fox/et/sub-035_tv-lego-27d35985/ads/7\n",
      "Filtered rectangles saved to /Volumes/T7 Shield/fox/et/sub-035_tv-lego-27d35985/ads/8/filtered_rectangle_data.csv\n",
      "Processed AOI data saved to /Volumes/T7 Shield/fox/et/sub-035_tv-lego-27d35985/ads/8\n",
      "Filtered rectangles saved to /Volumes/T7 Shield/fox/et/sub-035_tv-lego-27d35985/ads/9/filtered_rectangle_data.csv\n",
      "Processed AOI data saved to /Volumes/T7 Shield/fox/et/sub-035_tv-lego-27d35985/ads/9\n",
      "Filtered rectangles saved to /Volumes/T7 Shield/fox/et/sub-035_tv-lego-27d35985/ads/10/filtered_rectangle_data.csv\n",
      "Processed AOI data saved to /Volumes/T7 Shield/fox/et/sub-035_tv-lego-27d35985/ads/10\n",
      "Splitting ads for  sub-036\n",
      "9\n",
      "20605\n",
      "13182\n",
      "Segment saved: /Volumes/T7 Shield/fox/et/sub-036_tv-bigmood-2a7adbc3/ads/2/2.mp4\n",
      "Segment saved: /Volumes/T7 Shield/fox/et/sub-036_tv-bigmood-2a7adbc3/ads/3/3.mp4\n",
      "Segment saved: /Volumes/T7 Shield/fox/et/sub-036_tv-bigmood-2a7adbc3/ads/4/4.mp4\n",
      "Segment saved: /Volumes/T7 Shield/fox/et/sub-036_tv-bigmood-2a7adbc3/ads/5/5.mp4\n",
      "Segment saved: /Volumes/T7 Shield/fox/et/sub-036_tv-bigmood-2a7adbc3/ads/7/7.mp4\n",
      "Segment saved: /Volumes/T7 Shield/fox/et/sub-036_tv-bigmood-2a7adbc3/ads/8/8.mp4\n",
      "Segment saved: /Volumes/T7 Shield/fox/et/sub-036_tv-bigmood-2a7adbc3/ads/9/9.mp4\n",
      "Segment saved: /Volumes/T7 Shield/fox/et/sub-036_tv-bigmood-2a7adbc3/ads/10/10.mp4\n",
      "Video processing completed.\n",
      "Filtered rectangles saved to /Volumes/T7 Shield/fox/et/sub-036_tv-bigmood-2a7adbc3/ads/2/filtered_rectangle_data.csv\n",
      "Processed AOI data saved to /Volumes/T7 Shield/fox/et/sub-036_tv-bigmood-2a7adbc3/ads/2\n",
      "Filtered rectangles saved to /Volumes/T7 Shield/fox/et/sub-036_tv-bigmood-2a7adbc3/ads/3/filtered_rectangle_data.csv\n",
      "Processed AOI data saved to /Volumes/T7 Shield/fox/et/sub-036_tv-bigmood-2a7adbc3/ads/3\n",
      "Filtered rectangles saved to /Volumes/T7 Shield/fox/et/sub-036_tv-bigmood-2a7adbc3/ads/4/filtered_rectangle_data.csv\n",
      "Processed AOI data saved to /Volumes/T7 Shield/fox/et/sub-036_tv-bigmood-2a7adbc3/ads/4\n",
      "Filtered rectangles saved to /Volumes/T7 Shield/fox/et/sub-036_tv-bigmood-2a7adbc3/ads/5/filtered_rectangle_data.csv\n",
      "Processed AOI data saved to /Volumes/T7 Shield/fox/et/sub-036_tv-bigmood-2a7adbc3/ads/5\n",
      "Filtered rectangles saved to /Volumes/T7 Shield/fox/et/sub-036_tv-bigmood-2a7adbc3/ads/7/filtered_rectangle_data.csv\n",
      "Processed AOI data saved to /Volumes/T7 Shield/fox/et/sub-036_tv-bigmood-2a7adbc3/ads/7\n",
      "Filtered rectangles saved to /Volumes/T7 Shield/fox/et/sub-036_tv-bigmood-2a7adbc3/ads/8/filtered_rectangle_data.csv\n",
      "Processed AOI data saved to /Volumes/T7 Shield/fox/et/sub-036_tv-bigmood-2a7adbc3/ads/8\n",
      "Filtered rectangles saved to /Volumes/T7 Shield/fox/et/sub-036_tv-bigmood-2a7adbc3/ads/9/filtered_rectangle_data.csv\n",
      "Processed AOI data saved to /Volumes/T7 Shield/fox/et/sub-036_tv-bigmood-2a7adbc3/ads/9\n",
      "Filtered rectangles saved to /Volumes/T7 Shield/fox/et/sub-036_tv-bigmood-2a7adbc3/ads/10/filtered_rectangle_data.csv\n",
      "Processed AOI data saved to /Volumes/T7 Shield/fox/et/sub-036_tv-bigmood-2a7adbc3/ads/10\n",
      "Splitting ads for  sub-037\n",
      "9\n",
      "21927\n",
      "13766\n",
      "Segment saved: /Volumes/T7 Shield/fox/et/sub-037_tv-pickers-f8e0659f/ads/2/2.mp4\n",
      "Segment saved: /Volumes/T7 Shield/fox/et/sub-037_tv-pickers-f8e0659f/ads/3/3.mp4\n",
      "Warning: Duration mismatch between video segment and gaze data. Video duration: 75.03077777700003, Gaze data duration: 75.020186\n",
      "Segment saved: /Volumes/T7 Shield/fox/et/sub-037_tv-pickers-f8e0659f/ads/4/4.mp4\n",
      "Segment saved: /Volumes/T7 Shield/fox/et/sub-037_tv-pickers-f8e0659f/ads/5/5.mp4\n",
      "Segment saved: /Volumes/T7 Shield/fox/et/sub-037_tv-pickers-f8e0659f/ads/7/7.mp4\n",
      "Segment saved: /Volumes/T7 Shield/fox/et/sub-037_tv-pickers-f8e0659f/ads/8/8.mp4\n",
      "Segment saved: /Volumes/T7 Shield/fox/et/sub-037_tv-pickers-f8e0659f/ads/9/9.mp4\n",
      "Segment saved: /Volumes/T7 Shield/fox/et/sub-037_tv-pickers-f8e0659f/ads/10/10.mp4\n",
      "Video processing completed.\n",
      "Filtered rectangles saved to /Volumes/T7 Shield/fox/et/sub-037_tv-pickers-f8e0659f/ads/2/filtered_rectangle_data.csv\n",
      "Processed AOI data saved to /Volumes/T7 Shield/fox/et/sub-037_tv-pickers-f8e0659f/ads/2\n",
      "Filtered rectangles saved to /Volumes/T7 Shield/fox/et/sub-037_tv-pickers-f8e0659f/ads/3/filtered_rectangle_data.csv\n",
      "Processed AOI data saved to /Volumes/T7 Shield/fox/et/sub-037_tv-pickers-f8e0659f/ads/3\n",
      "Filtered rectangles saved to /Volumes/T7 Shield/fox/et/sub-037_tv-pickers-f8e0659f/ads/4/filtered_rectangle_data.csv\n",
      "Processed AOI data saved to /Volumes/T7 Shield/fox/et/sub-037_tv-pickers-f8e0659f/ads/4\n",
      "Filtered rectangles saved to /Volumes/T7 Shield/fox/et/sub-037_tv-pickers-f8e0659f/ads/5/filtered_rectangle_data.csv\n",
      "Processed AOI data saved to /Volumes/T7 Shield/fox/et/sub-037_tv-pickers-f8e0659f/ads/5\n",
      "Filtered rectangles saved to /Volumes/T7 Shield/fox/et/sub-037_tv-pickers-f8e0659f/ads/7/filtered_rectangle_data.csv\n",
      "Processed AOI data saved to /Volumes/T7 Shield/fox/et/sub-037_tv-pickers-f8e0659f/ads/7\n",
      "Filtered rectangles saved to /Volumes/T7 Shield/fox/et/sub-037_tv-pickers-f8e0659f/ads/8/filtered_rectangle_data.csv\n",
      "Processed AOI data saved to /Volumes/T7 Shield/fox/et/sub-037_tv-pickers-f8e0659f/ads/8\n",
      "Filtered rectangles saved to /Volumes/T7 Shield/fox/et/sub-037_tv-pickers-f8e0659f/ads/9/filtered_rectangle_data.csv\n",
      "Processed AOI data saved to /Volumes/T7 Shield/fox/et/sub-037_tv-pickers-f8e0659f/ads/9\n",
      "Filtered rectangles saved to /Volumes/T7 Shield/fox/et/sub-037_tv-pickers-f8e0659f/ads/10/filtered_rectangle_data.csv\n",
      "Processed AOI data saved to /Volumes/T7 Shield/fox/et/sub-037_tv-pickers-f8e0659f/ads/10\n",
      "Splitting ads for  sub-038\n",
      "CSV file not found: [Errno 2] No such file or directory: '/Volumes/T7 Shield/fox/eeg/sub-038_task-events.csv'\n",
      "Splitting ads for  sub-039\n",
      "9\n",
      "21530\n",
      "13601\n",
      "Segment saved: /Volumes/T7 Shield/fox/et/sub-039_tv-continental-25a4dbdb/ads/2/2.mp4\n",
      "Segment saved: /Volumes/T7 Shield/fox/et/sub-039_tv-continental-25a4dbdb/ads/3/3.mp4\n",
      "Segment saved: /Volumes/T7 Shield/fox/et/sub-039_tv-continental-25a4dbdb/ads/4/4.mp4\n",
      "Segment saved: /Volumes/T7 Shield/fox/et/sub-039_tv-continental-25a4dbdb/ads/5/5.mp4\n",
      "Segment saved: /Volumes/T7 Shield/fox/et/sub-039_tv-continental-25a4dbdb/ads/7/7.mp4\n",
      "Segment saved: /Volumes/T7 Shield/fox/et/sub-039_tv-continental-25a4dbdb/ads/8/8.mp4\n",
      "Segment saved: /Volumes/T7 Shield/fox/et/sub-039_tv-continental-25a4dbdb/ads/9/9.mp4\n",
      "Segment saved: /Volumes/T7 Shield/fox/et/sub-039_tv-continental-25a4dbdb/ads/10/10.mp4\n",
      "Video processing completed.\n",
      "Filtered rectangles saved to /Volumes/T7 Shield/fox/et/sub-039_tv-continental-25a4dbdb/ads/2/filtered_rectangle_data.csv\n",
      "Processed AOI data saved to /Volumes/T7 Shield/fox/et/sub-039_tv-continental-25a4dbdb/ads/2\n",
      "Filtered rectangles saved to /Volumes/T7 Shield/fox/et/sub-039_tv-continental-25a4dbdb/ads/3/filtered_rectangle_data.csv\n",
      "Processed AOI data saved to /Volumes/T7 Shield/fox/et/sub-039_tv-continental-25a4dbdb/ads/3\n",
      "Filtered rectangles saved to /Volumes/T7 Shield/fox/et/sub-039_tv-continental-25a4dbdb/ads/4/filtered_rectangle_data.csv\n",
      "Processed AOI data saved to /Volumes/T7 Shield/fox/et/sub-039_tv-continental-25a4dbdb/ads/4\n",
      "Filtered rectangles saved to /Volumes/T7 Shield/fox/et/sub-039_tv-continental-25a4dbdb/ads/5/filtered_rectangle_data.csv\n",
      "Processed AOI data saved to /Volumes/T7 Shield/fox/et/sub-039_tv-continental-25a4dbdb/ads/5\n",
      "Filtered rectangles saved to /Volumes/T7 Shield/fox/et/sub-039_tv-continental-25a4dbdb/ads/7/filtered_rectangle_data.csv\n",
      "Processed AOI data saved to /Volumes/T7 Shield/fox/et/sub-039_tv-continental-25a4dbdb/ads/7\n",
      "Filtered rectangles saved to /Volumes/T7 Shield/fox/et/sub-039_tv-continental-25a4dbdb/ads/8/filtered_rectangle_data.csv\n",
      "Processed AOI data saved to /Volumes/T7 Shield/fox/et/sub-039_tv-continental-25a4dbdb/ads/8\n",
      "Filtered rectangles saved to /Volumes/T7 Shield/fox/et/sub-039_tv-continental-25a4dbdb/ads/9/filtered_rectangle_data.csv\n",
      "Processed AOI data saved to /Volumes/T7 Shield/fox/et/sub-039_tv-continental-25a4dbdb/ads/9\n",
      "Filtered rectangles saved to /Volumes/T7 Shield/fox/et/sub-039_tv-continental-25a4dbdb/ads/10/filtered_rectangle_data.csv\n",
      "Processed AOI data saved to /Volumes/T7 Shield/fox/et/sub-039_tv-continental-25a4dbdb/ads/10\n",
      "Splitting ads for  sub-040\n",
      "9\n",
      "24535\n",
      "15518\n",
      "Segment saved: /Volumes/T7 Shield/fox/et/sub-040_tv-nfl-527c4962/ads/2/2.mp4\n",
      "Segment saved: /Volumes/T7 Shield/fox/et/sub-040_tv-nfl-527c4962/ads/3/3.mp4\n",
      "Segment saved: /Volumes/T7 Shield/fox/et/sub-040_tv-nfl-527c4962/ads/4/4.mp4\n",
      "Segment saved: /Volumes/T7 Shield/fox/et/sub-040_tv-nfl-527c4962/ads/5/5.mp4\n",
      "Warning: Duration mismatch between video segment and gaze data. Video duration: 30.025311111000065, Gaze data duration: 30.012013\n",
      "Segment saved: /Volumes/T7 Shield/fox/et/sub-040_tv-nfl-527c4962/ads/7/7.mp4\n",
      "Segment saved: /Volumes/T7 Shield/fox/et/sub-040_tv-nfl-527c4962/ads/8/8.mp4\n",
      "Segment saved: /Volumes/T7 Shield/fox/et/sub-040_tv-nfl-527c4962/ads/9/9.mp4\n",
      "Segment saved: /Volumes/T7 Shield/fox/et/sub-040_tv-nfl-527c4962/ads/10/10.mp4\n",
      "Video processing completed.\n",
      "Filtered rectangles saved to /Volumes/T7 Shield/fox/et/sub-040_tv-nfl-527c4962/ads/2/filtered_rectangle_data.csv\n",
      "Processed AOI data saved to /Volumes/T7 Shield/fox/et/sub-040_tv-nfl-527c4962/ads/2\n",
      "Filtered rectangles saved to /Volumes/T7 Shield/fox/et/sub-040_tv-nfl-527c4962/ads/3/filtered_rectangle_data.csv\n",
      "Processed AOI data saved to /Volumes/T7 Shield/fox/et/sub-040_tv-nfl-527c4962/ads/3\n",
      "Filtered rectangles saved to /Volumes/T7 Shield/fox/et/sub-040_tv-nfl-527c4962/ads/4/filtered_rectangle_data.csv\n",
      "Processed AOI data saved to /Volumes/T7 Shield/fox/et/sub-040_tv-nfl-527c4962/ads/4\n",
      "Filtered rectangles saved to /Volumes/T7 Shield/fox/et/sub-040_tv-nfl-527c4962/ads/5/filtered_rectangle_data.csv\n",
      "Processed AOI data saved to /Volumes/T7 Shield/fox/et/sub-040_tv-nfl-527c4962/ads/5\n",
      "Filtered rectangles saved to /Volumes/T7 Shield/fox/et/sub-040_tv-nfl-527c4962/ads/7/filtered_rectangle_data.csv\n",
      "Processed AOI data saved to /Volumes/T7 Shield/fox/et/sub-040_tv-nfl-527c4962/ads/7\n",
      "Filtered rectangles saved to /Volumes/T7 Shield/fox/et/sub-040_tv-nfl-527c4962/ads/8/filtered_rectangle_data.csv\n",
      "Processed AOI data saved to /Volumes/T7 Shield/fox/et/sub-040_tv-nfl-527c4962/ads/8\n",
      "Filtered rectangles saved to /Volumes/T7 Shield/fox/et/sub-040_tv-nfl-527c4962/ads/9/filtered_rectangle_data.csv\n",
      "Processed AOI data saved to /Volumes/T7 Shield/fox/et/sub-040_tv-nfl-527c4962/ads/9\n",
      "Filtered rectangles saved to /Volumes/T7 Shield/fox/et/sub-040_tv-nfl-527c4962/ads/10/filtered_rectangle_data.csv\n",
      "Processed AOI data saved to /Volumes/T7 Shield/fox/et/sub-040_tv-nfl-527c4962/ads/10\n",
      "Splitting ads for  sub-041\n",
      "Skipping control or youtube condition\n",
      "Splitting ads for  sub-042\n",
      "Skipping control or youtube condition\n",
      "Splitting ads for  sub-043\n",
      "9\n",
      "24005\n",
      "15157\n",
      "Segment saved: /Volumes/T7 Shield/fox/et/sub-043_tv-foxnews-63621102/ads/2/2.mp4\n",
      "Segment saved: /Volumes/T7 Shield/fox/et/sub-043_tv-foxnews-63621102/ads/3/3.mp4\n",
      "Segment saved: /Volumes/T7 Shield/fox/et/sub-043_tv-foxnews-63621102/ads/4/4.mp4\n",
      "Segment saved: /Volumes/T7 Shield/fox/et/sub-043_tv-foxnews-63621102/ads/5/5.mp4\n",
      "Segment saved: /Volumes/T7 Shield/fox/et/sub-043_tv-foxnews-63621102/ads/7/7.mp4\n",
      "Segment saved: /Volumes/T7 Shield/fox/et/sub-043_tv-foxnews-63621102/ads/8/8.mp4\n",
      "Warning: Duration mismatch between video segment and gaze data. Video duration: 30.006233334000058, Gaze data duration: 29.995914\n",
      "Segment saved: /Volumes/T7 Shield/fox/et/sub-043_tv-foxnews-63621102/ads/9/9.mp4\n",
      "Segment saved: /Volumes/T7 Shield/fox/et/sub-043_tv-foxnews-63621102/ads/10/10.mp4\n",
      "Video processing completed.\n",
      "Filtered rectangles saved to /Volumes/T7 Shield/fox/et/sub-043_tv-foxnews-63621102/ads/2/filtered_rectangle_data.csv\n",
      "Processed AOI data saved to /Volumes/T7 Shield/fox/et/sub-043_tv-foxnews-63621102/ads/2\n",
      "Filtered rectangles saved to /Volumes/T7 Shield/fox/et/sub-043_tv-foxnews-63621102/ads/3/filtered_rectangle_data.csv\n",
      "Processed AOI data saved to /Volumes/T7 Shield/fox/et/sub-043_tv-foxnews-63621102/ads/3\n",
      "Filtered rectangles saved to /Volumes/T7 Shield/fox/et/sub-043_tv-foxnews-63621102/ads/4/filtered_rectangle_data.csv\n",
      "Processed AOI data saved to /Volumes/T7 Shield/fox/et/sub-043_tv-foxnews-63621102/ads/4\n",
      "Filtered rectangles saved to /Volumes/T7 Shield/fox/et/sub-043_tv-foxnews-63621102/ads/5/filtered_rectangle_data.csv\n",
      "Processed AOI data saved to /Volumes/T7 Shield/fox/et/sub-043_tv-foxnews-63621102/ads/5\n",
      "Filtered rectangles saved to /Volumes/T7 Shield/fox/et/sub-043_tv-foxnews-63621102/ads/7/filtered_rectangle_data.csv\n",
      "Processed AOI data saved to /Volumes/T7 Shield/fox/et/sub-043_tv-foxnews-63621102/ads/7\n",
      "Filtered rectangles saved to /Volumes/T7 Shield/fox/et/sub-043_tv-foxnews-63621102/ads/8/filtered_rectangle_data.csv\n",
      "Processed AOI data saved to /Volumes/T7 Shield/fox/et/sub-043_tv-foxnews-63621102/ads/8\n",
      "Filtered rectangles saved to /Volumes/T7 Shield/fox/et/sub-043_tv-foxnews-63621102/ads/9/filtered_rectangle_data.csv\n",
      "Processed AOI data saved to /Volumes/T7 Shield/fox/et/sub-043_tv-foxnews-63621102/ads/9\n",
      "Filtered rectangles saved to /Volumes/T7 Shield/fox/et/sub-043_tv-foxnews-63621102/ads/10/filtered_rectangle_data.csv\n",
      "Processed AOI data saved to /Volumes/T7 Shield/fox/et/sub-043_tv-foxnews-63621102/ads/10\n",
      "Splitting ads for  sub-044\n",
      "9\n",
      "24235\n",
      "13798\n",
      "Segment saved: /Volumes/T7 Shield/fox/et/sub-044_tv-lego-b9e2d9a7/ads/2/2.mp4\n",
      "Segment saved: /Volumes/T7 Shield/fox/et/sub-044_tv-lego-b9e2d9a7/ads/3/3.mp4\n",
      "Segment saved: /Volumes/T7 Shield/fox/et/sub-044_tv-lego-b9e2d9a7/ads/4/4.mp4\n",
      "Segment saved: /Volumes/T7 Shield/fox/et/sub-044_tv-lego-b9e2d9a7/ads/5/5.mp4\n",
      "Segment saved: /Volumes/T7 Shield/fox/et/sub-044_tv-lego-b9e2d9a7/ads/7/7.mp4\n",
      "Segment saved: /Volumes/T7 Shield/fox/et/sub-044_tv-lego-b9e2d9a7/ads/8/8.mp4\n",
      "Segment saved: /Volumes/T7 Shield/fox/et/sub-044_tv-lego-b9e2d9a7/ads/9/9.mp4\n",
      "Segment saved: /Volumes/T7 Shield/fox/et/sub-044_tv-lego-b9e2d9a7/ads/10/10.mp4\n",
      "Video processing completed.\n",
      "Filtered rectangles saved to /Volumes/T7 Shield/fox/et/sub-044_tv-lego-b9e2d9a7/ads/2/filtered_rectangle_data.csv\n",
      "Processed AOI data saved to /Volumes/T7 Shield/fox/et/sub-044_tv-lego-b9e2d9a7/ads/2\n",
      "Filtered rectangles saved to /Volumes/T7 Shield/fox/et/sub-044_tv-lego-b9e2d9a7/ads/3/filtered_rectangle_data.csv\n",
      "Processed AOI data saved to /Volumes/T7 Shield/fox/et/sub-044_tv-lego-b9e2d9a7/ads/3\n",
      "Filtered rectangles saved to /Volumes/T7 Shield/fox/et/sub-044_tv-lego-b9e2d9a7/ads/4/filtered_rectangle_data.csv\n",
      "Processed AOI data saved to /Volumes/T7 Shield/fox/et/sub-044_tv-lego-b9e2d9a7/ads/4\n",
      "Filtered rectangles saved to /Volumes/T7 Shield/fox/et/sub-044_tv-lego-b9e2d9a7/ads/5/filtered_rectangle_data.csv\n",
      "Processed AOI data saved to /Volumes/T7 Shield/fox/et/sub-044_tv-lego-b9e2d9a7/ads/5\n",
      "Filtered rectangles saved to /Volumes/T7 Shield/fox/et/sub-044_tv-lego-b9e2d9a7/ads/7/filtered_rectangle_data.csv\n",
      "Processed AOI data saved to /Volumes/T7 Shield/fox/et/sub-044_tv-lego-b9e2d9a7/ads/7\n",
      "Filtered rectangles saved to /Volumes/T7 Shield/fox/et/sub-044_tv-lego-b9e2d9a7/ads/8/filtered_rectangle_data.csv\n",
      "Processed AOI data saved to /Volumes/T7 Shield/fox/et/sub-044_tv-lego-b9e2d9a7/ads/8\n",
      "Filtered rectangles saved to /Volumes/T7 Shield/fox/et/sub-044_tv-lego-b9e2d9a7/ads/9/filtered_rectangle_data.csv\n",
      "Processed AOI data saved to /Volumes/T7 Shield/fox/et/sub-044_tv-lego-b9e2d9a7/ads/9\n",
      "Filtered rectangles saved to /Volumes/T7 Shield/fox/et/sub-044_tv-lego-b9e2d9a7/ads/10/filtered_rectangle_data.csv\n",
      "Processed AOI data saved to /Volumes/T7 Shield/fox/et/sub-044_tv-lego-b9e2d9a7/ads/10\n",
      "Splitting ads for  sub-045\n",
      "9\n",
      "22117\n",
      "13856\n",
      "Segment saved: /Volumes/T7 Shield/fox/et/sub-045_tv-bigmood-80bf8c6a/ads/2/2.mp4\n",
      "Segment saved: /Volumes/T7 Shield/fox/et/sub-045_tv-bigmood-80bf8c6a/ads/3/3.mp4\n",
      "Segment saved: /Volumes/T7 Shield/fox/et/sub-045_tv-bigmood-80bf8c6a/ads/4/4.mp4\n",
      "Segment saved: /Volumes/T7 Shield/fox/et/sub-045_tv-bigmood-80bf8c6a/ads/5/5.mp4\n",
      "Segment saved: /Volumes/T7 Shield/fox/et/sub-045_tv-bigmood-80bf8c6a/ads/7/7.mp4\n",
      "Segment saved: /Volumes/T7 Shield/fox/et/sub-045_tv-bigmood-80bf8c6a/ads/8/8.mp4\n",
      "Segment saved: /Volumes/T7 Shield/fox/et/sub-045_tv-bigmood-80bf8c6a/ads/9/9.mp4\n",
      "Segment saved: /Volumes/T7 Shield/fox/et/sub-045_tv-bigmood-80bf8c6a/ads/10/10.mp4\n",
      "Video processing completed.\n",
      "Filtered rectangles saved to /Volumes/T7 Shield/fox/et/sub-045_tv-bigmood-80bf8c6a/ads/2/filtered_rectangle_data.csv\n",
      "Processed AOI data saved to /Volumes/T7 Shield/fox/et/sub-045_tv-bigmood-80bf8c6a/ads/2\n",
      "Filtered rectangles saved to /Volumes/T7 Shield/fox/et/sub-045_tv-bigmood-80bf8c6a/ads/3/filtered_rectangle_data.csv\n",
      "Processed AOI data saved to /Volumes/T7 Shield/fox/et/sub-045_tv-bigmood-80bf8c6a/ads/3\n",
      "Filtered rectangles saved to /Volumes/T7 Shield/fox/et/sub-045_tv-bigmood-80bf8c6a/ads/4/filtered_rectangle_data.csv\n",
      "Processed AOI data saved to /Volumes/T7 Shield/fox/et/sub-045_tv-bigmood-80bf8c6a/ads/4\n",
      "Filtered rectangles saved to /Volumes/T7 Shield/fox/et/sub-045_tv-bigmood-80bf8c6a/ads/5/filtered_rectangle_data.csv\n",
      "Processed AOI data saved to /Volumes/T7 Shield/fox/et/sub-045_tv-bigmood-80bf8c6a/ads/5\n",
      "Filtered rectangles saved to /Volumes/T7 Shield/fox/et/sub-045_tv-bigmood-80bf8c6a/ads/7/filtered_rectangle_data.csv\n",
      "Processed AOI data saved to /Volumes/T7 Shield/fox/et/sub-045_tv-bigmood-80bf8c6a/ads/7\n",
      "Filtered rectangles saved to /Volumes/T7 Shield/fox/et/sub-045_tv-bigmood-80bf8c6a/ads/8/filtered_rectangle_data.csv\n",
      "Processed AOI data saved to /Volumes/T7 Shield/fox/et/sub-045_tv-bigmood-80bf8c6a/ads/8\n",
      "Filtered rectangles saved to /Volumes/T7 Shield/fox/et/sub-045_tv-bigmood-80bf8c6a/ads/9/filtered_rectangle_data.csv\n",
      "Processed AOI data saved to /Volumes/T7 Shield/fox/et/sub-045_tv-bigmood-80bf8c6a/ads/9\n",
      "Filtered rectangles saved to /Volumes/T7 Shield/fox/et/sub-045_tv-bigmood-80bf8c6a/ads/10/filtered_rectangle_data.csv\n",
      "Processed AOI data saved to /Volumes/T7 Shield/fox/et/sub-045_tv-bigmood-80bf8c6a/ads/10\n",
      "Splitting ads for  sub-046\n",
      "9\n",
      "19073\n",
      "13117\n",
      "Segment saved: /Volumes/T7 Shield/fox/et/sub-046_tv-pickers-c130f175/ads/2/2.mp4\n",
      "Warning: Duration mismatch between video segment and gaze data. Video duration: 30.003100000000018, Gaze data duration: 29.992039\n",
      "Segment saved: /Volumes/T7 Shield/fox/et/sub-046_tv-pickers-c130f175/ads/3/3.mp4\n",
      "Segment saved: /Volumes/T7 Shield/fox/et/sub-046_tv-pickers-c130f175/ads/4/4.mp4\n",
      "Segment saved: /Volumes/T7 Shield/fox/et/sub-046_tv-pickers-c130f175/ads/5/5.mp4\n",
      "Segment saved: /Volumes/T7 Shield/fox/et/sub-046_tv-pickers-c130f175/ads/7/7.mp4\n",
      "Segment saved: /Volumes/T7 Shield/fox/et/sub-046_tv-pickers-c130f175/ads/8/8.mp4\n",
      "Segment saved: /Volumes/T7 Shield/fox/et/sub-046_tv-pickers-c130f175/ads/9/9.mp4\n",
      "Segment saved: /Volumes/T7 Shield/fox/et/sub-046_tv-pickers-c130f175/ads/10/10.mp4\n",
      "Video processing completed.\n",
      "Filtered rectangles saved to /Volumes/T7 Shield/fox/et/sub-046_tv-pickers-c130f175/ads/2/filtered_rectangle_data.csv\n",
      "Processed AOI data saved to /Volumes/T7 Shield/fox/et/sub-046_tv-pickers-c130f175/ads/2\n",
      "Filtered rectangles saved to /Volumes/T7 Shield/fox/et/sub-046_tv-pickers-c130f175/ads/3/filtered_rectangle_data.csv\n",
      "Processed AOI data saved to /Volumes/T7 Shield/fox/et/sub-046_tv-pickers-c130f175/ads/3\n",
      "Filtered rectangles saved to /Volumes/T7 Shield/fox/et/sub-046_tv-pickers-c130f175/ads/4/filtered_rectangle_data.csv\n",
      "Processed AOI data saved to /Volumes/T7 Shield/fox/et/sub-046_tv-pickers-c130f175/ads/4\n",
      "Filtered rectangles saved to /Volumes/T7 Shield/fox/et/sub-046_tv-pickers-c130f175/ads/5/filtered_rectangle_data.csv\n",
      "Processed AOI data saved to /Volumes/T7 Shield/fox/et/sub-046_tv-pickers-c130f175/ads/5\n",
      "Filtered rectangles saved to /Volumes/T7 Shield/fox/et/sub-046_tv-pickers-c130f175/ads/7/filtered_rectangle_data.csv\n",
      "Processed AOI data saved to /Volumes/T7 Shield/fox/et/sub-046_tv-pickers-c130f175/ads/7\n",
      "Filtered rectangles saved to /Volumes/T7 Shield/fox/et/sub-046_tv-pickers-c130f175/ads/8/filtered_rectangle_data.csv\n",
      "Processed AOI data saved to /Volumes/T7 Shield/fox/et/sub-046_tv-pickers-c130f175/ads/8\n",
      "Filtered rectangles saved to /Volumes/T7 Shield/fox/et/sub-046_tv-pickers-c130f175/ads/9/filtered_rectangle_data.csv\n",
      "Processed AOI data saved to /Volumes/T7 Shield/fox/et/sub-046_tv-pickers-c130f175/ads/9\n",
      "Filtered rectangles saved to /Volumes/T7 Shield/fox/et/sub-046_tv-pickers-c130f175/ads/10/filtered_rectangle_data.csv\n",
      "Processed AOI data saved to /Volumes/T7 Shield/fox/et/sub-046_tv-pickers-c130f175/ads/10\n",
      "Splitting ads for  sub-047\n",
      "9\n",
      "22637\n",
      "14777\n",
      "Segment saved: /Volumes/T7 Shield/fox/et/sub-047_tv-cnn-3b19bacd/ads/2/2.mp4\n",
      "Segment saved: /Volumes/T7 Shield/fox/et/sub-047_tv-cnn-3b19bacd/ads/3/3.mp4\n",
      "Warning: Duration mismatch between video segment and gaze data. Video duration: 75.03910000000002, Gaze data duration: 75.028033\n",
      "Segment saved: /Volumes/T7 Shield/fox/et/sub-047_tv-cnn-3b19bacd/ads/4/4.mp4\n",
      "Segment saved: /Volumes/T7 Shield/fox/et/sub-047_tv-cnn-3b19bacd/ads/5/5.mp4\n",
      "Segment saved: /Volumes/T7 Shield/fox/et/sub-047_tv-cnn-3b19bacd/ads/7/7.mp4\n",
      "Segment saved: /Volumes/T7 Shield/fox/et/sub-047_tv-cnn-3b19bacd/ads/8/8.mp4\n",
      "Warning: Duration mismatch between video segment and gaze data. Video duration: 30.010311111000078, Gaze data duration: 29.995959\n",
      "Segment saved: /Volumes/T7 Shield/fox/et/sub-047_tv-cnn-3b19bacd/ads/9/9.mp4\n",
      "Segment saved: /Volumes/T7 Shield/fox/et/sub-047_tv-cnn-3b19bacd/ads/10/10.mp4\n",
      "Video processing completed.\n",
      "Filtered rectangles saved to /Volumes/T7 Shield/fox/et/sub-047_tv-cnn-3b19bacd/ads/2/filtered_rectangle_data.csv\n",
      "Processed AOI data saved to /Volumes/T7 Shield/fox/et/sub-047_tv-cnn-3b19bacd/ads/2\n",
      "Filtered rectangles saved to /Volumes/T7 Shield/fox/et/sub-047_tv-cnn-3b19bacd/ads/3/filtered_rectangle_data.csv\n",
      "Processed AOI data saved to /Volumes/T7 Shield/fox/et/sub-047_tv-cnn-3b19bacd/ads/3\n",
      "Filtered rectangles saved to /Volumes/T7 Shield/fox/et/sub-047_tv-cnn-3b19bacd/ads/4/filtered_rectangle_data.csv\n",
      "Processed AOI data saved to /Volumes/T7 Shield/fox/et/sub-047_tv-cnn-3b19bacd/ads/4\n",
      "Filtered rectangles saved to /Volumes/T7 Shield/fox/et/sub-047_tv-cnn-3b19bacd/ads/5/filtered_rectangle_data.csv\n",
      "Processed AOI data saved to /Volumes/T7 Shield/fox/et/sub-047_tv-cnn-3b19bacd/ads/5\n",
      "Filtered rectangles saved to /Volumes/T7 Shield/fox/et/sub-047_tv-cnn-3b19bacd/ads/7/filtered_rectangle_data.csv\n",
      "Processed AOI data saved to /Volumes/T7 Shield/fox/et/sub-047_tv-cnn-3b19bacd/ads/7\n",
      "Filtered rectangles saved to /Volumes/T7 Shield/fox/et/sub-047_tv-cnn-3b19bacd/ads/8/filtered_rectangle_data.csv\n",
      "Processed AOI data saved to /Volumes/T7 Shield/fox/et/sub-047_tv-cnn-3b19bacd/ads/8\n",
      "Filtered rectangles saved to /Volumes/T7 Shield/fox/et/sub-047_tv-cnn-3b19bacd/ads/9/filtered_rectangle_data.csv\n",
      "Processed AOI data saved to /Volumes/T7 Shield/fox/et/sub-047_tv-cnn-3b19bacd/ads/9\n",
      "Filtered rectangles saved to /Volumes/T7 Shield/fox/et/sub-047_tv-cnn-3b19bacd/ads/10/filtered_rectangle_data.csv\n",
      "Processed AOI data saved to /Volumes/T7 Shield/fox/et/sub-047_tv-cnn-3b19bacd/ads/10\n",
      "Splitting ads for  sub-049\n",
      "9\n",
      "22262\n",
      "14876\n",
      "Segment saved: /Volumes/T7 Shield/fox/et/sub-049_tv-fox-74761213/ads/2/2.mp4\n",
      "Segment saved: /Volumes/T7 Shield/fox/et/sub-049_tv-fox-74761213/ads/3/3.mp4\n",
      "Segment saved: /Volumes/T7 Shield/fox/et/sub-049_tv-fox-74761213/ads/4/4.mp4\n",
      "Segment saved: /Volumes/T7 Shield/fox/et/sub-049_tv-fox-74761213/ads/5/5.mp4\n",
      "Warning: Duration mismatch between video segment and gaze data. Video duration: 30.01042222199999, Gaze data duration: 29.999924\n",
      "Segment saved: /Volumes/T7 Shield/fox/et/sub-049_tv-fox-74761213/ads/7/7.mp4\n",
      "Segment saved: /Volumes/T7 Shield/fox/et/sub-049_tv-fox-74761213/ads/8/8.mp4\n",
      "Warning: Duration mismatch between video segment and gaze data. Video duration: 30.034044445000063, Gaze data duration: 30.023963\n",
      "Segment saved: /Volumes/T7 Shield/fox/et/sub-049_tv-fox-74761213/ads/9/9.mp4\n",
      "Segment saved: /Volumes/T7 Shield/fox/et/sub-049_tv-fox-74761213/ads/10/10.mp4\n",
      "Video processing completed.\n",
      "Filtered rectangles saved to /Volumes/T7 Shield/fox/et/sub-049_tv-fox-74761213/ads/2/filtered_rectangle_data.csv\n",
      "Processed AOI data saved to /Volumes/T7 Shield/fox/et/sub-049_tv-fox-74761213/ads/2\n",
      "Filtered rectangles saved to /Volumes/T7 Shield/fox/et/sub-049_tv-fox-74761213/ads/3/filtered_rectangle_data.csv\n",
      "Processed AOI data saved to /Volumes/T7 Shield/fox/et/sub-049_tv-fox-74761213/ads/3\n",
      "Filtered rectangles saved to /Volumes/T7 Shield/fox/et/sub-049_tv-fox-74761213/ads/4/filtered_rectangle_data.csv\n",
      "Processed AOI data saved to /Volumes/T7 Shield/fox/et/sub-049_tv-fox-74761213/ads/4\n",
      "Filtered rectangles saved to /Volumes/T7 Shield/fox/et/sub-049_tv-fox-74761213/ads/5/filtered_rectangle_data.csv\n",
      "Processed AOI data saved to /Volumes/T7 Shield/fox/et/sub-049_tv-fox-74761213/ads/5\n",
      "Filtered rectangles saved to /Volumes/T7 Shield/fox/et/sub-049_tv-fox-74761213/ads/7/filtered_rectangle_data.csv\n",
      "Processed AOI data saved to /Volumes/T7 Shield/fox/et/sub-049_tv-fox-74761213/ads/7\n",
      "Filtered rectangles saved to /Volumes/T7 Shield/fox/et/sub-049_tv-fox-74761213/ads/8/filtered_rectangle_data.csv\n",
      "Processed AOI data saved to /Volumes/T7 Shield/fox/et/sub-049_tv-fox-74761213/ads/8\n",
      "Filtered rectangles saved to /Volumes/T7 Shield/fox/et/sub-049_tv-fox-74761213/ads/9/filtered_rectangle_data.csv\n",
      "Processed AOI data saved to /Volumes/T7 Shield/fox/et/sub-049_tv-fox-74761213/ads/9\n",
      "Filtered rectangles saved to /Volumes/T7 Shield/fox/et/sub-049_tv-fox-74761213/ads/10/filtered_rectangle_data.csv\n",
      "Processed AOI data saved to /Volumes/T7 Shield/fox/et/sub-049_tv-fox-74761213/ads/10\n",
      "Splitting ads for  sub-053\n",
      "9\n",
      "22398\n",
      "13468\n",
      "Segment saved: /Volumes/T7 Shield/fox/et/sub-053_tv-lego-63478be7/ads/2/2.mp4\n",
      "Segment saved: /Volumes/T7 Shield/fox/et/sub-053_tv-lego-63478be7/ads/3/3.mp4\n",
      "Segment saved: /Volumes/T7 Shield/fox/et/sub-053_tv-lego-63478be7/ads/4/4.mp4\n",
      "Segment saved: /Volumes/T7 Shield/fox/et/sub-053_tv-lego-63478be7/ads/5/5.mp4\n",
      "Segment saved: /Volumes/T7 Shield/fox/et/sub-053_tv-lego-63478be7/ads/7/7.mp4\n",
      "Segment saved: /Volumes/T7 Shield/fox/et/sub-053_tv-lego-63478be7/ads/8/8.mp4\n",
      "Segment saved: /Volumes/T7 Shield/fox/et/sub-053_tv-lego-63478be7/ads/9/9.mp4\n",
      "Segment saved: /Volumes/T7 Shield/fox/et/sub-053_tv-lego-63478be7/ads/10/10.mp4\n",
      "Video processing completed.\n",
      "Filtered rectangles saved to /Volumes/T7 Shield/fox/et/sub-053_tv-lego-63478be7/ads/2/filtered_rectangle_data.csv\n",
      "Processed AOI data saved to /Volumes/T7 Shield/fox/et/sub-053_tv-lego-63478be7/ads/2\n",
      "Filtered rectangles saved to /Volumes/T7 Shield/fox/et/sub-053_tv-lego-63478be7/ads/3/filtered_rectangle_data.csv\n",
      "Processed AOI data saved to /Volumes/T7 Shield/fox/et/sub-053_tv-lego-63478be7/ads/3\n",
      "Filtered rectangles saved to /Volumes/T7 Shield/fox/et/sub-053_tv-lego-63478be7/ads/4/filtered_rectangle_data.csv\n",
      "Processed AOI data saved to /Volumes/T7 Shield/fox/et/sub-053_tv-lego-63478be7/ads/4\n",
      "Filtered rectangles saved to /Volumes/T7 Shield/fox/et/sub-053_tv-lego-63478be7/ads/5/filtered_rectangle_data.csv\n",
      "Processed AOI data saved to /Volumes/T7 Shield/fox/et/sub-053_tv-lego-63478be7/ads/5\n",
      "Filtered rectangles saved to /Volumes/T7 Shield/fox/et/sub-053_tv-lego-63478be7/ads/7/filtered_rectangle_data.csv\n",
      "Processed AOI data saved to /Volumes/T7 Shield/fox/et/sub-053_tv-lego-63478be7/ads/7\n",
      "Filtered rectangles saved to /Volumes/T7 Shield/fox/et/sub-053_tv-lego-63478be7/ads/8/filtered_rectangle_data.csv\n",
      "Processed AOI data saved to /Volumes/T7 Shield/fox/et/sub-053_tv-lego-63478be7/ads/8\n",
      "Filtered rectangles saved to /Volumes/T7 Shield/fox/et/sub-053_tv-lego-63478be7/ads/9/filtered_rectangle_data.csv\n",
      "Processed AOI data saved to /Volumes/T7 Shield/fox/et/sub-053_tv-lego-63478be7/ads/9\n",
      "Filtered rectangles saved to /Volumes/T7 Shield/fox/et/sub-053_tv-lego-63478be7/ads/10/filtered_rectangle_data.csv\n",
      "Processed AOI data saved to /Volumes/T7 Shield/fox/et/sub-053_tv-lego-63478be7/ads/10\n",
      "Splitting ads for  sub-054\n",
      "9\n",
      "22227\n",
      "13117\n",
      "Segment saved: /Volumes/T7 Shield/fox/et/sub-054_tv-pickers-49c544bb/ads/2/2.mp4\n",
      "Segment saved: /Volumes/T7 Shield/fox/et/sub-054_tv-pickers-49c544bb/ads/3/3.mp4\n",
      "Warning: Duration mismatch between video segment and gaze data. Video duration: 75.03198888900005, Gaze data duration: 75.020003\n",
      "Segment saved: /Volumes/T7 Shield/fox/et/sub-054_tv-pickers-49c544bb/ads/4/4.mp4\n",
      "Segment saved: /Volumes/T7 Shield/fox/et/sub-054_tv-pickers-49c544bb/ads/5/5.mp4\n",
      "Segment saved: /Volumes/T7 Shield/fox/et/sub-054_tv-pickers-49c544bb/ads/7/7.mp4\n",
      "Segment saved: /Volumes/T7 Shield/fox/et/sub-054_tv-pickers-49c544bb/ads/8/8.mp4\n",
      "Segment saved: /Volumes/T7 Shield/fox/et/sub-054_tv-pickers-49c544bb/ads/9/9.mp4\n",
      "Warning: Duration mismatch between video segment and gaze data. Video duration: 15.026666666999972, Gaze data duration: 15.016005\n",
      "Segment saved: /Volumes/T7 Shield/fox/et/sub-054_tv-pickers-49c544bb/ads/10/10.mp4\n",
      "Video processing completed.\n",
      "Filtered rectangles saved to /Volumes/T7 Shield/fox/et/sub-054_tv-pickers-49c544bb/ads/2/filtered_rectangle_data.csv\n",
      "Processed AOI data saved to /Volumes/T7 Shield/fox/et/sub-054_tv-pickers-49c544bb/ads/2\n",
      "Filtered rectangles saved to /Volumes/T7 Shield/fox/et/sub-054_tv-pickers-49c544bb/ads/3/filtered_rectangle_data.csv\n",
      "Processed AOI data saved to /Volumes/T7 Shield/fox/et/sub-054_tv-pickers-49c544bb/ads/3\n",
      "Filtered rectangles saved to /Volumes/T7 Shield/fox/et/sub-054_tv-pickers-49c544bb/ads/4/filtered_rectangle_data.csv\n",
      "Processed AOI data saved to /Volumes/T7 Shield/fox/et/sub-054_tv-pickers-49c544bb/ads/4\n",
      "Filtered rectangles saved to /Volumes/T7 Shield/fox/et/sub-054_tv-pickers-49c544bb/ads/5/filtered_rectangle_data.csv\n",
      "Processed AOI data saved to /Volumes/T7 Shield/fox/et/sub-054_tv-pickers-49c544bb/ads/5\n",
      "Filtered rectangles saved to /Volumes/T7 Shield/fox/et/sub-054_tv-pickers-49c544bb/ads/7/filtered_rectangle_data.csv\n",
      "Processed AOI data saved to /Volumes/T7 Shield/fox/et/sub-054_tv-pickers-49c544bb/ads/7\n",
      "Filtered rectangles saved to /Volumes/T7 Shield/fox/et/sub-054_tv-pickers-49c544bb/ads/8/filtered_rectangle_data.csv\n",
      "Processed AOI data saved to /Volumes/T7 Shield/fox/et/sub-054_tv-pickers-49c544bb/ads/8\n",
      "Filtered rectangles saved to /Volumes/T7 Shield/fox/et/sub-054_tv-pickers-49c544bb/ads/9/filtered_rectangle_data.csv\n",
      "Processed AOI data saved to /Volumes/T7 Shield/fox/et/sub-054_tv-pickers-49c544bb/ads/9\n",
      "Filtered rectangles saved to /Volumes/T7 Shield/fox/et/sub-054_tv-pickers-49c544bb/ads/10/filtered_rectangle_data.csv\n",
      "Processed AOI data saved to /Volumes/T7 Shield/fox/et/sub-054_tv-pickers-49c544bb/ads/10\n",
      "Splitting ads for  sub-055\n",
      "9\n",
      "23071\n",
      "14827\n",
      "Segment saved: /Volumes/T7 Shield/fox/et/sub-055_tv-cnn-656c583f/ads/2/2.mp4\n",
      "Segment saved: /Volumes/T7 Shield/fox/et/sub-055_tv-cnn-656c583f/ads/3/3.mp4\n",
      "Segment saved: /Volumes/T7 Shield/fox/et/sub-055_tv-cnn-656c583f/ads/4/4.mp4\n",
      "Segment saved: /Volumes/T7 Shield/fox/et/sub-055_tv-cnn-656c583f/ads/5/5.mp4\n",
      "Segment saved: /Volumes/T7 Shield/fox/et/sub-055_tv-cnn-656c583f/ads/7/7.mp4\n",
      "Segment saved: /Volumes/T7 Shield/fox/et/sub-055_tv-cnn-656c583f/ads/8/8.mp4\n",
      "Segment saved: /Volumes/T7 Shield/fox/et/sub-055_tv-cnn-656c583f/ads/9/9.mp4\n",
      "Segment saved: /Volumes/T7 Shield/fox/et/sub-055_tv-cnn-656c583f/ads/10/10.mp4\n",
      "Video processing completed.\n",
      "Filtered rectangles saved to /Volumes/T7 Shield/fox/et/sub-055_tv-cnn-656c583f/ads/2/filtered_rectangle_data.csv\n",
      "Processed AOI data saved to /Volumes/T7 Shield/fox/et/sub-055_tv-cnn-656c583f/ads/2\n",
      "Filtered rectangles saved to /Volumes/T7 Shield/fox/et/sub-055_tv-cnn-656c583f/ads/3/filtered_rectangle_data.csv\n",
      "Processed AOI data saved to /Volumes/T7 Shield/fox/et/sub-055_tv-cnn-656c583f/ads/3\n",
      "Filtered rectangles saved to /Volumes/T7 Shield/fox/et/sub-055_tv-cnn-656c583f/ads/4/filtered_rectangle_data.csv\n",
      "Processed AOI data saved to /Volumes/T7 Shield/fox/et/sub-055_tv-cnn-656c583f/ads/4\n",
      "Filtered rectangles saved to /Volumes/T7 Shield/fox/et/sub-055_tv-cnn-656c583f/ads/5/filtered_rectangle_data.csv\n",
      "Processed AOI data saved to /Volumes/T7 Shield/fox/et/sub-055_tv-cnn-656c583f/ads/5\n",
      "Filtered rectangles saved to /Volumes/T7 Shield/fox/et/sub-055_tv-cnn-656c583f/ads/7/filtered_rectangle_data.csv\n",
      "Processed AOI data saved to /Volumes/T7 Shield/fox/et/sub-055_tv-cnn-656c583f/ads/7\n",
      "Filtered rectangles saved to /Volumes/T7 Shield/fox/et/sub-055_tv-cnn-656c583f/ads/8/filtered_rectangle_data.csv\n",
      "Processed AOI data saved to /Volumes/T7 Shield/fox/et/sub-055_tv-cnn-656c583f/ads/8\n",
      "Filtered rectangles saved to /Volumes/T7 Shield/fox/et/sub-055_tv-cnn-656c583f/ads/9/filtered_rectangle_data.csv\n",
      "Processed AOI data saved to /Volumes/T7 Shield/fox/et/sub-055_tv-cnn-656c583f/ads/9\n",
      "Filtered rectangles saved to /Volumes/T7 Shield/fox/et/sub-055_tv-cnn-656c583f/ads/10/filtered_rectangle_data.csv\n",
      "Processed AOI data saved to /Volumes/T7 Shield/fox/et/sub-055_tv-cnn-656c583f/ads/10\n",
      "Splitting ads for  sub-056\n",
      "9\n",
      "21676\n",
      "13478\n",
      "Segment saved: /Volumes/T7 Shield/fox/et/sub-056_tv-continental-55b96040/ads/2/2.mp4\n",
      "Segment saved: /Volumes/T7 Shield/fox/et/sub-056_tv-continental-55b96040/ads/3/3.mp4\n",
      "Segment saved: /Volumes/T7 Shield/fox/et/sub-056_tv-continental-55b96040/ads/4/4.mp4\n",
      "Segment saved: /Volumes/T7 Shield/fox/et/sub-056_tv-continental-55b96040/ads/5/5.mp4\n",
      "Segment saved: /Volumes/T7 Shield/fox/et/sub-056_tv-continental-55b96040/ads/7/7.mp4\n",
      "Segment saved: /Volumes/T7 Shield/fox/et/sub-056_tv-continental-55b96040/ads/8/8.mp4\n",
      "Warning: Duration mismatch between video segment and gaze data. Video duration: 30.00619999999992, Gaze data duration: 29.996002\n",
      "Segment saved: /Volumes/T7 Shield/fox/et/sub-056_tv-continental-55b96040/ads/9/9.mp4\n",
      "Segment saved: /Volumes/T7 Shield/fox/et/sub-056_tv-continental-55b96040/ads/10/10.mp4\n",
      "Video processing completed.\n",
      "Filtered rectangles saved to /Volumes/T7 Shield/fox/et/sub-056_tv-continental-55b96040/ads/2/filtered_rectangle_data.csv\n",
      "Processed AOI data saved to /Volumes/T7 Shield/fox/et/sub-056_tv-continental-55b96040/ads/2\n",
      "Filtered rectangles saved to /Volumes/T7 Shield/fox/et/sub-056_tv-continental-55b96040/ads/3/filtered_rectangle_data.csv\n",
      "Processed AOI data saved to /Volumes/T7 Shield/fox/et/sub-056_tv-continental-55b96040/ads/3\n",
      "Filtered rectangles saved to /Volumes/T7 Shield/fox/et/sub-056_tv-continental-55b96040/ads/4/filtered_rectangle_data.csv\n",
      "Processed AOI data saved to /Volumes/T7 Shield/fox/et/sub-056_tv-continental-55b96040/ads/4\n",
      "Filtered rectangles saved to /Volumes/T7 Shield/fox/et/sub-056_tv-continental-55b96040/ads/5/filtered_rectangle_data.csv\n",
      "Processed AOI data saved to /Volumes/T7 Shield/fox/et/sub-056_tv-continental-55b96040/ads/5\n",
      "Filtered rectangles saved to /Volumes/T7 Shield/fox/et/sub-056_tv-continental-55b96040/ads/7/filtered_rectangle_data.csv\n",
      "Processed AOI data saved to /Volumes/T7 Shield/fox/et/sub-056_tv-continental-55b96040/ads/7\n",
      "Filtered rectangles saved to /Volumes/T7 Shield/fox/et/sub-056_tv-continental-55b96040/ads/8/filtered_rectangle_data.csv\n",
      "Processed AOI data saved to /Volumes/T7 Shield/fox/et/sub-056_tv-continental-55b96040/ads/8\n",
      "Filtered rectangles saved to /Volumes/T7 Shield/fox/et/sub-056_tv-continental-55b96040/ads/9/filtered_rectangle_data.csv\n",
      "Processed AOI data saved to /Volumes/T7 Shield/fox/et/sub-056_tv-continental-55b96040/ads/9\n",
      "Filtered rectangles saved to /Volumes/T7 Shield/fox/et/sub-056_tv-continental-55b96040/ads/10/filtered_rectangle_data.csv\n",
      "Processed AOI data saved to /Volumes/T7 Shield/fox/et/sub-056_tv-continental-55b96040/ads/10\n",
      "Splitting ads for  sub-057\n",
      "9\n",
      "23576\n",
      "15709\n",
      "Segment saved: /Volumes/T7 Shield/fox/et/sub-057_tv-nfl-c05e3fbd/ads/2/2.mp4\n",
      "Segment saved: /Volumes/T7 Shield/fox/et/sub-057_tv-nfl-c05e3fbd/ads/3/3.mp4\n",
      "Segment saved: /Volumes/T7 Shield/fox/et/sub-057_tv-nfl-c05e3fbd/ads/4/4.mp4\n",
      "Segment saved: /Volumes/T7 Shield/fox/et/sub-057_tv-nfl-c05e3fbd/ads/5/5.mp4\n",
      "Segment saved: /Volumes/T7 Shield/fox/et/sub-057_tv-nfl-c05e3fbd/ads/7/7.mp4\n",
      "Segment saved: /Volumes/T7 Shield/fox/et/sub-057_tv-nfl-c05e3fbd/ads/8/8.mp4\n",
      "Segment saved: /Volumes/T7 Shield/fox/et/sub-057_tv-nfl-c05e3fbd/ads/9/9.mp4\n",
      "Segment saved: /Volumes/T7 Shield/fox/et/sub-057_tv-nfl-c05e3fbd/ads/10/10.mp4\n",
      "Video processing completed.\n",
      "Filtered rectangles saved to /Volumes/T7 Shield/fox/et/sub-057_tv-nfl-c05e3fbd/ads/2/filtered_rectangle_data.csv\n",
      "Processed AOI data saved to /Volumes/T7 Shield/fox/et/sub-057_tv-nfl-c05e3fbd/ads/2\n",
      "Filtered rectangles saved to /Volumes/T7 Shield/fox/et/sub-057_tv-nfl-c05e3fbd/ads/3/filtered_rectangle_data.csv\n",
      "Processed AOI data saved to /Volumes/T7 Shield/fox/et/sub-057_tv-nfl-c05e3fbd/ads/3\n",
      "Filtered rectangles saved to /Volumes/T7 Shield/fox/et/sub-057_tv-nfl-c05e3fbd/ads/4/filtered_rectangle_data.csv\n",
      "Processed AOI data saved to /Volumes/T7 Shield/fox/et/sub-057_tv-nfl-c05e3fbd/ads/4\n",
      "Filtered rectangles saved to /Volumes/T7 Shield/fox/et/sub-057_tv-nfl-c05e3fbd/ads/5/filtered_rectangle_data.csv\n",
      "Processed AOI data saved to /Volumes/T7 Shield/fox/et/sub-057_tv-nfl-c05e3fbd/ads/5\n",
      "Filtered rectangles saved to /Volumes/T7 Shield/fox/et/sub-057_tv-nfl-c05e3fbd/ads/7/filtered_rectangle_data.csv\n",
      "Processed AOI data saved to /Volumes/T7 Shield/fox/et/sub-057_tv-nfl-c05e3fbd/ads/7\n",
      "Filtered rectangles saved to /Volumes/T7 Shield/fox/et/sub-057_tv-nfl-c05e3fbd/ads/8/filtered_rectangle_data.csv\n",
      "Processed AOI data saved to /Volumes/T7 Shield/fox/et/sub-057_tv-nfl-c05e3fbd/ads/8\n",
      "Filtered rectangles saved to /Volumes/T7 Shield/fox/et/sub-057_tv-nfl-c05e3fbd/ads/9/filtered_rectangle_data.csv\n",
      "Processed AOI data saved to /Volumes/T7 Shield/fox/et/sub-057_tv-nfl-c05e3fbd/ads/9\n",
      "Filtered rectangles saved to /Volumes/T7 Shield/fox/et/sub-057_tv-nfl-c05e3fbd/ads/10/filtered_rectangle_data.csv\n",
      "Processed AOI data saved to /Volumes/T7 Shield/fox/et/sub-057_tv-nfl-c05e3fbd/ads/10\n",
      "Splitting ads for  sub-058\n",
      "Skipping control or youtube condition\n",
      "Splitting ads for  sub-060\n",
      "9\n",
      "21188\n",
      "13125\n",
      "Segment saved: /Volumes/T7 Shield/fox/et/sub-060_tv-bigmood-81f062b9/ads/2/2.mp4\n",
      "Segment saved: /Volumes/T7 Shield/fox/et/sub-060_tv-bigmood-81f062b9/ads/3/3.mp4\n",
      "Segment saved: /Volumes/T7 Shield/fox/et/sub-060_tv-bigmood-81f062b9/ads/4/4.mp4\n",
      "Warning: Duration mismatch between video segment and gaze data. Video duration: 15.00398888899997, Gaze data duration: 14.992069\n",
      "Segment saved: /Volumes/T7 Shield/fox/et/sub-060_tv-bigmood-81f062b9/ads/5/5.mp4\n",
      "Segment saved: /Volumes/T7 Shield/fox/et/sub-060_tv-bigmood-81f062b9/ads/7/7.mp4\n",
      "Segment saved: /Volumes/T7 Shield/fox/et/sub-060_tv-bigmood-81f062b9/ads/8/8.mp4\n",
      "Segment saved: /Volumes/T7 Shield/fox/et/sub-060_tv-bigmood-81f062b9/ads/9/9.mp4\n",
      "Segment saved: /Volumes/T7 Shield/fox/et/sub-060_tv-bigmood-81f062b9/ads/10/10.mp4\n",
      "Video processing completed.\n",
      "Filtered rectangles saved to /Volumes/T7 Shield/fox/et/sub-060_tv-bigmood-81f062b9/ads/2/filtered_rectangle_data.csv\n",
      "Processed AOI data saved to /Volumes/T7 Shield/fox/et/sub-060_tv-bigmood-81f062b9/ads/2\n",
      "Filtered rectangles saved to /Volumes/T7 Shield/fox/et/sub-060_tv-bigmood-81f062b9/ads/3/filtered_rectangle_data.csv\n",
      "Processed AOI data saved to /Volumes/T7 Shield/fox/et/sub-060_tv-bigmood-81f062b9/ads/3\n",
      "Filtered rectangles saved to /Volumes/T7 Shield/fox/et/sub-060_tv-bigmood-81f062b9/ads/4/filtered_rectangle_data.csv\n",
      "Processed AOI data saved to /Volumes/T7 Shield/fox/et/sub-060_tv-bigmood-81f062b9/ads/4\n",
      "Filtered rectangles saved to /Volumes/T7 Shield/fox/et/sub-060_tv-bigmood-81f062b9/ads/5/filtered_rectangle_data.csv\n",
      "Processed AOI data saved to /Volumes/T7 Shield/fox/et/sub-060_tv-bigmood-81f062b9/ads/5\n",
      "Filtered rectangles saved to /Volumes/T7 Shield/fox/et/sub-060_tv-bigmood-81f062b9/ads/7/filtered_rectangle_data.csv\n",
      "Processed AOI data saved to /Volumes/T7 Shield/fox/et/sub-060_tv-bigmood-81f062b9/ads/7\n",
      "Filtered rectangles saved to /Volumes/T7 Shield/fox/et/sub-060_tv-bigmood-81f062b9/ads/8/filtered_rectangle_data.csv\n",
      "Processed AOI data saved to /Volumes/T7 Shield/fox/et/sub-060_tv-bigmood-81f062b9/ads/8\n",
      "Filtered rectangles saved to /Volumes/T7 Shield/fox/et/sub-060_tv-bigmood-81f062b9/ads/9/filtered_rectangle_data.csv\n",
      "Processed AOI data saved to /Volumes/T7 Shield/fox/et/sub-060_tv-bigmood-81f062b9/ads/9\n",
      "Filtered rectangles saved to /Volumes/T7 Shield/fox/et/sub-060_tv-bigmood-81f062b9/ads/10/filtered_rectangle_data.csv\n",
      "Processed AOI data saved to /Volumes/T7 Shield/fox/et/sub-060_tv-bigmood-81f062b9/ads/10\n",
      "Splitting ads for  sub-062\n",
      "9\n",
      "26985\n",
      "15559\n",
      "Segment saved: /Volumes/T7 Shield/fox/et/sub-062_tv-cnn-fdc95126/ads/2/2.mp4\n",
      "Segment saved: /Volumes/T7 Shield/fox/et/sub-062_tv-cnn-fdc95126/ads/3/3.mp4\n",
      "Segment saved: /Volumes/T7 Shield/fox/et/sub-062_tv-cnn-fdc95126/ads/4/4.mp4\n",
      "Segment saved: /Volumes/T7 Shield/fox/et/sub-062_tv-cnn-fdc95126/ads/5/5.mp4\n",
      "Segment saved: /Volumes/T7 Shield/fox/et/sub-062_tv-cnn-fdc95126/ads/7/7.mp4\n",
      "Segment saved: /Volumes/T7 Shield/fox/et/sub-062_tv-cnn-fdc95126/ads/8/8.mp4\n",
      "Segment saved: /Volumes/T7 Shield/fox/et/sub-062_tv-cnn-fdc95126/ads/9/9.mp4\n",
      "Warning: Duration mismatch between video segment and gaze data. Video duration: 15.002822221999963, Gaze data duration: 14.991988\n",
      "Segment saved: /Volumes/T7 Shield/fox/et/sub-062_tv-cnn-fdc95126/ads/10/10.mp4\n",
      "Video processing completed.\n",
      "Filtered rectangles saved to /Volumes/T7 Shield/fox/et/sub-062_tv-cnn-fdc95126/ads/2/filtered_rectangle_data.csv\n",
      "Processed AOI data saved to /Volumes/T7 Shield/fox/et/sub-062_tv-cnn-fdc95126/ads/2\n",
      "Filtered rectangles saved to /Volumes/T7 Shield/fox/et/sub-062_tv-cnn-fdc95126/ads/3/filtered_rectangle_data.csv\n",
      "Processed AOI data saved to /Volumes/T7 Shield/fox/et/sub-062_tv-cnn-fdc95126/ads/3\n",
      "Filtered rectangles saved to /Volumes/T7 Shield/fox/et/sub-062_tv-cnn-fdc95126/ads/4/filtered_rectangle_data.csv\n",
      "Processed AOI data saved to /Volumes/T7 Shield/fox/et/sub-062_tv-cnn-fdc95126/ads/4\n",
      "Filtered rectangles saved to /Volumes/T7 Shield/fox/et/sub-062_tv-cnn-fdc95126/ads/5/filtered_rectangle_data.csv\n",
      "Processed AOI data saved to /Volumes/T7 Shield/fox/et/sub-062_tv-cnn-fdc95126/ads/5\n",
      "Filtered rectangles saved to /Volumes/T7 Shield/fox/et/sub-062_tv-cnn-fdc95126/ads/7/filtered_rectangle_data.csv\n",
      "Processed AOI data saved to /Volumes/T7 Shield/fox/et/sub-062_tv-cnn-fdc95126/ads/7\n",
      "Filtered rectangles saved to /Volumes/T7 Shield/fox/et/sub-062_tv-cnn-fdc95126/ads/8/filtered_rectangle_data.csv\n",
      "Processed AOI data saved to /Volumes/T7 Shield/fox/et/sub-062_tv-cnn-fdc95126/ads/8\n",
      "Filtered rectangles saved to /Volumes/T7 Shield/fox/et/sub-062_tv-cnn-fdc95126/ads/9/filtered_rectangle_data.csv\n",
      "Processed AOI data saved to /Volumes/T7 Shield/fox/et/sub-062_tv-cnn-fdc95126/ads/9\n",
      "Filtered rectangles saved to /Volumes/T7 Shield/fox/et/sub-062_tv-cnn-fdc95126/ads/10/filtered_rectangle_data.csv\n",
      "Processed AOI data saved to /Volumes/T7 Shield/fox/et/sub-062_tv-cnn-fdc95126/ads/10\n",
      "Splitting ads for  sub-063\n",
      "CSV file not found: [Errno 2] No such file or directory: '/Volumes/T7 Shield/fox/eeg/sub-063_task-events.csv'\n",
      "Splitting ads for  sub-064\n",
      "Skipping control or youtube condition\n",
      "Splitting ads for  sub-066\n",
      "9\n",
      "26815\n",
      "14562\n",
      "Segment saved: /Volumes/T7 Shield/fox/et/sub-066_tv-bigmood-9d2e3954/ads/2/2.mp4\n",
      "Segment saved: /Volumes/T7 Shield/fox/et/sub-066_tv-bigmood-9d2e3954/ads/3/3.mp4\n",
      "Segment saved: /Volumes/T7 Shield/fox/et/sub-066_tv-bigmood-9d2e3954/ads/4/4.mp4\n",
      "Segment saved: /Volumes/T7 Shield/fox/et/sub-066_tv-bigmood-9d2e3954/ads/5/5.mp4\n",
      "Segment saved: /Volumes/T7 Shield/fox/et/sub-066_tv-bigmood-9d2e3954/ads/7/7.mp4\n",
      "Segment saved: /Volumes/T7 Shield/fox/et/sub-066_tv-bigmood-9d2e3954/ads/8/8.mp4\n",
      "Segment saved: /Volumes/T7 Shield/fox/et/sub-066_tv-bigmood-9d2e3954/ads/9/9.mp4\n",
      "Segment saved: /Volumes/T7 Shield/fox/et/sub-066_tv-bigmood-9d2e3954/ads/10/10.mp4\n",
      "Video processing completed.\n",
      "Filtered rectangles saved to /Volumes/T7 Shield/fox/et/sub-066_tv-bigmood-9d2e3954/ads/2/filtered_rectangle_data.csv\n",
      "Processed AOI data saved to /Volumes/T7 Shield/fox/et/sub-066_tv-bigmood-9d2e3954/ads/2\n",
      "Filtered rectangles saved to /Volumes/T7 Shield/fox/et/sub-066_tv-bigmood-9d2e3954/ads/3/filtered_rectangle_data.csv\n",
      "Processed AOI data saved to /Volumes/T7 Shield/fox/et/sub-066_tv-bigmood-9d2e3954/ads/3\n",
      "Filtered rectangles saved to /Volumes/T7 Shield/fox/et/sub-066_tv-bigmood-9d2e3954/ads/4/filtered_rectangle_data.csv\n",
      "Processed AOI data saved to /Volumes/T7 Shield/fox/et/sub-066_tv-bigmood-9d2e3954/ads/4\n",
      "Filtered rectangles saved to /Volumes/T7 Shield/fox/et/sub-066_tv-bigmood-9d2e3954/ads/5/filtered_rectangle_data.csv\n",
      "Processed AOI data saved to /Volumes/T7 Shield/fox/et/sub-066_tv-bigmood-9d2e3954/ads/5\n",
      "Filtered rectangles saved to /Volumes/T7 Shield/fox/et/sub-066_tv-bigmood-9d2e3954/ads/7/filtered_rectangle_data.csv\n",
      "Processed AOI data saved to /Volumes/T7 Shield/fox/et/sub-066_tv-bigmood-9d2e3954/ads/7\n",
      "Filtered rectangles saved to /Volumes/T7 Shield/fox/et/sub-066_tv-bigmood-9d2e3954/ads/8/filtered_rectangle_data.csv\n",
      "Processed AOI data saved to /Volumes/T7 Shield/fox/et/sub-066_tv-bigmood-9d2e3954/ads/8\n",
      "Filtered rectangles saved to /Volumes/T7 Shield/fox/et/sub-066_tv-bigmood-9d2e3954/ads/9/filtered_rectangle_data.csv\n",
      "Processed AOI data saved to /Volumes/T7 Shield/fox/et/sub-066_tv-bigmood-9d2e3954/ads/9\n",
      "Filtered rectangles saved to /Volumes/T7 Shield/fox/et/sub-066_tv-bigmood-9d2e3954/ads/10/filtered_rectangle_data.csv\n",
      "Processed AOI data saved to /Volumes/T7 Shield/fox/et/sub-066_tv-bigmood-9d2e3954/ads/10\n",
      "Splitting ads for  sub-067\n",
      "9\n",
      "23168\n",
      "16665\n",
      "Segment saved: /Volumes/T7 Shield/fox/et/sub-067_tv-nfl-9bf4ae0a/ads/2/2.mp4\n",
      "Segment saved: /Volumes/T7 Shield/fox/et/sub-067_tv-nfl-9bf4ae0a/ads/3/3.mp4\n",
      "Segment saved: /Volumes/T7 Shield/fox/et/sub-067_tv-nfl-9bf4ae0a/ads/4/4.mp4\n",
      "Segment saved: /Volumes/T7 Shield/fox/et/sub-067_tv-nfl-9bf4ae0a/ads/5/5.mp4\n",
      "Segment saved: /Volumes/T7 Shield/fox/et/sub-067_tv-nfl-9bf4ae0a/ads/7/7.mp4\n",
      "Segment saved: /Volumes/T7 Shield/fox/et/sub-067_tv-nfl-9bf4ae0a/ads/8/8.mp4\n",
      "Segment saved: /Volumes/T7 Shield/fox/et/sub-067_tv-nfl-9bf4ae0a/ads/9/9.mp4\n",
      "Warning: Duration mismatch between video segment and gaze data. Video duration: 15.024066665999953, Gaze data duration: 15.011919\n",
      "Segment saved: /Volumes/T7 Shield/fox/et/sub-067_tv-nfl-9bf4ae0a/ads/10/10.mp4\n",
      "Video processing completed.\n",
      "Filtered rectangles saved to /Volumes/T7 Shield/fox/et/sub-067_tv-nfl-9bf4ae0a/ads/2/filtered_rectangle_data.csv\n",
      "Processed AOI data saved to /Volumes/T7 Shield/fox/et/sub-067_tv-nfl-9bf4ae0a/ads/2\n",
      "Filtered rectangles saved to /Volumes/T7 Shield/fox/et/sub-067_tv-nfl-9bf4ae0a/ads/3/filtered_rectangle_data.csv\n",
      "Processed AOI data saved to /Volumes/T7 Shield/fox/et/sub-067_tv-nfl-9bf4ae0a/ads/3\n",
      "Filtered rectangles saved to /Volumes/T7 Shield/fox/et/sub-067_tv-nfl-9bf4ae0a/ads/4/filtered_rectangle_data.csv\n",
      "Processed AOI data saved to /Volumes/T7 Shield/fox/et/sub-067_tv-nfl-9bf4ae0a/ads/4\n",
      "Filtered rectangles saved to /Volumes/T7 Shield/fox/et/sub-067_tv-nfl-9bf4ae0a/ads/5/filtered_rectangle_data.csv\n",
      "Processed AOI data saved to /Volumes/T7 Shield/fox/et/sub-067_tv-nfl-9bf4ae0a/ads/5\n",
      "Filtered rectangles saved to /Volumes/T7 Shield/fox/et/sub-067_tv-nfl-9bf4ae0a/ads/7/filtered_rectangle_data.csv\n",
      "Processed AOI data saved to /Volumes/T7 Shield/fox/et/sub-067_tv-nfl-9bf4ae0a/ads/7\n",
      "Filtered rectangles saved to /Volumes/T7 Shield/fox/et/sub-067_tv-nfl-9bf4ae0a/ads/8/filtered_rectangle_data.csv\n",
      "Processed AOI data saved to /Volumes/T7 Shield/fox/et/sub-067_tv-nfl-9bf4ae0a/ads/8\n",
      "Filtered rectangles saved to /Volumes/T7 Shield/fox/et/sub-067_tv-nfl-9bf4ae0a/ads/9/filtered_rectangle_data.csv\n",
      "Processed AOI data saved to /Volumes/T7 Shield/fox/et/sub-067_tv-nfl-9bf4ae0a/ads/9\n",
      "Filtered rectangles saved to /Volumes/T7 Shield/fox/et/sub-067_tv-nfl-9bf4ae0a/ads/10/filtered_rectangle_data.csv\n",
      "Processed AOI data saved to /Volumes/T7 Shield/fox/et/sub-067_tv-nfl-9bf4ae0a/ads/10\n",
      "Splitting ads for  sub-068\n",
      "9\n",
      "24046\n",
      "14661\n",
      "Segment saved: /Volumes/T7 Shield/fox/et/sub-068_tv-pickers-a2a4a067/ads/2/2.mp4\n",
      "Segment saved: /Volumes/T7 Shield/fox/et/sub-068_tv-pickers-a2a4a067/ads/3/3.mp4\n",
      "Segment saved: /Volumes/T7 Shield/fox/et/sub-068_tv-pickers-a2a4a067/ads/4/4.mp4\n",
      "Segment saved: /Volumes/T7 Shield/fox/et/sub-068_tv-pickers-a2a4a067/ads/5/5.mp4\n",
      "Segment saved: /Volumes/T7 Shield/fox/et/sub-068_tv-pickers-a2a4a067/ads/7/7.mp4\n",
      "Segment saved: /Volumes/T7 Shield/fox/et/sub-068_tv-pickers-a2a4a067/ads/8/8.mp4\n",
      "Segment saved: /Volumes/T7 Shield/fox/et/sub-068_tv-pickers-a2a4a067/ads/9/9.mp4\n",
      "Segment saved: /Volumes/T7 Shield/fox/et/sub-068_tv-pickers-a2a4a067/ads/10/10.mp4\n",
      "Video processing completed.\n",
      "Filtered rectangles saved to /Volumes/T7 Shield/fox/et/sub-068_tv-pickers-a2a4a067/ads/2/filtered_rectangle_data.csv\n",
      "Processed AOI data saved to /Volumes/T7 Shield/fox/et/sub-068_tv-pickers-a2a4a067/ads/2\n",
      "Filtered rectangles saved to /Volumes/T7 Shield/fox/et/sub-068_tv-pickers-a2a4a067/ads/3/filtered_rectangle_data.csv\n",
      "Processed AOI data saved to /Volumes/T7 Shield/fox/et/sub-068_tv-pickers-a2a4a067/ads/3\n",
      "Filtered rectangles saved to /Volumes/T7 Shield/fox/et/sub-068_tv-pickers-a2a4a067/ads/4/filtered_rectangle_data.csv\n",
      "Processed AOI data saved to /Volumes/T7 Shield/fox/et/sub-068_tv-pickers-a2a4a067/ads/4\n",
      "Filtered rectangles saved to /Volumes/T7 Shield/fox/et/sub-068_tv-pickers-a2a4a067/ads/5/filtered_rectangle_data.csv\n",
      "Processed AOI data saved to /Volumes/T7 Shield/fox/et/sub-068_tv-pickers-a2a4a067/ads/5\n",
      "Filtered rectangles saved to /Volumes/T7 Shield/fox/et/sub-068_tv-pickers-a2a4a067/ads/7/filtered_rectangle_data.csv\n",
      "Processed AOI data saved to /Volumes/T7 Shield/fox/et/sub-068_tv-pickers-a2a4a067/ads/7\n",
      "Filtered rectangles saved to /Volumes/T7 Shield/fox/et/sub-068_tv-pickers-a2a4a067/ads/8/filtered_rectangle_data.csv\n",
      "Processed AOI data saved to /Volumes/T7 Shield/fox/et/sub-068_tv-pickers-a2a4a067/ads/8\n",
      "Filtered rectangles saved to /Volumes/T7 Shield/fox/et/sub-068_tv-pickers-a2a4a067/ads/9/filtered_rectangle_data.csv\n",
      "Processed AOI data saved to /Volumes/T7 Shield/fox/et/sub-068_tv-pickers-a2a4a067/ads/9\n",
      "Filtered rectangles saved to /Volumes/T7 Shield/fox/et/sub-068_tv-pickers-a2a4a067/ads/10/filtered_rectangle_data.csv\n",
      "Processed AOI data saved to /Volumes/T7 Shield/fox/et/sub-068_tv-pickers-a2a4a067/ads/10\n",
      "Splitting ads for  sub-069\n",
      "9\n",
      "24598\n",
      "15516\n",
      "Segment saved: /Volumes/T7 Shield/fox/et/sub-069_tv-cnn-0225c103/ads/2/2.mp4\n",
      "Segment saved: /Volumes/T7 Shield/fox/et/sub-069_tv-cnn-0225c103/ads/3/3.mp4\n",
      "Segment saved: /Volumes/T7 Shield/fox/et/sub-069_tv-cnn-0225c103/ads/4/4.mp4\n",
      "Segment saved: /Volumes/T7 Shield/fox/et/sub-069_tv-cnn-0225c103/ads/5/5.mp4\n",
      "Segment saved: /Volumes/T7 Shield/fox/et/sub-069_tv-cnn-0225c103/ads/7/7.mp4\n",
      "Segment saved: /Volumes/T7 Shield/fox/et/sub-069_tv-cnn-0225c103/ads/8/8.mp4\n",
      "Segment saved: /Volumes/T7 Shield/fox/et/sub-069_tv-cnn-0225c103/ads/9/9.mp4\n",
      "Segment saved: /Volumes/T7 Shield/fox/et/sub-069_tv-cnn-0225c103/ads/10/10.mp4\n",
      "Video processing completed.\n",
      "Filtered rectangles saved to /Volumes/T7 Shield/fox/et/sub-069_tv-cnn-0225c103/ads/2/filtered_rectangle_data.csv\n",
      "Processed AOI data saved to /Volumes/T7 Shield/fox/et/sub-069_tv-cnn-0225c103/ads/2\n",
      "Filtered rectangles saved to /Volumes/T7 Shield/fox/et/sub-069_tv-cnn-0225c103/ads/3/filtered_rectangle_data.csv\n",
      "Processed AOI data saved to /Volumes/T7 Shield/fox/et/sub-069_tv-cnn-0225c103/ads/3\n",
      "Filtered rectangles saved to /Volumes/T7 Shield/fox/et/sub-069_tv-cnn-0225c103/ads/4/filtered_rectangle_data.csv\n",
      "Processed AOI data saved to /Volumes/T7 Shield/fox/et/sub-069_tv-cnn-0225c103/ads/4\n",
      "Filtered rectangles saved to /Volumes/T7 Shield/fox/et/sub-069_tv-cnn-0225c103/ads/5/filtered_rectangle_data.csv\n",
      "Processed AOI data saved to /Volumes/T7 Shield/fox/et/sub-069_tv-cnn-0225c103/ads/5\n",
      "Filtered rectangles saved to /Volumes/T7 Shield/fox/et/sub-069_tv-cnn-0225c103/ads/7/filtered_rectangle_data.csv\n",
      "Processed AOI data saved to /Volumes/T7 Shield/fox/et/sub-069_tv-cnn-0225c103/ads/7\n",
      "Filtered rectangles saved to /Volumes/T7 Shield/fox/et/sub-069_tv-cnn-0225c103/ads/8/filtered_rectangle_data.csv\n",
      "Processed AOI data saved to /Volumes/T7 Shield/fox/et/sub-069_tv-cnn-0225c103/ads/8\n",
      "Filtered rectangles saved to /Volumes/T7 Shield/fox/et/sub-069_tv-cnn-0225c103/ads/9/filtered_rectangle_data.csv\n",
      "Processed AOI data saved to /Volumes/T7 Shield/fox/et/sub-069_tv-cnn-0225c103/ads/9\n",
      "Filtered rectangles saved to /Volumes/T7 Shield/fox/et/sub-069_tv-cnn-0225c103/ads/10/filtered_rectangle_data.csv\n",
      "Processed AOI data saved to /Volumes/T7 Shield/fox/et/sub-069_tv-cnn-0225c103/ads/10\n",
      "Splitting ads for  sub-071\n",
      "9\n",
      "23266\n",
      "14100\n",
      "Segment saved: /Volumes/T7 Shield/fox/et/sub-071_tv-continental-82f0129a/ads/2/2.mp4\n",
      "Segment saved: /Volumes/T7 Shield/fox/et/sub-071_tv-continental-82f0129a/ads/3/3.mp4\n",
      "Warning: Duration mismatch between video segment and gaze data. Video duration: 75.03167777800002, Gaze data duration: 75.020023\n",
      "Segment saved: /Volumes/T7 Shield/fox/et/sub-071_tv-continental-82f0129a/ads/4/4.mp4\n",
      "Segment saved: /Volumes/T7 Shield/fox/et/sub-071_tv-continental-82f0129a/ads/5/5.mp4\n",
      "Segment saved: /Volumes/T7 Shield/fox/et/sub-071_tv-continental-82f0129a/ads/7/7.mp4\n",
      "Segment saved: /Volumes/T7 Shield/fox/et/sub-071_tv-continental-82f0129a/ads/8/8.mp4\n",
      "Segment saved: /Volumes/T7 Shield/fox/et/sub-071_tv-continental-82f0129a/ads/9/9.mp4\n",
      "Segment saved: /Volumes/T7 Shield/fox/et/sub-071_tv-continental-82f0129a/ads/10/10.mp4\n",
      "Video processing completed.\n",
      "Filtered rectangles saved to /Volumes/T7 Shield/fox/et/sub-071_tv-continental-82f0129a/ads/2/filtered_rectangle_data.csv\n",
      "Processed AOI data saved to /Volumes/T7 Shield/fox/et/sub-071_tv-continental-82f0129a/ads/2\n",
      "Filtered rectangles saved to /Volumes/T7 Shield/fox/et/sub-071_tv-continental-82f0129a/ads/3/filtered_rectangle_data.csv\n",
      "Processed AOI data saved to /Volumes/T7 Shield/fox/et/sub-071_tv-continental-82f0129a/ads/3\n",
      "Filtered rectangles saved to /Volumes/T7 Shield/fox/et/sub-071_tv-continental-82f0129a/ads/4/filtered_rectangle_data.csv\n",
      "Processed AOI data saved to /Volumes/T7 Shield/fox/et/sub-071_tv-continental-82f0129a/ads/4\n",
      "Filtered rectangles saved to /Volumes/T7 Shield/fox/et/sub-071_tv-continental-82f0129a/ads/5/filtered_rectangle_data.csv\n",
      "Processed AOI data saved to /Volumes/T7 Shield/fox/et/sub-071_tv-continental-82f0129a/ads/5\n",
      "Filtered rectangles saved to /Volumes/T7 Shield/fox/et/sub-071_tv-continental-82f0129a/ads/7/filtered_rectangle_data.csv\n",
      "Processed AOI data saved to /Volumes/T7 Shield/fox/et/sub-071_tv-continental-82f0129a/ads/7\n",
      "Filtered rectangles saved to /Volumes/T7 Shield/fox/et/sub-071_tv-continental-82f0129a/ads/8/filtered_rectangle_data.csv\n",
      "Processed AOI data saved to /Volumes/T7 Shield/fox/et/sub-071_tv-continental-82f0129a/ads/8\n",
      "Filtered rectangles saved to /Volumes/T7 Shield/fox/et/sub-071_tv-continental-82f0129a/ads/9/filtered_rectangle_data.csv\n",
      "Processed AOI data saved to /Volumes/T7 Shield/fox/et/sub-071_tv-continental-82f0129a/ads/9\n",
      "Filtered rectangles saved to /Volumes/T7 Shield/fox/et/sub-071_tv-continental-82f0129a/ads/10/filtered_rectangle_data.csv\n",
      "Processed AOI data saved to /Volumes/T7 Shield/fox/et/sub-071_tv-continental-82f0129a/ads/10\n",
      "Splitting ads for  sub-072\n",
      "9\n",
      "25625\n",
      "15351\n",
      "Segment saved: /Volumes/T7 Shield/fox/et/sub-072_tv-foxnews-604794d4/ads/2/2.mp4\n",
      "Segment saved: /Volumes/T7 Shield/fox/et/sub-072_tv-foxnews-604794d4/ads/3/3.mp4\n",
      "Segment saved: /Volumes/T7 Shield/fox/et/sub-072_tv-foxnews-604794d4/ads/4/4.mp4\n",
      "Segment saved: /Volumes/T7 Shield/fox/et/sub-072_tv-foxnews-604794d4/ads/5/5.mp4\n",
      "Segment saved: /Volumes/T7 Shield/fox/et/sub-072_tv-foxnews-604794d4/ads/7/7.mp4\n",
      "Segment saved: /Volumes/T7 Shield/fox/et/sub-072_tv-foxnews-604794d4/ads/8/8.mp4\n",
      "Segment saved: /Volumes/T7 Shield/fox/et/sub-072_tv-foxnews-604794d4/ads/9/9.mp4\n",
      "Segment saved: /Volumes/T7 Shield/fox/et/sub-072_tv-foxnews-604794d4/ads/10/10.mp4\n",
      "Video processing completed.\n",
      "Filtered rectangles saved to /Volumes/T7 Shield/fox/et/sub-072_tv-foxnews-604794d4/ads/2/filtered_rectangle_data.csv\n",
      "Processed AOI data saved to /Volumes/T7 Shield/fox/et/sub-072_tv-foxnews-604794d4/ads/2\n",
      "Filtered rectangles saved to /Volumes/T7 Shield/fox/et/sub-072_tv-foxnews-604794d4/ads/3/filtered_rectangle_data.csv\n",
      "Processed AOI data saved to /Volumes/T7 Shield/fox/et/sub-072_tv-foxnews-604794d4/ads/3\n",
      "Filtered rectangles saved to /Volumes/T7 Shield/fox/et/sub-072_tv-foxnews-604794d4/ads/4/filtered_rectangle_data.csv\n",
      "Processed AOI data saved to /Volumes/T7 Shield/fox/et/sub-072_tv-foxnews-604794d4/ads/4\n",
      "Filtered rectangles saved to /Volumes/T7 Shield/fox/et/sub-072_tv-foxnews-604794d4/ads/5/filtered_rectangle_data.csv\n",
      "Processed AOI data saved to /Volumes/T7 Shield/fox/et/sub-072_tv-foxnews-604794d4/ads/5\n",
      "Filtered rectangles saved to /Volumes/T7 Shield/fox/et/sub-072_tv-foxnews-604794d4/ads/7/filtered_rectangle_data.csv\n",
      "Processed AOI data saved to /Volumes/T7 Shield/fox/et/sub-072_tv-foxnews-604794d4/ads/7\n",
      "Filtered rectangles saved to /Volumes/T7 Shield/fox/et/sub-072_tv-foxnews-604794d4/ads/8/filtered_rectangle_data.csv\n",
      "Processed AOI data saved to /Volumes/T7 Shield/fox/et/sub-072_tv-foxnews-604794d4/ads/8\n",
      "Filtered rectangles saved to /Volumes/T7 Shield/fox/et/sub-072_tv-foxnews-604794d4/ads/9/filtered_rectangle_data.csv\n",
      "Processed AOI data saved to /Volumes/T7 Shield/fox/et/sub-072_tv-foxnews-604794d4/ads/9\n",
      "Filtered rectangles saved to /Volumes/T7 Shield/fox/et/sub-072_tv-foxnews-604794d4/ads/10/filtered_rectangle_data.csv\n",
      "Processed AOI data saved to /Volumes/T7 Shield/fox/et/sub-072_tv-foxnews-604794d4/ads/10\n",
      "Splitting ads for  sub-074\n",
      "CSV file not found: [Errno 2] No such file or directory: '/Volumes/T7 Shield/fox/eeg/sub-074_task-events.csv'\n",
      "Splitting ads for  sub-075\n",
      "Skipping control or youtube condition\n",
      "Splitting ads for  sub-077\n",
      "9\n",
      "23221\n",
      "14670\n",
      "Segment saved: /Volumes/T7 Shield/fox/et/sub-077_tv-bigmood-6fdd2804/ads/2/2.mp4\n",
      "Segment saved: /Volumes/T7 Shield/fox/et/sub-077_tv-bigmood-6fdd2804/ads/3/3.mp4\n",
      "Warning: Duration mismatch between video segment and gaze data. Video duration: 75.01164444399996, Gaze data duration: 75.00004\n",
      "Segment saved: /Volumes/T7 Shield/fox/et/sub-077_tv-bigmood-6fdd2804/ads/4/4.mp4\n",
      "Segment saved: /Volumes/T7 Shield/fox/et/sub-077_tv-bigmood-6fdd2804/ads/5/5.mp4\n",
      "Segment saved: /Volumes/T7 Shield/fox/et/sub-077_tv-bigmood-6fdd2804/ads/7/7.mp4\n",
      "Segment saved: /Volumes/T7 Shield/fox/et/sub-077_tv-bigmood-6fdd2804/ads/8/8.mp4\n",
      "Segment saved: /Volumes/T7 Shield/fox/et/sub-077_tv-bigmood-6fdd2804/ads/9/9.mp4\n",
      "Segment saved: /Volumes/T7 Shield/fox/et/sub-077_tv-bigmood-6fdd2804/ads/10/10.mp4\n",
      "Video processing completed.\n",
      "Filtered rectangles saved to /Volumes/T7 Shield/fox/et/sub-077_tv-bigmood-6fdd2804/ads/2/filtered_rectangle_data.csv\n",
      "Processed AOI data saved to /Volumes/T7 Shield/fox/et/sub-077_tv-bigmood-6fdd2804/ads/2\n",
      "Filtered rectangles saved to /Volumes/T7 Shield/fox/et/sub-077_tv-bigmood-6fdd2804/ads/3/filtered_rectangle_data.csv\n",
      "Processed AOI data saved to /Volumes/T7 Shield/fox/et/sub-077_tv-bigmood-6fdd2804/ads/3\n",
      "Filtered rectangles saved to /Volumes/T7 Shield/fox/et/sub-077_tv-bigmood-6fdd2804/ads/4/filtered_rectangle_data.csv\n",
      "Processed AOI data saved to /Volumes/T7 Shield/fox/et/sub-077_tv-bigmood-6fdd2804/ads/4\n",
      "Filtered rectangles saved to /Volumes/T7 Shield/fox/et/sub-077_tv-bigmood-6fdd2804/ads/5/filtered_rectangle_data.csv\n",
      "Processed AOI data saved to /Volumes/T7 Shield/fox/et/sub-077_tv-bigmood-6fdd2804/ads/5\n",
      "Filtered rectangles saved to /Volumes/T7 Shield/fox/et/sub-077_tv-bigmood-6fdd2804/ads/7/filtered_rectangle_data.csv\n",
      "Processed AOI data saved to /Volumes/T7 Shield/fox/et/sub-077_tv-bigmood-6fdd2804/ads/7\n",
      "Filtered rectangles saved to /Volumes/T7 Shield/fox/et/sub-077_tv-bigmood-6fdd2804/ads/8/filtered_rectangle_data.csv\n",
      "Processed AOI data saved to /Volumes/T7 Shield/fox/et/sub-077_tv-bigmood-6fdd2804/ads/8\n",
      "Filtered rectangles saved to /Volumes/T7 Shield/fox/et/sub-077_tv-bigmood-6fdd2804/ads/9/filtered_rectangle_data.csv\n",
      "Processed AOI data saved to /Volumes/T7 Shield/fox/et/sub-077_tv-bigmood-6fdd2804/ads/9\n",
      "Filtered rectangles saved to /Volumes/T7 Shield/fox/et/sub-077_tv-bigmood-6fdd2804/ads/10/filtered_rectangle_data.csv\n",
      "Processed AOI data saved to /Volumes/T7 Shield/fox/et/sub-077_tv-bigmood-6fdd2804/ads/10\n",
      "Splitting ads for  sub-078\n",
      "9\n",
      "23919\n",
      "14583\n",
      "Segment saved: /Volumes/T7 Shield/fox/et/sub-078_tv-pickers-9e9192ba/ads/2/2.mp4\n",
      "Segment saved: /Volumes/T7 Shield/fox/et/sub-078_tv-pickers-9e9192ba/ads/3/3.mp4\n",
      "Segment saved: /Volumes/T7 Shield/fox/et/sub-078_tv-pickers-9e9192ba/ads/4/4.mp4\n",
      "Segment saved: /Volumes/T7 Shield/fox/et/sub-078_tv-pickers-9e9192ba/ads/5/5.mp4\n",
      "Segment saved: /Volumes/T7 Shield/fox/et/sub-078_tv-pickers-9e9192ba/ads/7/7.mp4\n",
      "Segment saved: /Volumes/T7 Shield/fox/et/sub-078_tv-pickers-9e9192ba/ads/8/8.mp4\n",
      "Segment saved: /Volumes/T7 Shield/fox/et/sub-078_tv-pickers-9e9192ba/ads/9/9.mp4\n",
      "Segment saved: /Volumes/T7 Shield/fox/et/sub-078_tv-pickers-9e9192ba/ads/10/10.mp4\n",
      "Video processing completed.\n",
      "Filtered rectangles saved to /Volumes/T7 Shield/fox/et/sub-078_tv-pickers-9e9192ba/ads/2/filtered_rectangle_data.csv\n",
      "Processed AOI data saved to /Volumes/T7 Shield/fox/et/sub-078_tv-pickers-9e9192ba/ads/2\n",
      "Filtered rectangles saved to /Volumes/T7 Shield/fox/et/sub-078_tv-pickers-9e9192ba/ads/3/filtered_rectangle_data.csv\n",
      "Processed AOI data saved to /Volumes/T7 Shield/fox/et/sub-078_tv-pickers-9e9192ba/ads/3\n",
      "Filtered rectangles saved to /Volumes/T7 Shield/fox/et/sub-078_tv-pickers-9e9192ba/ads/4/filtered_rectangle_data.csv\n",
      "Processed AOI data saved to /Volumes/T7 Shield/fox/et/sub-078_tv-pickers-9e9192ba/ads/4\n",
      "Filtered rectangles saved to /Volumes/T7 Shield/fox/et/sub-078_tv-pickers-9e9192ba/ads/5/filtered_rectangle_data.csv\n",
      "Processed AOI data saved to /Volumes/T7 Shield/fox/et/sub-078_tv-pickers-9e9192ba/ads/5\n",
      "Filtered rectangles saved to /Volumes/T7 Shield/fox/et/sub-078_tv-pickers-9e9192ba/ads/7/filtered_rectangle_data.csv\n",
      "Processed AOI data saved to /Volumes/T7 Shield/fox/et/sub-078_tv-pickers-9e9192ba/ads/7\n",
      "Filtered rectangles saved to /Volumes/T7 Shield/fox/et/sub-078_tv-pickers-9e9192ba/ads/8/filtered_rectangle_data.csv\n",
      "Processed AOI data saved to /Volumes/T7 Shield/fox/et/sub-078_tv-pickers-9e9192ba/ads/8\n",
      "Filtered rectangles saved to /Volumes/T7 Shield/fox/et/sub-078_tv-pickers-9e9192ba/ads/9/filtered_rectangle_data.csv\n",
      "Processed AOI data saved to /Volumes/T7 Shield/fox/et/sub-078_tv-pickers-9e9192ba/ads/9\n",
      "Filtered rectangles saved to /Volumes/T7 Shield/fox/et/sub-078_tv-pickers-9e9192ba/ads/10/filtered_rectangle_data.csv\n",
      "Processed AOI data saved to /Volumes/T7 Shield/fox/et/sub-078_tv-pickers-9e9192ba/ads/10\n",
      "Splitting ads for  sub-079\n",
      "9\n",
      "25269\n",
      "15577\n",
      "Segment saved: /Volumes/T7 Shield/fox/et/sub-079_tv-cnn-65777e73/ads/2/2.mp4\n",
      "Segment saved: /Volumes/T7 Shield/fox/et/sub-079_tv-cnn-65777e73/ads/3/3.mp4\n",
      "Segment saved: /Volumes/T7 Shield/fox/et/sub-079_tv-cnn-65777e73/ads/4/4.mp4\n",
      "Segment saved: /Volumes/T7 Shield/fox/et/sub-079_tv-cnn-65777e73/ads/5/5.mp4\n",
      "Segment saved: /Volumes/T7 Shield/fox/et/sub-079_tv-cnn-65777e73/ads/7/7.mp4\n",
      "Segment saved: /Volumes/T7 Shield/fox/et/sub-079_tv-cnn-65777e73/ads/8/8.mp4\n",
      "Segment saved: /Volumes/T7 Shield/fox/et/sub-079_tv-cnn-65777e73/ads/9/9.mp4\n",
      "Segment saved: /Volumes/T7 Shield/fox/et/sub-079_tv-cnn-65777e73/ads/10/10.mp4\n",
      "Video processing completed.\n",
      "Filtered rectangles saved to /Volumes/T7 Shield/fox/et/sub-079_tv-cnn-65777e73/ads/2/filtered_rectangle_data.csv\n",
      "Processed AOI data saved to /Volumes/T7 Shield/fox/et/sub-079_tv-cnn-65777e73/ads/2\n",
      "Filtered rectangles saved to /Volumes/T7 Shield/fox/et/sub-079_tv-cnn-65777e73/ads/3/filtered_rectangle_data.csv\n",
      "Processed AOI data saved to /Volumes/T7 Shield/fox/et/sub-079_tv-cnn-65777e73/ads/3\n",
      "Filtered rectangles saved to /Volumes/T7 Shield/fox/et/sub-079_tv-cnn-65777e73/ads/4/filtered_rectangle_data.csv\n",
      "Processed AOI data saved to /Volumes/T7 Shield/fox/et/sub-079_tv-cnn-65777e73/ads/4\n",
      "Filtered rectangles saved to /Volumes/T7 Shield/fox/et/sub-079_tv-cnn-65777e73/ads/5/filtered_rectangle_data.csv\n",
      "Processed AOI data saved to /Volumes/T7 Shield/fox/et/sub-079_tv-cnn-65777e73/ads/5\n",
      "Filtered rectangles saved to /Volumes/T7 Shield/fox/et/sub-079_tv-cnn-65777e73/ads/7/filtered_rectangle_data.csv\n",
      "Processed AOI data saved to /Volumes/T7 Shield/fox/et/sub-079_tv-cnn-65777e73/ads/7\n",
      "Filtered rectangles saved to /Volumes/T7 Shield/fox/et/sub-079_tv-cnn-65777e73/ads/8/filtered_rectangle_data.csv\n",
      "Processed AOI data saved to /Volumes/T7 Shield/fox/et/sub-079_tv-cnn-65777e73/ads/8\n",
      "Filtered rectangles saved to /Volumes/T7 Shield/fox/et/sub-079_tv-cnn-65777e73/ads/9/filtered_rectangle_data.csv\n",
      "Processed AOI data saved to /Volumes/T7 Shield/fox/et/sub-079_tv-cnn-65777e73/ads/9\n",
      "Filtered rectangles saved to /Volumes/T7 Shield/fox/et/sub-079_tv-cnn-65777e73/ads/10/filtered_rectangle_data.csv\n",
      "Processed AOI data saved to /Volumes/T7 Shield/fox/et/sub-079_tv-cnn-65777e73/ads/10\n",
      "Splitting ads for  sub-080\n",
      "9\n",
      "24197\n",
      "14220\n",
      "Segment saved: /Volumes/T7 Shield/fox/et/sub-080_tv-continental-47182ab6/ads/2/2.mp4\n",
      "Segment saved: /Volumes/T7 Shield/fox/et/sub-080_tv-continental-47182ab6/ads/3/3.mp4\n",
      "Segment saved: /Volumes/T7 Shield/fox/et/sub-080_tv-continental-47182ab6/ads/4/4.mp4\n",
      "Segment saved: /Volumes/T7 Shield/fox/et/sub-080_tv-continental-47182ab6/ads/5/5.mp4\n",
      "Warning: Duration mismatch between video segment and gaze data. Video duration: 30.046166666999966, Gaze data duration: 30.036009\n",
      "Segment saved: /Volumes/T7 Shield/fox/et/sub-080_tv-continental-47182ab6/ads/7/7.mp4\n",
      "Segment saved: /Volumes/T7 Shield/fox/et/sub-080_tv-continental-47182ab6/ads/8/8.mp4\n",
      "Segment saved: /Volumes/T7 Shield/fox/et/sub-080_tv-continental-47182ab6/ads/9/9.mp4\n",
      "Segment saved: /Volumes/T7 Shield/fox/et/sub-080_tv-continental-47182ab6/ads/10/10.mp4\n",
      "Video processing completed.\n",
      "Filtered rectangles saved to /Volumes/T7 Shield/fox/et/sub-080_tv-continental-47182ab6/ads/2/filtered_rectangle_data.csv\n",
      "Processed AOI data saved to /Volumes/T7 Shield/fox/et/sub-080_tv-continental-47182ab6/ads/2\n",
      "Filtered rectangles saved to /Volumes/T7 Shield/fox/et/sub-080_tv-continental-47182ab6/ads/3/filtered_rectangle_data.csv\n",
      "Processed AOI data saved to /Volumes/T7 Shield/fox/et/sub-080_tv-continental-47182ab6/ads/3\n",
      "Filtered rectangles saved to /Volumes/T7 Shield/fox/et/sub-080_tv-continental-47182ab6/ads/4/filtered_rectangle_data.csv\n",
      "Processed AOI data saved to /Volumes/T7 Shield/fox/et/sub-080_tv-continental-47182ab6/ads/4\n",
      "Filtered rectangles saved to /Volumes/T7 Shield/fox/et/sub-080_tv-continental-47182ab6/ads/5/filtered_rectangle_data.csv\n",
      "Processed AOI data saved to /Volumes/T7 Shield/fox/et/sub-080_tv-continental-47182ab6/ads/5\n",
      "Filtered rectangles saved to /Volumes/T7 Shield/fox/et/sub-080_tv-continental-47182ab6/ads/7/filtered_rectangle_data.csv\n",
      "Processed AOI data saved to /Volumes/T7 Shield/fox/et/sub-080_tv-continental-47182ab6/ads/7\n",
      "Filtered rectangles saved to /Volumes/T7 Shield/fox/et/sub-080_tv-continental-47182ab6/ads/8/filtered_rectangle_data.csv\n",
      "Processed AOI data saved to /Volumes/T7 Shield/fox/et/sub-080_tv-continental-47182ab6/ads/8\n",
      "Filtered rectangles saved to /Volumes/T7 Shield/fox/et/sub-080_tv-continental-47182ab6/ads/9/filtered_rectangle_data.csv\n",
      "Processed AOI data saved to /Volumes/T7 Shield/fox/et/sub-080_tv-continental-47182ab6/ads/9\n",
      "Filtered rectangles saved to /Volumes/T7 Shield/fox/et/sub-080_tv-continental-47182ab6/ads/10/filtered_rectangle_data.csv\n",
      "Processed AOI data saved to /Volumes/T7 Shield/fox/et/sub-080_tv-continental-47182ab6/ads/10\n",
      "Splitting ads for  sub-081\n",
      "Skipping control or youtube condition\n",
      "Splitting ads for  sub-082\n",
      "9\n",
      "25568\n",
      "15517\n",
      "Segment saved: /Volumes/T7 Shield/fox/et/sub-082_tv-fox-25954b84/ads/2/2.mp4\n",
      "Warning: Duration mismatch between video segment and gaze data. Video duration: 30.023888888999977, Gaze data duration: 30.011982\n",
      "Segment saved: /Volumes/T7 Shield/fox/et/sub-082_tv-fox-25954b84/ads/3/3.mp4\n",
      "Segment saved: /Volumes/T7 Shield/fox/et/sub-082_tv-fox-25954b84/ads/4/4.mp4\n",
      "Segment saved: /Volumes/T7 Shield/fox/et/sub-082_tv-fox-25954b84/ads/5/5.mp4\n",
      "Segment saved: /Volumes/T7 Shield/fox/et/sub-082_tv-fox-25954b84/ads/7/7.mp4\n",
      "Segment saved: /Volumes/T7 Shield/fox/et/sub-082_tv-fox-25954b84/ads/8/8.mp4\n",
      "Segment saved: /Volumes/T7 Shield/fox/et/sub-082_tv-fox-25954b84/ads/9/9.mp4\n",
      "Segment saved: /Volumes/T7 Shield/fox/et/sub-082_tv-fox-25954b84/ads/10/10.mp4\n",
      "Video processing completed.\n",
      "Filtered rectangles saved to /Volumes/T7 Shield/fox/et/sub-082_tv-fox-25954b84/ads/2/filtered_rectangle_data.csv\n",
      "Processed AOI data saved to /Volumes/T7 Shield/fox/et/sub-082_tv-fox-25954b84/ads/2\n",
      "Filtered rectangles saved to /Volumes/T7 Shield/fox/et/sub-082_tv-fox-25954b84/ads/3/filtered_rectangle_data.csv\n",
      "Processed AOI data saved to /Volumes/T7 Shield/fox/et/sub-082_tv-fox-25954b84/ads/3\n",
      "Filtered rectangles saved to /Volumes/T7 Shield/fox/et/sub-082_tv-fox-25954b84/ads/4/filtered_rectangle_data.csv\n",
      "Processed AOI data saved to /Volumes/T7 Shield/fox/et/sub-082_tv-fox-25954b84/ads/4\n",
      "Filtered rectangles saved to /Volumes/T7 Shield/fox/et/sub-082_tv-fox-25954b84/ads/5/filtered_rectangle_data.csv\n",
      "Processed AOI data saved to /Volumes/T7 Shield/fox/et/sub-082_tv-fox-25954b84/ads/5\n",
      "Filtered rectangles saved to /Volumes/T7 Shield/fox/et/sub-082_tv-fox-25954b84/ads/7/filtered_rectangle_data.csv\n",
      "Processed AOI data saved to /Volumes/T7 Shield/fox/et/sub-082_tv-fox-25954b84/ads/7\n",
      "Filtered rectangles saved to /Volumes/T7 Shield/fox/et/sub-082_tv-fox-25954b84/ads/8/filtered_rectangle_data.csv\n",
      "Processed AOI data saved to /Volumes/T7 Shield/fox/et/sub-082_tv-fox-25954b84/ads/8\n",
      "Filtered rectangles saved to /Volumes/T7 Shield/fox/et/sub-082_tv-fox-25954b84/ads/9/filtered_rectangle_data.csv\n",
      "Processed AOI data saved to /Volumes/T7 Shield/fox/et/sub-082_tv-fox-25954b84/ads/9\n",
      "Filtered rectangles saved to /Volumes/T7 Shield/fox/et/sub-082_tv-fox-25954b84/ads/10/filtered_rectangle_data.csv\n",
      "Processed AOI data saved to /Volumes/T7 Shield/fox/et/sub-082_tv-fox-25954b84/ads/10\n",
      "Splitting ads for  sub-083\n",
      "9\n",
      "24320\n",
      "14469\n",
      "Segment saved: /Volumes/T7 Shield/fox/et/sub-083_tv-lego-2988a03f/ads/2/2.mp4\n",
      "Segment saved: /Volumes/T7 Shield/fox/et/sub-083_tv-lego-2988a03f/ads/3/3.mp4\n",
      "Segment saved: /Volumes/T7 Shield/fox/et/sub-083_tv-lego-2988a03f/ads/4/4.mp4\n",
      "Segment saved: /Volumes/T7 Shield/fox/et/sub-083_tv-lego-2988a03f/ads/5/5.mp4\n",
      "Warning: Duration mismatch between video segment and gaze data. Video duration: 30.018022222000013, Gaze data duration: 30.007955\n",
      "Segment saved: /Volumes/T7 Shield/fox/et/sub-083_tv-lego-2988a03f/ads/7/7.mp4\n",
      "Segment saved: /Volumes/T7 Shield/fox/et/sub-083_tv-lego-2988a03f/ads/8/8.mp4\n",
      "Segment saved: /Volumes/T7 Shield/fox/et/sub-083_tv-lego-2988a03f/ads/9/9.mp4\n",
      "Segment saved: /Volumes/T7 Shield/fox/et/sub-083_tv-lego-2988a03f/ads/10/10.mp4\n",
      "Video processing completed.\n",
      "Filtered rectangles saved to /Volumes/T7 Shield/fox/et/sub-083_tv-lego-2988a03f/ads/2/filtered_rectangle_data.csv\n",
      "Processed AOI data saved to /Volumes/T7 Shield/fox/et/sub-083_tv-lego-2988a03f/ads/2\n",
      "Filtered rectangles saved to /Volumes/T7 Shield/fox/et/sub-083_tv-lego-2988a03f/ads/3/filtered_rectangle_data.csv\n",
      "Processed AOI data saved to /Volumes/T7 Shield/fox/et/sub-083_tv-lego-2988a03f/ads/3\n",
      "Filtered rectangles saved to /Volumes/T7 Shield/fox/et/sub-083_tv-lego-2988a03f/ads/4/filtered_rectangle_data.csv\n",
      "Processed AOI data saved to /Volumes/T7 Shield/fox/et/sub-083_tv-lego-2988a03f/ads/4\n",
      "Filtered rectangles saved to /Volumes/T7 Shield/fox/et/sub-083_tv-lego-2988a03f/ads/5/filtered_rectangle_data.csv\n",
      "Processed AOI data saved to /Volumes/T7 Shield/fox/et/sub-083_tv-lego-2988a03f/ads/5\n",
      "Filtered rectangles saved to /Volumes/T7 Shield/fox/et/sub-083_tv-lego-2988a03f/ads/7/filtered_rectangle_data.csv\n",
      "Processed AOI data saved to /Volumes/T7 Shield/fox/et/sub-083_tv-lego-2988a03f/ads/7\n",
      "Filtered rectangles saved to /Volumes/T7 Shield/fox/et/sub-083_tv-lego-2988a03f/ads/8/filtered_rectangle_data.csv\n",
      "Processed AOI data saved to /Volumes/T7 Shield/fox/et/sub-083_tv-lego-2988a03f/ads/8\n",
      "Filtered rectangles saved to /Volumes/T7 Shield/fox/et/sub-083_tv-lego-2988a03f/ads/9/filtered_rectangle_data.csv\n",
      "Processed AOI data saved to /Volumes/T7 Shield/fox/et/sub-083_tv-lego-2988a03f/ads/9\n",
      "Filtered rectangles saved to /Volumes/T7 Shield/fox/et/sub-083_tv-lego-2988a03f/ads/10/filtered_rectangle_data.csv\n",
      "Processed AOI data saved to /Volumes/T7 Shield/fox/et/sub-083_tv-lego-2988a03f/ads/10\n",
      "Splitting ads for  sub-084\n",
      "9\n",
      "25672\n",
      "16791\n",
      "Segment saved: /Volumes/T7 Shield/fox/et/sub-084_tv-nfl-48d56dc8/ads/2/2.mp4\n",
      "Segment saved: /Volumes/T7 Shield/fox/et/sub-084_tv-nfl-48d56dc8/ads/3/3.mp4\n",
      "Segment saved: /Volumes/T7 Shield/fox/et/sub-084_tv-nfl-48d56dc8/ads/4/4.mp4\n",
      "Segment saved: /Volumes/T7 Shield/fox/et/sub-084_tv-nfl-48d56dc8/ads/5/5.mp4\n",
      "Segment saved: /Volumes/T7 Shield/fox/et/sub-084_tv-nfl-48d56dc8/ads/7/7.mp4\n",
      "Segment saved: /Volumes/T7 Shield/fox/et/sub-084_tv-nfl-48d56dc8/ads/8/8.mp4\n",
      "Segment saved: /Volumes/T7 Shield/fox/et/sub-084_tv-nfl-48d56dc8/ads/9/9.mp4\n",
      "Segment saved: /Volumes/T7 Shield/fox/et/sub-084_tv-nfl-48d56dc8/ads/10/10.mp4\n",
      "Video processing completed.\n",
      "Filtered rectangles saved to /Volumes/T7 Shield/fox/et/sub-084_tv-nfl-48d56dc8/ads/2/filtered_rectangle_data.csv\n",
      "Processed AOI data saved to /Volumes/T7 Shield/fox/et/sub-084_tv-nfl-48d56dc8/ads/2\n",
      "Filtered rectangles saved to /Volumes/T7 Shield/fox/et/sub-084_tv-nfl-48d56dc8/ads/3/filtered_rectangle_data.csv\n",
      "Processed AOI data saved to /Volumes/T7 Shield/fox/et/sub-084_tv-nfl-48d56dc8/ads/3\n",
      "Filtered rectangles saved to /Volumes/T7 Shield/fox/et/sub-084_tv-nfl-48d56dc8/ads/4/filtered_rectangle_data.csv\n",
      "Processed AOI data saved to /Volumes/T7 Shield/fox/et/sub-084_tv-nfl-48d56dc8/ads/4\n",
      "Filtered rectangles saved to /Volumes/T7 Shield/fox/et/sub-084_tv-nfl-48d56dc8/ads/5/filtered_rectangle_data.csv\n",
      "Processed AOI data saved to /Volumes/T7 Shield/fox/et/sub-084_tv-nfl-48d56dc8/ads/5\n",
      "Filtered rectangles saved to /Volumes/T7 Shield/fox/et/sub-084_tv-nfl-48d56dc8/ads/7/filtered_rectangle_data.csv\n",
      "Processed AOI data saved to /Volumes/T7 Shield/fox/et/sub-084_tv-nfl-48d56dc8/ads/7\n",
      "Filtered rectangles saved to /Volumes/T7 Shield/fox/et/sub-084_tv-nfl-48d56dc8/ads/8/filtered_rectangle_data.csv\n",
      "Processed AOI data saved to /Volumes/T7 Shield/fox/et/sub-084_tv-nfl-48d56dc8/ads/8\n",
      "Filtered rectangles saved to /Volumes/T7 Shield/fox/et/sub-084_tv-nfl-48d56dc8/ads/9/filtered_rectangle_data.csv\n",
      "Processed AOI data saved to /Volumes/T7 Shield/fox/et/sub-084_tv-nfl-48d56dc8/ads/9\n",
      "Filtered rectangles saved to /Volumes/T7 Shield/fox/et/sub-084_tv-nfl-48d56dc8/ads/10/filtered_rectangle_data.csv\n",
      "Processed AOI data saved to /Volumes/T7 Shield/fox/et/sub-084_tv-nfl-48d56dc8/ads/10\n",
      "Splitting ads for  sub-085\n",
      "CSV file not found: [Errno 2] No such file or directory: '/Volumes/T7 Shield/fox/eeg/sub-085_task-events.csv'\n",
      "Splitting ads for  sub-086\n",
      "9\n",
      "24761\n",
      "16369\n",
      "Segment saved: /Volumes/T7 Shield/fox/et/sub-086_tv-nfl-26da6c99/ads/2/2.mp4\n",
      "Segment saved: /Volumes/T7 Shield/fox/et/sub-086_tv-nfl-26da6c99/ads/3/3.mp4\n",
      "Segment saved: /Volumes/T7 Shield/fox/et/sub-086_tv-nfl-26da6c99/ads/4/4.mp4\n",
      "Segment saved: /Volumes/T7 Shield/fox/et/sub-086_tv-nfl-26da6c99/ads/5/5.mp4\n",
      "Segment saved: /Volumes/T7 Shield/fox/et/sub-086_tv-nfl-26da6c99/ads/7/7.mp4\n",
      "Segment saved: /Volumes/T7 Shield/fox/et/sub-086_tv-nfl-26da6c99/ads/8/8.mp4\n",
      "Warning: Duration mismatch between video segment and gaze data. Video duration: 30.008911111999964, Gaze data duration: 29.995855\n",
      "Segment saved: /Volumes/T7 Shield/fox/et/sub-086_tv-nfl-26da6c99/ads/9/9.mp4\n",
      "Warning: Duration mismatch between video segment and gaze data. Video duration: 15.025844444999962, Gaze data duration: 11.96789\n",
      "Segment saved: /Volumes/T7 Shield/fox/et/sub-086_tv-nfl-26da6c99/ads/10/10.mp4\n",
      "Video processing completed.\n",
      "Filtered rectangles saved to /Volumes/T7 Shield/fox/et/sub-086_tv-nfl-26da6c99/ads/2/filtered_rectangle_data.csv\n",
      "Processed AOI data saved to /Volumes/T7 Shield/fox/et/sub-086_tv-nfl-26da6c99/ads/2\n",
      "Filtered rectangles saved to /Volumes/T7 Shield/fox/et/sub-086_tv-nfl-26da6c99/ads/3/filtered_rectangle_data.csv\n",
      "Processed AOI data saved to /Volumes/T7 Shield/fox/et/sub-086_tv-nfl-26da6c99/ads/3\n",
      "Filtered rectangles saved to /Volumes/T7 Shield/fox/et/sub-086_tv-nfl-26da6c99/ads/4/filtered_rectangle_data.csv\n",
      "Processed AOI data saved to /Volumes/T7 Shield/fox/et/sub-086_tv-nfl-26da6c99/ads/4\n",
      "Filtered rectangles saved to /Volumes/T7 Shield/fox/et/sub-086_tv-nfl-26da6c99/ads/5/filtered_rectangle_data.csv\n",
      "Processed AOI data saved to /Volumes/T7 Shield/fox/et/sub-086_tv-nfl-26da6c99/ads/5\n",
      "Filtered rectangles saved to /Volumes/T7 Shield/fox/et/sub-086_tv-nfl-26da6c99/ads/7/filtered_rectangle_data.csv\n",
      "Processed AOI data saved to /Volumes/T7 Shield/fox/et/sub-086_tv-nfl-26da6c99/ads/7\n",
      "Filtered rectangles saved to /Volumes/T7 Shield/fox/et/sub-086_tv-nfl-26da6c99/ads/8/filtered_rectangle_data.csv\n",
      "Processed AOI data saved to /Volumes/T7 Shield/fox/et/sub-086_tv-nfl-26da6c99/ads/8\n",
      "Filtered rectangles saved to /Volumes/T7 Shield/fox/et/sub-086_tv-nfl-26da6c99/ads/9/filtered_rectangle_data.csv\n",
      "Processed AOI data saved to /Volumes/T7 Shield/fox/et/sub-086_tv-nfl-26da6c99/ads/9\n",
      "Filtered rectangles saved to /Volumes/T7 Shield/fox/et/sub-086_tv-nfl-26da6c99/ads/10/filtered_rectangle_data.csv\n",
      "Processed AOI data saved to /Volumes/T7 Shield/fox/et/sub-086_tv-nfl-26da6c99/ads/10\n",
      "Splitting ads for  sub-087\n",
      "9\n",
      "23269\n",
      "14683\n",
      "Segment saved: /Volumes/T7 Shield/fox/et/sub-087_tv-bigmood-9f9214c5/ads/2/2.mp4\n",
      "Segment saved: /Volumes/T7 Shield/fox/et/sub-087_tv-bigmood-9f9214c5/ads/3/3.mp4\n",
      "Segment saved: /Volumes/T7 Shield/fox/et/sub-087_tv-bigmood-9f9214c5/ads/4/4.mp4\n",
      "Segment saved: /Volumes/T7 Shield/fox/et/sub-087_tv-bigmood-9f9214c5/ads/5/5.mp4\n",
      "Warning: Duration mismatch between video segment and gaze data. Video duration: 30.00855555499993, Gaze data duration: 29.996036\n",
      "Segment saved: /Volumes/T7 Shield/fox/et/sub-087_tv-bigmood-9f9214c5/ads/7/7.mp4\n",
      "Segment saved: /Volumes/T7 Shield/fox/et/sub-087_tv-bigmood-9f9214c5/ads/8/8.mp4\n",
      "Segment saved: /Volumes/T7 Shield/fox/et/sub-087_tv-bigmood-9f9214c5/ads/9/9.mp4\n",
      "Segment saved: /Volumes/T7 Shield/fox/et/sub-087_tv-bigmood-9f9214c5/ads/10/10.mp4\n",
      "Video processing completed.\n",
      "Filtered rectangles saved to /Volumes/T7 Shield/fox/et/sub-087_tv-bigmood-9f9214c5/ads/2/filtered_rectangle_data.csv\n",
      "Processed AOI data saved to /Volumes/T7 Shield/fox/et/sub-087_tv-bigmood-9f9214c5/ads/2\n",
      "Filtered rectangles saved to /Volumes/T7 Shield/fox/et/sub-087_tv-bigmood-9f9214c5/ads/3/filtered_rectangle_data.csv\n",
      "Processed AOI data saved to /Volumes/T7 Shield/fox/et/sub-087_tv-bigmood-9f9214c5/ads/3\n",
      "Filtered rectangles saved to /Volumes/T7 Shield/fox/et/sub-087_tv-bigmood-9f9214c5/ads/4/filtered_rectangle_data.csv\n",
      "Processed AOI data saved to /Volumes/T7 Shield/fox/et/sub-087_tv-bigmood-9f9214c5/ads/4\n",
      "Filtered rectangles saved to /Volumes/T7 Shield/fox/et/sub-087_tv-bigmood-9f9214c5/ads/5/filtered_rectangle_data.csv\n",
      "Processed AOI data saved to /Volumes/T7 Shield/fox/et/sub-087_tv-bigmood-9f9214c5/ads/5\n",
      "Filtered rectangles saved to /Volumes/T7 Shield/fox/et/sub-087_tv-bigmood-9f9214c5/ads/7/filtered_rectangle_data.csv\n",
      "Processed AOI data saved to /Volumes/T7 Shield/fox/et/sub-087_tv-bigmood-9f9214c5/ads/7\n",
      "Filtered rectangles saved to /Volumes/T7 Shield/fox/et/sub-087_tv-bigmood-9f9214c5/ads/8/filtered_rectangle_data.csv\n",
      "Processed AOI data saved to /Volumes/T7 Shield/fox/et/sub-087_tv-bigmood-9f9214c5/ads/8\n",
      "Filtered rectangles saved to /Volumes/T7 Shield/fox/et/sub-087_tv-bigmood-9f9214c5/ads/9/filtered_rectangle_data.csv\n",
      "Processed AOI data saved to /Volumes/T7 Shield/fox/et/sub-087_tv-bigmood-9f9214c5/ads/9\n",
      "Filtered rectangles saved to /Volumes/T7 Shield/fox/et/sub-087_tv-bigmood-9f9214c5/ads/10/filtered_rectangle_data.csv\n",
      "Processed AOI data saved to /Volumes/T7 Shield/fox/et/sub-087_tv-bigmood-9f9214c5/ads/10\n",
      "Splitting ads for  sub-088\n",
      "9\n",
      "23327\n",
      "14439\n",
      "Segment saved: /Volumes/T7 Shield/fox/et/sub-088_tv-pickers-5a5d4a11/ads/2/2.mp4\n",
      "Segment saved: /Volumes/T7 Shield/fox/et/sub-088_tv-pickers-5a5d4a11/ads/3/3.mp4\n",
      "Segment saved: /Volumes/T7 Shield/fox/et/sub-088_tv-pickers-5a5d4a11/ads/4/4.mp4\n",
      "Segment saved: /Volumes/T7 Shield/fox/et/sub-088_tv-pickers-5a5d4a11/ads/5/5.mp4\n",
      "Segment saved: /Volumes/T7 Shield/fox/et/sub-088_tv-pickers-5a5d4a11/ads/7/7.mp4\n",
      "Segment saved: /Volumes/T7 Shield/fox/et/sub-088_tv-pickers-5a5d4a11/ads/8/8.mp4\n",
      "Segment saved: /Volumes/T7 Shield/fox/et/sub-088_tv-pickers-5a5d4a11/ads/9/9.mp4\n",
      "Segment saved: /Volumes/T7 Shield/fox/et/sub-088_tv-pickers-5a5d4a11/ads/10/10.mp4\n",
      "Video processing completed.\n",
      "Filtered rectangles saved to /Volumes/T7 Shield/fox/et/sub-088_tv-pickers-5a5d4a11/ads/2/filtered_rectangle_data.csv\n",
      "Processed AOI data saved to /Volumes/T7 Shield/fox/et/sub-088_tv-pickers-5a5d4a11/ads/2\n",
      "Filtered rectangles saved to /Volumes/T7 Shield/fox/et/sub-088_tv-pickers-5a5d4a11/ads/3/filtered_rectangle_data.csv\n",
      "Processed AOI data saved to /Volumes/T7 Shield/fox/et/sub-088_tv-pickers-5a5d4a11/ads/3\n",
      "Filtered rectangles saved to /Volumes/T7 Shield/fox/et/sub-088_tv-pickers-5a5d4a11/ads/4/filtered_rectangle_data.csv\n",
      "Processed AOI data saved to /Volumes/T7 Shield/fox/et/sub-088_tv-pickers-5a5d4a11/ads/4\n",
      "Filtered rectangles saved to /Volumes/T7 Shield/fox/et/sub-088_tv-pickers-5a5d4a11/ads/5/filtered_rectangle_data.csv\n",
      "Processed AOI data saved to /Volumes/T7 Shield/fox/et/sub-088_tv-pickers-5a5d4a11/ads/5\n",
      "Filtered rectangles saved to /Volumes/T7 Shield/fox/et/sub-088_tv-pickers-5a5d4a11/ads/7/filtered_rectangle_data.csv\n",
      "Processed AOI data saved to /Volumes/T7 Shield/fox/et/sub-088_tv-pickers-5a5d4a11/ads/7\n",
      "Filtered rectangles saved to /Volumes/T7 Shield/fox/et/sub-088_tv-pickers-5a5d4a11/ads/8/filtered_rectangle_data.csv\n",
      "Processed AOI data saved to /Volumes/T7 Shield/fox/et/sub-088_tv-pickers-5a5d4a11/ads/8\n",
      "Filtered rectangles saved to /Volumes/T7 Shield/fox/et/sub-088_tv-pickers-5a5d4a11/ads/9/filtered_rectangle_data.csv\n",
      "Processed AOI data saved to /Volumes/T7 Shield/fox/et/sub-088_tv-pickers-5a5d4a11/ads/9\n",
      "Filtered rectangles saved to /Volumes/T7 Shield/fox/et/sub-088_tv-pickers-5a5d4a11/ads/10/filtered_rectangle_data.csv\n",
      "Processed AOI data saved to /Volumes/T7 Shield/fox/et/sub-088_tv-pickers-5a5d4a11/ads/10\n",
      "Splitting ads for  sub-089\n",
      "9\n",
      "10655\n",
      "3207\n",
      "Warning: Duration mismatch between video segment and gaze data. Video duration: 30.01118888900004, Gaze data duration: 30.000258\n",
      "Segment saved: /Volumes/T7 Shield/fox/et/sub-089_tv-foxnews-6ca45d4d/ads/2/2.mp4\n",
      "Segment saved: /Volumes/T7 Shield/fox/et/sub-089_tv-foxnews-6ca45d4d/ads/3/3.mp4\n",
      "Error processing video segments: single positional indexer is out-of-bounds\n",
      "Splitting ads for  sub-090\n",
      "9\n",
      "24847\n",
      "15441\n",
      "Segment saved: /Volumes/T7 Shield/fox/et/sub-090_tv-cnn-43253432/ads/2/2.mp4\n",
      "Segment saved: /Volumes/T7 Shield/fox/et/sub-090_tv-cnn-43253432/ads/3/3.mp4\n",
      "Segment saved: /Volumes/T7 Shield/fox/et/sub-090_tv-cnn-43253432/ads/4/4.mp4\n",
      "Warning: Duration mismatch between video segment and gaze data. Video duration: 15.02696666700001, Gaze data duration: 15.015979\n",
      "Segment saved: /Volumes/T7 Shield/fox/et/sub-090_tv-cnn-43253432/ads/5/5.mp4\n",
      "Segment saved: /Volumes/T7 Shield/fox/et/sub-090_tv-cnn-43253432/ads/7/7.mp4\n",
      "Segment saved: /Volumes/T7 Shield/fox/et/sub-090_tv-cnn-43253432/ads/8/8.mp4\n",
      "Segment saved: /Volumes/T7 Shield/fox/et/sub-090_tv-cnn-43253432/ads/9/9.mp4\n",
      "Segment saved: /Volumes/T7 Shield/fox/et/sub-090_tv-cnn-43253432/ads/10/10.mp4\n",
      "Video processing completed.\n",
      "Filtered rectangles saved to /Volumes/T7 Shield/fox/et/sub-090_tv-cnn-43253432/ads/2/filtered_rectangle_data.csv\n",
      "Processed AOI data saved to /Volumes/T7 Shield/fox/et/sub-090_tv-cnn-43253432/ads/2\n",
      "Filtered rectangles saved to /Volumes/T7 Shield/fox/et/sub-090_tv-cnn-43253432/ads/3/filtered_rectangle_data.csv\n",
      "Processed AOI data saved to /Volumes/T7 Shield/fox/et/sub-090_tv-cnn-43253432/ads/3\n",
      "Filtered rectangles saved to /Volumes/T7 Shield/fox/et/sub-090_tv-cnn-43253432/ads/4/filtered_rectangle_data.csv\n",
      "Processed AOI data saved to /Volumes/T7 Shield/fox/et/sub-090_tv-cnn-43253432/ads/4\n",
      "Filtered rectangles saved to /Volumes/T7 Shield/fox/et/sub-090_tv-cnn-43253432/ads/5/filtered_rectangle_data.csv\n",
      "Processed AOI data saved to /Volumes/T7 Shield/fox/et/sub-090_tv-cnn-43253432/ads/5\n",
      "Filtered rectangles saved to /Volumes/T7 Shield/fox/et/sub-090_tv-cnn-43253432/ads/7/filtered_rectangle_data.csv\n",
      "Processed AOI data saved to /Volumes/T7 Shield/fox/et/sub-090_tv-cnn-43253432/ads/7\n",
      "Filtered rectangles saved to /Volumes/T7 Shield/fox/et/sub-090_tv-cnn-43253432/ads/8/filtered_rectangle_data.csv\n",
      "Processed AOI data saved to /Volumes/T7 Shield/fox/et/sub-090_tv-cnn-43253432/ads/8\n",
      "Filtered rectangles saved to /Volumes/T7 Shield/fox/et/sub-090_tv-cnn-43253432/ads/9/filtered_rectangle_data.csv\n",
      "Processed AOI data saved to /Volumes/T7 Shield/fox/et/sub-090_tv-cnn-43253432/ads/9\n",
      "Filtered rectangles saved to /Volumes/T7 Shield/fox/et/sub-090_tv-cnn-43253432/ads/10/filtered_rectangle_data.csv\n",
      "Processed AOI data saved to /Volumes/T7 Shield/fox/et/sub-090_tv-cnn-43253432/ads/10\n",
      "Splitting ads for  sub-091\n",
      "9\n",
      "24207\n",
      "15388\n",
      "Segment saved: /Volumes/T7 Shield/fox/et/sub-091_tv-foxnews-08834a6c/ads/2/2.mp4\n",
      "Segment saved: /Volumes/T7 Shield/fox/et/sub-091_tv-foxnews-08834a6c/ads/3/3.mp4\n",
      "Segment saved: /Volumes/T7 Shield/fox/et/sub-091_tv-foxnews-08834a6c/ads/4/4.mp4\n",
      "Warning: Duration mismatch between video segment and gaze data. Video duration: 15.02534444400004, Gaze data duration: 15.011984\n",
      "Segment saved: /Volumes/T7 Shield/fox/et/sub-091_tv-foxnews-08834a6c/ads/5/5.mp4\n",
      "Segment saved: /Volumes/T7 Shield/fox/et/sub-091_tv-foxnews-08834a6c/ads/7/7.mp4\n",
      "Segment saved: /Volumes/T7 Shield/fox/et/sub-091_tv-foxnews-08834a6c/ads/8/8.mp4\n",
      "Segment saved: /Volumes/T7 Shield/fox/et/sub-091_tv-foxnews-08834a6c/ads/9/9.mp4\n",
      "Segment saved: /Volumes/T7 Shield/fox/et/sub-091_tv-foxnews-08834a6c/ads/10/10.mp4\n",
      "Video processing completed.\n",
      "Filtered rectangles saved to /Volumes/T7 Shield/fox/et/sub-091_tv-foxnews-08834a6c/ads/2/filtered_rectangle_data.csv\n",
      "Processed AOI data saved to /Volumes/T7 Shield/fox/et/sub-091_tv-foxnews-08834a6c/ads/2\n",
      "Filtered rectangles saved to /Volumes/T7 Shield/fox/et/sub-091_tv-foxnews-08834a6c/ads/3/filtered_rectangle_data.csv\n",
      "Processed AOI data saved to /Volumes/T7 Shield/fox/et/sub-091_tv-foxnews-08834a6c/ads/3\n",
      "Filtered rectangles saved to /Volumes/T7 Shield/fox/et/sub-091_tv-foxnews-08834a6c/ads/4/filtered_rectangle_data.csv\n",
      "Processed AOI data saved to /Volumes/T7 Shield/fox/et/sub-091_tv-foxnews-08834a6c/ads/4\n",
      "Filtered rectangles saved to /Volumes/T7 Shield/fox/et/sub-091_tv-foxnews-08834a6c/ads/5/filtered_rectangle_data.csv\n",
      "Processed AOI data saved to /Volumes/T7 Shield/fox/et/sub-091_tv-foxnews-08834a6c/ads/5\n",
      "Filtered rectangles saved to /Volumes/T7 Shield/fox/et/sub-091_tv-foxnews-08834a6c/ads/7/filtered_rectangle_data.csv\n",
      "Processed AOI data saved to /Volumes/T7 Shield/fox/et/sub-091_tv-foxnews-08834a6c/ads/7\n",
      "Filtered rectangles saved to /Volumes/T7 Shield/fox/et/sub-091_tv-foxnews-08834a6c/ads/8/filtered_rectangle_data.csv\n",
      "Processed AOI data saved to /Volumes/T7 Shield/fox/et/sub-091_tv-foxnews-08834a6c/ads/8\n",
      "Filtered rectangles saved to /Volumes/T7 Shield/fox/et/sub-091_tv-foxnews-08834a6c/ads/9/filtered_rectangle_data.csv\n",
      "Processed AOI data saved to /Volumes/T7 Shield/fox/et/sub-091_tv-foxnews-08834a6c/ads/9\n",
      "Filtered rectangles saved to /Volumes/T7 Shield/fox/et/sub-091_tv-foxnews-08834a6c/ads/10/filtered_rectangle_data.csv\n",
      "Processed AOI data saved to /Volumes/T7 Shield/fox/et/sub-091_tv-foxnews-08834a6c/ads/10\n",
      "Splitting ads for  sub-101\n",
      "Skipping control or youtube condition\n",
      "Splitting ads for  sub-102\n",
      "Skipping control or youtube condition\n",
      "Splitting ads for  sub-103\n",
      "Skipping control or youtube condition\n",
      "Splitting ads for  sub-112\n",
      "Skipping control or youtube condition\n",
      "Splitting ads for  sub-113\n",
      "Skipping control or youtube condition\n",
      "Splitting ads for  sub-114\n",
      "Skipping control or youtube condition\n",
      "Splitting ads for  sub-120\n",
      "CSV file not found: [Errno 2] No such file or directory: '/Volumes/T7 Shield/fox/eeg/sub-120_task-events.csv'\n",
      "Splitting ads for  sub-121\n",
      "CSV file not found: [Errno 2] No such file or directory: '/Volumes/T7 Shield/fox/eeg/sub-121_task-events.csv'\n",
      "Splitting ads for  sub-123\n",
      "CSV file not found: [Errno 2] No such file or directory: '/Volumes/T7 Shield/fox/eeg/sub-123_task-events.csv'\n",
      "Splitting ads for  sub-124\n",
      "CSV file not found: [Errno 2] No such file or directory: '/Volumes/T7 Shield/fox/eeg/sub-124_task-events.csv'\n",
      "Splitting ads for  sub-125\n",
      "CSV file not found: [Errno 2] No such file or directory: '/Volumes/T7 Shield/fox/eeg/sub-125_task-events.csv'\n",
      "Splitting ads for  sub-126\n",
      "CSV file not found: [Errno 2] No such file or directory: '/Volumes/T7 Shield/fox/eeg/sub-126_task-events.csv'\n",
      "Splitting ads for  sub-127\n",
      "CSV file not found: [Errno 2] No such file or directory: '/Volumes/T7 Shield/fox/eeg/sub-127_task-events.csv'\n",
      "Splitting ads for  sub-129\n",
      "CSV file not found: [Errno 2] No such file or directory: '/Volumes/T7 Shield/fox/eeg/sub-129_task-events.csv'\n",
      "Splitting ads for  sub-130\n",
      "CSV file not found: [Errno 2] No such file or directory: '/Volumes/T7 Shield/fox/eeg/sub-130_task-events.csv'\n",
      "Splitting ads for  sub-131\n",
      "CSV file not found: [Errno 2] No such file or directory: '/Volumes/T7 Shield/fox/eeg/sub-131_task-events.csv'\n",
      "Splitting ads for  sub-132\n",
      "CSV file not found: [Errno 2] No such file or directory: '/Volumes/T7 Shield/fox/eeg/sub-132_task-events.csv'\n",
      "Splitting ads for  sub-133\n",
      "CSV file not found: [Errno 2] No such file or directory: '/Volumes/T7 Shield/fox/eeg/sub-133_task-events.csv'\n",
      "Splitting ads for  sub-134\n",
      "CSV file not found: [Errno 2] No such file or directory: '/Volumes/T7 Shield/fox/eeg/sub-134_task-events.csv'\n",
      "Splitting ads for  sub-135\n",
      "CSV file not found: [Errno 2] No such file or directory: '/Volumes/T7 Shield/fox/eeg/sub-135_task-events.csv'\n",
      "Splitting ads for  sub-136\n",
      "CSV file not found: [Errno 2] No such file or directory: '/Volumes/T7 Shield/fox/eeg/sub-136_task-events.csv'\n",
      "Splitting ads for  sub-137\n",
      "CSV file not found: [Errno 2] No such file or directory: '/Volumes/T7 Shield/fox/eeg/sub-137_task-events.csv'\n",
      "Splitting ads for  sub-138\n",
      "Skipping control or youtube condition\n",
      "Splitting ads for  sub-139\n",
      "CSV file not found: [Errno 2] No such file or directory: '/Volumes/T7 Shield/fox/eeg/sub-139_task-events.csv'\n",
      "Splitting ads for  sub-140\n",
      "CSV file not found: [Errno 2] No such file or directory: '/Volumes/T7 Shield/fox/eeg/sub-140_task-events.csv'\n",
      "Splitting ads for  sub-141\n",
      "CSV file not found: [Errno 2] No such file or directory: '/Volumes/T7 Shield/fox/eeg/sub-141_task-events.csv'\n",
      "Splitting ads for  sub-142\n",
      "CSV file not found: [Errno 2] No such file or directory: '/Volumes/T7 Shield/fox/eeg/sub-142_task-events.csv'\n",
      "Splitting ads for  sub-143\n",
      "CSV file not found: [Errno 2] No such file or directory: '/Volumes/T7 Shield/fox/eeg/sub-143_task-events.csv'\n",
      "Splitting ads for  sub-144\n",
      "CSV file not found: [Errno 2] No such file or directory: '/Volumes/T7 Shield/fox/eeg/sub-144_task-events.csv'\n",
      "Splitting ads for  sub-145\n",
      "CSV file not found: [Errno 2] No such file or directory: '/Volumes/T7 Shield/fox/eeg/sub-145_task-events.csv'\n",
      "Splitting ads for  sub-146\n",
      "Skipping control or youtube condition\n",
      "Splitting ads for  sub-147\n",
      "CSV file not found: [Errno 2] No such file or directory: '/Volumes/T7 Shield/fox/eeg/sub-147_task-events.csv'\n",
      "Splitting ads for  sub-148\n",
      "CSV file not found: [Errno 2] No such file or directory: '/Volumes/T7 Shield/fox/eeg/sub-148_task-events.csv'\n",
      "Splitting ads for  sub-149\n",
      "CSV file not found: [Errno 2] No such file or directory: '/Volumes/T7 Shield/fox/eeg/sub-149_task-events.csv'\n",
      "Splitting ads for  sub-150\n",
      "CSV file not found: [Errno 2] No such file or directory: '/Volumes/T7 Shield/fox/eeg/sub-150_task-events.csv'\n",
      "Splitting ads for  sub-151\n",
      "CSV file not found: [Errno 2] No such file or directory: '/Volumes/T7 Shield/fox/eeg/sub-151_task-events.csv'\n",
      "Splitting ads for  sub-155\n",
      "Skipping control or youtube condition\n",
      "Splitting ads for  sub-159\n",
      "CSV file not found: [Errno 2] No such file or directory: '/Volumes/T7 Shield/fox/eeg/sub-159_task-events.csv'\n",
      "Splitting ads for  sub-160\n",
      "CSV file not found: [Errno 2] No such file or directory: '/Volumes/T7 Shield/fox/eeg/sub-160_task-events.csv'\n",
      "Splitting ads for  sub-165\n",
      "CSV file not found: [Errno 2] No such file or directory: '/Volumes/T7 Shield/fox/eeg/sub-165_task-events.csv'\n",
      "Splitting ads for  sub-166\n",
      "CSV file not found: [Errno 2] No such file or directory: '/Volumes/T7 Shield/fox/eeg/sub-166_task-events.csv'\n",
      "Splitting ads for  sub-167\n",
      "CSV file not found: [Errno 2] No such file or directory: '/Volumes/T7 Shield/fox/eeg/sub-167_task-events.csv'\n",
      "Splitting ads for  sub-173\n",
      "Skipping control or youtube condition\n",
      "Splitting ads for  sub-174\n",
      "CSV file not found: [Errno 2] No such file or directory: '/Volumes/T7 Shield/fox/eeg/sub-174_task-events.csv'\n",
      "Splitting ads for  sub-175\n",
      "CSV file not found: [Errno 2] No such file or directory: '/Volumes/T7 Shield/fox/eeg/sub-175_task-events.csv'\n",
      "Splitting ads for  sub-176\n",
      "CSV file not found: [Errno 2] No such file or directory: '/Volumes/T7 Shield/fox/eeg/sub-176_task-events.csv'\n",
      "Splitting ads for  sub-180\n",
      "CSV file not found: [Errno 2] No such file or directory: '/Volumes/T7 Shield/fox/eeg/sub-180_task-events.csv'\n",
      "Splitting ads for  sub-181\n",
      "CSV file not found: [Errno 2] No such file or directory: '/Volumes/T7 Shield/fox/eeg/sub-181_task-events.csv'\n"
     ]
    }
   ],
   "source": [
    "# with this loop we'll have: TV AOIs, and averaged gaze data for each frame.\n",
    "for subj in subj_folders[:]:\n",
    "    try:\n",
    "        subj_id = subj.split('/')[5].split('_')[0]\n",
    "        print('Splitting ads for ', subj_id)\n",
    "        \n",
    "        # subj info and files\n",
    "        subj_folder = subj\n",
    "\n",
    "        # if subj is in control condition or youtube condition, skip\n",
    "        cond = subj.split('/')[5].split('_')[1].split('-')[1]\n",
    "\n",
    "        if cond == 'control' or cond == 'youtube':\n",
    "            print('Skipping control or youtube condition')\n",
    "            continue\n",
    "\n",
    "\n",
    "        try:\n",
    "            video = glob.glob(os.path.join(subj, '*.mp4'))[0]\n",
    "        except IndexError as e:\n",
    "            error_message = f\"Video file not found: {e}\"\n",
    "            print(error_message)\n",
    "            log_error(error_message, subj=subj)\n",
    "            continue\n",
    "\n",
    "        try:\n",
    "            events_df = pd.read_csv(os.path.join(subj_folder, 'events.csv'))\n",
    "            world_timestamps_df = pd.read_csv(os.path.join(subj_folder, 'world_timestamps.csv'))\n",
    "            task_events_df = pd.read_csv(os.path.join(t7sheild, 'eeg', f'{subj_id}_task-events.csv'))\n",
    "            gaze = pd.read_csv(os.path.join(subj_folder, 'gaze.csv'))\n",
    "            \n",
    "        except FileNotFoundError as e:\n",
    "            error_message = f\"CSV file not found: {e}\"\n",
    "            print(error_message)\n",
    "            log_error(error_message, subj=subj_id)\n",
    "            continue\n",
    "\n",
    "        save_dir = os.path.join(subj, 'ads')\n",
    "        os.makedirs(save_dir, exist_ok=True)\n",
    "\n",
    "        # align pupil labs with openbci data\n",
    "        try:\n",
    "            aligned = align_events(events_df, world_timestamps_df, task_events_df)\n",
    "            aligned.to_csv(os.path.join(save_dir, 'aligned_events.csv'), index=False)\n",
    "        \n",
    "        except Exception as e:\n",
    "            error_message = f\"Error aligning events: {e}\"\n",
    "            print(error_message)\n",
    "            log_error(error_message, subj=subj_id)\n",
    "            continue\n",
    "\n",
    "        # save open qc plots\n",
    "        try:\n",
    "            plot_adjusted_onsets_vs_world_timestamps(aligned, world_timestamps_df, save_dir)\n",
    "            plot_nearest_timestamps(aligned, save_dir)\n",
    "            plot_event_durations(aligned, save_dir)\n",
    "        \n",
    "        except Exception as e:\n",
    "            error_message = f\"Error generating plots: {e}\"\n",
    "            print(error_message)\n",
    "            log_error(error_message, subj=subj_id)\n",
    "            continue\n",
    "\n",
    "        # extract pupil labs videos\n",
    "        try:\n",
    "            process_video_segments(video, world_timestamps_df, aligned, gaze, save_dir)\n",
    "        except Exception as e:\n",
    "            error_message = f\"Error processing video segments: {e}\"\n",
    "            print(error_message)\n",
    "            log_error(error_message, subj=subj_id)\n",
    "            continue\n",
    "\n",
    "        # extract telvision AOI\n",
    "        ads_folders = glob.glob(os.path.join(subj, 'ads', '[0-9]*')) #'[0-9]*'))\n",
    "\n",
    "        for ad_folder in ads_folders:\n",
    "            short_video = glob.glob(os.path.join(ad_folder, '*.mp4'))[0]\n",
    "\n",
    "            # detect tv screens\n",
    "            try:\n",
    "                detect_tv_screen2(short_video, min_width=400, min_height=200, max_width=600, max_height=400, output_folder=ad_folder, save_frame=True)\n",
    "            \n",
    "            except Exception as e:\n",
    "                error_message = f\"Detecting tv screens: {e}\"\n",
    "                print(error_message)\n",
    "                log_error(error_message, subj=short_video)\n",
    "                continue\n",
    "\n",
    "            # filter rectangles\n",
    "            try:\n",
    "\n",
    "                csv_path = os.path.join(ad_folder, 'rectangle_data.csv')\n",
    "                output_csv_path = os.path.join(ad_folder, 'filtered_rectangle_data.csv')\n",
    "                filter_rectangles(csv_path, output_csv_path)\n",
    "            \n",
    "            except Exception as e:\n",
    "                error_message = f\"Error filtering rectangles: {e}\"\n",
    "                print(error_message)\n",
    "                log_error(error_message, subj=subj_id)\n",
    "                continue\n",
    "\n",
    "            # average gaze data\n",
    "            try:\n",
    "\n",
    "                gaze_data_path = os.path.join(ad_folder, 'gaze.csv')\n",
    "                averaged_gaze_output = average_gaze_data(gaze_data_path, world_timestamps_path=world_timestamps_df)\n",
    "                averaged_gaze_output.to_csv(os.path.join(ad_folder, 'averaged_gaze_data.csv'))\n",
    "            \n",
    "            except Exception as e:\n",
    "                error_message = f\"Error averaging gaze data: {e}\"\n",
    "                print(error_message)\n",
    "                log_error(error_message, subj=subj_id)\n",
    "                continue\n",
    "\n",
    "            # proces AOI data\n",
    "            try:\n",
    "                process_aoi_data(\n",
    "                    aois_csv_path=os.path.join(ad_folder, 'filtered_rectangle_data.csv'),\n",
    "                    timestamps_csv_path=os.path.join(ad_folder, 'averaged_gaze_data.csv'),\n",
    "                    output_folder=ad_folder\n",
    "                )\n",
    "            except Exception as e:\n",
    "                error_message = f\"Error processing AOI data: {e}\"\n",
    "                print(error_message)\n",
    "                log_error(error_message, subj=subj_id)\n",
    "                continue\n",
    "            \n",
    "\n",
    "\n",
    "    except Exception as e:\n",
    "        error_message = f\"Unexpected error: {e}\"\n",
    "        print(error_message)\n",
    "        log_error(error_message, subj=subj_id)"
   ]
  },
  {
   "cell_type": "code",
   "execution_count": 48,
   "metadata": {},
   "outputs": [
    {
     "name": "stdout",
     "output_type": "stream",
     "text": [
      "Processing gaze data in ads for  sub-021\n",
      "Unexpected error: [Errno 2] No such file or directory: '/Volumes/T7 Shield/fox/et/sub-021_tv-pickers-97606087/ads/aligned_events.csv'\n",
      "Processing gaze data in ads for  sub-022\n",
      "Processing ad  2 in  /Volumes/T7 Shield/fox/et/sub-022_tv-cnn-6db56780/ads/2/2.mp4\n"
     ]
    },
    {
     "name": "stderr",
     "output_type": "stream",
     "text": [
      "No accelerated colorspace conversion found from yuv420p to rgb24.\n",
      "No accelerated colorspace conversion found from yuv420p to rgb24.\n",
      " (repeated 600 more times)\n"
     ]
    },
    {
     "name": "stdout",
     "output_type": "stream",
     "text": [
      "Output video with averaged gaze points, fixations, and scanpath saved as /Volumes/T7 Shield/fox/et/sub-022_tv-cnn-6db56780/ads/2/output_with_aoi_and_gaze.mp4\n",
      "Processing ad  3 in  /Volumes/T7 Shield/fox/et/sub-022_tv-cnn-6db56780/ads/3/3.mp4\n"
     ]
    },
    {
     "name": "stderr",
     "output_type": "stream",
     "text": [
      "No accelerated colorspace conversion found from yuv420p to rgb24.\n",
      "No accelerated colorspace conversion found from yuv420p to rgb24.\n",
      " (repeated 132 more times)\n",
      "No accelerated colorspace conversion found from yuv420p to rgb24.\n",
      "No accelerated colorspace conversion found from yuv420p to rgb24.\n",
      " (repeated 467 more times)\n"
     ]
    },
    {
     "name": "stdout",
     "output_type": "stream",
     "text": [
      "Output video with averaged gaze points, fixations, and scanpath saved as /Volumes/T7 Shield/fox/et/sub-022_tv-cnn-6db56780/ads/3/output_with_aoi_and_gaze.mp4\n",
      "Processing ad  4 in  /Volumes/T7 Shield/fox/et/sub-022_tv-cnn-6db56780/ads/4/4.mp4\n"
     ]
    },
    {
     "name": "stderr",
     "output_type": "stream",
     "text": [
      "No accelerated colorspace conversion found from yuv420p to rgb24.\n",
      "No accelerated colorspace conversion found from yuv420p to rgb24.\n",
      " (repeated 1500 more times)\n"
     ]
    },
    {
     "name": "stdout",
     "output_type": "stream",
     "text": [
      "Output video with averaged gaze points, fixations, and scanpath saved as /Volumes/T7 Shield/fox/et/sub-022_tv-cnn-6db56780/ads/4/output_with_aoi_and_gaze.mp4\n",
      "Processing ad  5 in  /Volumes/T7 Shield/fox/et/sub-022_tv-cnn-6db56780/ads/5/5.mp4\n"
     ]
    },
    {
     "name": "stderr",
     "output_type": "stream",
     "text": [
      "No accelerated colorspace conversion found from yuv420p to rgb24.\n",
      "No accelerated colorspace conversion found from yuv420p to rgb24.\n",
      " (repeated 300 more times)\n"
     ]
    },
    {
     "name": "stdout",
     "output_type": "stream",
     "text": [
      "Output video with averaged gaze points, fixations, and scanpath saved as /Volumes/T7 Shield/fox/et/sub-022_tv-cnn-6db56780/ads/5/output_with_aoi_and_gaze.mp4\n",
      "Processing ad  7 in  /Volumes/T7 Shield/fox/et/sub-022_tv-cnn-6db56780/ads/7/7.mp4\n"
     ]
    },
    {
     "name": "stderr",
     "output_type": "stream",
     "text": [
      "No accelerated colorspace conversion found from yuv420p to rgb24.\n",
      "No accelerated colorspace conversion found from yuv420p to rgb24.\n",
      " (repeated 600 more times)\n"
     ]
    },
    {
     "name": "stdout",
     "output_type": "stream",
     "text": [
      "Output video with averaged gaze points, fixations, and scanpath saved as /Volumes/T7 Shield/fox/et/sub-022_tv-cnn-6db56780/ads/7/output_with_aoi_and_gaze.mp4\n",
      "Processing ad  8 in  /Volumes/T7 Shield/fox/et/sub-022_tv-cnn-6db56780/ads/8/8.mp4\n"
     ]
    },
    {
     "name": "stderr",
     "output_type": "stream",
     "text": [
      "No accelerated colorspace conversion found from yuv420p to rgb24.\n",
      "No accelerated colorspace conversion found from yuv420p to rgb24.\n",
      " (repeated 600 more times)\n"
     ]
    },
    {
     "name": "stdout",
     "output_type": "stream",
     "text": [
      "Output video with averaged gaze points, fixations, and scanpath saved as /Volumes/T7 Shield/fox/et/sub-022_tv-cnn-6db56780/ads/8/output_with_aoi_and_gaze.mp4\n",
      "Processing ad  9 in  /Volumes/T7 Shield/fox/et/sub-022_tv-cnn-6db56780/ads/9/9.mp4\n"
     ]
    },
    {
     "name": "stderr",
     "output_type": "stream",
     "text": [
      "No accelerated colorspace conversion found from yuv420p to rgb24.\n",
      "No accelerated colorspace conversion found from yuv420p to rgb24.\n",
      " (repeated 600 more times)\n"
     ]
    },
    {
     "name": "stdout",
     "output_type": "stream",
     "text": [
      "Output video with averaged gaze points, fixations, and scanpath saved as /Volumes/T7 Shield/fox/et/sub-022_tv-cnn-6db56780/ads/9/output_with_aoi_and_gaze.mp4\n",
      "Processing ad  10 in  /Volumes/T7 Shield/fox/et/sub-022_tv-cnn-6db56780/ads/10/10.mp4\n"
     ]
    },
    {
     "name": "stderr",
     "output_type": "stream",
     "text": [
      "No accelerated colorspace conversion found from yuv420p to rgb24.\n",
      "No accelerated colorspace conversion found from yuv420p to rgb24.\n",
      " (repeated 300 more times)\n"
     ]
    },
    {
     "name": "stdout",
     "output_type": "stream",
     "text": [
      "Output video with averaged gaze points, fixations, and scanpath saved as /Volumes/T7 Shield/fox/et/sub-022_tv-cnn-6db56780/ads/10/output_with_aoi_and_gaze.mp4\n",
      "Processing gaze data in ads for  sub-023\n",
      "Processing ad  2 in  /Volumes/T7 Shield/fox/et/sub-023_tv-continental-594a5c2b/ads/2/2.mp4\n"
     ]
    },
    {
     "name": "stderr",
     "output_type": "stream",
     "text": [
      "No accelerated colorspace conversion found from yuv420p to rgb24.\n",
      "No accelerated colorspace conversion found from yuv420p to rgb24.\n",
      " (repeated 600 more times)\n"
     ]
    },
    {
     "name": "stdout",
     "output_type": "stream",
     "text": [
      "Output video with averaged gaze points, fixations, and scanpath saved as /Volumes/T7 Shield/fox/et/sub-023_tv-continental-594a5c2b/ads/2/output_with_aoi_and_gaze.mp4\n",
      "Processing ad  3 in  /Volumes/T7 Shield/fox/et/sub-023_tv-continental-594a5c2b/ads/3/3.mp4\n"
     ]
    },
    {
     "name": "stderr",
     "output_type": "stream",
     "text": [
      "No accelerated colorspace conversion found from yuv420p to rgb24.\n",
      "No accelerated colorspace conversion found from yuv420p to rgb24.\n",
      " (repeated 600 more times)\n"
     ]
    },
    {
     "name": "stdout",
     "output_type": "stream",
     "text": [
      "Output video with averaged gaze points, fixations, and scanpath saved as /Volumes/T7 Shield/fox/et/sub-023_tv-continental-594a5c2b/ads/3/output_with_aoi_and_gaze.mp4\n",
      "Processing ad  4 in  /Volumes/T7 Shield/fox/et/sub-023_tv-continental-594a5c2b/ads/4/4.mp4\n"
     ]
    },
    {
     "name": "stderr",
     "output_type": "stream",
     "text": [
      "No accelerated colorspace conversion found from yuv420p to rgb24.\n",
      "No accelerated colorspace conversion found from yuv420p to rgb24.\n",
      " (repeated 1500 more times)\n"
     ]
    },
    {
     "name": "stdout",
     "output_type": "stream",
     "text": [
      "Output video with averaged gaze points, fixations, and scanpath saved as /Volumes/T7 Shield/fox/et/sub-023_tv-continental-594a5c2b/ads/4/output_with_aoi_and_gaze.mp4\n",
      "Processing ad  5 in  /Volumes/T7 Shield/fox/et/sub-023_tv-continental-594a5c2b/ads/5/5.mp4\n"
     ]
    },
    {
     "name": "stderr",
     "output_type": "stream",
     "text": [
      "No accelerated colorspace conversion found from yuv420p to rgb24.\n",
      "No accelerated colorspace conversion found from yuv420p to rgb24.\n",
      " (repeated 300 more times)\n"
     ]
    },
    {
     "name": "stdout",
     "output_type": "stream",
     "text": [
      "Output video with averaged gaze points, fixations, and scanpath saved as /Volumes/T7 Shield/fox/et/sub-023_tv-continental-594a5c2b/ads/5/output_with_aoi_and_gaze.mp4\n",
      "Processing ad  7 in  /Volumes/T7 Shield/fox/et/sub-023_tv-continental-594a5c2b/ads/7/7.mp4\n"
     ]
    },
    {
     "name": "stderr",
     "output_type": "stream",
     "text": [
      "No accelerated colorspace conversion found from yuv420p to rgb24.\n",
      "No accelerated colorspace conversion found from yuv420p to rgb24.\n",
      " (repeated 600 more times)\n"
     ]
    },
    {
     "name": "stdout",
     "output_type": "stream",
     "text": [
      "Output video with averaged gaze points, fixations, and scanpath saved as /Volumes/T7 Shield/fox/et/sub-023_tv-continental-594a5c2b/ads/7/output_with_aoi_and_gaze.mp4\n",
      "Processing ad  8 in  /Volumes/T7 Shield/fox/et/sub-023_tv-continental-594a5c2b/ads/8/8.mp4\n"
     ]
    },
    {
     "name": "stderr",
     "output_type": "stream",
     "text": [
      "No accelerated colorspace conversion found from yuv420p to rgb24.\n",
      "No accelerated colorspace conversion found from yuv420p to rgb24.\n",
      " (repeated 600 more times)\n"
     ]
    },
    {
     "name": "stdout",
     "output_type": "stream",
     "text": [
      "Output video with averaged gaze points, fixations, and scanpath saved as /Volumes/T7 Shield/fox/et/sub-023_tv-continental-594a5c2b/ads/8/output_with_aoi_and_gaze.mp4\n",
      "Processing ad  9 in  /Volumes/T7 Shield/fox/et/sub-023_tv-continental-594a5c2b/ads/9/9.mp4\n"
     ]
    },
    {
     "name": "stderr",
     "output_type": "stream",
     "text": [
      "No accelerated colorspace conversion found from yuv420p to rgb24.\n",
      "No accelerated colorspace conversion found from yuv420p to rgb24.\n",
      " (repeated 600 more times)\n"
     ]
    },
    {
     "name": "stdout",
     "output_type": "stream",
     "text": [
      "Output video with averaged gaze points, fixations, and scanpath saved as /Volumes/T7 Shield/fox/et/sub-023_tv-continental-594a5c2b/ads/9/output_with_aoi_and_gaze.mp4\n",
      "Processing ad  10 in  /Volumes/T7 Shield/fox/et/sub-023_tv-continental-594a5c2b/ads/10/10.mp4\n"
     ]
    },
    {
     "name": "stderr",
     "output_type": "stream",
     "text": [
      "No accelerated colorspace conversion found from yuv420p to rgb24.\n",
      "No accelerated colorspace conversion found from yuv420p to rgb24.\n",
      " (repeated 300 more times)\n"
     ]
    },
    {
     "name": "stdout",
     "output_type": "stream",
     "text": [
      "Output video with averaged gaze points, fixations, and scanpath saved as /Volumes/T7 Shield/fox/et/sub-023_tv-continental-594a5c2b/ads/10/output_with_aoi_and_gaze.mp4\n",
      "Processing gaze data in ads for  sub-024\n",
      "Unexpected error: [Errno 2] No such file or directory: '/Volumes/T7 Shield/fox/et/sub-024_tv-fox-96dfc1c4/ads/aligned_events.csv'\n",
      "Processing gaze data in ads for  sub-025\n",
      "Processing ad  2 in  /Volumes/T7 Shield/fox/et/sub-025_tv-nfl-a6e3e656/ads/2/2.mp4\n"
     ]
    },
    {
     "name": "stderr",
     "output_type": "stream",
     "text": [
      "No accelerated colorspace conversion found from yuv420p to rgb24.\n",
      "No accelerated colorspace conversion found from yuv420p to rgb24.\n",
      " (repeated 600 more times)\n"
     ]
    },
    {
     "name": "stdout",
     "output_type": "stream",
     "text": [
      "Output video with averaged gaze points, fixations, and scanpath saved as /Volumes/T7 Shield/fox/et/sub-025_tv-nfl-a6e3e656/ads/2/output_with_aoi_and_gaze.mp4\n",
      "Processing ad  3 in  /Volumes/T7 Shield/fox/et/sub-025_tv-nfl-a6e3e656/ads/3/3.mp4\n"
     ]
    },
    {
     "name": "stderr",
     "output_type": "stream",
     "text": [
      "No accelerated colorspace conversion found from yuv420p to rgb24.\n",
      "No accelerated colorspace conversion found from yuv420p to rgb24.\n",
      " (repeated 600 more times)\n"
     ]
    },
    {
     "name": "stdout",
     "output_type": "stream",
     "text": [
      "Output video with averaged gaze points, fixations, and scanpath saved as /Volumes/T7 Shield/fox/et/sub-025_tv-nfl-a6e3e656/ads/3/output_with_aoi_and_gaze.mp4\n",
      "Processing ad  4 in  /Volumes/T7 Shield/fox/et/sub-025_tv-nfl-a6e3e656/ads/4/4.mp4\n"
     ]
    },
    {
     "name": "stderr",
     "output_type": "stream",
     "text": [
      "No accelerated colorspace conversion found from yuv420p to rgb24.\n",
      "No accelerated colorspace conversion found from yuv420p to rgb24.\n",
      " (repeated 1500 more times)\n"
     ]
    },
    {
     "name": "stdout",
     "output_type": "stream",
     "text": [
      "Output video with averaged gaze points, fixations, and scanpath saved as /Volumes/T7 Shield/fox/et/sub-025_tv-nfl-a6e3e656/ads/4/output_with_aoi_and_gaze.mp4\n",
      "Processing ad  5 in  /Volumes/T7 Shield/fox/et/sub-025_tv-nfl-a6e3e656/ads/5/5.mp4\n"
     ]
    },
    {
     "name": "stderr",
     "output_type": "stream",
     "text": [
      "No accelerated colorspace conversion found from yuv420p to rgb24.\n",
      "No accelerated colorspace conversion found from yuv420p to rgb24.\n",
      " (repeated 300 more times)\n"
     ]
    },
    {
     "name": "stdout",
     "output_type": "stream",
     "text": [
      "Output video with averaged gaze points, fixations, and scanpath saved as /Volumes/T7 Shield/fox/et/sub-025_tv-nfl-a6e3e656/ads/5/output_with_aoi_and_gaze.mp4\n",
      "Processing ad  7 in  /Volumes/T7 Shield/fox/et/sub-025_tv-nfl-a6e3e656/ads/7/7.mp4\n"
     ]
    },
    {
     "name": "stderr",
     "output_type": "stream",
     "text": [
      "No accelerated colorspace conversion found from yuv420p to rgb24.\n",
      "No accelerated colorspace conversion found from yuv420p to rgb24.\n",
      " (repeated 600 more times)\n"
     ]
    },
    {
     "name": "stdout",
     "output_type": "stream",
     "text": [
      "Output video with averaged gaze points, fixations, and scanpath saved as /Volumes/T7 Shield/fox/et/sub-025_tv-nfl-a6e3e656/ads/7/output_with_aoi_and_gaze.mp4\n",
      "Processing ad  8 in  /Volumes/T7 Shield/fox/et/sub-025_tv-nfl-a6e3e656/ads/8/8.mp4\n"
     ]
    },
    {
     "name": "stderr",
     "output_type": "stream",
     "text": [
      "No accelerated colorspace conversion found from yuv420p to rgb24.\n",
      "No accelerated colorspace conversion found from yuv420p to rgb24.\n",
      " (repeated 600 more times)\n"
     ]
    },
    {
     "name": "stdout",
     "output_type": "stream",
     "text": [
      "Output video with averaged gaze points, fixations, and scanpath saved as /Volumes/T7 Shield/fox/et/sub-025_tv-nfl-a6e3e656/ads/8/output_with_aoi_and_gaze.mp4\n",
      "Processing ad  9 in  /Volumes/T7 Shield/fox/et/sub-025_tv-nfl-a6e3e656/ads/9/9.mp4\n"
     ]
    },
    {
     "name": "stderr",
     "output_type": "stream",
     "text": [
      "No accelerated colorspace conversion found from yuv420p to rgb24.\n",
      "No accelerated colorspace conversion found from yuv420p to rgb24.\n",
      " (repeated 600 more times)\n"
     ]
    },
    {
     "name": "stdout",
     "output_type": "stream",
     "text": [
      "Output video with averaged gaze points, fixations, and scanpath saved as /Volumes/T7 Shield/fox/et/sub-025_tv-nfl-a6e3e656/ads/9/output_with_aoi_and_gaze.mp4\n",
      "Processing ad  10 in  /Volumes/T7 Shield/fox/et/sub-025_tv-nfl-a6e3e656/ads/10/10.mp4\n"
     ]
    },
    {
     "name": "stderr",
     "output_type": "stream",
     "text": [
      "No accelerated colorspace conversion found from yuv420p to rgb24.\n",
      "No accelerated colorspace conversion found from yuv420p to rgb24.\n",
      " (repeated 300 more times)\n"
     ]
    },
    {
     "name": "stdout",
     "output_type": "stream",
     "text": [
      "Output video with averaged gaze points, fixations, and scanpath saved as /Volumes/T7 Shield/fox/et/sub-025_tv-nfl-a6e3e656/ads/10/output_with_aoi_and_gaze.mp4\n",
      "Processing gaze data in ads for  sub-027\n",
      "Processing ad  2 in  /Volumes/T7 Shield/fox/et/sub-027_tv-lego-2e4ef2bf/ads/2/2.mp4\n"
     ]
    },
    {
     "name": "stderr",
     "output_type": "stream",
     "text": [
      "No accelerated colorspace conversion found from yuv420p to rgb24.\n",
      "No accelerated colorspace conversion found from yuv420p to rgb24.\n",
      " (repeated 600 more times)\n"
     ]
    },
    {
     "name": "stdout",
     "output_type": "stream",
     "text": [
      "Output video with averaged gaze points, fixations, and scanpath saved as /Volumes/T7 Shield/fox/et/sub-027_tv-lego-2e4ef2bf/ads/2/output_with_aoi_and_gaze.mp4\n",
      "Processing ad  3 in  /Volumes/T7 Shield/fox/et/sub-027_tv-lego-2e4ef2bf/ads/3/3.mp4\n"
     ]
    },
    {
     "name": "stderr",
     "output_type": "stream",
     "text": [
      "No accelerated colorspace conversion found from yuv420p to rgb24.\n",
      "No accelerated colorspace conversion found from yuv420p to rgb24.\n",
      " (repeated 600 more times)\n"
     ]
    },
    {
     "name": "stdout",
     "output_type": "stream",
     "text": [
      "Output video with averaged gaze points, fixations, and scanpath saved as /Volumes/T7 Shield/fox/et/sub-027_tv-lego-2e4ef2bf/ads/3/output_with_aoi_and_gaze.mp4\n",
      "Processing ad  4 in  /Volumes/T7 Shield/fox/et/sub-027_tv-lego-2e4ef2bf/ads/4/4.mp4\n"
     ]
    },
    {
     "name": "stderr",
     "output_type": "stream",
     "text": [
      "No accelerated colorspace conversion found from yuv420p to rgb24.\n",
      "No accelerated colorspace conversion found from yuv420p to rgb24.\n",
      " (repeated 1500 more times)\n"
     ]
    },
    {
     "name": "stdout",
     "output_type": "stream",
     "text": [
      "Output video with averaged gaze points, fixations, and scanpath saved as /Volumes/T7 Shield/fox/et/sub-027_tv-lego-2e4ef2bf/ads/4/output_with_aoi_and_gaze.mp4\n",
      "Processing ad  5 in  /Volumes/T7 Shield/fox/et/sub-027_tv-lego-2e4ef2bf/ads/5/5.mp4\n"
     ]
    },
    {
     "name": "stderr",
     "output_type": "stream",
     "text": [
      "No accelerated colorspace conversion found from yuv420p to rgb24.\n",
      "No accelerated colorspace conversion found from yuv420p to rgb24.\n",
      " (repeated 300 more times)\n"
     ]
    },
    {
     "name": "stdout",
     "output_type": "stream",
     "text": [
      "Output video with averaged gaze points, fixations, and scanpath saved as /Volumes/T7 Shield/fox/et/sub-027_tv-lego-2e4ef2bf/ads/5/output_with_aoi_and_gaze.mp4\n",
      "Processing ad  7 in  /Volumes/T7 Shield/fox/et/sub-027_tv-lego-2e4ef2bf/ads/7/7.mp4\n"
     ]
    },
    {
     "name": "stderr",
     "output_type": "stream",
     "text": [
      "No accelerated colorspace conversion found from yuv420p to rgb24.\n",
      "No accelerated colorspace conversion found from yuv420p to rgb24.\n",
      " (repeated 600 more times)\n"
     ]
    },
    {
     "name": "stdout",
     "output_type": "stream",
     "text": [
      "Output video with averaged gaze points, fixations, and scanpath saved as /Volumes/T7 Shield/fox/et/sub-027_tv-lego-2e4ef2bf/ads/7/output_with_aoi_and_gaze.mp4\n",
      "Processing ad  8 in  /Volumes/T7 Shield/fox/et/sub-027_tv-lego-2e4ef2bf/ads/8/8.mp4\n"
     ]
    },
    {
     "name": "stderr",
     "output_type": "stream",
     "text": [
      "No accelerated colorspace conversion found from yuv420p to rgb24.\n",
      "No accelerated colorspace conversion found from yuv420p to rgb24.\n",
      " (repeated 600 more times)\n"
     ]
    },
    {
     "name": "stdout",
     "output_type": "stream",
     "text": [
      "Output video with averaged gaze points, fixations, and scanpath saved as /Volumes/T7 Shield/fox/et/sub-027_tv-lego-2e4ef2bf/ads/8/output_with_aoi_and_gaze.mp4\n",
      "Processing ad  9 in  /Volumes/T7 Shield/fox/et/sub-027_tv-lego-2e4ef2bf/ads/9/9.mp4\n"
     ]
    },
    {
     "name": "stderr",
     "output_type": "stream",
     "text": [
      "No accelerated colorspace conversion found from yuv420p to rgb24.\n",
      "No accelerated colorspace conversion found from yuv420p to rgb24.\n",
      " (repeated 600 more times)\n"
     ]
    },
    {
     "name": "stdout",
     "output_type": "stream",
     "text": [
      "Output video with averaged gaze points, fixations, and scanpath saved as /Volumes/T7 Shield/fox/et/sub-027_tv-lego-2e4ef2bf/ads/9/output_with_aoi_and_gaze.mp4\n",
      "Processing ad  10 in  /Volumes/T7 Shield/fox/et/sub-027_tv-lego-2e4ef2bf/ads/10/10.mp4\n"
     ]
    },
    {
     "name": "stderr",
     "output_type": "stream",
     "text": [
      "No accelerated colorspace conversion found from yuv420p to rgb24.\n",
      "No accelerated colorspace conversion found from yuv420p to rgb24.\n",
      " (repeated 300 more times)\n"
     ]
    },
    {
     "name": "stdout",
     "output_type": "stream",
     "text": [
      "Output video with averaged gaze points, fixations, and scanpath saved as /Volumes/T7 Shield/fox/et/sub-027_tv-lego-2e4ef2bf/ads/10/output_with_aoi_and_gaze.mp4\n",
      "Processing gaze data in ads for  sub-028\n",
      "Processing ad  2 in  /Volumes/T7 Shield/fox/et/sub-028_tv-bigmood-76d32333/ads/2/2.mp4\n"
     ]
    },
    {
     "name": "stderr",
     "output_type": "stream",
     "text": [
      "No accelerated colorspace conversion found from yuv420p to rgb24.\n",
      "No accelerated colorspace conversion found from yuv420p to rgb24.\n",
      " (repeated 600 more times)\n"
     ]
    },
    {
     "name": "stdout",
     "output_type": "stream",
     "text": [
      "Output video with averaged gaze points, fixations, and scanpath saved as /Volumes/T7 Shield/fox/et/sub-028_tv-bigmood-76d32333/ads/2/output_with_aoi_and_gaze.mp4\n",
      "Processing ad  3 in  /Volumes/T7 Shield/fox/et/sub-028_tv-bigmood-76d32333/ads/3/3.mp4\n"
     ]
    },
    {
     "name": "stderr",
     "output_type": "stream",
     "text": [
      "No accelerated colorspace conversion found from yuv420p to rgb24.\n",
      "No accelerated colorspace conversion found from yuv420p to rgb24.\n",
      " (repeated 600 more times)\n"
     ]
    },
    {
     "name": "stdout",
     "output_type": "stream",
     "text": [
      "Output video with averaged gaze points, fixations, and scanpath saved as /Volumes/T7 Shield/fox/et/sub-028_tv-bigmood-76d32333/ads/3/output_with_aoi_and_gaze.mp4\n",
      "Processing ad  4 in  /Volumes/T7 Shield/fox/et/sub-028_tv-bigmood-76d32333/ads/4/4.mp4\n"
     ]
    },
    {
     "name": "stderr",
     "output_type": "stream",
     "text": [
      "No accelerated colorspace conversion found from yuv420p to rgb24.\n",
      "No accelerated colorspace conversion found from yuv420p to rgb24.\n",
      " (repeated 1500 more times)\n"
     ]
    },
    {
     "name": "stdout",
     "output_type": "stream",
     "text": [
      "Output video with averaged gaze points, fixations, and scanpath saved as /Volumes/T7 Shield/fox/et/sub-028_tv-bigmood-76d32333/ads/4/output_with_aoi_and_gaze.mp4\n",
      "Processing ad  5 in  /Volumes/T7 Shield/fox/et/sub-028_tv-bigmood-76d32333/ads/5/5.mp4\n"
     ]
    },
    {
     "name": "stderr",
     "output_type": "stream",
     "text": [
      "No accelerated colorspace conversion found from yuv420p to rgb24.\n",
      "No accelerated colorspace conversion found from yuv420p to rgb24.\n",
      " (repeated 300 more times)\n"
     ]
    },
    {
     "name": "stdout",
     "output_type": "stream",
     "text": [
      "Output video with averaged gaze points, fixations, and scanpath saved as /Volumes/T7 Shield/fox/et/sub-028_tv-bigmood-76d32333/ads/5/output_with_aoi_and_gaze.mp4\n",
      "Processing ad  7 in  /Volumes/T7 Shield/fox/et/sub-028_tv-bigmood-76d32333/ads/7/7.mp4\n"
     ]
    },
    {
     "name": "stderr",
     "output_type": "stream",
     "text": [
      "No accelerated colorspace conversion found from yuv420p to rgb24.\n",
      "No accelerated colorspace conversion found from yuv420p to rgb24.\n",
      " (repeated 600 more times)\n"
     ]
    },
    {
     "name": "stdout",
     "output_type": "stream",
     "text": [
      "Output video with averaged gaze points, fixations, and scanpath saved as /Volumes/T7 Shield/fox/et/sub-028_tv-bigmood-76d32333/ads/7/output_with_aoi_and_gaze.mp4\n",
      "Processing ad  8 in  /Volumes/T7 Shield/fox/et/sub-028_tv-bigmood-76d32333/ads/8/8.mp4\n"
     ]
    },
    {
     "name": "stderr",
     "output_type": "stream",
     "text": [
      "No accelerated colorspace conversion found from yuv420p to rgb24.\n",
      "No accelerated colorspace conversion found from yuv420p to rgb24.\n",
      " (repeated 600 more times)\n"
     ]
    },
    {
     "name": "stdout",
     "output_type": "stream",
     "text": [
      "Output video with averaged gaze points, fixations, and scanpath saved as /Volumes/T7 Shield/fox/et/sub-028_tv-bigmood-76d32333/ads/8/output_with_aoi_and_gaze.mp4\n",
      "Processing ad  9 in  /Volumes/T7 Shield/fox/et/sub-028_tv-bigmood-76d32333/ads/9/9.mp4\n"
     ]
    },
    {
     "name": "stderr",
     "output_type": "stream",
     "text": [
      "No accelerated colorspace conversion found from yuv420p to rgb24.\n",
      "No accelerated colorspace conversion found from yuv420p to rgb24.\n",
      " (repeated 600 more times)\n"
     ]
    },
    {
     "name": "stdout",
     "output_type": "stream",
     "text": [
      "Output video with averaged gaze points, fixations, and scanpath saved as /Volumes/T7 Shield/fox/et/sub-028_tv-bigmood-76d32333/ads/9/output_with_aoi_and_gaze.mp4\n",
      "Processing ad  10 in  /Volumes/T7 Shield/fox/et/sub-028_tv-bigmood-76d32333/ads/10/10.mp4\n"
     ]
    },
    {
     "name": "stderr",
     "output_type": "stream",
     "text": [
      "No accelerated colorspace conversion found from yuv420p to rgb24.\n",
      "No accelerated colorspace conversion found from yuv420p to rgb24.\n",
      " (repeated 300 more times)\n"
     ]
    },
    {
     "name": "stdout",
     "output_type": "stream",
     "text": [
      "Output video with averaged gaze points, fixations, and scanpath saved as /Volumes/T7 Shield/fox/et/sub-028_tv-bigmood-76d32333/ads/10/output_with_aoi_and_gaze.mp4\n",
      "Processing gaze data in ads for  sub-029\n",
      "Processing ad  2 in  /Volumes/T7 Shield/fox/et/sub-029_tv-pickers-bf2ffb67/ads/2/2.mp4\n"
     ]
    },
    {
     "name": "stderr",
     "output_type": "stream",
     "text": [
      "No accelerated colorspace conversion found from yuv420p to rgb24.\n",
      "No accelerated colorspace conversion found from yuv420p to rgb24.\n",
      " (repeated 720 more times)\n"
     ]
    },
    {
     "name": "stdout",
     "output_type": "stream",
     "text": [
      "Output video with averaged gaze points, fixations, and scanpath saved as /Volumes/T7 Shield/fox/et/sub-029_tv-pickers-bf2ffb67/ads/2/output_with_aoi_and_gaze.mp4\n",
      "Processing ad  3 in  /Volumes/T7 Shield/fox/et/sub-029_tv-pickers-bf2ffb67/ads/3/3.mp4\n"
     ]
    },
    {
     "name": "stderr",
     "output_type": "stream",
     "text": [
      "No accelerated colorspace conversion found from yuv420p to rgb24.\n",
      "No accelerated colorspace conversion found from yuv420p to rgb24.\n",
      " (repeated 720 more times)\n"
     ]
    },
    {
     "name": "stdout",
     "output_type": "stream",
     "text": [
      "Output video with averaged gaze points, fixations, and scanpath saved as /Volumes/T7 Shield/fox/et/sub-029_tv-pickers-bf2ffb67/ads/3/output_with_aoi_and_gaze.mp4\n",
      "Processing ad  4 in  /Volumes/T7 Shield/fox/et/sub-029_tv-pickers-bf2ffb67/ads/4/4.mp4\n"
     ]
    },
    {
     "name": "stderr",
     "output_type": "stream",
     "text": [
      "No accelerated colorspace conversion found from yuv420p to rgb24.\n",
      "No accelerated colorspace conversion found from yuv420p to rgb24.\n",
      " (repeated 1800 more times)\n"
     ]
    },
    {
     "name": "stdout",
     "output_type": "stream",
     "text": [
      "Output video with averaged gaze points, fixations, and scanpath saved as /Volumes/T7 Shield/fox/et/sub-029_tv-pickers-bf2ffb67/ads/4/output_with_aoi_and_gaze.mp4\n",
      "Processing ad  5 in  /Volumes/T7 Shield/fox/et/sub-029_tv-pickers-bf2ffb67/ads/5/5.mp4\n"
     ]
    },
    {
     "name": "stderr",
     "output_type": "stream",
     "text": [
      "No accelerated colorspace conversion found from yuv420p to rgb24.\n",
      "No accelerated colorspace conversion found from yuv420p to rgb24.\n",
      " (repeated 360 more times)\n"
     ]
    },
    {
     "name": "stdout",
     "output_type": "stream",
     "text": [
      "Output video with averaged gaze points, fixations, and scanpath saved as /Volumes/T7 Shield/fox/et/sub-029_tv-pickers-bf2ffb67/ads/5/output_with_aoi_and_gaze.mp4\n",
      "Processing ad  7 in  /Volumes/T7 Shield/fox/et/sub-029_tv-pickers-bf2ffb67/ads/7/7.mp4\n"
     ]
    },
    {
     "name": "stderr",
     "output_type": "stream",
     "text": [
      "No accelerated colorspace conversion found from yuv420p to rgb24.\n",
      "No accelerated colorspace conversion found from yuv420p to rgb24.\n",
      " (repeated 720 more times)\n"
     ]
    },
    {
     "name": "stdout",
     "output_type": "stream",
     "text": [
      "Output video with averaged gaze points, fixations, and scanpath saved as /Volumes/T7 Shield/fox/et/sub-029_tv-pickers-bf2ffb67/ads/7/output_with_aoi_and_gaze.mp4\n",
      "Processing ad  8 in  /Volumes/T7 Shield/fox/et/sub-029_tv-pickers-bf2ffb67/ads/8/8.mp4\n"
     ]
    },
    {
     "name": "stderr",
     "output_type": "stream",
     "text": [
      "No accelerated colorspace conversion found from yuv420p to rgb24.\n",
      "No accelerated colorspace conversion found from yuv420p to rgb24.\n",
      " (repeated 720 more times)\n"
     ]
    },
    {
     "name": "stdout",
     "output_type": "stream",
     "text": [
      "Output video with averaged gaze points, fixations, and scanpath saved as /Volumes/T7 Shield/fox/et/sub-029_tv-pickers-bf2ffb67/ads/8/output_with_aoi_and_gaze.mp4\n",
      "Processing ad  9 in  /Volumes/T7 Shield/fox/et/sub-029_tv-pickers-bf2ffb67/ads/9/9.mp4\n"
     ]
    },
    {
     "name": "stderr",
     "output_type": "stream",
     "text": [
      "No accelerated colorspace conversion found from yuv420p to rgb24.\n",
      "No accelerated colorspace conversion found from yuv420p to rgb24.\n",
      " (repeated 720 more times)\n"
     ]
    },
    {
     "name": "stdout",
     "output_type": "stream",
     "text": [
      "Output video with averaged gaze points, fixations, and scanpath saved as /Volumes/T7 Shield/fox/et/sub-029_tv-pickers-bf2ffb67/ads/9/output_with_aoi_and_gaze.mp4\n",
      "Processing ad  10 in  /Volumes/T7 Shield/fox/et/sub-029_tv-pickers-bf2ffb67/ads/10/10.mp4\n"
     ]
    },
    {
     "name": "stderr",
     "output_type": "stream",
     "text": [
      "No accelerated colorspace conversion found from yuv420p to rgb24.\n",
      "No accelerated colorspace conversion found from yuv420p to rgb24.\n",
      " (repeated 360 more times)\n"
     ]
    },
    {
     "name": "stdout",
     "output_type": "stream",
     "text": [
      "Output video with averaged gaze points, fixations, and scanpath saved as /Volumes/T7 Shield/fox/et/sub-029_tv-pickers-bf2ffb67/ads/10/output_with_aoi_and_gaze.mp4\n",
      "Processing gaze data in ads for  sub-030\n",
      "Processing ad  2 in  /Volumes/T7 Shield/fox/et/sub-030_tv-cnn-b8d33fbe/ads/2/2.mp4\n"
     ]
    },
    {
     "name": "stderr",
     "output_type": "stream",
     "text": [
      "No accelerated colorspace conversion found from yuv420p to rgb24.\n",
      "No accelerated colorspace conversion found from yuv420p to rgb24.\n",
      " (repeated 600 more times)\n"
     ]
    },
    {
     "name": "stdout",
     "output_type": "stream",
     "text": [
      "Output video with averaged gaze points, fixations, and scanpath saved as /Volumes/T7 Shield/fox/et/sub-030_tv-cnn-b8d33fbe/ads/2/output_with_aoi_and_gaze.mp4\n",
      "Processing ad  3 in  /Volumes/T7 Shield/fox/et/sub-030_tv-cnn-b8d33fbe/ads/3/3.mp4\n"
     ]
    },
    {
     "name": "stderr",
     "output_type": "stream",
     "text": [
      "No accelerated colorspace conversion found from yuv420p to rgb24.\n",
      "No accelerated colorspace conversion found from yuv420p to rgb24.\n",
      " (repeated 600 more times)\n"
     ]
    },
    {
     "name": "stdout",
     "output_type": "stream",
     "text": [
      "Output video with averaged gaze points, fixations, and scanpath saved as /Volumes/T7 Shield/fox/et/sub-030_tv-cnn-b8d33fbe/ads/3/output_with_aoi_and_gaze.mp4\n",
      "Processing ad  4 in  /Volumes/T7 Shield/fox/et/sub-030_tv-cnn-b8d33fbe/ads/4/4.mp4\n"
     ]
    },
    {
     "name": "stderr",
     "output_type": "stream",
     "text": [
      "No accelerated colorspace conversion found from yuv420p to rgb24.\n",
      "No accelerated colorspace conversion found from yuv420p to rgb24.\n",
      " (repeated 1500 more times)\n"
     ]
    },
    {
     "name": "stdout",
     "output_type": "stream",
     "text": [
      "Output video with averaged gaze points, fixations, and scanpath saved as /Volumes/T7 Shield/fox/et/sub-030_tv-cnn-b8d33fbe/ads/4/output_with_aoi_and_gaze.mp4\n",
      "Processing ad  5 in  /Volumes/T7 Shield/fox/et/sub-030_tv-cnn-b8d33fbe/ads/5/5.mp4\n"
     ]
    },
    {
     "name": "stderr",
     "output_type": "stream",
     "text": [
      "No accelerated colorspace conversion found from yuv420p to rgb24.\n",
      "No accelerated colorspace conversion found from yuv420p to rgb24.\n",
      " (repeated 300 more times)\n"
     ]
    },
    {
     "name": "stdout",
     "output_type": "stream",
     "text": [
      "Output video with averaged gaze points, fixations, and scanpath saved as /Volumes/T7 Shield/fox/et/sub-030_tv-cnn-b8d33fbe/ads/5/output_with_aoi_and_gaze.mp4\n",
      "Processing ad  7 in  /Volumes/T7 Shield/fox/et/sub-030_tv-cnn-b8d33fbe/ads/7/7.mp4\n"
     ]
    },
    {
     "name": "stderr",
     "output_type": "stream",
     "text": [
      "No accelerated colorspace conversion found from yuv420p to rgb24.\n",
      "No accelerated colorspace conversion found from yuv420p to rgb24.\n",
      " (repeated 600 more times)\n"
     ]
    },
    {
     "name": "stdout",
     "output_type": "stream",
     "text": [
      "Output video with averaged gaze points, fixations, and scanpath saved as /Volumes/T7 Shield/fox/et/sub-030_tv-cnn-b8d33fbe/ads/7/output_with_aoi_and_gaze.mp4\n",
      "Processing ad  8 in  /Volumes/T7 Shield/fox/et/sub-030_tv-cnn-b8d33fbe/ads/8/8.mp4\n"
     ]
    },
    {
     "name": "stderr",
     "output_type": "stream",
     "text": [
      "No accelerated colorspace conversion found from yuv420p to rgb24.\n",
      "No accelerated colorspace conversion found from yuv420p to rgb24.\n",
      " (repeated 600 more times)\n"
     ]
    },
    {
     "name": "stdout",
     "output_type": "stream",
     "text": [
      "Output video with averaged gaze points, fixations, and scanpath saved as /Volumes/T7 Shield/fox/et/sub-030_tv-cnn-b8d33fbe/ads/8/output_with_aoi_and_gaze.mp4\n",
      "Processing ad  9 in  /Volumes/T7 Shield/fox/et/sub-030_tv-cnn-b8d33fbe/ads/9/9.mp4\n"
     ]
    },
    {
     "name": "stderr",
     "output_type": "stream",
     "text": [
      "No accelerated colorspace conversion found from yuv420p to rgb24.\n",
      "No accelerated colorspace conversion found from yuv420p to rgb24.\n",
      " (repeated 600 more times)\n"
     ]
    },
    {
     "name": "stdout",
     "output_type": "stream",
     "text": [
      "Output video with averaged gaze points, fixations, and scanpath saved as /Volumes/T7 Shield/fox/et/sub-030_tv-cnn-b8d33fbe/ads/9/output_with_aoi_and_gaze.mp4\n",
      "Processing ad  10 in  /Volumes/T7 Shield/fox/et/sub-030_tv-cnn-b8d33fbe/ads/10/10.mp4\n"
     ]
    },
    {
     "name": "stderr",
     "output_type": "stream",
     "text": [
      "No accelerated colorspace conversion found from yuv420p to rgb24.\n",
      "No accelerated colorspace conversion found from yuv420p to rgb24.\n",
      " (repeated 301 more times)\n"
     ]
    },
    {
     "name": "stdout",
     "output_type": "stream",
     "text": [
      "Output video with averaged gaze points, fixations, and scanpath saved as /Volumes/T7 Shield/fox/et/sub-030_tv-cnn-b8d33fbe/ads/10/output_with_aoi_and_gaze.mp4\n",
      "Processing gaze data in ads for  sub-031\n",
      "Processing ad  2 in  /Volumes/T7 Shield/fox/et/sub-031_tv-continental-8c85bd3f/ads/2/2.mp4\n"
     ]
    },
    {
     "name": "stderr",
     "output_type": "stream",
     "text": [
      "No accelerated colorspace conversion found from yuv420p to rgb24.\n",
      "No accelerated colorspace conversion found from yuv420p to rgb24.\n",
      " (repeated 600 more times)\n"
     ]
    },
    {
     "name": "stdout",
     "output_type": "stream",
     "text": [
      "Output video with averaged gaze points, fixations, and scanpath saved as /Volumes/T7 Shield/fox/et/sub-031_tv-continental-8c85bd3f/ads/2/output_with_aoi_and_gaze.mp4\n",
      "Processing ad  3 in  /Volumes/T7 Shield/fox/et/sub-031_tv-continental-8c85bd3f/ads/3/3.mp4\n"
     ]
    },
    {
     "name": "stderr",
     "output_type": "stream",
     "text": [
      "No accelerated colorspace conversion found from yuv420p to rgb24.\n",
      "No accelerated colorspace conversion found from yuv420p to rgb24.\n",
      " (repeated 600 more times)\n"
     ]
    },
    {
     "name": "stdout",
     "output_type": "stream",
     "text": [
      "Output video with averaged gaze points, fixations, and scanpath saved as /Volumes/T7 Shield/fox/et/sub-031_tv-continental-8c85bd3f/ads/3/output_with_aoi_and_gaze.mp4\n",
      "Processing ad  4 in  /Volumes/T7 Shield/fox/et/sub-031_tv-continental-8c85bd3f/ads/4/4.mp4\n"
     ]
    },
    {
     "name": "stderr",
     "output_type": "stream",
     "text": [
      "No accelerated colorspace conversion found from yuv420p to rgb24.\n",
      "No accelerated colorspace conversion found from yuv420p to rgb24.\n",
      " (repeated 1500 more times)\n"
     ]
    },
    {
     "name": "stdout",
     "output_type": "stream",
     "text": [
      "Output video with averaged gaze points, fixations, and scanpath saved as /Volumes/T7 Shield/fox/et/sub-031_tv-continental-8c85bd3f/ads/4/output_with_aoi_and_gaze.mp4\n",
      "Processing ad  5 in  /Volumes/T7 Shield/fox/et/sub-031_tv-continental-8c85bd3f/ads/5/5.mp4\n"
     ]
    },
    {
     "name": "stderr",
     "output_type": "stream",
     "text": [
      "No accelerated colorspace conversion found from yuv420p to rgb24.\n",
      "No accelerated colorspace conversion found from yuv420p to rgb24.\n",
      " (repeated 300 more times)\n"
     ]
    },
    {
     "name": "stdout",
     "output_type": "stream",
     "text": [
      "Output video with averaged gaze points, fixations, and scanpath saved as /Volumes/T7 Shield/fox/et/sub-031_tv-continental-8c85bd3f/ads/5/output_with_aoi_and_gaze.mp4\n",
      "Processing ad  7 in  /Volumes/T7 Shield/fox/et/sub-031_tv-continental-8c85bd3f/ads/7/7.mp4\n"
     ]
    },
    {
     "name": "stderr",
     "output_type": "stream",
     "text": [
      "No accelerated colorspace conversion found from yuv420p to rgb24.\n",
      "No accelerated colorspace conversion found from yuv420p to rgb24.\n",
      " (repeated 600 more times)\n"
     ]
    },
    {
     "name": "stdout",
     "output_type": "stream",
     "text": [
      "Output video with averaged gaze points, fixations, and scanpath saved as /Volumes/T7 Shield/fox/et/sub-031_tv-continental-8c85bd3f/ads/7/output_with_aoi_and_gaze.mp4\n",
      "Processing ad  8 in  /Volumes/T7 Shield/fox/et/sub-031_tv-continental-8c85bd3f/ads/8/8.mp4\n"
     ]
    },
    {
     "name": "stderr",
     "output_type": "stream",
     "text": [
      "No accelerated colorspace conversion found from yuv420p to rgb24.\n",
      "No accelerated colorspace conversion found from yuv420p to rgb24.\n",
      " (repeated 600 more times)\n"
     ]
    },
    {
     "name": "stdout",
     "output_type": "stream",
     "text": [
      "Output video with averaged gaze points, fixations, and scanpath saved as /Volumes/T7 Shield/fox/et/sub-031_tv-continental-8c85bd3f/ads/8/output_with_aoi_and_gaze.mp4\n",
      "Processing ad  9 in  /Volumes/T7 Shield/fox/et/sub-031_tv-continental-8c85bd3f/ads/9/9.mp4\n"
     ]
    },
    {
     "name": "stderr",
     "output_type": "stream",
     "text": [
      "No accelerated colorspace conversion found from yuv420p to rgb24.\n",
      "No accelerated colorspace conversion found from yuv420p to rgb24.\n",
      " (repeated 600 more times)\n"
     ]
    },
    {
     "name": "stdout",
     "output_type": "stream",
     "text": [
      "Output video with averaged gaze points, fixations, and scanpath saved as /Volumes/T7 Shield/fox/et/sub-031_tv-continental-8c85bd3f/ads/9/output_with_aoi_and_gaze.mp4\n",
      "Processing ad  10 in  /Volumes/T7 Shield/fox/et/sub-031_tv-continental-8c85bd3f/ads/10/10.mp4\n"
     ]
    },
    {
     "name": "stderr",
     "output_type": "stream",
     "text": [
      "No accelerated colorspace conversion found from yuv420p to rgb24.\n",
      "No accelerated colorspace conversion found from yuv420p to rgb24.\n",
      " (repeated 300 more times)\n"
     ]
    },
    {
     "name": "stdout",
     "output_type": "stream",
     "text": [
      "Output video with averaged gaze points, fixations, and scanpath saved as /Volumes/T7 Shield/fox/et/sub-031_tv-continental-8c85bd3f/ads/10/output_with_aoi_and_gaze.mp4\n",
      "Processing gaze data in ads for  sub-032\n",
      "Processing ad  2 in  /Volumes/T7 Shield/fox/et/sub-032_tv-fox-b5beca97/ads/2/2.mp4\n"
     ]
    },
    {
     "name": "stderr",
     "output_type": "stream",
     "text": [
      "No accelerated colorspace conversion found from yuv420p to rgb24.\n",
      "No accelerated colorspace conversion found from yuv420p to rgb24.\n",
      " (repeated 600 more times)\n"
     ]
    },
    {
     "name": "stdout",
     "output_type": "stream",
     "text": [
      "Output video with averaged gaze points, fixations, and scanpath saved as /Volumes/T7 Shield/fox/et/sub-032_tv-fox-b5beca97/ads/2/output_with_aoi_and_gaze.mp4\n",
      "Processing ad  3 in  /Volumes/T7 Shield/fox/et/sub-032_tv-fox-b5beca97/ads/3/3.mp4\n"
     ]
    },
    {
     "name": "stderr",
     "output_type": "stream",
     "text": [
      "No accelerated colorspace conversion found from yuv420p to rgb24.\n",
      "No accelerated colorspace conversion found from yuv420p to rgb24.\n",
      " (repeated 600 more times)\n"
     ]
    },
    {
     "name": "stdout",
     "output_type": "stream",
     "text": [
      "Output video with averaged gaze points, fixations, and scanpath saved as /Volumes/T7 Shield/fox/et/sub-032_tv-fox-b5beca97/ads/3/output_with_aoi_and_gaze.mp4\n",
      "Processing ad  4 in  /Volumes/T7 Shield/fox/et/sub-032_tv-fox-b5beca97/ads/4/4.mp4\n"
     ]
    },
    {
     "name": "stderr",
     "output_type": "stream",
     "text": [
      "No accelerated colorspace conversion found from yuv420p to rgb24.\n",
      "No accelerated colorspace conversion found from yuv420p to rgb24.\n",
      " (repeated 1500 more times)\n"
     ]
    },
    {
     "name": "stdout",
     "output_type": "stream",
     "text": [
      "Output video with averaged gaze points, fixations, and scanpath saved as /Volumes/T7 Shield/fox/et/sub-032_tv-fox-b5beca97/ads/4/output_with_aoi_and_gaze.mp4\n",
      "Processing ad  5 in  /Volumes/T7 Shield/fox/et/sub-032_tv-fox-b5beca97/ads/5/5.mp4\n"
     ]
    },
    {
     "name": "stderr",
     "output_type": "stream",
     "text": [
      "No accelerated colorspace conversion found from yuv420p to rgb24.\n",
      "No accelerated colorspace conversion found from yuv420p to rgb24.\n",
      " (repeated 300 more times)\n"
     ]
    },
    {
     "name": "stdout",
     "output_type": "stream",
     "text": [
      "Output video with averaged gaze points, fixations, and scanpath saved as /Volumes/T7 Shield/fox/et/sub-032_tv-fox-b5beca97/ads/5/output_with_aoi_and_gaze.mp4\n",
      "Processing ad  7 in  /Volumes/T7 Shield/fox/et/sub-032_tv-fox-b5beca97/ads/7/7.mp4\n"
     ]
    },
    {
     "name": "stderr",
     "output_type": "stream",
     "text": [
      "No accelerated colorspace conversion found from yuv420p to rgb24.\n",
      "No accelerated colorspace conversion found from yuv420p to rgb24.\n",
      " (repeated 600 more times)\n"
     ]
    },
    {
     "name": "stdout",
     "output_type": "stream",
     "text": [
      "Output video with averaged gaze points, fixations, and scanpath saved as /Volumes/T7 Shield/fox/et/sub-032_tv-fox-b5beca97/ads/7/output_with_aoi_and_gaze.mp4\n",
      "Processing ad  8 in  /Volumes/T7 Shield/fox/et/sub-032_tv-fox-b5beca97/ads/8/8.mp4\n"
     ]
    },
    {
     "name": "stderr",
     "output_type": "stream",
     "text": [
      "No accelerated colorspace conversion found from yuv420p to rgb24.\n",
      "No accelerated colorspace conversion found from yuv420p to rgb24.\n",
      " (repeated 600 more times)\n"
     ]
    },
    {
     "name": "stdout",
     "output_type": "stream",
     "text": [
      "Output video with averaged gaze points, fixations, and scanpath saved as /Volumes/T7 Shield/fox/et/sub-032_tv-fox-b5beca97/ads/8/output_with_aoi_and_gaze.mp4\n",
      "Processing ad  9 in  /Volumes/T7 Shield/fox/et/sub-032_tv-fox-b5beca97/ads/9/9.mp4\n"
     ]
    },
    {
     "name": "stderr",
     "output_type": "stream",
     "text": [
      "No accelerated colorspace conversion found from yuv420p to rgb24.\n",
      "No accelerated colorspace conversion found from yuv420p to rgb24.\n",
      " (repeated 599 more times)\n"
     ]
    },
    {
     "name": "stdout",
     "output_type": "stream",
     "text": [
      "Output video with averaged gaze points, fixations, and scanpath saved as /Volumes/T7 Shield/fox/et/sub-032_tv-fox-b5beca97/ads/9/output_with_aoi_and_gaze.mp4\n",
      "Processing ad  10 in  /Volumes/T7 Shield/fox/et/sub-032_tv-fox-b5beca97/ads/10/10.mp4\n"
     ]
    },
    {
     "name": "stderr",
     "output_type": "stream",
     "text": [
      "No accelerated colorspace conversion found from yuv420p to rgb24.\n",
      "No accelerated colorspace conversion found from yuv420p to rgb24.\n",
      " (repeated 300 more times)\n"
     ]
    },
    {
     "name": "stdout",
     "output_type": "stream",
     "text": [
      "Output video with averaged gaze points, fixations, and scanpath saved as /Volumes/T7 Shield/fox/et/sub-032_tv-fox-b5beca97/ads/10/output_with_aoi_and_gaze.mp4\n",
      "Processing gaze data in ads for  sub-033\n",
      "Processing ad  2 in  /Volumes/T7 Shield/fox/et/sub-033_tv-nfl-3d751d85/ads/2/2.mp4\n"
     ]
    },
    {
     "name": "stderr",
     "output_type": "stream",
     "text": [
      "No accelerated colorspace conversion found from yuv420p to rgb24.\n",
      "No accelerated colorspace conversion found from yuv420p to rgb24.\n",
      " (repeated 600 more times)\n"
     ]
    },
    {
     "name": "stdout",
     "output_type": "stream",
     "text": [
      "Output video with averaged gaze points, fixations, and scanpath saved as /Volumes/T7 Shield/fox/et/sub-033_tv-nfl-3d751d85/ads/2/output_with_aoi_and_gaze.mp4\n",
      "Processing ad  3 in  /Volumes/T7 Shield/fox/et/sub-033_tv-nfl-3d751d85/ads/3/3.mp4\n"
     ]
    },
    {
     "name": "stderr",
     "output_type": "stream",
     "text": [
      "No accelerated colorspace conversion found from yuv420p to rgb24.\n",
      "No accelerated colorspace conversion found from yuv420p to rgb24.\n",
      " (repeated 600 more times)\n"
     ]
    },
    {
     "name": "stdout",
     "output_type": "stream",
     "text": [
      "Output video with averaged gaze points, fixations, and scanpath saved as /Volumes/T7 Shield/fox/et/sub-033_tv-nfl-3d751d85/ads/3/output_with_aoi_and_gaze.mp4\n",
      "Processing ad  4 in  /Volumes/T7 Shield/fox/et/sub-033_tv-nfl-3d751d85/ads/4/4.mp4\n"
     ]
    },
    {
     "name": "stderr",
     "output_type": "stream",
     "text": [
      "No accelerated colorspace conversion found from yuv420p to rgb24.\n",
      "No accelerated colorspace conversion found from yuv420p to rgb24.\n",
      " (repeated 1500 more times)\n"
     ]
    },
    {
     "name": "stdout",
     "output_type": "stream",
     "text": [
      "Output video with averaged gaze points, fixations, and scanpath saved as /Volumes/T7 Shield/fox/et/sub-033_tv-nfl-3d751d85/ads/4/output_with_aoi_and_gaze.mp4\n",
      "Processing ad  5 in  /Volumes/T7 Shield/fox/et/sub-033_tv-nfl-3d751d85/ads/5/5.mp4\n"
     ]
    },
    {
     "name": "stderr",
     "output_type": "stream",
     "text": [
      "No accelerated colorspace conversion found from yuv420p to rgb24.\n",
      "No accelerated colorspace conversion found from yuv420p to rgb24.\n",
      " (repeated 300 more times)\n"
     ]
    },
    {
     "name": "stdout",
     "output_type": "stream",
     "text": [
      "Output video with averaged gaze points, fixations, and scanpath saved as /Volumes/T7 Shield/fox/et/sub-033_tv-nfl-3d751d85/ads/5/output_with_aoi_and_gaze.mp4\n",
      "Processing ad  7 in  /Volumes/T7 Shield/fox/et/sub-033_tv-nfl-3d751d85/ads/7/7.mp4\n"
     ]
    },
    {
     "name": "stderr",
     "output_type": "stream",
     "text": [
      "No accelerated colorspace conversion found from yuv420p to rgb24.\n",
      "No accelerated colorspace conversion found from yuv420p to rgb24.\n",
      " (repeated 600 more times)\n"
     ]
    },
    {
     "name": "stdout",
     "output_type": "stream",
     "text": [
      "Output video with averaged gaze points, fixations, and scanpath saved as /Volumes/T7 Shield/fox/et/sub-033_tv-nfl-3d751d85/ads/7/output_with_aoi_and_gaze.mp4\n",
      "Processing ad  8 in  /Volumes/T7 Shield/fox/et/sub-033_tv-nfl-3d751d85/ads/8/8.mp4\n"
     ]
    },
    {
     "name": "stderr",
     "output_type": "stream",
     "text": [
      "No accelerated colorspace conversion found from yuv420p to rgb24.\n",
      "No accelerated colorspace conversion found from yuv420p to rgb24.\n",
      " (repeated 600 more times)\n"
     ]
    },
    {
     "name": "stdout",
     "output_type": "stream",
     "text": [
      "Output video with averaged gaze points, fixations, and scanpath saved as /Volumes/T7 Shield/fox/et/sub-033_tv-nfl-3d751d85/ads/8/output_with_aoi_and_gaze.mp4\n",
      "Processing ad  9 in  /Volumes/T7 Shield/fox/et/sub-033_tv-nfl-3d751d85/ads/9/9.mp4\n"
     ]
    },
    {
     "name": "stderr",
     "output_type": "stream",
     "text": [
      "No accelerated colorspace conversion found from yuv420p to rgb24.\n",
      "No accelerated colorspace conversion found from yuv420p to rgb24.\n",
      " (repeated 600 more times)\n"
     ]
    },
    {
     "name": "stdout",
     "output_type": "stream",
     "text": [
      "Output video with averaged gaze points, fixations, and scanpath saved as /Volumes/T7 Shield/fox/et/sub-033_tv-nfl-3d751d85/ads/9/output_with_aoi_and_gaze.mp4\n",
      "Processing ad  10 in  /Volumes/T7 Shield/fox/et/sub-033_tv-nfl-3d751d85/ads/10/10.mp4\n"
     ]
    },
    {
     "name": "stderr",
     "output_type": "stream",
     "text": [
      "No accelerated colorspace conversion found from yuv420p to rgb24.\n",
      "No accelerated colorspace conversion found from yuv420p to rgb24.\n",
      " (repeated 300 more times)\n"
     ]
    },
    {
     "name": "stdout",
     "output_type": "stream",
     "text": [
      "Output video with averaged gaze points, fixations, and scanpath saved as /Volumes/T7 Shield/fox/et/sub-033_tv-nfl-3d751d85/ads/10/output_with_aoi_and_gaze.mp4\n",
      "Processing gaze data in ads for  sub-034\n",
      "Skipping control or youtube condition\n",
      "Processing gaze data in ads for  sub-035\n",
      "Processing ad  2 in  /Volumes/T7 Shield/fox/et/sub-035_tv-lego-27d35985/ads/2/2.mp4\n"
     ]
    },
    {
     "name": "stderr",
     "output_type": "stream",
     "text": [
      "No accelerated colorspace conversion found from yuv420p to rgb24.\n",
      "No accelerated colorspace conversion found from yuv420p to rgb24.\n",
      " (repeated 600 more times)\n"
     ]
    },
    {
     "name": "stdout",
     "output_type": "stream",
     "text": [
      "Output video with averaged gaze points, fixations, and scanpath saved as /Volumes/T7 Shield/fox/et/sub-035_tv-lego-27d35985/ads/2/output_with_aoi_and_gaze.mp4\n",
      "Processing ad  3 in  /Volumes/T7 Shield/fox/et/sub-035_tv-lego-27d35985/ads/3/3.mp4\n"
     ]
    },
    {
     "name": "stderr",
     "output_type": "stream",
     "text": [
      "No accelerated colorspace conversion found from yuv420p to rgb24.\n",
      "No accelerated colorspace conversion found from yuv420p to rgb24.\n",
      " (repeated 600 more times)\n"
     ]
    },
    {
     "name": "stdout",
     "output_type": "stream",
     "text": [
      "Output video with averaged gaze points, fixations, and scanpath saved as /Volumes/T7 Shield/fox/et/sub-035_tv-lego-27d35985/ads/3/output_with_aoi_and_gaze.mp4\n",
      "Processing ad  4 in  /Volumes/T7 Shield/fox/et/sub-035_tv-lego-27d35985/ads/4/4.mp4\n"
     ]
    },
    {
     "name": "stderr",
     "output_type": "stream",
     "text": [
      "No accelerated colorspace conversion found from yuv420p to rgb24.\n",
      "No accelerated colorspace conversion found from yuv420p to rgb24.\n",
      " (repeated 1500 more times)\n"
     ]
    },
    {
     "name": "stdout",
     "output_type": "stream",
     "text": [
      "Output video with averaged gaze points, fixations, and scanpath saved as /Volumes/T7 Shield/fox/et/sub-035_tv-lego-27d35985/ads/4/output_with_aoi_and_gaze.mp4\n",
      "Processing ad  5 in  /Volumes/T7 Shield/fox/et/sub-035_tv-lego-27d35985/ads/5/5.mp4\n"
     ]
    },
    {
     "name": "stderr",
     "output_type": "stream",
     "text": [
      "No accelerated colorspace conversion found from yuv420p to rgb24.\n",
      "No accelerated colorspace conversion found from yuv420p to rgb24.\n",
      " (repeated 300 more times)\n"
     ]
    },
    {
     "name": "stdout",
     "output_type": "stream",
     "text": [
      "Output video with averaged gaze points, fixations, and scanpath saved as /Volumes/T7 Shield/fox/et/sub-035_tv-lego-27d35985/ads/5/output_with_aoi_and_gaze.mp4\n",
      "Processing ad  7 in  /Volumes/T7 Shield/fox/et/sub-035_tv-lego-27d35985/ads/7/7.mp4\n"
     ]
    },
    {
     "name": "stderr",
     "output_type": "stream",
     "text": [
      "No accelerated colorspace conversion found from yuv420p to rgb24.\n",
      "No accelerated colorspace conversion found from yuv420p to rgb24.\n",
      " (repeated 600 more times)\n"
     ]
    },
    {
     "name": "stdout",
     "output_type": "stream",
     "text": [
      "Output video with averaged gaze points, fixations, and scanpath saved as /Volumes/T7 Shield/fox/et/sub-035_tv-lego-27d35985/ads/7/output_with_aoi_and_gaze.mp4\n",
      "Processing ad  8 in  /Volumes/T7 Shield/fox/et/sub-035_tv-lego-27d35985/ads/8/8.mp4\n"
     ]
    },
    {
     "name": "stderr",
     "output_type": "stream",
     "text": [
      "No accelerated colorspace conversion found from yuv420p to rgb24.\n",
      "No accelerated colorspace conversion found from yuv420p to rgb24.\n",
      " (repeated 599 more times)\n"
     ]
    },
    {
     "name": "stdout",
     "output_type": "stream",
     "text": [
      "Output video with averaged gaze points, fixations, and scanpath saved as /Volumes/T7 Shield/fox/et/sub-035_tv-lego-27d35985/ads/8/output_with_aoi_and_gaze.mp4\n",
      "Processing ad  9 in  /Volumes/T7 Shield/fox/et/sub-035_tv-lego-27d35985/ads/9/9.mp4\n"
     ]
    },
    {
     "name": "stderr",
     "output_type": "stream",
     "text": [
      "No accelerated colorspace conversion found from yuv420p to rgb24.\n",
      "No accelerated colorspace conversion found from yuv420p to rgb24.\n",
      " (repeated 600 more times)\n"
     ]
    },
    {
     "name": "stdout",
     "output_type": "stream",
     "text": [
      "Output video with averaged gaze points, fixations, and scanpath saved as /Volumes/T7 Shield/fox/et/sub-035_tv-lego-27d35985/ads/9/output_with_aoi_and_gaze.mp4\n",
      "Processing ad  10 in  /Volumes/T7 Shield/fox/et/sub-035_tv-lego-27d35985/ads/10/10.mp4\n"
     ]
    },
    {
     "name": "stderr",
     "output_type": "stream",
     "text": [
      "No accelerated colorspace conversion found from yuv420p to rgb24.\n",
      "No accelerated colorspace conversion found from yuv420p to rgb24.\n",
      " (repeated 300 more times)\n"
     ]
    },
    {
     "name": "stdout",
     "output_type": "stream",
     "text": [
      "Output video with averaged gaze points, fixations, and scanpath saved as /Volumes/T7 Shield/fox/et/sub-035_tv-lego-27d35985/ads/10/output_with_aoi_and_gaze.mp4\n",
      "Processing gaze data in ads for  sub-036\n",
      "Processing ad  2 in  /Volumes/T7 Shield/fox/et/sub-036_tv-bigmood-2a7adbc3/ads/2/2.mp4\n"
     ]
    },
    {
     "name": "stderr",
     "output_type": "stream",
     "text": [
      "No accelerated colorspace conversion found from yuv420p to rgb24.\n",
      "No accelerated colorspace conversion found from yuv420p to rgb24.\n",
      " (repeated 599 more times)\n"
     ]
    },
    {
     "name": "stdout",
     "output_type": "stream",
     "text": [
      "Output video with averaged gaze points, fixations, and scanpath saved as /Volumes/T7 Shield/fox/et/sub-036_tv-bigmood-2a7adbc3/ads/2/output_with_aoi_and_gaze.mp4\n",
      "Processing ad  3 in  /Volumes/T7 Shield/fox/et/sub-036_tv-bigmood-2a7adbc3/ads/3/3.mp4\n"
     ]
    },
    {
     "name": "stderr",
     "output_type": "stream",
     "text": [
      "No accelerated colorspace conversion found from yuv420p to rgb24.\n",
      "No accelerated colorspace conversion found from yuv420p to rgb24.\n",
      " (repeated 600 more times)\n"
     ]
    },
    {
     "name": "stdout",
     "output_type": "stream",
     "text": [
      "Output video with averaged gaze points, fixations, and scanpath saved as /Volumes/T7 Shield/fox/et/sub-036_tv-bigmood-2a7adbc3/ads/3/output_with_aoi_and_gaze.mp4\n",
      "Processing ad  4 in  /Volumes/T7 Shield/fox/et/sub-036_tv-bigmood-2a7adbc3/ads/4/4.mp4\n"
     ]
    },
    {
     "name": "stderr",
     "output_type": "stream",
     "text": [
      "No accelerated colorspace conversion found from yuv420p to rgb24.\n",
      "No accelerated colorspace conversion found from yuv420p to rgb24.\n",
      " (repeated 1500 more times)\n"
     ]
    },
    {
     "name": "stdout",
     "output_type": "stream",
     "text": [
      "Output video with averaged gaze points, fixations, and scanpath saved as /Volumes/T7 Shield/fox/et/sub-036_tv-bigmood-2a7adbc3/ads/4/output_with_aoi_and_gaze.mp4\n",
      "Processing ad  5 in  /Volumes/T7 Shield/fox/et/sub-036_tv-bigmood-2a7adbc3/ads/5/5.mp4\n"
     ]
    },
    {
     "name": "stderr",
     "output_type": "stream",
     "text": [
      "No accelerated colorspace conversion found from yuv420p to rgb24.\n",
      "No accelerated colorspace conversion found from yuv420p to rgb24.\n",
      " (repeated 300 more times)\n"
     ]
    },
    {
     "name": "stdout",
     "output_type": "stream",
     "text": [
      "Output video with averaged gaze points, fixations, and scanpath saved as /Volumes/T7 Shield/fox/et/sub-036_tv-bigmood-2a7adbc3/ads/5/output_with_aoi_and_gaze.mp4\n",
      "Processing ad  7 in  /Volumes/T7 Shield/fox/et/sub-036_tv-bigmood-2a7adbc3/ads/7/7.mp4\n"
     ]
    },
    {
     "name": "stderr",
     "output_type": "stream",
     "text": [
      "No accelerated colorspace conversion found from yuv420p to rgb24.\n",
      "No accelerated colorspace conversion found from yuv420p to rgb24.\n",
      " (repeated 600 more times)\n"
     ]
    },
    {
     "name": "stdout",
     "output_type": "stream",
     "text": [
      "Output video with averaged gaze points, fixations, and scanpath saved as /Volumes/T7 Shield/fox/et/sub-036_tv-bigmood-2a7adbc3/ads/7/output_with_aoi_and_gaze.mp4\n",
      "Processing ad  8 in  /Volumes/T7 Shield/fox/et/sub-036_tv-bigmood-2a7adbc3/ads/8/8.mp4\n"
     ]
    },
    {
     "name": "stderr",
     "output_type": "stream",
     "text": [
      "No accelerated colorspace conversion found from yuv420p to rgb24.\n",
      "No accelerated colorspace conversion found from yuv420p to rgb24.\n",
      " (repeated 600 more times)\n"
     ]
    },
    {
     "name": "stdout",
     "output_type": "stream",
     "text": [
      "Output video with averaged gaze points, fixations, and scanpath saved as /Volumes/T7 Shield/fox/et/sub-036_tv-bigmood-2a7adbc3/ads/8/output_with_aoi_and_gaze.mp4\n",
      "Processing ad  9 in  /Volumes/T7 Shield/fox/et/sub-036_tv-bigmood-2a7adbc3/ads/9/9.mp4\n"
     ]
    },
    {
     "name": "stderr",
     "output_type": "stream",
     "text": [
      "No accelerated colorspace conversion found from yuv420p to rgb24.\n",
      "No accelerated colorspace conversion found from yuv420p to rgb24.\n",
      " (repeated 600 more times)\n"
     ]
    },
    {
     "name": "stdout",
     "output_type": "stream",
     "text": [
      "Output video with averaged gaze points, fixations, and scanpath saved as /Volumes/T7 Shield/fox/et/sub-036_tv-bigmood-2a7adbc3/ads/9/output_with_aoi_and_gaze.mp4\n",
      "Processing ad  10 in  /Volumes/T7 Shield/fox/et/sub-036_tv-bigmood-2a7adbc3/ads/10/10.mp4\n"
     ]
    },
    {
     "name": "stderr",
     "output_type": "stream",
     "text": [
      "No accelerated colorspace conversion found from yuv420p to rgb24.\n",
      "No accelerated colorspace conversion found from yuv420p to rgb24.\n",
      " (repeated 300 more times)\n"
     ]
    },
    {
     "name": "stdout",
     "output_type": "stream",
     "text": [
      "Output video with averaged gaze points, fixations, and scanpath saved as /Volumes/T7 Shield/fox/et/sub-036_tv-bigmood-2a7adbc3/ads/10/output_with_aoi_and_gaze.mp4\n",
      "Processing gaze data in ads for  sub-037\n",
      "Processing ad  2 in  /Volumes/T7 Shield/fox/et/sub-037_tv-pickers-f8e0659f/ads/2/2.mp4\n"
     ]
    },
    {
     "name": "stderr",
     "output_type": "stream",
     "text": [
      "No accelerated colorspace conversion found from yuv420p to rgb24.\n",
      "No accelerated colorspace conversion found from yuv420p to rgb24.\n",
      " (repeated 720 more times)\n"
     ]
    },
    {
     "name": "stdout",
     "output_type": "stream",
     "text": [
      "Output video with averaged gaze points, fixations, and scanpath saved as /Volumes/T7 Shield/fox/et/sub-037_tv-pickers-f8e0659f/ads/2/output_with_aoi_and_gaze.mp4\n",
      "Processing ad  3 in  /Volumes/T7 Shield/fox/et/sub-037_tv-pickers-f8e0659f/ads/3/3.mp4\n"
     ]
    },
    {
     "name": "stderr",
     "output_type": "stream",
     "text": [
      "No accelerated colorspace conversion found from yuv420p to rgb24.\n",
      "No accelerated colorspace conversion found from yuv420p to rgb24.\n",
      " (repeated 720 more times)\n"
     ]
    },
    {
     "name": "stdout",
     "output_type": "stream",
     "text": [
      "Output video with averaged gaze points, fixations, and scanpath saved as /Volumes/T7 Shield/fox/et/sub-037_tv-pickers-f8e0659f/ads/3/output_with_aoi_and_gaze.mp4\n",
      "Processing ad  4 in  /Volumes/T7 Shield/fox/et/sub-037_tv-pickers-f8e0659f/ads/4/4.mp4\n"
     ]
    },
    {
     "name": "stderr",
     "output_type": "stream",
     "text": [
      "No accelerated colorspace conversion found from yuv420p to rgb24.\n",
      "No accelerated colorspace conversion found from yuv420p to rgb24.\n",
      " (repeated 1800 more times)\n"
     ]
    },
    {
     "name": "stdout",
     "output_type": "stream",
     "text": [
      "Output video with averaged gaze points, fixations, and scanpath saved as /Volumes/T7 Shield/fox/et/sub-037_tv-pickers-f8e0659f/ads/4/output_with_aoi_and_gaze.mp4\n",
      "Processing ad  5 in  /Volumes/T7 Shield/fox/et/sub-037_tv-pickers-f8e0659f/ads/5/5.mp4\n"
     ]
    },
    {
     "name": "stderr",
     "output_type": "stream",
     "text": [
      "No accelerated colorspace conversion found from yuv420p to rgb24.\n",
      "No accelerated colorspace conversion found from yuv420p to rgb24.\n",
      " (repeated 360 more times)\n"
     ]
    },
    {
     "name": "stdout",
     "output_type": "stream",
     "text": [
      "Output video with averaged gaze points, fixations, and scanpath saved as /Volumes/T7 Shield/fox/et/sub-037_tv-pickers-f8e0659f/ads/5/output_with_aoi_and_gaze.mp4\n",
      "Processing ad  7 in  /Volumes/T7 Shield/fox/et/sub-037_tv-pickers-f8e0659f/ads/7/7.mp4\n"
     ]
    },
    {
     "name": "stderr",
     "output_type": "stream",
     "text": [
      "No accelerated colorspace conversion found from yuv420p to rgb24.\n",
      "No accelerated colorspace conversion found from yuv420p to rgb24.\n",
      " (repeated 720 more times)\n"
     ]
    },
    {
     "name": "stdout",
     "output_type": "stream",
     "text": [
      "Output video with averaged gaze points, fixations, and scanpath saved as /Volumes/T7 Shield/fox/et/sub-037_tv-pickers-f8e0659f/ads/7/output_with_aoi_and_gaze.mp4\n",
      "Processing ad  8 in  /Volumes/T7 Shield/fox/et/sub-037_tv-pickers-f8e0659f/ads/8/8.mp4\n"
     ]
    },
    {
     "name": "stderr",
     "output_type": "stream",
     "text": [
      "No accelerated colorspace conversion found from yuv420p to rgb24.\n",
      "No accelerated colorspace conversion found from yuv420p to rgb24.\n",
      " (repeated 720 more times)\n"
     ]
    },
    {
     "name": "stdout",
     "output_type": "stream",
     "text": [
      "Output video with averaged gaze points, fixations, and scanpath saved as /Volumes/T7 Shield/fox/et/sub-037_tv-pickers-f8e0659f/ads/8/output_with_aoi_and_gaze.mp4\n",
      "Processing ad  9 in  /Volumes/T7 Shield/fox/et/sub-037_tv-pickers-f8e0659f/ads/9/9.mp4\n"
     ]
    },
    {
     "name": "stderr",
     "output_type": "stream",
     "text": [
      "No accelerated colorspace conversion found from yuv420p to rgb24.\n",
      "No accelerated colorspace conversion found from yuv420p to rgb24.\n",
      " (repeated 720 more times)\n"
     ]
    },
    {
     "name": "stdout",
     "output_type": "stream",
     "text": [
      "Output video with averaged gaze points, fixations, and scanpath saved as /Volumes/T7 Shield/fox/et/sub-037_tv-pickers-f8e0659f/ads/9/output_with_aoi_and_gaze.mp4\n",
      "Processing ad  10 in  /Volumes/T7 Shield/fox/et/sub-037_tv-pickers-f8e0659f/ads/10/10.mp4\n"
     ]
    },
    {
     "name": "stderr",
     "output_type": "stream",
     "text": [
      "No accelerated colorspace conversion found from yuv420p to rgb24.\n",
      "No accelerated colorspace conversion found from yuv420p to rgb24.\n",
      " (repeated 360 more times)\n"
     ]
    },
    {
     "name": "stdout",
     "output_type": "stream",
     "text": [
      "Output video with averaged gaze points, fixations, and scanpath saved as /Volumes/T7 Shield/fox/et/sub-037_tv-pickers-f8e0659f/ads/10/output_with_aoi_and_gaze.mp4\n",
      "Processing gaze data in ads for  sub-038\n",
      "Unexpected error: [Errno 2] No such file or directory: '/Volumes/T7 Shield/fox/et/sub-038_tv-cnn-f65c3e71/ads/aligned_events.csv'\n",
      "Processing gaze data in ads for  sub-039\n",
      "Processing ad  2 in  /Volumes/T7 Shield/fox/et/sub-039_tv-continental-25a4dbdb/ads/2/2.mp4\n"
     ]
    },
    {
     "name": "stderr",
     "output_type": "stream",
     "text": [
      "No accelerated colorspace conversion found from yuv420p to rgb24.\n",
      "No accelerated colorspace conversion found from yuv420p to rgb24.\n",
      " (repeated 600 more times)\n"
     ]
    },
    {
     "name": "stdout",
     "output_type": "stream",
     "text": [
      "Output video with averaged gaze points, fixations, and scanpath saved as /Volumes/T7 Shield/fox/et/sub-039_tv-continental-25a4dbdb/ads/2/output_with_aoi_and_gaze.mp4\n",
      "Processing ad  3 in  /Volumes/T7 Shield/fox/et/sub-039_tv-continental-25a4dbdb/ads/3/3.mp4\n"
     ]
    },
    {
     "name": "stderr",
     "output_type": "stream",
     "text": [
      "No accelerated colorspace conversion found from yuv420p to rgb24.\n",
      "No accelerated colorspace conversion found from yuv420p to rgb24.\n",
      " (repeated 600 more times)\n"
     ]
    },
    {
     "name": "stdout",
     "output_type": "stream",
     "text": [
      "Output video with averaged gaze points, fixations, and scanpath saved as /Volumes/T7 Shield/fox/et/sub-039_tv-continental-25a4dbdb/ads/3/output_with_aoi_and_gaze.mp4\n",
      "Processing ad  4 in  /Volumes/T7 Shield/fox/et/sub-039_tv-continental-25a4dbdb/ads/4/4.mp4\n"
     ]
    },
    {
     "name": "stderr",
     "output_type": "stream",
     "text": [
      "No accelerated colorspace conversion found from yuv420p to rgb24.\n",
      "No accelerated colorspace conversion found from yuv420p to rgb24.\n",
      " (repeated 1500 more times)\n"
     ]
    },
    {
     "name": "stdout",
     "output_type": "stream",
     "text": [
      "Output video with averaged gaze points, fixations, and scanpath saved as /Volumes/T7 Shield/fox/et/sub-039_tv-continental-25a4dbdb/ads/4/output_with_aoi_and_gaze.mp4\n",
      "Processing ad  5 in  /Volumes/T7 Shield/fox/et/sub-039_tv-continental-25a4dbdb/ads/5/5.mp4\n"
     ]
    },
    {
     "name": "stderr",
     "output_type": "stream",
     "text": [
      "No accelerated colorspace conversion found from yuv420p to rgb24.\n",
      "No accelerated colorspace conversion found from yuv420p to rgb24.\n",
      " (repeated 300 more times)\n"
     ]
    },
    {
     "name": "stdout",
     "output_type": "stream",
     "text": [
      "Output video with averaged gaze points, fixations, and scanpath saved as /Volumes/T7 Shield/fox/et/sub-039_tv-continental-25a4dbdb/ads/5/output_with_aoi_and_gaze.mp4\n",
      "Processing ad  7 in  /Volumes/T7 Shield/fox/et/sub-039_tv-continental-25a4dbdb/ads/7/7.mp4\n"
     ]
    },
    {
     "name": "stderr",
     "output_type": "stream",
     "text": [
      "No accelerated colorspace conversion found from yuv420p to rgb24.\n",
      "No accelerated colorspace conversion found from yuv420p to rgb24.\n",
      " (repeated 600 more times)\n"
     ]
    },
    {
     "name": "stdout",
     "output_type": "stream",
     "text": [
      "Output video with averaged gaze points, fixations, and scanpath saved as /Volumes/T7 Shield/fox/et/sub-039_tv-continental-25a4dbdb/ads/7/output_with_aoi_and_gaze.mp4\n",
      "Processing ad  8 in  /Volumes/T7 Shield/fox/et/sub-039_tv-continental-25a4dbdb/ads/8/8.mp4\n"
     ]
    },
    {
     "name": "stderr",
     "output_type": "stream",
     "text": [
      "No accelerated colorspace conversion found from yuv420p to rgb24.\n",
      "No accelerated colorspace conversion found from yuv420p to rgb24.\n",
      " (repeated 600 more times)\n"
     ]
    },
    {
     "name": "stdout",
     "output_type": "stream",
     "text": [
      "Output video with averaged gaze points, fixations, and scanpath saved as /Volumes/T7 Shield/fox/et/sub-039_tv-continental-25a4dbdb/ads/8/output_with_aoi_and_gaze.mp4\n",
      "Processing ad  9 in  /Volumes/T7 Shield/fox/et/sub-039_tv-continental-25a4dbdb/ads/9/9.mp4\n"
     ]
    },
    {
     "name": "stderr",
     "output_type": "stream",
     "text": [
      "No accelerated colorspace conversion found from yuv420p to rgb24.\n",
      "No accelerated colorspace conversion found from yuv420p to rgb24.\n",
      " (repeated 600 more times)\n"
     ]
    },
    {
     "name": "stdout",
     "output_type": "stream",
     "text": [
      "Output video with averaged gaze points, fixations, and scanpath saved as /Volumes/T7 Shield/fox/et/sub-039_tv-continental-25a4dbdb/ads/9/output_with_aoi_and_gaze.mp4\n",
      "Processing ad  10 in  /Volumes/T7 Shield/fox/et/sub-039_tv-continental-25a4dbdb/ads/10/10.mp4\n"
     ]
    },
    {
     "name": "stderr",
     "output_type": "stream",
     "text": [
      "No accelerated colorspace conversion found from yuv420p to rgb24.\n",
      "No accelerated colorspace conversion found from yuv420p to rgb24.\n",
      " (repeated 300 more times)\n"
     ]
    },
    {
     "name": "stdout",
     "output_type": "stream",
     "text": [
      "Output video with averaged gaze points, fixations, and scanpath saved as /Volumes/T7 Shield/fox/et/sub-039_tv-continental-25a4dbdb/ads/10/output_with_aoi_and_gaze.mp4\n",
      "Processing gaze data in ads for  sub-040\n",
      "Processing ad  2 in  /Volumes/T7 Shield/fox/et/sub-040_tv-nfl-527c4962/ads/2/2.mp4\n"
     ]
    },
    {
     "name": "stderr",
     "output_type": "stream",
     "text": [
      "No accelerated colorspace conversion found from yuv420p to rgb24.\n",
      "No accelerated colorspace conversion found from yuv420p to rgb24.\n",
      " (repeated 600 more times)\n"
     ]
    },
    {
     "name": "stdout",
     "output_type": "stream",
     "text": [
      "Output video with averaged gaze points, fixations, and scanpath saved as /Volumes/T7 Shield/fox/et/sub-040_tv-nfl-527c4962/ads/2/output_with_aoi_and_gaze.mp4\n",
      "Processing ad  3 in  /Volumes/T7 Shield/fox/et/sub-040_tv-nfl-527c4962/ads/3/3.mp4\n"
     ]
    },
    {
     "name": "stderr",
     "output_type": "stream",
     "text": [
      "No accelerated colorspace conversion found from yuv420p to rgb24.\n",
      "No accelerated colorspace conversion found from yuv420p to rgb24.\n",
      " (repeated 600 more times)\n"
     ]
    },
    {
     "name": "stdout",
     "output_type": "stream",
     "text": [
      "Output video with averaged gaze points, fixations, and scanpath saved as /Volumes/T7 Shield/fox/et/sub-040_tv-nfl-527c4962/ads/3/output_with_aoi_and_gaze.mp4\n",
      "Processing ad  4 in  /Volumes/T7 Shield/fox/et/sub-040_tv-nfl-527c4962/ads/4/4.mp4\n"
     ]
    },
    {
     "name": "stderr",
     "output_type": "stream",
     "text": [
      "No accelerated colorspace conversion found from yuv420p to rgb24.\n",
      "No accelerated colorspace conversion found from yuv420p to rgb24.\n",
      " (repeated 1500 more times)\n"
     ]
    },
    {
     "name": "stdout",
     "output_type": "stream",
     "text": [
      "Output video with averaged gaze points, fixations, and scanpath saved as /Volumes/T7 Shield/fox/et/sub-040_tv-nfl-527c4962/ads/4/output_with_aoi_and_gaze.mp4\n",
      "Processing ad  5 in  /Volumes/T7 Shield/fox/et/sub-040_tv-nfl-527c4962/ads/5/5.mp4\n"
     ]
    },
    {
     "name": "stderr",
     "output_type": "stream",
     "text": [
      "No accelerated colorspace conversion found from yuv420p to rgb24.\n",
      "No accelerated colorspace conversion found from yuv420p to rgb24.\n",
      " (repeated 300 more times)\n"
     ]
    },
    {
     "name": "stdout",
     "output_type": "stream",
     "text": [
      "Output video with averaged gaze points, fixations, and scanpath saved as /Volumes/T7 Shield/fox/et/sub-040_tv-nfl-527c4962/ads/5/output_with_aoi_and_gaze.mp4\n",
      "Processing ad  7 in  /Volumes/T7 Shield/fox/et/sub-040_tv-nfl-527c4962/ads/7/7.mp4\n"
     ]
    },
    {
     "name": "stderr",
     "output_type": "stream",
     "text": [
      "No accelerated colorspace conversion found from yuv420p to rgb24.\n",
      "No accelerated colorspace conversion found from yuv420p to rgb24.\n",
      " (repeated 600 more times)\n"
     ]
    },
    {
     "name": "stdout",
     "output_type": "stream",
     "text": [
      "Output video with averaged gaze points, fixations, and scanpath saved as /Volumes/T7 Shield/fox/et/sub-040_tv-nfl-527c4962/ads/7/output_with_aoi_and_gaze.mp4\n",
      "Processing ad  8 in  /Volumes/T7 Shield/fox/et/sub-040_tv-nfl-527c4962/ads/8/8.mp4\n"
     ]
    },
    {
     "name": "stderr",
     "output_type": "stream",
     "text": [
      "No accelerated colorspace conversion found from yuv420p to rgb24.\n",
      "No accelerated colorspace conversion found from yuv420p to rgb24.\n",
      " (repeated 600 more times)\n"
     ]
    },
    {
     "name": "stdout",
     "output_type": "stream",
     "text": [
      "Output video with averaged gaze points, fixations, and scanpath saved as /Volumes/T7 Shield/fox/et/sub-040_tv-nfl-527c4962/ads/8/output_with_aoi_and_gaze.mp4\n",
      "Processing ad  9 in  /Volumes/T7 Shield/fox/et/sub-040_tv-nfl-527c4962/ads/9/9.mp4\n"
     ]
    },
    {
     "name": "stderr",
     "output_type": "stream",
     "text": [
      "No accelerated colorspace conversion found from yuv420p to rgb24.\n",
      "No accelerated colorspace conversion found from yuv420p to rgb24.\n",
      " (repeated 600 more times)\n"
     ]
    },
    {
     "name": "stdout",
     "output_type": "stream",
     "text": [
      "Output video with averaged gaze points, fixations, and scanpath saved as /Volumes/T7 Shield/fox/et/sub-040_tv-nfl-527c4962/ads/9/output_with_aoi_and_gaze.mp4\n",
      "Processing ad  10 in  /Volumes/T7 Shield/fox/et/sub-040_tv-nfl-527c4962/ads/10/10.mp4\n"
     ]
    },
    {
     "name": "stderr",
     "output_type": "stream",
     "text": [
      "No accelerated colorspace conversion found from yuv420p to rgb24.\n",
      "No accelerated colorspace conversion found from yuv420p to rgb24.\n",
      " (repeated 299 more times)\n"
     ]
    },
    {
     "name": "stdout",
     "output_type": "stream",
     "text": [
      "Output video with averaged gaze points, fixations, and scanpath saved as /Volumes/T7 Shield/fox/et/sub-040_tv-nfl-527c4962/ads/10/output_with_aoi_and_gaze.mp4\n",
      "Processing gaze data in ads for  sub-041\n",
      "Skipping control or youtube condition\n",
      "Processing gaze data in ads for  sub-042\n",
      "Skipping control or youtube condition\n",
      "Processing gaze data in ads for  sub-043\n",
      "Processing ad  2 in  /Volumes/T7 Shield/fox/et/sub-043_tv-foxnews-63621102/ads/2/2.mp4\n"
     ]
    },
    {
     "name": "stderr",
     "output_type": "stream",
     "text": [
      "No accelerated colorspace conversion found from yuv420p to rgb24.\n",
      "No accelerated colorspace conversion found from yuv420p to rgb24.\n",
      " (repeated 600 more times)\n"
     ]
    },
    {
     "name": "stdout",
     "output_type": "stream",
     "text": [
      "Output video with averaged gaze points, fixations, and scanpath saved as /Volumes/T7 Shield/fox/et/sub-043_tv-foxnews-63621102/ads/2/output_with_aoi_and_gaze.mp4\n",
      "Processing ad  3 in  /Volumes/T7 Shield/fox/et/sub-043_tv-foxnews-63621102/ads/3/3.mp4\n"
     ]
    },
    {
     "name": "stderr",
     "output_type": "stream",
     "text": [
      "No accelerated colorspace conversion found from yuv420p to rgb24.\n",
      "No accelerated colorspace conversion found from yuv420p to rgb24.\n",
      " (repeated 600 more times)\n"
     ]
    },
    {
     "name": "stdout",
     "output_type": "stream",
     "text": [
      "Output video with averaged gaze points, fixations, and scanpath saved as /Volumes/T7 Shield/fox/et/sub-043_tv-foxnews-63621102/ads/3/output_with_aoi_and_gaze.mp4\n",
      "Processing ad  4 in  /Volumes/T7 Shield/fox/et/sub-043_tv-foxnews-63621102/ads/4/4.mp4\n"
     ]
    },
    {
     "name": "stderr",
     "output_type": "stream",
     "text": [
      "No accelerated colorspace conversion found from yuv420p to rgb24.\n",
      "No accelerated colorspace conversion found from yuv420p to rgb24.\n",
      " (repeated 1500 more times)\n"
     ]
    },
    {
     "name": "stdout",
     "output_type": "stream",
     "text": [
      "Output video with averaged gaze points, fixations, and scanpath saved as /Volumes/T7 Shield/fox/et/sub-043_tv-foxnews-63621102/ads/4/output_with_aoi_and_gaze.mp4\n",
      "Processing ad  5 in  /Volumes/T7 Shield/fox/et/sub-043_tv-foxnews-63621102/ads/5/5.mp4\n"
     ]
    },
    {
     "name": "stderr",
     "output_type": "stream",
     "text": [
      "No accelerated colorspace conversion found from yuv420p to rgb24.\n",
      "No accelerated colorspace conversion found from yuv420p to rgb24.\n",
      " (repeated 300 more times)\n"
     ]
    },
    {
     "name": "stdout",
     "output_type": "stream",
     "text": [
      "Output video with averaged gaze points, fixations, and scanpath saved as /Volumes/T7 Shield/fox/et/sub-043_tv-foxnews-63621102/ads/5/output_with_aoi_and_gaze.mp4\n",
      "Processing ad  7 in  /Volumes/T7 Shield/fox/et/sub-043_tv-foxnews-63621102/ads/7/7.mp4\n"
     ]
    },
    {
     "name": "stderr",
     "output_type": "stream",
     "text": [
      "No accelerated colorspace conversion found from yuv420p to rgb24.\n",
      "No accelerated colorspace conversion found from yuv420p to rgb24.\n",
      " (repeated 600 more times)\n"
     ]
    },
    {
     "name": "stdout",
     "output_type": "stream",
     "text": [
      "Output video with averaged gaze points, fixations, and scanpath saved as /Volumes/T7 Shield/fox/et/sub-043_tv-foxnews-63621102/ads/7/output_with_aoi_and_gaze.mp4\n",
      "Processing ad  8 in  /Volumes/T7 Shield/fox/et/sub-043_tv-foxnews-63621102/ads/8/8.mp4\n"
     ]
    },
    {
     "name": "stderr",
     "output_type": "stream",
     "text": [
      "No accelerated colorspace conversion found from yuv420p to rgb24.\n",
      "No accelerated colorspace conversion found from yuv420p to rgb24.\n",
      " (repeated 600 more times)\n"
     ]
    },
    {
     "name": "stdout",
     "output_type": "stream",
     "text": [
      "Output video with averaged gaze points, fixations, and scanpath saved as /Volumes/T7 Shield/fox/et/sub-043_tv-foxnews-63621102/ads/8/output_with_aoi_and_gaze.mp4\n",
      "Processing ad  9 in  /Volumes/T7 Shield/fox/et/sub-043_tv-foxnews-63621102/ads/9/9.mp4\n"
     ]
    },
    {
     "name": "stderr",
     "output_type": "stream",
     "text": [
      "No accelerated colorspace conversion found from yuv420p to rgb24.\n",
      "No accelerated colorspace conversion found from yuv420p to rgb24.\n",
      " (repeated 600 more times)\n"
     ]
    },
    {
     "name": "stdout",
     "output_type": "stream",
     "text": [
      "Output video with averaged gaze points, fixations, and scanpath saved as /Volumes/T7 Shield/fox/et/sub-043_tv-foxnews-63621102/ads/9/output_with_aoi_and_gaze.mp4\n",
      "Processing ad  10 in  /Volumes/T7 Shield/fox/et/sub-043_tv-foxnews-63621102/ads/10/10.mp4\n"
     ]
    },
    {
     "name": "stderr",
     "output_type": "stream",
     "text": [
      "No accelerated colorspace conversion found from yuv420p to rgb24.\n",
      "No accelerated colorspace conversion found from yuv420p to rgb24.\n",
      " (repeated 300 more times)\n"
     ]
    },
    {
     "name": "stdout",
     "output_type": "stream",
     "text": [
      "Output video with averaged gaze points, fixations, and scanpath saved as /Volumes/T7 Shield/fox/et/sub-043_tv-foxnews-63621102/ads/10/output_with_aoi_and_gaze.mp4\n",
      "Processing gaze data in ads for  sub-044\n",
      "Processing ad  2 in  /Volumes/T7 Shield/fox/et/sub-044_tv-lego-b9e2d9a7/ads/2/2.mp4\n"
     ]
    },
    {
     "name": "stderr",
     "output_type": "stream",
     "text": [
      "No accelerated colorspace conversion found from yuv420p to rgb24.\n",
      "No accelerated colorspace conversion found from yuv420p to rgb24.\n",
      " (repeated 720 more times)\n"
     ]
    },
    {
     "name": "stdout",
     "output_type": "stream",
     "text": [
      "Output video with averaged gaze points, fixations, and scanpath saved as /Volumes/T7 Shield/fox/et/sub-044_tv-lego-b9e2d9a7/ads/2/output_with_aoi_and_gaze.mp4\n",
      "Processing ad  3 in  /Volumes/T7 Shield/fox/et/sub-044_tv-lego-b9e2d9a7/ads/3/3.mp4\n"
     ]
    },
    {
     "name": "stderr",
     "output_type": "stream",
     "text": [
      "No accelerated colorspace conversion found from yuv420p to rgb24.\n",
      "No accelerated colorspace conversion found from yuv420p to rgb24.\n",
      " (repeated 720 more times)\n"
     ]
    },
    {
     "name": "stdout",
     "output_type": "stream",
     "text": [
      "Output video with averaged gaze points, fixations, and scanpath saved as /Volumes/T7 Shield/fox/et/sub-044_tv-lego-b9e2d9a7/ads/3/output_with_aoi_and_gaze.mp4\n",
      "Processing ad  4 in  /Volumes/T7 Shield/fox/et/sub-044_tv-lego-b9e2d9a7/ads/4/4.mp4\n"
     ]
    },
    {
     "name": "stderr",
     "output_type": "stream",
     "text": [
      "No accelerated colorspace conversion found from yuv420p to rgb24.\n",
      "No accelerated colorspace conversion found from yuv420p to rgb24.\n",
      " (repeated 1800 more times)\n"
     ]
    },
    {
     "name": "stdout",
     "output_type": "stream",
     "text": [
      "Output video with averaged gaze points, fixations, and scanpath saved as /Volumes/T7 Shield/fox/et/sub-044_tv-lego-b9e2d9a7/ads/4/output_with_aoi_and_gaze.mp4\n",
      "Processing ad  5 in  /Volumes/T7 Shield/fox/et/sub-044_tv-lego-b9e2d9a7/ads/5/5.mp4\n"
     ]
    },
    {
     "name": "stderr",
     "output_type": "stream",
     "text": [
      "No accelerated colorspace conversion found from yuv420p to rgb24.\n",
      "No accelerated colorspace conversion found from yuv420p to rgb24.\n",
      " (repeated 360 more times)\n"
     ]
    },
    {
     "name": "stdout",
     "output_type": "stream",
     "text": [
      "Output video with averaged gaze points, fixations, and scanpath saved as /Volumes/T7 Shield/fox/et/sub-044_tv-lego-b9e2d9a7/ads/5/output_with_aoi_and_gaze.mp4\n",
      "Processing ad  7 in  /Volumes/T7 Shield/fox/et/sub-044_tv-lego-b9e2d9a7/ads/7/7.mp4\n"
     ]
    },
    {
     "name": "stderr",
     "output_type": "stream",
     "text": [
      "No accelerated colorspace conversion found from yuv420p to rgb24.\n",
      "No accelerated colorspace conversion found from yuv420p to rgb24.\n",
      " (repeated 720 more times)\n"
     ]
    },
    {
     "name": "stdout",
     "output_type": "stream",
     "text": [
      "Output video with averaged gaze points, fixations, and scanpath saved as /Volumes/T7 Shield/fox/et/sub-044_tv-lego-b9e2d9a7/ads/7/output_with_aoi_and_gaze.mp4\n",
      "Processing ad  8 in  /Volumes/T7 Shield/fox/et/sub-044_tv-lego-b9e2d9a7/ads/8/8.mp4\n"
     ]
    },
    {
     "name": "stderr",
     "output_type": "stream",
     "text": [
      "No accelerated colorspace conversion found from yuv420p to rgb24.\n",
      "No accelerated colorspace conversion found from yuv420p to rgb24.\n",
      " (repeated 720 more times)\n"
     ]
    },
    {
     "name": "stdout",
     "output_type": "stream",
     "text": [
      "Output video with averaged gaze points, fixations, and scanpath saved as /Volumes/T7 Shield/fox/et/sub-044_tv-lego-b9e2d9a7/ads/8/output_with_aoi_and_gaze.mp4\n",
      "Processing ad  9 in  /Volumes/T7 Shield/fox/et/sub-044_tv-lego-b9e2d9a7/ads/9/9.mp4\n"
     ]
    },
    {
     "name": "stderr",
     "output_type": "stream",
     "text": [
      "No accelerated colorspace conversion found from yuv420p to rgb24.\n",
      "No accelerated colorspace conversion found from yuv420p to rgb24.\n",
      " (repeated 720 more times)\n"
     ]
    },
    {
     "name": "stdout",
     "output_type": "stream",
     "text": [
      "Output video with averaged gaze points, fixations, and scanpath saved as /Volumes/T7 Shield/fox/et/sub-044_tv-lego-b9e2d9a7/ads/9/output_with_aoi_and_gaze.mp4\n",
      "Processing ad  10 in  /Volumes/T7 Shield/fox/et/sub-044_tv-lego-b9e2d9a7/ads/10/10.mp4\n"
     ]
    },
    {
     "name": "stderr",
     "output_type": "stream",
     "text": [
      "No accelerated colorspace conversion found from yuv420p to rgb24.\n",
      "No accelerated colorspace conversion found from yuv420p to rgb24.\n",
      " (repeated 360 more times)\n"
     ]
    },
    {
     "name": "stdout",
     "output_type": "stream",
     "text": [
      "Output video with averaged gaze points, fixations, and scanpath saved as /Volumes/T7 Shield/fox/et/sub-044_tv-lego-b9e2d9a7/ads/10/output_with_aoi_and_gaze.mp4\n",
      "Processing gaze data in ads for  sub-045\n",
      "Processing ad  2 in  /Volumes/T7 Shield/fox/et/sub-045_tv-bigmood-80bf8c6a/ads/2/2.mp4\n"
     ]
    },
    {
     "name": "stderr",
     "output_type": "stream",
     "text": [
      "No accelerated colorspace conversion found from yuv420p to rgb24.\n",
      "No accelerated colorspace conversion found from yuv420p to rgb24.\n",
      " (repeated 600 more times)\n"
     ]
    },
    {
     "name": "stdout",
     "output_type": "stream",
     "text": [
      "Output video with averaged gaze points, fixations, and scanpath saved as /Volumes/T7 Shield/fox/et/sub-045_tv-bigmood-80bf8c6a/ads/2/output_with_aoi_and_gaze.mp4\n",
      "Processing ad  3 in  /Volumes/T7 Shield/fox/et/sub-045_tv-bigmood-80bf8c6a/ads/3/3.mp4\n"
     ]
    },
    {
     "name": "stderr",
     "output_type": "stream",
     "text": [
      "No accelerated colorspace conversion found from yuv420p to rgb24.\n",
      "No accelerated colorspace conversion found from yuv420p to rgb24.\n",
      " (repeated 600 more times)\n"
     ]
    },
    {
     "name": "stdout",
     "output_type": "stream",
     "text": [
      "Output video with averaged gaze points, fixations, and scanpath saved as /Volumes/T7 Shield/fox/et/sub-045_tv-bigmood-80bf8c6a/ads/3/output_with_aoi_and_gaze.mp4\n",
      "Processing ad  4 in  /Volumes/T7 Shield/fox/et/sub-045_tv-bigmood-80bf8c6a/ads/4/4.mp4\n"
     ]
    },
    {
     "name": "stderr",
     "output_type": "stream",
     "text": [
      "No accelerated colorspace conversion found from yuv420p to rgb24.\n",
      "No accelerated colorspace conversion found from yuv420p to rgb24.\n",
      " (repeated 1500 more times)\n"
     ]
    },
    {
     "name": "stdout",
     "output_type": "stream",
     "text": [
      "Output video with averaged gaze points, fixations, and scanpath saved as /Volumes/T7 Shield/fox/et/sub-045_tv-bigmood-80bf8c6a/ads/4/output_with_aoi_and_gaze.mp4\n",
      "Processing ad  5 in  /Volumes/T7 Shield/fox/et/sub-045_tv-bigmood-80bf8c6a/ads/5/5.mp4\n"
     ]
    },
    {
     "name": "stderr",
     "output_type": "stream",
     "text": [
      "No accelerated colorspace conversion found from yuv420p to rgb24.\n",
      "No accelerated colorspace conversion found from yuv420p to rgb24.\n",
      " (repeated 300 more times)\n"
     ]
    },
    {
     "name": "stdout",
     "output_type": "stream",
     "text": [
      "Output video with averaged gaze points, fixations, and scanpath saved as /Volumes/T7 Shield/fox/et/sub-045_tv-bigmood-80bf8c6a/ads/5/output_with_aoi_and_gaze.mp4\n",
      "Processing ad  7 in  /Volumes/T7 Shield/fox/et/sub-045_tv-bigmood-80bf8c6a/ads/7/7.mp4\n"
     ]
    },
    {
     "name": "stderr",
     "output_type": "stream",
     "text": [
      "No accelerated colorspace conversion found from yuv420p to rgb24.\n",
      "No accelerated colorspace conversion found from yuv420p to rgb24.\n",
      " (repeated 600 more times)\n"
     ]
    },
    {
     "name": "stdout",
     "output_type": "stream",
     "text": [
      "Output video with averaged gaze points, fixations, and scanpath saved as /Volumes/T7 Shield/fox/et/sub-045_tv-bigmood-80bf8c6a/ads/7/output_with_aoi_and_gaze.mp4\n",
      "Processing ad  8 in  /Volumes/T7 Shield/fox/et/sub-045_tv-bigmood-80bf8c6a/ads/8/8.mp4\n"
     ]
    },
    {
     "name": "stderr",
     "output_type": "stream",
     "text": [
      "No accelerated colorspace conversion found from yuv420p to rgb24.\n",
      "No accelerated colorspace conversion found from yuv420p to rgb24.\n",
      " (repeated 600 more times)\n"
     ]
    },
    {
     "name": "stdout",
     "output_type": "stream",
     "text": [
      "Output video with averaged gaze points, fixations, and scanpath saved as /Volumes/T7 Shield/fox/et/sub-045_tv-bigmood-80bf8c6a/ads/8/output_with_aoi_and_gaze.mp4\n",
      "Processing ad  9 in  /Volumes/T7 Shield/fox/et/sub-045_tv-bigmood-80bf8c6a/ads/9/9.mp4\n"
     ]
    },
    {
     "name": "stderr",
     "output_type": "stream",
     "text": [
      "No accelerated colorspace conversion found from yuv420p to rgb24.\n",
      "No accelerated colorspace conversion found from yuv420p to rgb24.\n",
      " (repeated 600 more times)\n"
     ]
    },
    {
     "name": "stdout",
     "output_type": "stream",
     "text": [
      "Output video with averaged gaze points, fixations, and scanpath saved as /Volumes/T7 Shield/fox/et/sub-045_tv-bigmood-80bf8c6a/ads/9/output_with_aoi_and_gaze.mp4\n",
      "Processing ad  10 in  /Volumes/T7 Shield/fox/et/sub-045_tv-bigmood-80bf8c6a/ads/10/10.mp4\n"
     ]
    },
    {
     "name": "stderr",
     "output_type": "stream",
     "text": [
      "No accelerated colorspace conversion found from yuv420p to rgb24.\n",
      "No accelerated colorspace conversion found from yuv420p to rgb24.\n",
      " (repeated 300 more times)\n"
     ]
    },
    {
     "name": "stdout",
     "output_type": "stream",
     "text": [
      "Output video with averaged gaze points, fixations, and scanpath saved as /Volumes/T7 Shield/fox/et/sub-045_tv-bigmood-80bf8c6a/ads/10/output_with_aoi_and_gaze.mp4\n",
      "Processing gaze data in ads for  sub-046\n",
      "Processing ad  2 in  /Volumes/T7 Shield/fox/et/sub-046_tv-pickers-c130f175/ads/2/2.mp4\n"
     ]
    },
    {
     "name": "stderr",
     "output_type": "stream",
     "text": [
      "No accelerated colorspace conversion found from yuv420p to rgb24.\n",
      "No accelerated colorspace conversion found from yuv420p to rgb24.\n",
      " (repeated 600 more times)\n"
     ]
    },
    {
     "name": "stdout",
     "output_type": "stream",
     "text": [
      "Output video with averaged gaze points, fixations, and scanpath saved as /Volumes/T7 Shield/fox/et/sub-046_tv-pickers-c130f175/ads/2/output_with_aoi_and_gaze.mp4\n",
      "Processing ad  3 in  /Volumes/T7 Shield/fox/et/sub-046_tv-pickers-c130f175/ads/3/3.mp4\n"
     ]
    },
    {
     "name": "stderr",
     "output_type": "stream",
     "text": [
      "No accelerated colorspace conversion found from yuv420p to rgb24.\n",
      "No accelerated colorspace conversion found from yuv420p to rgb24.\n",
      " (repeated 600 more times)\n"
     ]
    },
    {
     "name": "stdout",
     "output_type": "stream",
     "text": [
      "Output video with averaged gaze points, fixations, and scanpath saved as /Volumes/T7 Shield/fox/et/sub-046_tv-pickers-c130f175/ads/3/output_with_aoi_and_gaze.mp4\n",
      "Processing ad  4 in  /Volumes/T7 Shield/fox/et/sub-046_tv-pickers-c130f175/ads/4/4.mp4\n"
     ]
    },
    {
     "name": "stderr",
     "output_type": "stream",
     "text": [
      "No accelerated colorspace conversion found from yuv420p to rgb24.\n",
      "No accelerated colorspace conversion found from yuv420p to rgb24.\n",
      " (repeated 1500 more times)\n"
     ]
    },
    {
     "name": "stdout",
     "output_type": "stream",
     "text": [
      "Output video with averaged gaze points, fixations, and scanpath saved as /Volumes/T7 Shield/fox/et/sub-046_tv-pickers-c130f175/ads/4/output_with_aoi_and_gaze.mp4\n",
      "Processing ad  5 in  /Volumes/T7 Shield/fox/et/sub-046_tv-pickers-c130f175/ads/5/5.mp4\n"
     ]
    },
    {
     "name": "stderr",
     "output_type": "stream",
     "text": [
      "No accelerated colorspace conversion found from yuv420p to rgb24.\n",
      "No accelerated colorspace conversion found from yuv420p to rgb24.\n",
      " (repeated 300 more times)\n"
     ]
    },
    {
     "name": "stdout",
     "output_type": "stream",
     "text": [
      "Output video with averaged gaze points, fixations, and scanpath saved as /Volumes/T7 Shield/fox/et/sub-046_tv-pickers-c130f175/ads/5/output_with_aoi_and_gaze.mp4\n",
      "Processing ad  7 in  /Volumes/T7 Shield/fox/et/sub-046_tv-pickers-c130f175/ads/7/7.mp4\n"
     ]
    },
    {
     "name": "stderr",
     "output_type": "stream",
     "text": [
      "No accelerated colorspace conversion found from yuv420p to rgb24.\n",
      "No accelerated colorspace conversion found from yuv420p to rgb24.\n",
      " (repeated 600 more times)\n"
     ]
    },
    {
     "name": "stdout",
     "output_type": "stream",
     "text": [
      "Output video with averaged gaze points, fixations, and scanpath saved as /Volumes/T7 Shield/fox/et/sub-046_tv-pickers-c130f175/ads/7/output_with_aoi_and_gaze.mp4\n",
      "Processing ad  8 in  /Volumes/T7 Shield/fox/et/sub-046_tv-pickers-c130f175/ads/8/8.mp4\n"
     ]
    },
    {
     "name": "stderr",
     "output_type": "stream",
     "text": [
      "No accelerated colorspace conversion found from yuv420p to rgb24.\n",
      "No accelerated colorspace conversion found from yuv420p to rgb24.\n",
      " (repeated 600 more times)\n"
     ]
    },
    {
     "name": "stdout",
     "output_type": "stream",
     "text": [
      "Output video with averaged gaze points, fixations, and scanpath saved as /Volumes/T7 Shield/fox/et/sub-046_tv-pickers-c130f175/ads/8/output_with_aoi_and_gaze.mp4\n",
      "Processing ad  9 in  /Volumes/T7 Shield/fox/et/sub-046_tv-pickers-c130f175/ads/9/9.mp4\n"
     ]
    },
    {
     "name": "stderr",
     "output_type": "stream",
     "text": [
      "No accelerated colorspace conversion found from yuv420p to rgb24.\n",
      "No accelerated colorspace conversion found from yuv420p to rgb24.\n",
      " (repeated 600 more times)\n"
     ]
    },
    {
     "name": "stdout",
     "output_type": "stream",
     "text": [
      "Output video with averaged gaze points, fixations, and scanpath saved as /Volumes/T7 Shield/fox/et/sub-046_tv-pickers-c130f175/ads/9/output_with_aoi_and_gaze.mp4\n",
      "Processing ad  10 in  /Volumes/T7 Shield/fox/et/sub-046_tv-pickers-c130f175/ads/10/10.mp4\n"
     ]
    },
    {
     "name": "stderr",
     "output_type": "stream",
     "text": [
      "No accelerated colorspace conversion found from yuv420p to rgb24.\n",
      "No accelerated colorspace conversion found from yuv420p to rgb24.\n",
      " (repeated 300 more times)\n"
     ]
    },
    {
     "name": "stdout",
     "output_type": "stream",
     "text": [
      "Output video with averaged gaze points, fixations, and scanpath saved as /Volumes/T7 Shield/fox/et/sub-046_tv-pickers-c130f175/ads/10/output_with_aoi_and_gaze.mp4\n",
      "Processing gaze data in ads for  sub-047\n",
      "Processing ad  2 in  /Volumes/T7 Shield/fox/et/sub-047_tv-cnn-3b19bacd/ads/2/2.mp4\n"
     ]
    },
    {
     "name": "stderr",
     "output_type": "stream",
     "text": [
      "No accelerated colorspace conversion found from yuv420p to rgb24.\n",
      "No accelerated colorspace conversion found from yuv420p to rgb24.\n",
      " (repeated 600 more times)\n"
     ]
    },
    {
     "name": "stdout",
     "output_type": "stream",
     "text": [
      "Output video with averaged gaze points, fixations, and scanpath saved as /Volumes/T7 Shield/fox/et/sub-047_tv-cnn-3b19bacd/ads/2/output_with_aoi_and_gaze.mp4\n",
      "Processing ad  3 in  /Volumes/T7 Shield/fox/et/sub-047_tv-cnn-3b19bacd/ads/3/3.mp4\n"
     ]
    },
    {
     "name": "stderr",
     "output_type": "stream",
     "text": [
      "No accelerated colorspace conversion found from yuv420p to rgb24.\n",
      "No accelerated colorspace conversion found from yuv420p to rgb24.\n",
      " (repeated 600 more times)\n"
     ]
    },
    {
     "name": "stdout",
     "output_type": "stream",
     "text": [
      "Output video with averaged gaze points, fixations, and scanpath saved as /Volumes/T7 Shield/fox/et/sub-047_tv-cnn-3b19bacd/ads/3/output_with_aoi_and_gaze.mp4\n",
      "Processing ad  4 in  /Volumes/T7 Shield/fox/et/sub-047_tv-cnn-3b19bacd/ads/4/4.mp4\n"
     ]
    },
    {
     "name": "stderr",
     "output_type": "stream",
     "text": [
      "No accelerated colorspace conversion found from yuv420p to rgb24.\n",
      "No accelerated colorspace conversion found from yuv420p to rgb24.\n",
      " (repeated 1500 more times)\n"
     ]
    },
    {
     "name": "stdout",
     "output_type": "stream",
     "text": [
      "Output video with averaged gaze points, fixations, and scanpath saved as /Volumes/T7 Shield/fox/et/sub-047_tv-cnn-3b19bacd/ads/4/output_with_aoi_and_gaze.mp4\n",
      "Processing ad  5 in  /Volumes/T7 Shield/fox/et/sub-047_tv-cnn-3b19bacd/ads/5/5.mp4\n"
     ]
    },
    {
     "name": "stderr",
     "output_type": "stream",
     "text": [
      "No accelerated colorspace conversion found from yuv420p to rgb24.\n",
      "No accelerated colorspace conversion found from yuv420p to rgb24.\n",
      " (repeated 300 more times)\n"
     ]
    },
    {
     "name": "stdout",
     "output_type": "stream",
     "text": [
      "Output video with averaged gaze points, fixations, and scanpath saved as /Volumes/T7 Shield/fox/et/sub-047_tv-cnn-3b19bacd/ads/5/output_with_aoi_and_gaze.mp4\n",
      "Processing ad  7 in  /Volumes/T7 Shield/fox/et/sub-047_tv-cnn-3b19bacd/ads/7/7.mp4\n"
     ]
    },
    {
     "name": "stderr",
     "output_type": "stream",
     "text": [
      "No accelerated colorspace conversion found from yuv420p to rgb24.\n",
      "No accelerated colorspace conversion found from yuv420p to rgb24.\n",
      " (repeated 600 more times)\n"
     ]
    },
    {
     "name": "stdout",
     "output_type": "stream",
     "text": [
      "Output video with averaged gaze points, fixations, and scanpath saved as /Volumes/T7 Shield/fox/et/sub-047_tv-cnn-3b19bacd/ads/7/output_with_aoi_and_gaze.mp4\n",
      "Processing ad  8 in  /Volumes/T7 Shield/fox/et/sub-047_tv-cnn-3b19bacd/ads/8/8.mp4\n"
     ]
    },
    {
     "name": "stderr",
     "output_type": "stream",
     "text": [
      "No accelerated colorspace conversion found from yuv420p to rgb24.\n",
      "No accelerated colorspace conversion found from yuv420p to rgb24.\n",
      " (repeated 600 more times)\n"
     ]
    },
    {
     "name": "stdout",
     "output_type": "stream",
     "text": [
      "Output video with averaged gaze points, fixations, and scanpath saved as /Volumes/T7 Shield/fox/et/sub-047_tv-cnn-3b19bacd/ads/8/output_with_aoi_and_gaze.mp4\n",
      "Processing ad  9 in  /Volumes/T7 Shield/fox/et/sub-047_tv-cnn-3b19bacd/ads/9/9.mp4\n"
     ]
    },
    {
     "name": "stderr",
     "output_type": "stream",
     "text": [
      "No accelerated colorspace conversion found from yuv420p to rgb24.\n",
      "No accelerated colorspace conversion found from yuv420p to rgb24.\n",
      " (repeated 600 more times)\n"
     ]
    },
    {
     "name": "stdout",
     "output_type": "stream",
     "text": [
      "Output video with averaged gaze points, fixations, and scanpath saved as /Volumes/T7 Shield/fox/et/sub-047_tv-cnn-3b19bacd/ads/9/output_with_aoi_and_gaze.mp4\n",
      "Processing ad  10 in  /Volumes/T7 Shield/fox/et/sub-047_tv-cnn-3b19bacd/ads/10/10.mp4\n"
     ]
    },
    {
     "name": "stderr",
     "output_type": "stream",
     "text": [
      "No accelerated colorspace conversion found from yuv420p to rgb24.\n",
      "No accelerated colorspace conversion found from yuv420p to rgb24.\n",
      " (repeated 300 more times)\n"
     ]
    },
    {
     "name": "stdout",
     "output_type": "stream",
     "text": [
      "Output video with averaged gaze points, fixations, and scanpath saved as /Volumes/T7 Shield/fox/et/sub-047_tv-cnn-3b19bacd/ads/10/output_with_aoi_and_gaze.mp4\n",
      "Processing gaze data in ads for  sub-049\n",
      "Processing ad  2 in  /Volumes/T7 Shield/fox/et/sub-049_tv-fox-74761213/ads/2/2.mp4\n"
     ]
    },
    {
     "name": "stderr",
     "output_type": "stream",
     "text": [
      "No accelerated colorspace conversion found from yuv420p to rgb24.\n",
      "No accelerated colorspace conversion found from yuv420p to rgb24.\n",
      " (repeated 600 more times)\n"
     ]
    },
    {
     "name": "stdout",
     "output_type": "stream",
     "text": [
      "Output video with averaged gaze points, fixations, and scanpath saved as /Volumes/T7 Shield/fox/et/sub-049_tv-fox-74761213/ads/2/output_with_aoi_and_gaze.mp4\n",
      "Processing ad  3 in  /Volumes/T7 Shield/fox/et/sub-049_tv-fox-74761213/ads/3/3.mp4\n"
     ]
    },
    {
     "name": "stderr",
     "output_type": "stream",
     "text": [
      "No accelerated colorspace conversion found from yuv420p to rgb24.\n",
      "No accelerated colorspace conversion found from yuv420p to rgb24.\n",
      " (repeated 600 more times)\n"
     ]
    },
    {
     "name": "stdout",
     "output_type": "stream",
     "text": [
      "Output video with averaged gaze points, fixations, and scanpath saved as /Volumes/T7 Shield/fox/et/sub-049_tv-fox-74761213/ads/3/output_with_aoi_and_gaze.mp4\n",
      "Processing ad  4 in  /Volumes/T7 Shield/fox/et/sub-049_tv-fox-74761213/ads/4/4.mp4\n"
     ]
    },
    {
     "name": "stderr",
     "output_type": "stream",
     "text": [
      "No accelerated colorspace conversion found from yuv420p to rgb24.\n",
      "No accelerated colorspace conversion found from yuv420p to rgb24.\n",
      " (repeated 1500 more times)\n"
     ]
    },
    {
     "name": "stdout",
     "output_type": "stream",
     "text": [
      "Output video with averaged gaze points, fixations, and scanpath saved as /Volumes/T7 Shield/fox/et/sub-049_tv-fox-74761213/ads/4/output_with_aoi_and_gaze.mp4\n",
      "Processing ad  5 in  /Volumes/T7 Shield/fox/et/sub-049_tv-fox-74761213/ads/5/5.mp4\n"
     ]
    },
    {
     "name": "stderr",
     "output_type": "stream",
     "text": [
      "No accelerated colorspace conversion found from yuv420p to rgb24.\n",
      "No accelerated colorspace conversion found from yuv420p to rgb24.\n",
      " (repeated 300 more times)\n"
     ]
    },
    {
     "name": "stdout",
     "output_type": "stream",
     "text": [
      "Output video with averaged gaze points, fixations, and scanpath saved as /Volumes/T7 Shield/fox/et/sub-049_tv-fox-74761213/ads/5/output_with_aoi_and_gaze.mp4\n",
      "Processing ad  7 in  /Volumes/T7 Shield/fox/et/sub-049_tv-fox-74761213/ads/7/7.mp4\n"
     ]
    },
    {
     "name": "stderr",
     "output_type": "stream",
     "text": [
      "No accelerated colorspace conversion found from yuv420p to rgb24.\n",
      "No accelerated colorspace conversion found from yuv420p to rgb24.\n",
      " (repeated 600 more times)\n"
     ]
    },
    {
     "name": "stdout",
     "output_type": "stream",
     "text": [
      "Output video with averaged gaze points, fixations, and scanpath saved as /Volumes/T7 Shield/fox/et/sub-049_tv-fox-74761213/ads/7/output_with_aoi_and_gaze.mp4\n",
      "Processing ad  8 in  /Volumes/T7 Shield/fox/et/sub-049_tv-fox-74761213/ads/8/8.mp4\n"
     ]
    },
    {
     "name": "stderr",
     "output_type": "stream",
     "text": [
      "No accelerated colorspace conversion found from yuv420p to rgb24.\n",
      "No accelerated colorspace conversion found from yuv420p to rgb24.\n",
      " (repeated 600 more times)\n"
     ]
    },
    {
     "name": "stdout",
     "output_type": "stream",
     "text": [
      "Output video with averaged gaze points, fixations, and scanpath saved as /Volumes/T7 Shield/fox/et/sub-049_tv-fox-74761213/ads/8/output_with_aoi_and_gaze.mp4\n",
      "Processing ad  9 in  /Volumes/T7 Shield/fox/et/sub-049_tv-fox-74761213/ads/9/9.mp4\n"
     ]
    },
    {
     "name": "stderr",
     "output_type": "stream",
     "text": [
      "No accelerated colorspace conversion found from yuv420p to rgb24.\n",
      "No accelerated colorspace conversion found from yuv420p to rgb24.\n",
      " (repeated 600 more times)\n"
     ]
    },
    {
     "name": "stdout",
     "output_type": "stream",
     "text": [
      "Output video with averaged gaze points, fixations, and scanpath saved as /Volumes/T7 Shield/fox/et/sub-049_tv-fox-74761213/ads/9/output_with_aoi_and_gaze.mp4\n",
      "Processing ad  10 in  /Volumes/T7 Shield/fox/et/sub-049_tv-fox-74761213/ads/10/10.mp4\n"
     ]
    },
    {
     "name": "stderr",
     "output_type": "stream",
     "text": [
      "No accelerated colorspace conversion found from yuv420p to rgb24.\n",
      "No accelerated colorspace conversion found from yuv420p to rgb24.\n",
      " (repeated 300 more times)\n"
     ]
    },
    {
     "name": "stdout",
     "output_type": "stream",
     "text": [
      "Output video with averaged gaze points, fixations, and scanpath saved as /Volumes/T7 Shield/fox/et/sub-049_tv-fox-74761213/ads/10/output_with_aoi_and_gaze.mp4\n",
      "Processing gaze data in ads for  sub-053\n",
      "Processing ad  2 in  /Volumes/T7 Shield/fox/et/sub-053_tv-lego-63478be7/ads/2/2.mp4\n"
     ]
    },
    {
     "name": "stderr",
     "output_type": "stream",
     "text": [
      "No accelerated colorspace conversion found from yuv420p to rgb24.\n",
      "No accelerated colorspace conversion found from yuv420p to rgb24.\n",
      " (repeated 720 more times)\n"
     ]
    },
    {
     "name": "stdout",
     "output_type": "stream",
     "text": [
      "Output video with averaged gaze points, fixations, and scanpath saved as /Volumes/T7 Shield/fox/et/sub-053_tv-lego-63478be7/ads/2/output_with_aoi_and_gaze.mp4\n",
      "Processing ad  3 in  /Volumes/T7 Shield/fox/et/sub-053_tv-lego-63478be7/ads/3/3.mp4\n"
     ]
    },
    {
     "name": "stderr",
     "output_type": "stream",
     "text": [
      "No accelerated colorspace conversion found from yuv420p to rgb24.\n",
      "No accelerated colorspace conversion found from yuv420p to rgb24.\n",
      " (repeated 720 more times)\n"
     ]
    },
    {
     "name": "stdout",
     "output_type": "stream",
     "text": [
      "Output video with averaged gaze points, fixations, and scanpath saved as /Volumes/T7 Shield/fox/et/sub-053_tv-lego-63478be7/ads/3/output_with_aoi_and_gaze.mp4\n",
      "Processing ad  4 in  /Volumes/T7 Shield/fox/et/sub-053_tv-lego-63478be7/ads/4/4.mp4\n"
     ]
    },
    {
     "name": "stderr",
     "output_type": "stream",
     "text": [
      "No accelerated colorspace conversion found from yuv420p to rgb24.\n",
      "No accelerated colorspace conversion found from yuv420p to rgb24.\n",
      " (repeated 1800 more times)\n"
     ]
    },
    {
     "name": "stdout",
     "output_type": "stream",
     "text": [
      "Output video with averaged gaze points, fixations, and scanpath saved as /Volumes/T7 Shield/fox/et/sub-053_tv-lego-63478be7/ads/4/output_with_aoi_and_gaze.mp4\n",
      "Processing ad  5 in  /Volumes/T7 Shield/fox/et/sub-053_tv-lego-63478be7/ads/5/5.mp4\n"
     ]
    },
    {
     "name": "stderr",
     "output_type": "stream",
     "text": [
      "No accelerated colorspace conversion found from yuv420p to rgb24.\n",
      "No accelerated colorspace conversion found from yuv420p to rgb24.\n",
      " (repeated 360 more times)\n"
     ]
    },
    {
     "name": "stdout",
     "output_type": "stream",
     "text": [
      "Output video with averaged gaze points, fixations, and scanpath saved as /Volumes/T7 Shield/fox/et/sub-053_tv-lego-63478be7/ads/5/output_with_aoi_and_gaze.mp4\n",
      "Processing ad  7 in  /Volumes/T7 Shield/fox/et/sub-053_tv-lego-63478be7/ads/7/7.mp4\n"
     ]
    },
    {
     "name": "stderr",
     "output_type": "stream",
     "text": [
      "No accelerated colorspace conversion found from yuv420p to rgb24.\n",
      "No accelerated colorspace conversion found from yuv420p to rgb24.\n",
      " (repeated 720 more times)\n"
     ]
    },
    {
     "name": "stdout",
     "output_type": "stream",
     "text": [
      "Output video with averaged gaze points, fixations, and scanpath saved as /Volumes/T7 Shield/fox/et/sub-053_tv-lego-63478be7/ads/7/output_with_aoi_and_gaze.mp4\n",
      "Processing ad  8 in  /Volumes/T7 Shield/fox/et/sub-053_tv-lego-63478be7/ads/8/8.mp4\n"
     ]
    },
    {
     "name": "stderr",
     "output_type": "stream",
     "text": [
      "No accelerated colorspace conversion found from yuv420p to rgb24.\n",
      "No accelerated colorspace conversion found from yuv420p to rgb24.\n",
      " (repeated 720 more times)\n"
     ]
    },
    {
     "name": "stdout",
     "output_type": "stream",
     "text": [
      "Output video with averaged gaze points, fixations, and scanpath saved as /Volumes/T7 Shield/fox/et/sub-053_tv-lego-63478be7/ads/8/output_with_aoi_and_gaze.mp4\n",
      "Processing ad  9 in  /Volumes/T7 Shield/fox/et/sub-053_tv-lego-63478be7/ads/9/9.mp4\n"
     ]
    },
    {
     "name": "stderr",
     "output_type": "stream",
     "text": [
      "No accelerated colorspace conversion found from yuv420p to rgb24.\n",
      "No accelerated colorspace conversion found from yuv420p to rgb24.\n",
      " (repeated 720 more times)\n"
     ]
    },
    {
     "name": "stdout",
     "output_type": "stream",
     "text": [
      "Output video with averaged gaze points, fixations, and scanpath saved as /Volumes/T7 Shield/fox/et/sub-053_tv-lego-63478be7/ads/9/output_with_aoi_and_gaze.mp4\n",
      "Processing ad  10 in  /Volumes/T7 Shield/fox/et/sub-053_tv-lego-63478be7/ads/10/10.mp4\n"
     ]
    },
    {
     "name": "stderr",
     "output_type": "stream",
     "text": [
      "No accelerated colorspace conversion found from yuv420p to rgb24.\n",
      "No accelerated colorspace conversion found from yuv420p to rgb24.\n",
      " (repeated 360 more times)\n"
     ]
    },
    {
     "name": "stdout",
     "output_type": "stream",
     "text": [
      "Output video with averaged gaze points, fixations, and scanpath saved as /Volumes/T7 Shield/fox/et/sub-053_tv-lego-63478be7/ads/10/output_with_aoi_and_gaze.mp4\n",
      "Processing gaze data in ads for  sub-054\n",
      "Processing ad  2 in  /Volumes/T7 Shield/fox/et/sub-054_tv-pickers-49c544bb/ads/2/2.mp4\n"
     ]
    },
    {
     "name": "stderr",
     "output_type": "stream",
     "text": [
      "No accelerated colorspace conversion found from yuv420p to rgb24.\n",
      "No accelerated colorspace conversion found from yuv420p to rgb24.\n",
      " (repeated 600 more times)\n"
     ]
    },
    {
     "name": "stdout",
     "output_type": "stream",
     "text": [
      "Output video with averaged gaze points, fixations, and scanpath saved as /Volumes/T7 Shield/fox/et/sub-054_tv-pickers-49c544bb/ads/2/output_with_aoi_and_gaze.mp4\n",
      "Processing ad  3 in  /Volumes/T7 Shield/fox/et/sub-054_tv-pickers-49c544bb/ads/3/3.mp4\n"
     ]
    },
    {
     "name": "stderr",
     "output_type": "stream",
     "text": [
      "No accelerated colorspace conversion found from yuv420p to rgb24.\n",
      "No accelerated colorspace conversion found from yuv420p to rgb24.\n",
      " (repeated 600 more times)\n"
     ]
    },
    {
     "name": "stdout",
     "output_type": "stream",
     "text": [
      "Output video with averaged gaze points, fixations, and scanpath saved as /Volumes/T7 Shield/fox/et/sub-054_tv-pickers-49c544bb/ads/3/output_with_aoi_and_gaze.mp4\n",
      "Processing ad  4 in  /Volumes/T7 Shield/fox/et/sub-054_tv-pickers-49c544bb/ads/4/4.mp4\n"
     ]
    },
    {
     "name": "stderr",
     "output_type": "stream",
     "text": [
      "No accelerated colorspace conversion found from yuv420p to rgb24.\n",
      "No accelerated colorspace conversion found from yuv420p to rgb24.\n",
      " (repeated 1500 more times)\n"
     ]
    },
    {
     "name": "stdout",
     "output_type": "stream",
     "text": [
      "Output video with averaged gaze points, fixations, and scanpath saved as /Volumes/T7 Shield/fox/et/sub-054_tv-pickers-49c544bb/ads/4/output_with_aoi_and_gaze.mp4\n",
      "Processing ad  5 in  /Volumes/T7 Shield/fox/et/sub-054_tv-pickers-49c544bb/ads/5/5.mp4\n"
     ]
    },
    {
     "name": "stderr",
     "output_type": "stream",
     "text": [
      "No accelerated colorspace conversion found from yuv420p to rgb24.\n",
      "No accelerated colorspace conversion found from yuv420p to rgb24.\n",
      " (repeated 300 more times)\n"
     ]
    },
    {
     "name": "stdout",
     "output_type": "stream",
     "text": [
      "Output video with averaged gaze points, fixations, and scanpath saved as /Volumes/T7 Shield/fox/et/sub-054_tv-pickers-49c544bb/ads/5/output_with_aoi_and_gaze.mp4\n",
      "Processing ad  7 in  /Volumes/T7 Shield/fox/et/sub-054_tv-pickers-49c544bb/ads/7/7.mp4\n"
     ]
    },
    {
     "name": "stderr",
     "output_type": "stream",
     "text": [
      "No accelerated colorspace conversion found from yuv420p to rgb24.\n",
      "No accelerated colorspace conversion found from yuv420p to rgb24.\n",
      " (repeated 600 more times)\n"
     ]
    },
    {
     "name": "stdout",
     "output_type": "stream",
     "text": [
      "Output video with averaged gaze points, fixations, and scanpath saved as /Volumes/T7 Shield/fox/et/sub-054_tv-pickers-49c544bb/ads/7/output_with_aoi_and_gaze.mp4\n",
      "Processing ad  8 in  /Volumes/T7 Shield/fox/et/sub-054_tv-pickers-49c544bb/ads/8/8.mp4\n"
     ]
    },
    {
     "name": "stderr",
     "output_type": "stream",
     "text": [
      "No accelerated colorspace conversion found from yuv420p to rgb24.\n",
      "No accelerated colorspace conversion found from yuv420p to rgb24.\n",
      " (repeated 600 more times)\n"
     ]
    },
    {
     "name": "stdout",
     "output_type": "stream",
     "text": [
      "Output video with averaged gaze points, fixations, and scanpath saved as /Volumes/T7 Shield/fox/et/sub-054_tv-pickers-49c544bb/ads/8/output_with_aoi_and_gaze.mp4\n",
      "Processing ad  9 in  /Volumes/T7 Shield/fox/et/sub-054_tv-pickers-49c544bb/ads/9/9.mp4\n"
     ]
    },
    {
     "name": "stderr",
     "output_type": "stream",
     "text": [
      "No accelerated colorspace conversion found from yuv420p to rgb24.\n",
      "No accelerated colorspace conversion found from yuv420p to rgb24.\n",
      " (repeated 600 more times)\n"
     ]
    },
    {
     "name": "stdout",
     "output_type": "stream",
     "text": [
      "Output video with averaged gaze points, fixations, and scanpath saved as /Volumes/T7 Shield/fox/et/sub-054_tv-pickers-49c544bb/ads/9/output_with_aoi_and_gaze.mp4\n",
      "Processing ad  10 in  /Volumes/T7 Shield/fox/et/sub-054_tv-pickers-49c544bb/ads/10/10.mp4\n"
     ]
    },
    {
     "name": "stderr",
     "output_type": "stream",
     "text": [
      "No accelerated colorspace conversion found from yuv420p to rgb24.\n",
      "No accelerated colorspace conversion found from yuv420p to rgb24.\n",
      " (repeated 300 more times)\n"
     ]
    },
    {
     "name": "stdout",
     "output_type": "stream",
     "text": [
      "Output video with averaged gaze points, fixations, and scanpath saved as /Volumes/T7 Shield/fox/et/sub-054_tv-pickers-49c544bb/ads/10/output_with_aoi_and_gaze.mp4\n",
      "Processing gaze data in ads for  sub-055\n",
      "Processing ad  2 in  /Volumes/T7 Shield/fox/et/sub-055_tv-cnn-656c583f/ads/2/2.mp4\n"
     ]
    },
    {
     "name": "stderr",
     "output_type": "stream",
     "text": [
      "No accelerated colorspace conversion found from yuv420p to rgb24.\n",
      "No accelerated colorspace conversion found from yuv420p to rgb24.\n",
      " (repeated 720 more times)\n"
     ]
    },
    {
     "name": "stdout",
     "output_type": "stream",
     "text": [
      "Output video with averaged gaze points, fixations, and scanpath saved as /Volumes/T7 Shield/fox/et/sub-055_tv-cnn-656c583f/ads/2/output_with_aoi_and_gaze.mp4\n",
      "Processing ad  3 in  /Volumes/T7 Shield/fox/et/sub-055_tv-cnn-656c583f/ads/3/3.mp4\n"
     ]
    },
    {
     "name": "stderr",
     "output_type": "stream",
     "text": [
      "No accelerated colorspace conversion found from yuv420p to rgb24.\n",
      "No accelerated colorspace conversion found from yuv420p to rgb24.\n",
      " (repeated 720 more times)\n"
     ]
    },
    {
     "name": "stdout",
     "output_type": "stream",
     "text": [
      "Output video with averaged gaze points, fixations, and scanpath saved as /Volumes/T7 Shield/fox/et/sub-055_tv-cnn-656c583f/ads/3/output_with_aoi_and_gaze.mp4\n",
      "Processing ad  4 in  /Volumes/T7 Shield/fox/et/sub-055_tv-cnn-656c583f/ads/4/4.mp4\n"
     ]
    },
    {
     "name": "stderr",
     "output_type": "stream",
     "text": [
      "No accelerated colorspace conversion found from yuv420p to rgb24.\n",
      "No accelerated colorspace conversion found from yuv420p to rgb24.\n",
      " (repeated 1800 more times)\n"
     ]
    },
    {
     "name": "stdout",
     "output_type": "stream",
     "text": [
      "Output video with averaged gaze points, fixations, and scanpath saved as /Volumes/T7 Shield/fox/et/sub-055_tv-cnn-656c583f/ads/4/output_with_aoi_and_gaze.mp4\n",
      "Processing ad  5 in  /Volumes/T7 Shield/fox/et/sub-055_tv-cnn-656c583f/ads/5/5.mp4\n"
     ]
    },
    {
     "name": "stderr",
     "output_type": "stream",
     "text": [
      "No accelerated colorspace conversion found from yuv420p to rgb24.\n",
      "No accelerated colorspace conversion found from yuv420p to rgb24.\n",
      " (repeated 360 more times)\n"
     ]
    },
    {
     "name": "stdout",
     "output_type": "stream",
     "text": [
      "Output video with averaged gaze points, fixations, and scanpath saved as /Volumes/T7 Shield/fox/et/sub-055_tv-cnn-656c583f/ads/5/output_with_aoi_and_gaze.mp4\n",
      "Processing ad  7 in  /Volumes/T7 Shield/fox/et/sub-055_tv-cnn-656c583f/ads/7/7.mp4\n"
     ]
    },
    {
     "name": "stderr",
     "output_type": "stream",
     "text": [
      "No accelerated colorspace conversion found from yuv420p to rgb24.\n",
      "No accelerated colorspace conversion found from yuv420p to rgb24.\n",
      " (repeated 720 more times)\n"
     ]
    },
    {
     "name": "stdout",
     "output_type": "stream",
     "text": [
      "Output video with averaged gaze points, fixations, and scanpath saved as /Volumes/T7 Shield/fox/et/sub-055_tv-cnn-656c583f/ads/7/output_with_aoi_and_gaze.mp4\n",
      "Processing ad  8 in  /Volumes/T7 Shield/fox/et/sub-055_tv-cnn-656c583f/ads/8/8.mp4\n"
     ]
    },
    {
     "name": "stderr",
     "output_type": "stream",
     "text": [
      "No accelerated colorspace conversion found from yuv420p to rgb24.\n",
      "No accelerated colorspace conversion found from yuv420p to rgb24.\n",
      " (repeated 720 more times)\n"
     ]
    },
    {
     "name": "stdout",
     "output_type": "stream",
     "text": [
      "Output video with averaged gaze points, fixations, and scanpath saved as /Volumes/T7 Shield/fox/et/sub-055_tv-cnn-656c583f/ads/8/output_with_aoi_and_gaze.mp4\n",
      "Processing ad  9 in  /Volumes/T7 Shield/fox/et/sub-055_tv-cnn-656c583f/ads/9/9.mp4\n"
     ]
    },
    {
     "name": "stderr",
     "output_type": "stream",
     "text": [
      "No accelerated colorspace conversion found from yuv420p to rgb24.\n",
      "No accelerated colorspace conversion found from yuv420p to rgb24.\n",
      " (repeated 720 more times)\n"
     ]
    },
    {
     "name": "stdout",
     "output_type": "stream",
     "text": [
      "Output video with averaged gaze points, fixations, and scanpath saved as /Volumes/T7 Shield/fox/et/sub-055_tv-cnn-656c583f/ads/9/output_with_aoi_and_gaze.mp4\n",
      "Processing ad  10 in  /Volumes/T7 Shield/fox/et/sub-055_tv-cnn-656c583f/ads/10/10.mp4\n"
     ]
    },
    {
     "name": "stderr",
     "output_type": "stream",
     "text": [
      "No accelerated colorspace conversion found from yuv420p to rgb24.\n",
      "No accelerated colorspace conversion found from yuv420p to rgb24.\n",
      " (repeated 360 more times)\n"
     ]
    },
    {
     "name": "stdout",
     "output_type": "stream",
     "text": [
      "Output video with averaged gaze points, fixations, and scanpath saved as /Volumes/T7 Shield/fox/et/sub-055_tv-cnn-656c583f/ads/10/output_with_aoi_and_gaze.mp4\n",
      "Processing gaze data in ads for  sub-056\n",
      "Processing ad  2 in  /Volumes/T7 Shield/fox/et/sub-056_tv-continental-55b96040/ads/2/2.mp4\n"
     ]
    },
    {
     "name": "stderr",
     "output_type": "stream",
     "text": [
      "No accelerated colorspace conversion found from yuv420p to rgb24.\n",
      "No accelerated colorspace conversion found from yuv420p to rgb24.\n",
      " (repeated 600 more times)\n"
     ]
    },
    {
     "name": "stdout",
     "output_type": "stream",
     "text": [
      "Output video with averaged gaze points, fixations, and scanpath saved as /Volumes/T7 Shield/fox/et/sub-056_tv-continental-55b96040/ads/2/output_with_aoi_and_gaze.mp4\n",
      "Processing ad  3 in  /Volumes/T7 Shield/fox/et/sub-056_tv-continental-55b96040/ads/3/3.mp4\n"
     ]
    },
    {
     "name": "stderr",
     "output_type": "stream",
     "text": [
      "No accelerated colorspace conversion found from yuv420p to rgb24.\n",
      "No accelerated colorspace conversion found from yuv420p to rgb24.\n",
      " (repeated 600 more times)\n"
     ]
    },
    {
     "name": "stdout",
     "output_type": "stream",
     "text": [
      "Output video with averaged gaze points, fixations, and scanpath saved as /Volumes/T7 Shield/fox/et/sub-056_tv-continental-55b96040/ads/3/output_with_aoi_and_gaze.mp4\n",
      "Processing ad  4 in  /Volumes/T7 Shield/fox/et/sub-056_tv-continental-55b96040/ads/4/4.mp4\n"
     ]
    },
    {
     "name": "stderr",
     "output_type": "stream",
     "text": [
      "No accelerated colorspace conversion found from yuv420p to rgb24.\n",
      "No accelerated colorspace conversion found from yuv420p to rgb24.\n",
      " (repeated 1500 more times)\n"
     ]
    },
    {
     "name": "stdout",
     "output_type": "stream",
     "text": [
      "Output video with averaged gaze points, fixations, and scanpath saved as /Volumes/T7 Shield/fox/et/sub-056_tv-continental-55b96040/ads/4/output_with_aoi_and_gaze.mp4\n",
      "Processing ad  5 in  /Volumes/T7 Shield/fox/et/sub-056_tv-continental-55b96040/ads/5/5.mp4\n"
     ]
    },
    {
     "name": "stderr",
     "output_type": "stream",
     "text": [
      "No accelerated colorspace conversion found from yuv420p to rgb24.\n",
      "No accelerated colorspace conversion found from yuv420p to rgb24.\n",
      " (repeated 300 more times)\n"
     ]
    },
    {
     "name": "stdout",
     "output_type": "stream",
     "text": [
      "Output video with averaged gaze points, fixations, and scanpath saved as /Volumes/T7 Shield/fox/et/sub-056_tv-continental-55b96040/ads/5/output_with_aoi_and_gaze.mp4\n",
      "Processing ad  7 in  /Volumes/T7 Shield/fox/et/sub-056_tv-continental-55b96040/ads/7/7.mp4\n"
     ]
    },
    {
     "name": "stderr",
     "output_type": "stream",
     "text": [
      "No accelerated colorspace conversion found from yuv420p to rgb24.\n",
      "No accelerated colorspace conversion found from yuv420p to rgb24.\n",
      " (repeated 600 more times)\n"
     ]
    },
    {
     "name": "stdout",
     "output_type": "stream",
     "text": [
      "Output video with averaged gaze points, fixations, and scanpath saved as /Volumes/T7 Shield/fox/et/sub-056_tv-continental-55b96040/ads/7/output_with_aoi_and_gaze.mp4\n",
      "Processing ad  8 in  /Volumes/T7 Shield/fox/et/sub-056_tv-continental-55b96040/ads/8/8.mp4\n"
     ]
    },
    {
     "name": "stderr",
     "output_type": "stream",
     "text": [
      "No accelerated colorspace conversion found from yuv420p to rgb24.\n",
      "No accelerated colorspace conversion found from yuv420p to rgb24.\n",
      " (repeated 600 more times)\n"
     ]
    },
    {
     "name": "stdout",
     "output_type": "stream",
     "text": [
      "Output video with averaged gaze points, fixations, and scanpath saved as /Volumes/T7 Shield/fox/et/sub-056_tv-continental-55b96040/ads/8/output_with_aoi_and_gaze.mp4\n",
      "Processing ad  9 in  /Volumes/T7 Shield/fox/et/sub-056_tv-continental-55b96040/ads/9/9.mp4\n"
     ]
    },
    {
     "name": "stderr",
     "output_type": "stream",
     "text": [
      "No accelerated colorspace conversion found from yuv420p to rgb24.\n",
      "No accelerated colorspace conversion found from yuv420p to rgb24.\n",
      " (repeated 600 more times)\n"
     ]
    },
    {
     "name": "stdout",
     "output_type": "stream",
     "text": [
      "Output video with averaged gaze points, fixations, and scanpath saved as /Volumes/T7 Shield/fox/et/sub-056_tv-continental-55b96040/ads/9/output_with_aoi_and_gaze.mp4\n",
      "Processing ad  10 in  /Volumes/T7 Shield/fox/et/sub-056_tv-continental-55b96040/ads/10/10.mp4\n"
     ]
    },
    {
     "name": "stderr",
     "output_type": "stream",
     "text": [
      "No accelerated colorspace conversion found from yuv420p to rgb24.\n",
      "No accelerated colorspace conversion found from yuv420p to rgb24.\n",
      " (repeated 300 more times)\n"
     ]
    },
    {
     "name": "stdout",
     "output_type": "stream",
     "text": [
      "Output video with averaged gaze points, fixations, and scanpath saved as /Volumes/T7 Shield/fox/et/sub-056_tv-continental-55b96040/ads/10/output_with_aoi_and_gaze.mp4\n",
      "Processing gaze data in ads for  sub-057\n",
      "Processing ad  2 in  /Volumes/T7 Shield/fox/et/sub-057_tv-nfl-c05e3fbd/ads/2/2.mp4\n"
     ]
    },
    {
     "name": "stderr",
     "output_type": "stream",
     "text": [
      "No accelerated colorspace conversion found from yuv420p to rgb24.\n",
      "No accelerated colorspace conversion found from yuv420p to rgb24.\n",
      " (repeated 600 more times)\n"
     ]
    },
    {
     "name": "stdout",
     "output_type": "stream",
     "text": [
      "Output video with averaged gaze points, fixations, and scanpath saved as /Volumes/T7 Shield/fox/et/sub-057_tv-nfl-c05e3fbd/ads/2/output_with_aoi_and_gaze.mp4\n",
      "Processing ad  3 in  /Volumes/T7 Shield/fox/et/sub-057_tv-nfl-c05e3fbd/ads/3/3.mp4\n"
     ]
    },
    {
     "name": "stderr",
     "output_type": "stream",
     "text": [
      "No accelerated colorspace conversion found from yuv420p to rgb24.\n",
      "No accelerated colorspace conversion found from yuv420p to rgb24.\n",
      " (repeated 600 more times)\n"
     ]
    },
    {
     "name": "stdout",
     "output_type": "stream",
     "text": [
      "Output video with averaged gaze points, fixations, and scanpath saved as /Volumes/T7 Shield/fox/et/sub-057_tv-nfl-c05e3fbd/ads/3/output_with_aoi_and_gaze.mp4\n",
      "Processing ad  4 in  /Volumes/T7 Shield/fox/et/sub-057_tv-nfl-c05e3fbd/ads/4/4.mp4\n"
     ]
    },
    {
     "name": "stderr",
     "output_type": "stream",
     "text": [
      "No accelerated colorspace conversion found from yuv420p to rgb24.\n",
      "No accelerated colorspace conversion found from yuv420p to rgb24.\n",
      " (repeated 1500 more times)\n"
     ]
    },
    {
     "name": "stdout",
     "output_type": "stream",
     "text": [
      "Output video with averaged gaze points, fixations, and scanpath saved as /Volumes/T7 Shield/fox/et/sub-057_tv-nfl-c05e3fbd/ads/4/output_with_aoi_and_gaze.mp4\n",
      "Processing ad  5 in  /Volumes/T7 Shield/fox/et/sub-057_tv-nfl-c05e3fbd/ads/5/5.mp4\n"
     ]
    },
    {
     "name": "stderr",
     "output_type": "stream",
     "text": [
      "No accelerated colorspace conversion found from yuv420p to rgb24.\n",
      "No accelerated colorspace conversion found from yuv420p to rgb24.\n",
      " (repeated 300 more times)\n"
     ]
    },
    {
     "name": "stdout",
     "output_type": "stream",
     "text": [
      "Output video with averaged gaze points, fixations, and scanpath saved as /Volumes/T7 Shield/fox/et/sub-057_tv-nfl-c05e3fbd/ads/5/output_with_aoi_and_gaze.mp4\n",
      "Processing ad  7 in  /Volumes/T7 Shield/fox/et/sub-057_tv-nfl-c05e3fbd/ads/7/7.mp4\n"
     ]
    },
    {
     "name": "stderr",
     "output_type": "stream",
     "text": [
      "No accelerated colorspace conversion found from yuv420p to rgb24.\n",
      "No accelerated colorspace conversion found from yuv420p to rgb24.\n",
      " (repeated 600 more times)\n"
     ]
    },
    {
     "name": "stdout",
     "output_type": "stream",
     "text": [
      "Output video with averaged gaze points, fixations, and scanpath saved as /Volumes/T7 Shield/fox/et/sub-057_tv-nfl-c05e3fbd/ads/7/output_with_aoi_and_gaze.mp4\n",
      "Processing ad  8 in  /Volumes/T7 Shield/fox/et/sub-057_tv-nfl-c05e3fbd/ads/8/8.mp4\n"
     ]
    },
    {
     "name": "stderr",
     "output_type": "stream",
     "text": [
      "No accelerated colorspace conversion found from yuv420p to rgb24.\n",
      "No accelerated colorspace conversion found from yuv420p to rgb24.\n",
      " (repeated 600 more times)\n"
     ]
    },
    {
     "name": "stdout",
     "output_type": "stream",
     "text": [
      "Output video with averaged gaze points, fixations, and scanpath saved as /Volumes/T7 Shield/fox/et/sub-057_tv-nfl-c05e3fbd/ads/8/output_with_aoi_and_gaze.mp4\n",
      "Processing ad  9 in  /Volumes/T7 Shield/fox/et/sub-057_tv-nfl-c05e3fbd/ads/9/9.mp4\n"
     ]
    },
    {
     "name": "stderr",
     "output_type": "stream",
     "text": [
      "No accelerated colorspace conversion found from yuv420p to rgb24.\n",
      "No accelerated colorspace conversion found from yuv420p to rgb24.\n",
      " (repeated 600 more times)\n"
     ]
    },
    {
     "name": "stdout",
     "output_type": "stream",
     "text": [
      "Output video with averaged gaze points, fixations, and scanpath saved as /Volumes/T7 Shield/fox/et/sub-057_tv-nfl-c05e3fbd/ads/9/output_with_aoi_and_gaze.mp4\n",
      "Processing ad  10 in  /Volumes/T7 Shield/fox/et/sub-057_tv-nfl-c05e3fbd/ads/10/10.mp4\n"
     ]
    },
    {
     "name": "stderr",
     "output_type": "stream",
     "text": [
      "No accelerated colorspace conversion found from yuv420p to rgb24.\n",
      "No accelerated colorspace conversion found from yuv420p to rgb24.\n",
      " (repeated 300 more times)\n"
     ]
    },
    {
     "name": "stdout",
     "output_type": "stream",
     "text": [
      "Output video with averaged gaze points, fixations, and scanpath saved as /Volumes/T7 Shield/fox/et/sub-057_tv-nfl-c05e3fbd/ads/10/output_with_aoi_and_gaze.mp4\n",
      "Processing gaze data in ads for  sub-058\n",
      "Skipping control or youtube condition\n",
      "Processing gaze data in ads for  sub-060\n",
      "Processing ad  2 in  /Volumes/T7 Shield/fox/et/sub-060_tv-bigmood-81f062b9/ads/2/2.mp4\n"
     ]
    },
    {
     "name": "stderr",
     "output_type": "stream",
     "text": [
      "No accelerated colorspace conversion found from yuv420p to rgb24.\n",
      "No accelerated colorspace conversion found from yuv420p to rgb24.\n",
      " (repeated 600 more times)\n"
     ]
    },
    {
     "name": "stdout",
     "output_type": "stream",
     "text": [
      "Output video with averaged gaze points, fixations, and scanpath saved as /Volumes/T7 Shield/fox/et/sub-060_tv-bigmood-81f062b9/ads/2/output_with_aoi_and_gaze.mp4\n",
      "Processing ad  3 in  /Volumes/T7 Shield/fox/et/sub-060_tv-bigmood-81f062b9/ads/3/3.mp4\n"
     ]
    },
    {
     "name": "stderr",
     "output_type": "stream",
     "text": [
      "No accelerated colorspace conversion found from yuv420p to rgb24.\n",
      "No accelerated colorspace conversion found from yuv420p to rgb24.\n",
      " (repeated 600 more times)\n"
     ]
    },
    {
     "name": "stdout",
     "output_type": "stream",
     "text": [
      "Output video with averaged gaze points, fixations, and scanpath saved as /Volumes/T7 Shield/fox/et/sub-060_tv-bigmood-81f062b9/ads/3/output_with_aoi_and_gaze.mp4\n",
      "Processing ad  4 in  /Volumes/T7 Shield/fox/et/sub-060_tv-bigmood-81f062b9/ads/4/4.mp4\n"
     ]
    },
    {
     "name": "stderr",
     "output_type": "stream",
     "text": [
      "No accelerated colorspace conversion found from yuv420p to rgb24.\n",
      "No accelerated colorspace conversion found from yuv420p to rgb24.\n",
      " (repeated 1500 more times)\n"
     ]
    },
    {
     "name": "stdout",
     "output_type": "stream",
     "text": [
      "Output video with averaged gaze points, fixations, and scanpath saved as /Volumes/T7 Shield/fox/et/sub-060_tv-bigmood-81f062b9/ads/4/output_with_aoi_and_gaze.mp4\n",
      "Processing ad  5 in  /Volumes/T7 Shield/fox/et/sub-060_tv-bigmood-81f062b9/ads/5/5.mp4\n"
     ]
    },
    {
     "name": "stderr",
     "output_type": "stream",
     "text": [
      "No accelerated colorspace conversion found from yuv420p to rgb24.\n",
      "No accelerated colorspace conversion found from yuv420p to rgb24.\n",
      " (repeated 300 more times)\n"
     ]
    },
    {
     "name": "stdout",
     "output_type": "stream",
     "text": [
      "Output video with averaged gaze points, fixations, and scanpath saved as /Volumes/T7 Shield/fox/et/sub-060_tv-bigmood-81f062b9/ads/5/output_with_aoi_and_gaze.mp4\n",
      "Processing ad  7 in  /Volumes/T7 Shield/fox/et/sub-060_tv-bigmood-81f062b9/ads/7/7.mp4\n"
     ]
    },
    {
     "name": "stderr",
     "output_type": "stream",
     "text": [
      "No accelerated colorspace conversion found from yuv420p to rgb24.\n",
      "No accelerated colorspace conversion found from yuv420p to rgb24.\n",
      " (repeated 600 more times)\n"
     ]
    },
    {
     "name": "stdout",
     "output_type": "stream",
     "text": [
      "Output video with averaged gaze points, fixations, and scanpath saved as /Volumes/T7 Shield/fox/et/sub-060_tv-bigmood-81f062b9/ads/7/output_with_aoi_and_gaze.mp4\n",
      "Processing ad  8 in  /Volumes/T7 Shield/fox/et/sub-060_tv-bigmood-81f062b9/ads/8/8.mp4\n"
     ]
    },
    {
     "name": "stderr",
     "output_type": "stream",
     "text": [
      "No accelerated colorspace conversion found from yuv420p to rgb24.\n",
      "No accelerated colorspace conversion found from yuv420p to rgb24.\n",
      " (repeated 600 more times)\n"
     ]
    },
    {
     "name": "stdout",
     "output_type": "stream",
     "text": [
      "Output video with averaged gaze points, fixations, and scanpath saved as /Volumes/T7 Shield/fox/et/sub-060_tv-bigmood-81f062b9/ads/8/output_with_aoi_and_gaze.mp4\n",
      "Processing ad  9 in  /Volumes/T7 Shield/fox/et/sub-060_tv-bigmood-81f062b9/ads/9/9.mp4\n"
     ]
    },
    {
     "name": "stderr",
     "output_type": "stream",
     "text": [
      "No accelerated colorspace conversion found from yuv420p to rgb24.\n",
      "No accelerated colorspace conversion found from yuv420p to rgb24.\n",
      " (repeated 600 more times)\n"
     ]
    },
    {
     "name": "stdout",
     "output_type": "stream",
     "text": [
      "Output video with averaged gaze points, fixations, and scanpath saved as /Volumes/T7 Shield/fox/et/sub-060_tv-bigmood-81f062b9/ads/9/output_with_aoi_and_gaze.mp4\n",
      "Processing ad  10 in  /Volumes/T7 Shield/fox/et/sub-060_tv-bigmood-81f062b9/ads/10/10.mp4\n"
     ]
    },
    {
     "name": "stderr",
     "output_type": "stream",
     "text": [
      "No accelerated colorspace conversion found from yuv420p to rgb24.\n",
      "No accelerated colorspace conversion found from yuv420p to rgb24.\n",
      " (repeated 300 more times)\n"
     ]
    },
    {
     "name": "stdout",
     "output_type": "stream",
     "text": [
      "Output video with averaged gaze points, fixations, and scanpath saved as /Volumes/T7 Shield/fox/et/sub-060_tv-bigmood-81f062b9/ads/10/output_with_aoi_and_gaze.mp4\n",
      "Processing gaze data in ads for  sub-062\n",
      "Processing ad  2 in  /Volumes/T7 Shield/fox/et/sub-062_tv-cnn-fdc95126/ads/2/2.mp4\n"
     ]
    },
    {
     "name": "stderr",
     "output_type": "stream",
     "text": [
      "No accelerated colorspace conversion found from yuv420p to rgb24.\n",
      "No accelerated colorspace conversion found from yuv420p to rgb24.\n",
      " (repeated 600 more times)\n"
     ]
    },
    {
     "name": "stdout",
     "output_type": "stream",
     "text": [
      "Output video with averaged gaze points, fixations, and scanpath saved as /Volumes/T7 Shield/fox/et/sub-062_tv-cnn-fdc95126/ads/2/output_with_aoi_and_gaze.mp4\n",
      "Processing ad  3 in  /Volumes/T7 Shield/fox/et/sub-062_tv-cnn-fdc95126/ads/3/3.mp4\n"
     ]
    },
    {
     "name": "stderr",
     "output_type": "stream",
     "text": [
      "No accelerated colorspace conversion found from yuv420p to rgb24.\n",
      "No accelerated colorspace conversion found from yuv420p to rgb24.\n",
      " (repeated 600 more times)\n"
     ]
    },
    {
     "name": "stdout",
     "output_type": "stream",
     "text": [
      "Output video with averaged gaze points, fixations, and scanpath saved as /Volumes/T7 Shield/fox/et/sub-062_tv-cnn-fdc95126/ads/3/output_with_aoi_and_gaze.mp4\n",
      "Processing ad  4 in  /Volumes/T7 Shield/fox/et/sub-062_tv-cnn-fdc95126/ads/4/4.mp4\n"
     ]
    },
    {
     "name": "stderr",
     "output_type": "stream",
     "text": [
      "No accelerated colorspace conversion found from yuv420p to rgb24.\n",
      "No accelerated colorspace conversion found from yuv420p to rgb24.\n",
      " (repeated 1500 more times)\n"
     ]
    },
    {
     "name": "stdout",
     "output_type": "stream",
     "text": [
      "Output video with averaged gaze points, fixations, and scanpath saved as /Volumes/T7 Shield/fox/et/sub-062_tv-cnn-fdc95126/ads/4/output_with_aoi_and_gaze.mp4\n",
      "Processing ad  5 in  /Volumes/T7 Shield/fox/et/sub-062_tv-cnn-fdc95126/ads/5/5.mp4\n"
     ]
    },
    {
     "name": "stderr",
     "output_type": "stream",
     "text": [
      "No accelerated colorspace conversion found from yuv420p to rgb24.\n",
      "No accelerated colorspace conversion found from yuv420p to rgb24.\n",
      " (repeated 300 more times)\n"
     ]
    },
    {
     "name": "stdout",
     "output_type": "stream",
     "text": [
      "Output video with averaged gaze points, fixations, and scanpath saved as /Volumes/T7 Shield/fox/et/sub-062_tv-cnn-fdc95126/ads/5/output_with_aoi_and_gaze.mp4\n",
      "Processing ad  7 in  /Volumes/T7 Shield/fox/et/sub-062_tv-cnn-fdc95126/ads/7/7.mp4\n"
     ]
    },
    {
     "name": "stderr",
     "output_type": "stream",
     "text": [
      "No accelerated colorspace conversion found from yuv420p to rgb24.\n",
      "No accelerated colorspace conversion found from yuv420p to rgb24.\n",
      " (repeated 600 more times)\n"
     ]
    },
    {
     "name": "stdout",
     "output_type": "stream",
     "text": [
      "Output video with averaged gaze points, fixations, and scanpath saved as /Volumes/T7 Shield/fox/et/sub-062_tv-cnn-fdc95126/ads/7/output_with_aoi_and_gaze.mp4\n",
      "Processing ad  8 in  /Volumes/T7 Shield/fox/et/sub-062_tv-cnn-fdc95126/ads/8/8.mp4\n"
     ]
    },
    {
     "name": "stderr",
     "output_type": "stream",
     "text": [
      "No accelerated colorspace conversion found from yuv420p to rgb24.\n",
      "No accelerated colorspace conversion found from yuv420p to rgb24.\n",
      " (repeated 600 more times)\n"
     ]
    },
    {
     "name": "stdout",
     "output_type": "stream",
     "text": [
      "Output video with averaged gaze points, fixations, and scanpath saved as /Volumes/T7 Shield/fox/et/sub-062_tv-cnn-fdc95126/ads/8/output_with_aoi_and_gaze.mp4\n",
      "Processing ad  9 in  /Volumes/T7 Shield/fox/et/sub-062_tv-cnn-fdc95126/ads/9/9.mp4\n"
     ]
    },
    {
     "name": "stderr",
     "output_type": "stream",
     "text": [
      "No accelerated colorspace conversion found from yuv420p to rgb24.\n",
      "No accelerated colorspace conversion found from yuv420p to rgb24.\n",
      " (repeated 600 more times)\n"
     ]
    },
    {
     "name": "stdout",
     "output_type": "stream",
     "text": [
      "Output video with averaged gaze points, fixations, and scanpath saved as /Volumes/T7 Shield/fox/et/sub-062_tv-cnn-fdc95126/ads/9/output_with_aoi_and_gaze.mp4\n",
      "Processing ad  10 in  /Volumes/T7 Shield/fox/et/sub-062_tv-cnn-fdc95126/ads/10/10.mp4\n"
     ]
    },
    {
     "name": "stderr",
     "output_type": "stream",
     "text": [
      "No accelerated colorspace conversion found from yuv420p to rgb24.\n",
      "No accelerated colorspace conversion found from yuv420p to rgb24.\n",
      " (repeated 300 more times)\n"
     ]
    },
    {
     "name": "stdout",
     "output_type": "stream",
     "text": [
      "Output video with averaged gaze points, fixations, and scanpath saved as /Volumes/T7 Shield/fox/et/sub-062_tv-cnn-fdc95126/ads/10/output_with_aoi_and_gaze.mp4\n",
      "Processing gaze data in ads for  sub-063\n",
      "Unexpected error: [Errno 2] No such file or directory: '/Volumes/T7 Shield/fox/et/sub-063_tv-continental-d980b9d9/ads/aligned_events.csv'\n",
      "Processing gaze data in ads for  sub-064\n",
      "Skipping control or youtube condition\n",
      "Processing gaze data in ads for  sub-066\n",
      "Processing ad  2 in  /Volumes/T7 Shield/fox/et/sub-066_tv-bigmood-9d2e3954/ads/2/2.mp4\n"
     ]
    },
    {
     "name": "stderr",
     "output_type": "stream",
     "text": [
      "No accelerated colorspace conversion found from yuv420p to rgb24.\n",
      "No accelerated colorspace conversion found from yuv420p to rgb24.\n",
      " (repeated 600 more times)\n"
     ]
    },
    {
     "name": "stdout",
     "output_type": "stream",
     "text": [
      "Output video with averaged gaze points, fixations, and scanpath saved as /Volumes/T7 Shield/fox/et/sub-066_tv-bigmood-9d2e3954/ads/2/output_with_aoi_and_gaze.mp4\n",
      "Processing ad  3 in  /Volumes/T7 Shield/fox/et/sub-066_tv-bigmood-9d2e3954/ads/3/3.mp4\n"
     ]
    },
    {
     "name": "stderr",
     "output_type": "stream",
     "text": [
      "No accelerated colorspace conversion found from yuv420p to rgb24.\n",
      "No accelerated colorspace conversion found from yuv420p to rgb24.\n",
      " (repeated 600 more times)\n"
     ]
    },
    {
     "name": "stdout",
     "output_type": "stream",
     "text": [
      "Output video with averaged gaze points, fixations, and scanpath saved as /Volumes/T7 Shield/fox/et/sub-066_tv-bigmood-9d2e3954/ads/3/output_with_aoi_and_gaze.mp4\n",
      "Processing ad  4 in  /Volumes/T7 Shield/fox/et/sub-066_tv-bigmood-9d2e3954/ads/4/4.mp4\n"
     ]
    },
    {
     "name": "stderr",
     "output_type": "stream",
     "text": [
      "No accelerated colorspace conversion found from yuv420p to rgb24.\n",
      "No accelerated colorspace conversion found from yuv420p to rgb24.\n",
      " (repeated 1500 more times)\n"
     ]
    },
    {
     "name": "stdout",
     "output_type": "stream",
     "text": [
      "Output video with averaged gaze points, fixations, and scanpath saved as /Volumes/T7 Shield/fox/et/sub-066_tv-bigmood-9d2e3954/ads/4/output_with_aoi_and_gaze.mp4\n",
      "Processing ad  5 in  /Volumes/T7 Shield/fox/et/sub-066_tv-bigmood-9d2e3954/ads/5/5.mp4\n"
     ]
    },
    {
     "name": "stderr",
     "output_type": "stream",
     "text": [
      "No accelerated colorspace conversion found from yuv420p to rgb24.\n",
      "No accelerated colorspace conversion found from yuv420p to rgb24.\n",
      " (repeated 300 more times)\n"
     ]
    },
    {
     "name": "stdout",
     "output_type": "stream",
     "text": [
      "Output video with averaged gaze points, fixations, and scanpath saved as /Volumes/T7 Shield/fox/et/sub-066_tv-bigmood-9d2e3954/ads/5/output_with_aoi_and_gaze.mp4\n",
      "Processing ad  7 in  /Volumes/T7 Shield/fox/et/sub-066_tv-bigmood-9d2e3954/ads/7/7.mp4\n"
     ]
    },
    {
     "name": "stderr",
     "output_type": "stream",
     "text": [
      "No accelerated colorspace conversion found from yuv420p to rgb24.\n",
      "No accelerated colorspace conversion found from yuv420p to rgb24.\n",
      " (repeated 600 more times)\n"
     ]
    },
    {
     "name": "stdout",
     "output_type": "stream",
     "text": [
      "Output video with averaged gaze points, fixations, and scanpath saved as /Volumes/T7 Shield/fox/et/sub-066_tv-bigmood-9d2e3954/ads/7/output_with_aoi_and_gaze.mp4\n",
      "Processing ad  8 in  /Volumes/T7 Shield/fox/et/sub-066_tv-bigmood-9d2e3954/ads/8/8.mp4\n"
     ]
    },
    {
     "name": "stderr",
     "output_type": "stream",
     "text": [
      "No accelerated colorspace conversion found from yuv420p to rgb24.\n",
      "No accelerated colorspace conversion found from yuv420p to rgb24.\n",
      " (repeated 600 more times)\n"
     ]
    },
    {
     "name": "stdout",
     "output_type": "stream",
     "text": [
      "Output video with averaged gaze points, fixations, and scanpath saved as /Volumes/T7 Shield/fox/et/sub-066_tv-bigmood-9d2e3954/ads/8/output_with_aoi_and_gaze.mp4\n",
      "Processing ad  9 in  /Volumes/T7 Shield/fox/et/sub-066_tv-bigmood-9d2e3954/ads/9/9.mp4\n"
     ]
    },
    {
     "name": "stderr",
     "output_type": "stream",
     "text": [
      "No accelerated colorspace conversion found from yuv420p to rgb24.\n",
      "No accelerated colorspace conversion found from yuv420p to rgb24.\n",
      " (repeated 600 more times)\n"
     ]
    },
    {
     "name": "stdout",
     "output_type": "stream",
     "text": [
      "Output video with averaged gaze points, fixations, and scanpath saved as /Volumes/T7 Shield/fox/et/sub-066_tv-bigmood-9d2e3954/ads/9/output_with_aoi_and_gaze.mp4\n",
      "Processing ad  10 in  /Volumes/T7 Shield/fox/et/sub-066_tv-bigmood-9d2e3954/ads/10/10.mp4\n"
     ]
    },
    {
     "name": "stderr",
     "output_type": "stream",
     "text": [
      "No accelerated colorspace conversion found from yuv420p to rgb24.\n",
      "No accelerated colorspace conversion found from yuv420p to rgb24.\n",
      " (repeated 300 more times)\n"
     ]
    },
    {
     "name": "stdout",
     "output_type": "stream",
     "text": [
      "Output video with averaged gaze points, fixations, and scanpath saved as /Volumes/T7 Shield/fox/et/sub-066_tv-bigmood-9d2e3954/ads/10/output_with_aoi_and_gaze.mp4\n",
      "Processing gaze data in ads for  sub-067\n",
      "Processing ad  2 in  /Volumes/T7 Shield/fox/et/sub-067_tv-nfl-9bf4ae0a/ads/2/2.mp4\n"
     ]
    },
    {
     "name": "stderr",
     "output_type": "stream",
     "text": [
      "No accelerated colorspace conversion found from yuv420p to rgb24.\n",
      "No accelerated colorspace conversion found from yuv420p to rgb24.\n",
      " (repeated 600 more times)\n"
     ]
    },
    {
     "name": "stdout",
     "output_type": "stream",
     "text": [
      "Output video with averaged gaze points, fixations, and scanpath saved as /Volumes/T7 Shield/fox/et/sub-067_tv-nfl-9bf4ae0a/ads/2/output_with_aoi_and_gaze.mp4\n",
      "Processing ad  3 in  /Volumes/T7 Shield/fox/et/sub-067_tv-nfl-9bf4ae0a/ads/3/3.mp4\n"
     ]
    },
    {
     "name": "stderr",
     "output_type": "stream",
     "text": [
      "No accelerated colorspace conversion found from yuv420p to rgb24.\n",
      "No accelerated colorspace conversion found from yuv420p to rgb24.\n",
      " (repeated 600 more times)\n"
     ]
    },
    {
     "name": "stdout",
     "output_type": "stream",
     "text": [
      "Output video with averaged gaze points, fixations, and scanpath saved as /Volumes/T7 Shield/fox/et/sub-067_tv-nfl-9bf4ae0a/ads/3/output_with_aoi_and_gaze.mp4\n",
      "Processing ad  4 in  /Volumes/T7 Shield/fox/et/sub-067_tv-nfl-9bf4ae0a/ads/4/4.mp4\n"
     ]
    },
    {
     "name": "stderr",
     "output_type": "stream",
     "text": [
      "No accelerated colorspace conversion found from yuv420p to rgb24.\n",
      "No accelerated colorspace conversion found from yuv420p to rgb24.\n",
      " (repeated 1500 more times)\n"
     ]
    },
    {
     "name": "stdout",
     "output_type": "stream",
     "text": [
      "Output video with averaged gaze points, fixations, and scanpath saved as /Volumes/T7 Shield/fox/et/sub-067_tv-nfl-9bf4ae0a/ads/4/output_with_aoi_and_gaze.mp4\n",
      "Processing ad  5 in  /Volumes/T7 Shield/fox/et/sub-067_tv-nfl-9bf4ae0a/ads/5/5.mp4\n"
     ]
    },
    {
     "name": "stderr",
     "output_type": "stream",
     "text": [
      "No accelerated colorspace conversion found from yuv420p to rgb24.\n",
      "No accelerated colorspace conversion found from yuv420p to rgb24.\n",
      " (repeated 300 more times)\n"
     ]
    },
    {
     "name": "stdout",
     "output_type": "stream",
     "text": [
      "Output video with averaged gaze points, fixations, and scanpath saved as /Volumes/T7 Shield/fox/et/sub-067_tv-nfl-9bf4ae0a/ads/5/output_with_aoi_and_gaze.mp4\n",
      "Processing ad  7 in  /Volumes/T7 Shield/fox/et/sub-067_tv-nfl-9bf4ae0a/ads/7/7.mp4\n"
     ]
    },
    {
     "name": "stderr",
     "output_type": "stream",
     "text": [
      "No accelerated colorspace conversion found from yuv420p to rgb24.\n",
      "No accelerated colorspace conversion found from yuv420p to rgb24.\n",
      " (repeated 600 more times)\n"
     ]
    },
    {
     "name": "stdout",
     "output_type": "stream",
     "text": [
      "Output video with averaged gaze points, fixations, and scanpath saved as /Volumes/T7 Shield/fox/et/sub-067_tv-nfl-9bf4ae0a/ads/7/output_with_aoi_and_gaze.mp4\n",
      "Processing ad  8 in  /Volumes/T7 Shield/fox/et/sub-067_tv-nfl-9bf4ae0a/ads/8/8.mp4\n"
     ]
    },
    {
     "name": "stderr",
     "output_type": "stream",
     "text": [
      "No accelerated colorspace conversion found from yuv420p to rgb24.\n",
      "No accelerated colorspace conversion found from yuv420p to rgb24.\n",
      " (repeated 600 more times)\n"
     ]
    },
    {
     "name": "stdout",
     "output_type": "stream",
     "text": [
      "Output video with averaged gaze points, fixations, and scanpath saved as /Volumes/T7 Shield/fox/et/sub-067_tv-nfl-9bf4ae0a/ads/8/output_with_aoi_and_gaze.mp4\n",
      "Processing ad  9 in  /Volumes/T7 Shield/fox/et/sub-067_tv-nfl-9bf4ae0a/ads/9/9.mp4\n"
     ]
    },
    {
     "name": "stderr",
     "output_type": "stream",
     "text": [
      "No accelerated colorspace conversion found from yuv420p to rgb24.\n",
      "No accelerated colorspace conversion found from yuv420p to rgb24.\n",
      " (repeated 600 more times)\n"
     ]
    },
    {
     "name": "stdout",
     "output_type": "stream",
     "text": [
      "Output video with averaged gaze points, fixations, and scanpath saved as /Volumes/T7 Shield/fox/et/sub-067_tv-nfl-9bf4ae0a/ads/9/output_with_aoi_and_gaze.mp4\n",
      "Processing ad  10 in  /Volumes/T7 Shield/fox/et/sub-067_tv-nfl-9bf4ae0a/ads/10/10.mp4\n"
     ]
    },
    {
     "name": "stderr",
     "output_type": "stream",
     "text": [
      "No accelerated colorspace conversion found from yuv420p to rgb24.\n",
      "No accelerated colorspace conversion found from yuv420p to rgb24.\n",
      " (repeated 300 more times)\n"
     ]
    },
    {
     "name": "stdout",
     "output_type": "stream",
     "text": [
      "Output video with averaged gaze points, fixations, and scanpath saved as /Volumes/T7 Shield/fox/et/sub-067_tv-nfl-9bf4ae0a/ads/10/output_with_aoi_and_gaze.mp4\n",
      "Processing gaze data in ads for  sub-068\n",
      "Processing ad  2 in  /Volumes/T7 Shield/fox/et/sub-068_tv-pickers-a2a4a067/ads/2/2.mp4\n"
     ]
    },
    {
     "name": "stderr",
     "output_type": "stream",
     "text": [
      "No accelerated colorspace conversion found from yuv420p to rgb24.\n",
      "No accelerated colorspace conversion found from yuv420p to rgb24.\n",
      " (repeated 600 more times)\n"
     ]
    },
    {
     "name": "stdout",
     "output_type": "stream",
     "text": [
      "Output video with averaged gaze points, fixations, and scanpath saved as /Volumes/T7 Shield/fox/et/sub-068_tv-pickers-a2a4a067/ads/2/output_with_aoi_and_gaze.mp4\n",
      "Processing ad  3 in  /Volumes/T7 Shield/fox/et/sub-068_tv-pickers-a2a4a067/ads/3/3.mp4\n"
     ]
    },
    {
     "name": "stderr",
     "output_type": "stream",
     "text": [
      "No accelerated colorspace conversion found from yuv420p to rgb24.\n",
      "No accelerated colorspace conversion found from yuv420p to rgb24.\n",
      " (repeated 600 more times)\n"
     ]
    },
    {
     "name": "stdout",
     "output_type": "stream",
     "text": [
      "Output video with averaged gaze points, fixations, and scanpath saved as /Volumes/T7 Shield/fox/et/sub-068_tv-pickers-a2a4a067/ads/3/output_with_aoi_and_gaze.mp4\n",
      "Processing ad  4 in  /Volumes/T7 Shield/fox/et/sub-068_tv-pickers-a2a4a067/ads/4/4.mp4\n"
     ]
    },
    {
     "name": "stderr",
     "output_type": "stream",
     "text": [
      "No accelerated colorspace conversion found from yuv420p to rgb24.\n",
      "No accelerated colorspace conversion found from yuv420p to rgb24.\n",
      " (repeated 1500 more times)\n"
     ]
    },
    {
     "name": "stdout",
     "output_type": "stream",
     "text": [
      "Output video with averaged gaze points, fixations, and scanpath saved as /Volumes/T7 Shield/fox/et/sub-068_tv-pickers-a2a4a067/ads/4/output_with_aoi_and_gaze.mp4\n",
      "Processing ad  5 in  /Volumes/T7 Shield/fox/et/sub-068_tv-pickers-a2a4a067/ads/5/5.mp4\n"
     ]
    },
    {
     "name": "stderr",
     "output_type": "stream",
     "text": [
      "No accelerated colorspace conversion found from yuv420p to rgb24.\n",
      "No accelerated colorspace conversion found from yuv420p to rgb24.\n",
      " (repeated 300 more times)\n"
     ]
    },
    {
     "name": "stdout",
     "output_type": "stream",
     "text": [
      "Output video with averaged gaze points, fixations, and scanpath saved as /Volumes/T7 Shield/fox/et/sub-068_tv-pickers-a2a4a067/ads/5/output_with_aoi_and_gaze.mp4\n",
      "Processing ad  7 in  /Volumes/T7 Shield/fox/et/sub-068_tv-pickers-a2a4a067/ads/7/7.mp4\n"
     ]
    },
    {
     "name": "stderr",
     "output_type": "stream",
     "text": [
      "No accelerated colorspace conversion found from yuv420p to rgb24.\n",
      "No accelerated colorspace conversion found from yuv420p to rgb24.\n",
      " (repeated 600 more times)\n"
     ]
    },
    {
     "name": "stdout",
     "output_type": "stream",
     "text": [
      "Output video with averaged gaze points, fixations, and scanpath saved as /Volumes/T7 Shield/fox/et/sub-068_tv-pickers-a2a4a067/ads/7/output_with_aoi_and_gaze.mp4\n",
      "Processing ad  8 in  /Volumes/T7 Shield/fox/et/sub-068_tv-pickers-a2a4a067/ads/8/8.mp4\n"
     ]
    },
    {
     "name": "stderr",
     "output_type": "stream",
     "text": [
      "No accelerated colorspace conversion found from yuv420p to rgb24.\n",
      "No accelerated colorspace conversion found from yuv420p to rgb24.\n",
      " (repeated 600 more times)\n"
     ]
    },
    {
     "name": "stdout",
     "output_type": "stream",
     "text": [
      "Output video with averaged gaze points, fixations, and scanpath saved as /Volumes/T7 Shield/fox/et/sub-068_tv-pickers-a2a4a067/ads/8/output_with_aoi_and_gaze.mp4\n",
      "Processing ad  9 in  /Volumes/T7 Shield/fox/et/sub-068_tv-pickers-a2a4a067/ads/9/9.mp4\n"
     ]
    },
    {
     "name": "stderr",
     "output_type": "stream",
     "text": [
      "No accelerated colorspace conversion found from yuv420p to rgb24.\n",
      "No accelerated colorspace conversion found from yuv420p to rgb24.\n",
      " (repeated 600 more times)\n"
     ]
    },
    {
     "name": "stdout",
     "output_type": "stream",
     "text": [
      "Output video with averaged gaze points, fixations, and scanpath saved as /Volumes/T7 Shield/fox/et/sub-068_tv-pickers-a2a4a067/ads/9/output_with_aoi_and_gaze.mp4\n",
      "Processing ad  10 in  /Volumes/T7 Shield/fox/et/sub-068_tv-pickers-a2a4a067/ads/10/10.mp4\n"
     ]
    },
    {
     "name": "stderr",
     "output_type": "stream",
     "text": [
      "No accelerated colorspace conversion found from yuv420p to rgb24.\n",
      "No accelerated colorspace conversion found from yuv420p to rgb24.\n",
      " (repeated 300 more times)\n"
     ]
    },
    {
     "name": "stdout",
     "output_type": "stream",
     "text": [
      "Output video with averaged gaze points, fixations, and scanpath saved as /Volumes/T7 Shield/fox/et/sub-068_tv-pickers-a2a4a067/ads/10/output_with_aoi_and_gaze.mp4\n",
      "Processing gaze data in ads for  sub-069\n",
      "Processing ad  2 in  /Volumes/T7 Shield/fox/et/sub-069_tv-cnn-0225c103/ads/2/2.mp4\n"
     ]
    },
    {
     "name": "stderr",
     "output_type": "stream",
     "text": [
      "No accelerated colorspace conversion found from yuv420p to rgb24.\n",
      "No accelerated colorspace conversion found from yuv420p to rgb24.\n",
      " (repeated 600 more times)\n"
     ]
    },
    {
     "name": "stdout",
     "output_type": "stream",
     "text": [
      "Output video with averaged gaze points, fixations, and scanpath saved as /Volumes/T7 Shield/fox/et/sub-069_tv-cnn-0225c103/ads/2/output_with_aoi_and_gaze.mp4\n",
      "Processing ad  3 in  /Volumes/T7 Shield/fox/et/sub-069_tv-cnn-0225c103/ads/3/3.mp4\n"
     ]
    },
    {
     "name": "stderr",
     "output_type": "stream",
     "text": [
      "No accelerated colorspace conversion found from yuv420p to rgb24.\n",
      "No accelerated colorspace conversion found from yuv420p to rgb24.\n",
      " (repeated 600 more times)\n"
     ]
    },
    {
     "name": "stdout",
     "output_type": "stream",
     "text": [
      "Output video with averaged gaze points, fixations, and scanpath saved as /Volumes/T7 Shield/fox/et/sub-069_tv-cnn-0225c103/ads/3/output_with_aoi_and_gaze.mp4\n",
      "Processing ad  4 in  /Volumes/T7 Shield/fox/et/sub-069_tv-cnn-0225c103/ads/4/4.mp4\n"
     ]
    },
    {
     "name": "stderr",
     "output_type": "stream",
     "text": [
      "No accelerated colorspace conversion found from yuv420p to rgb24.\n",
      "No accelerated colorspace conversion found from yuv420p to rgb24.\n",
      " (repeated 1500 more times)\n"
     ]
    },
    {
     "name": "stdout",
     "output_type": "stream",
     "text": [
      "Output video with averaged gaze points, fixations, and scanpath saved as /Volumes/T7 Shield/fox/et/sub-069_tv-cnn-0225c103/ads/4/output_with_aoi_and_gaze.mp4\n",
      "Processing ad  5 in  /Volumes/T7 Shield/fox/et/sub-069_tv-cnn-0225c103/ads/5/5.mp4\n"
     ]
    },
    {
     "name": "stderr",
     "output_type": "stream",
     "text": [
      "No accelerated colorspace conversion found from yuv420p to rgb24.\n",
      "No accelerated colorspace conversion found from yuv420p to rgb24.\n",
      " (repeated 300 more times)\n"
     ]
    },
    {
     "name": "stdout",
     "output_type": "stream",
     "text": [
      "Output video with averaged gaze points, fixations, and scanpath saved as /Volumes/T7 Shield/fox/et/sub-069_tv-cnn-0225c103/ads/5/output_with_aoi_and_gaze.mp4\n",
      "Processing ad  7 in  /Volumes/T7 Shield/fox/et/sub-069_tv-cnn-0225c103/ads/7/7.mp4\n"
     ]
    },
    {
     "name": "stderr",
     "output_type": "stream",
     "text": [
      "No accelerated colorspace conversion found from yuv420p to rgb24.\n",
      "No accelerated colorspace conversion found from yuv420p to rgb24.\n",
      " (repeated 600 more times)\n"
     ]
    },
    {
     "name": "stdout",
     "output_type": "stream",
     "text": [
      "Output video with averaged gaze points, fixations, and scanpath saved as /Volumes/T7 Shield/fox/et/sub-069_tv-cnn-0225c103/ads/7/output_with_aoi_and_gaze.mp4\n",
      "Processing ad  8 in  /Volumes/T7 Shield/fox/et/sub-069_tv-cnn-0225c103/ads/8/8.mp4\n"
     ]
    },
    {
     "name": "stderr",
     "output_type": "stream",
     "text": [
      "No accelerated colorspace conversion found from yuv420p to rgb24.\n",
      "No accelerated colorspace conversion found from yuv420p to rgb24.\n",
      " (repeated 600 more times)\n"
     ]
    },
    {
     "name": "stdout",
     "output_type": "stream",
     "text": [
      "Output video with averaged gaze points, fixations, and scanpath saved as /Volumes/T7 Shield/fox/et/sub-069_tv-cnn-0225c103/ads/8/output_with_aoi_and_gaze.mp4\n",
      "Processing ad  9 in  /Volumes/T7 Shield/fox/et/sub-069_tv-cnn-0225c103/ads/9/9.mp4\n"
     ]
    },
    {
     "name": "stderr",
     "output_type": "stream",
     "text": [
      "No accelerated colorspace conversion found from yuv420p to rgb24.\n",
      "No accelerated colorspace conversion found from yuv420p to rgb24.\n",
      " (repeated 600 more times)\n"
     ]
    },
    {
     "name": "stdout",
     "output_type": "stream",
     "text": [
      "Output video with averaged gaze points, fixations, and scanpath saved as /Volumes/T7 Shield/fox/et/sub-069_tv-cnn-0225c103/ads/9/output_with_aoi_and_gaze.mp4\n",
      "Processing ad  10 in  /Volumes/T7 Shield/fox/et/sub-069_tv-cnn-0225c103/ads/10/10.mp4\n"
     ]
    },
    {
     "name": "stderr",
     "output_type": "stream",
     "text": [
      "No accelerated colorspace conversion found from yuv420p to rgb24.\n",
      "No accelerated colorspace conversion found from yuv420p to rgb24.\n",
      " (repeated 300 more times)\n"
     ]
    },
    {
     "name": "stdout",
     "output_type": "stream",
     "text": [
      "Output video with averaged gaze points, fixations, and scanpath saved as /Volumes/T7 Shield/fox/et/sub-069_tv-cnn-0225c103/ads/10/output_with_aoi_and_gaze.mp4\n",
      "Processing gaze data in ads for  sub-071\n",
      "Processing ad  2 in  /Volumes/T7 Shield/fox/et/sub-071_tv-continental-82f0129a/ads/2/2.mp4\n"
     ]
    },
    {
     "name": "stderr",
     "output_type": "stream",
     "text": [
      "No accelerated colorspace conversion found from yuv420p to rgb24.\n",
      "No accelerated colorspace conversion found from yuv420p to rgb24.\n",
      " (repeated 600 more times)\n"
     ]
    },
    {
     "name": "stdout",
     "output_type": "stream",
     "text": [
      "Output video with averaged gaze points, fixations, and scanpath saved as /Volumes/T7 Shield/fox/et/sub-071_tv-continental-82f0129a/ads/2/output_with_aoi_and_gaze.mp4\n",
      "Processing ad  3 in  /Volumes/T7 Shield/fox/et/sub-071_tv-continental-82f0129a/ads/3/3.mp4\n"
     ]
    },
    {
     "name": "stderr",
     "output_type": "stream",
     "text": [
      "No accelerated colorspace conversion found from yuv420p to rgb24.\n",
      "No accelerated colorspace conversion found from yuv420p to rgb24.\n",
      " (repeated 600 more times)\n"
     ]
    },
    {
     "name": "stdout",
     "output_type": "stream",
     "text": [
      "Output video with averaged gaze points, fixations, and scanpath saved as /Volumes/T7 Shield/fox/et/sub-071_tv-continental-82f0129a/ads/3/output_with_aoi_and_gaze.mp4\n",
      "Processing ad  4 in  /Volumes/T7 Shield/fox/et/sub-071_tv-continental-82f0129a/ads/4/4.mp4\n"
     ]
    },
    {
     "name": "stderr",
     "output_type": "stream",
     "text": [
      "No accelerated colorspace conversion found from yuv420p to rgb24.\n",
      "No accelerated colorspace conversion found from yuv420p to rgb24.\n",
      " (repeated 1500 more times)\n"
     ]
    },
    {
     "name": "stdout",
     "output_type": "stream",
     "text": [
      "Output video with averaged gaze points, fixations, and scanpath saved as /Volumes/T7 Shield/fox/et/sub-071_tv-continental-82f0129a/ads/4/output_with_aoi_and_gaze.mp4\n",
      "Processing ad  5 in  /Volumes/T7 Shield/fox/et/sub-071_tv-continental-82f0129a/ads/5/5.mp4\n"
     ]
    },
    {
     "name": "stderr",
     "output_type": "stream",
     "text": [
      "No accelerated colorspace conversion found from yuv420p to rgb24.\n",
      "No accelerated colorspace conversion found from yuv420p to rgb24.\n",
      " (repeated 300 more times)\n"
     ]
    },
    {
     "name": "stdout",
     "output_type": "stream",
     "text": [
      "Output video with averaged gaze points, fixations, and scanpath saved as /Volumes/T7 Shield/fox/et/sub-071_tv-continental-82f0129a/ads/5/output_with_aoi_and_gaze.mp4\n",
      "Processing ad  7 in  /Volumes/T7 Shield/fox/et/sub-071_tv-continental-82f0129a/ads/7/7.mp4\n"
     ]
    },
    {
     "name": "stderr",
     "output_type": "stream",
     "text": [
      "No accelerated colorspace conversion found from yuv420p to rgb24.\n",
      "No accelerated colorspace conversion found from yuv420p to rgb24.\n",
      " (repeated 600 more times)\n"
     ]
    },
    {
     "name": "stdout",
     "output_type": "stream",
     "text": [
      "Output video with averaged gaze points, fixations, and scanpath saved as /Volumes/T7 Shield/fox/et/sub-071_tv-continental-82f0129a/ads/7/output_with_aoi_and_gaze.mp4\n",
      "Processing ad  8 in  /Volumes/T7 Shield/fox/et/sub-071_tv-continental-82f0129a/ads/8/8.mp4\n"
     ]
    },
    {
     "name": "stderr",
     "output_type": "stream",
     "text": [
      "No accelerated colorspace conversion found from yuv420p to rgb24.\n",
      "No accelerated colorspace conversion found from yuv420p to rgb24.\n",
      " (repeated 600 more times)\n"
     ]
    },
    {
     "name": "stdout",
     "output_type": "stream",
     "text": [
      "Output video with averaged gaze points, fixations, and scanpath saved as /Volumes/T7 Shield/fox/et/sub-071_tv-continental-82f0129a/ads/8/output_with_aoi_and_gaze.mp4\n",
      "Processing ad  9 in  /Volumes/T7 Shield/fox/et/sub-071_tv-continental-82f0129a/ads/9/9.mp4\n"
     ]
    },
    {
     "name": "stderr",
     "output_type": "stream",
     "text": [
      "No accelerated colorspace conversion found from yuv420p to rgb24.\n",
      "No accelerated colorspace conversion found from yuv420p to rgb24.\n",
      " (repeated 600 more times)\n"
     ]
    },
    {
     "name": "stdout",
     "output_type": "stream",
     "text": [
      "Output video with averaged gaze points, fixations, and scanpath saved as /Volumes/T7 Shield/fox/et/sub-071_tv-continental-82f0129a/ads/9/output_with_aoi_and_gaze.mp4\n",
      "Processing ad  10 in  /Volumes/T7 Shield/fox/et/sub-071_tv-continental-82f0129a/ads/10/10.mp4\n"
     ]
    },
    {
     "name": "stderr",
     "output_type": "stream",
     "text": [
      "No accelerated colorspace conversion found from yuv420p to rgb24.\n",
      "No accelerated colorspace conversion found from yuv420p to rgb24.\n",
      " (repeated 300 more times)\n"
     ]
    },
    {
     "name": "stdout",
     "output_type": "stream",
     "text": [
      "Output video with averaged gaze points, fixations, and scanpath saved as /Volumes/T7 Shield/fox/et/sub-071_tv-continental-82f0129a/ads/10/output_with_aoi_and_gaze.mp4\n",
      "Processing gaze data in ads for  sub-072\n",
      "Processing ad  2 in  /Volumes/T7 Shield/fox/et/sub-072_tv-foxnews-604794d4/ads/2/2.mp4\n"
     ]
    },
    {
     "name": "stderr",
     "output_type": "stream",
     "text": [
      "No accelerated colorspace conversion found from yuv420p to rgb24.\n",
      "No accelerated colorspace conversion found from yuv420p to rgb24.\n",
      " (repeated 600 more times)\n"
     ]
    },
    {
     "name": "stdout",
     "output_type": "stream",
     "text": [
      "Output video with averaged gaze points, fixations, and scanpath saved as /Volumes/T7 Shield/fox/et/sub-072_tv-foxnews-604794d4/ads/2/output_with_aoi_and_gaze.mp4\n",
      "Processing ad  3 in  /Volumes/T7 Shield/fox/et/sub-072_tv-foxnews-604794d4/ads/3/3.mp4\n"
     ]
    },
    {
     "name": "stderr",
     "output_type": "stream",
     "text": [
      "No accelerated colorspace conversion found from yuv420p to rgb24.\n",
      "No accelerated colorspace conversion found from yuv420p to rgb24.\n",
      " (repeated 601 more times)\n"
     ]
    },
    {
     "name": "stdout",
     "output_type": "stream",
     "text": [
      "Output video with averaged gaze points, fixations, and scanpath saved as /Volumes/T7 Shield/fox/et/sub-072_tv-foxnews-604794d4/ads/3/output_with_aoi_and_gaze.mp4\n",
      "Processing ad  4 in  /Volumes/T7 Shield/fox/et/sub-072_tv-foxnews-604794d4/ads/4/4.mp4\n"
     ]
    },
    {
     "name": "stderr",
     "output_type": "stream",
     "text": [
      "No accelerated colorspace conversion found from yuv420p to rgb24.\n",
      "No accelerated colorspace conversion found from yuv420p to rgb24.\n",
      " (repeated 1500 more times)\n"
     ]
    },
    {
     "name": "stdout",
     "output_type": "stream",
     "text": [
      "Output video with averaged gaze points, fixations, and scanpath saved as /Volumes/T7 Shield/fox/et/sub-072_tv-foxnews-604794d4/ads/4/output_with_aoi_and_gaze.mp4\n",
      "Processing ad  5 in  /Volumes/T7 Shield/fox/et/sub-072_tv-foxnews-604794d4/ads/5/5.mp4\n"
     ]
    },
    {
     "name": "stderr",
     "output_type": "stream",
     "text": [
      "No accelerated colorspace conversion found from yuv420p to rgb24.\n",
      "No accelerated colorspace conversion found from yuv420p to rgb24.\n",
      " (repeated 300 more times)\n"
     ]
    },
    {
     "name": "stdout",
     "output_type": "stream",
     "text": [
      "Output video with averaged gaze points, fixations, and scanpath saved as /Volumes/T7 Shield/fox/et/sub-072_tv-foxnews-604794d4/ads/5/output_with_aoi_and_gaze.mp4\n",
      "Processing ad  7 in  /Volumes/T7 Shield/fox/et/sub-072_tv-foxnews-604794d4/ads/7/7.mp4\n"
     ]
    },
    {
     "name": "stderr",
     "output_type": "stream",
     "text": [
      "No accelerated colorspace conversion found from yuv420p to rgb24.\n",
      "No accelerated colorspace conversion found from yuv420p to rgb24.\n",
      " (repeated 600 more times)\n"
     ]
    },
    {
     "name": "stdout",
     "output_type": "stream",
     "text": [
      "Output video with averaged gaze points, fixations, and scanpath saved as /Volumes/T7 Shield/fox/et/sub-072_tv-foxnews-604794d4/ads/7/output_with_aoi_and_gaze.mp4\n",
      "Processing ad  8 in  /Volumes/T7 Shield/fox/et/sub-072_tv-foxnews-604794d4/ads/8/8.mp4\n"
     ]
    },
    {
     "name": "stderr",
     "output_type": "stream",
     "text": [
      "No accelerated colorspace conversion found from yuv420p to rgb24.\n",
      "No accelerated colorspace conversion found from yuv420p to rgb24.\n",
      " (repeated 600 more times)\n"
     ]
    },
    {
     "name": "stdout",
     "output_type": "stream",
     "text": [
      "Output video with averaged gaze points, fixations, and scanpath saved as /Volumes/T7 Shield/fox/et/sub-072_tv-foxnews-604794d4/ads/8/output_with_aoi_and_gaze.mp4\n",
      "Processing ad  9 in  /Volumes/T7 Shield/fox/et/sub-072_tv-foxnews-604794d4/ads/9/9.mp4\n"
     ]
    },
    {
     "name": "stderr",
     "output_type": "stream",
     "text": [
      "No accelerated colorspace conversion found from yuv420p to rgb24.\n",
      "No accelerated colorspace conversion found from yuv420p to rgb24.\n",
      " (repeated 600 more times)\n"
     ]
    },
    {
     "name": "stdout",
     "output_type": "stream",
     "text": [
      "Output video with averaged gaze points, fixations, and scanpath saved as /Volumes/T7 Shield/fox/et/sub-072_tv-foxnews-604794d4/ads/9/output_with_aoi_and_gaze.mp4\n",
      "Processing ad  10 in  /Volumes/T7 Shield/fox/et/sub-072_tv-foxnews-604794d4/ads/10/10.mp4\n"
     ]
    },
    {
     "name": "stderr",
     "output_type": "stream",
     "text": [
      "No accelerated colorspace conversion found from yuv420p to rgb24.\n",
      "No accelerated colorspace conversion found from yuv420p to rgb24.\n",
      " (repeated 300 more times)\n"
     ]
    },
    {
     "name": "stdout",
     "output_type": "stream",
     "text": [
      "Output video with averaged gaze points, fixations, and scanpath saved as /Volumes/T7 Shield/fox/et/sub-072_tv-foxnews-604794d4/ads/10/output_with_aoi_and_gaze.mp4\n",
      "Processing gaze data in ads for  sub-074\n",
      "Unexpected error: [Errno 2] No such file or directory: '/Volumes/T7 Shield/fox/et/sub-074_tv-foxnews-400b9320/ads/aligned_events.csv'\n",
      "Processing gaze data in ads for  sub-075\n",
      "Skipping control or youtube condition\n",
      "Processing gaze data in ads for  sub-077\n",
      "Processing ad  2 in  /Volumes/T7 Shield/fox/et/sub-077_tv-bigmood-6fdd2804/ads/2/2.mp4\n"
     ]
    },
    {
     "name": "stderr",
     "output_type": "stream",
     "text": [
      "No accelerated colorspace conversion found from yuv420p to rgb24.\n",
      "No accelerated colorspace conversion found from yuv420p to rgb24.\n",
      " (repeated 600 more times)\n"
     ]
    },
    {
     "name": "stdout",
     "output_type": "stream",
     "text": [
      "Output video with averaged gaze points, fixations, and scanpath saved as /Volumes/T7 Shield/fox/et/sub-077_tv-bigmood-6fdd2804/ads/2/output_with_aoi_and_gaze.mp4\n",
      "Processing ad  3 in  /Volumes/T7 Shield/fox/et/sub-077_tv-bigmood-6fdd2804/ads/3/3.mp4\n"
     ]
    },
    {
     "name": "stderr",
     "output_type": "stream",
     "text": [
      "No accelerated colorspace conversion found from yuv420p to rgb24.\n",
      "No accelerated colorspace conversion found from yuv420p to rgb24.\n",
      " (repeated 600 more times)\n"
     ]
    },
    {
     "name": "stdout",
     "output_type": "stream",
     "text": [
      "Output video with averaged gaze points, fixations, and scanpath saved as /Volumes/T7 Shield/fox/et/sub-077_tv-bigmood-6fdd2804/ads/3/output_with_aoi_and_gaze.mp4\n",
      "Processing ad  4 in  /Volumes/T7 Shield/fox/et/sub-077_tv-bigmood-6fdd2804/ads/4/4.mp4\n"
     ]
    },
    {
     "name": "stderr",
     "output_type": "stream",
     "text": [
      "No accelerated colorspace conversion found from yuv420p to rgb24.\n",
      "No accelerated colorspace conversion found from yuv420p to rgb24.\n",
      " (repeated 1500 more times)\n"
     ]
    },
    {
     "name": "stdout",
     "output_type": "stream",
     "text": [
      "Output video with averaged gaze points, fixations, and scanpath saved as /Volumes/T7 Shield/fox/et/sub-077_tv-bigmood-6fdd2804/ads/4/output_with_aoi_and_gaze.mp4\n",
      "Processing ad  5 in  /Volumes/T7 Shield/fox/et/sub-077_tv-bigmood-6fdd2804/ads/5/5.mp4\n"
     ]
    },
    {
     "name": "stderr",
     "output_type": "stream",
     "text": [
      "No accelerated colorspace conversion found from yuv420p to rgb24.\n",
      "No accelerated colorspace conversion found from yuv420p to rgb24.\n",
      " (repeated 300 more times)\n"
     ]
    },
    {
     "name": "stdout",
     "output_type": "stream",
     "text": [
      "Output video with averaged gaze points, fixations, and scanpath saved as /Volumes/T7 Shield/fox/et/sub-077_tv-bigmood-6fdd2804/ads/5/output_with_aoi_and_gaze.mp4\n",
      "Processing ad  7 in  /Volumes/T7 Shield/fox/et/sub-077_tv-bigmood-6fdd2804/ads/7/7.mp4\n"
     ]
    },
    {
     "name": "stderr",
     "output_type": "stream",
     "text": [
      "No accelerated colorspace conversion found from yuv420p to rgb24.\n",
      "No accelerated colorspace conversion found from yuv420p to rgb24.\n",
      " (repeated 600 more times)\n"
     ]
    },
    {
     "name": "stdout",
     "output_type": "stream",
     "text": [
      "Output video with averaged gaze points, fixations, and scanpath saved as /Volumes/T7 Shield/fox/et/sub-077_tv-bigmood-6fdd2804/ads/7/output_with_aoi_and_gaze.mp4\n",
      "Processing ad  8 in  /Volumes/T7 Shield/fox/et/sub-077_tv-bigmood-6fdd2804/ads/8/8.mp4\n"
     ]
    },
    {
     "name": "stderr",
     "output_type": "stream",
     "text": [
      "No accelerated colorspace conversion found from yuv420p to rgb24.\n",
      "No accelerated colorspace conversion found from yuv420p to rgb24.\n",
      " (repeated 600 more times)\n"
     ]
    },
    {
     "name": "stdout",
     "output_type": "stream",
     "text": [
      "Output video with averaged gaze points, fixations, and scanpath saved as /Volumes/T7 Shield/fox/et/sub-077_tv-bigmood-6fdd2804/ads/8/output_with_aoi_and_gaze.mp4\n",
      "Processing ad  9 in  /Volumes/T7 Shield/fox/et/sub-077_tv-bigmood-6fdd2804/ads/9/9.mp4\n"
     ]
    },
    {
     "name": "stderr",
     "output_type": "stream",
     "text": [
      "No accelerated colorspace conversion found from yuv420p to rgb24.\n",
      "No accelerated colorspace conversion found from yuv420p to rgb24.\n",
      " (repeated 600 more times)\n"
     ]
    },
    {
     "name": "stdout",
     "output_type": "stream",
     "text": [
      "Output video with averaged gaze points, fixations, and scanpath saved as /Volumes/T7 Shield/fox/et/sub-077_tv-bigmood-6fdd2804/ads/9/output_with_aoi_and_gaze.mp4\n",
      "Processing ad  10 in  /Volumes/T7 Shield/fox/et/sub-077_tv-bigmood-6fdd2804/ads/10/10.mp4\n"
     ]
    },
    {
     "name": "stderr",
     "output_type": "stream",
     "text": [
      "No accelerated colorspace conversion found from yuv420p to rgb24.\n",
      "No accelerated colorspace conversion found from yuv420p to rgb24.\n",
      " (repeated 300 more times)\n"
     ]
    },
    {
     "name": "stdout",
     "output_type": "stream",
     "text": [
      "Output video with averaged gaze points, fixations, and scanpath saved as /Volumes/T7 Shield/fox/et/sub-077_tv-bigmood-6fdd2804/ads/10/output_with_aoi_and_gaze.mp4\n",
      "Processing gaze data in ads for  sub-078\n",
      "Processing ad  2 in  /Volumes/T7 Shield/fox/et/sub-078_tv-pickers-9e9192ba/ads/2/2.mp4\n"
     ]
    },
    {
     "name": "stderr",
     "output_type": "stream",
     "text": [
      "No accelerated colorspace conversion found from yuv420p to rgb24.\n",
      "No accelerated colorspace conversion found from yuv420p to rgb24.\n",
      " (repeated 600 more times)\n"
     ]
    },
    {
     "name": "stdout",
     "output_type": "stream",
     "text": [
      "Output video with averaged gaze points, fixations, and scanpath saved as /Volumes/T7 Shield/fox/et/sub-078_tv-pickers-9e9192ba/ads/2/output_with_aoi_and_gaze.mp4\n",
      "Processing ad  3 in  /Volumes/T7 Shield/fox/et/sub-078_tv-pickers-9e9192ba/ads/3/3.mp4\n"
     ]
    },
    {
     "name": "stderr",
     "output_type": "stream",
     "text": [
      "No accelerated colorspace conversion found from yuv420p to rgb24.\n",
      "No accelerated colorspace conversion found from yuv420p to rgb24.\n",
      " (repeated 600 more times)\n"
     ]
    },
    {
     "name": "stdout",
     "output_type": "stream",
     "text": [
      "Output video with averaged gaze points, fixations, and scanpath saved as /Volumes/T7 Shield/fox/et/sub-078_tv-pickers-9e9192ba/ads/3/output_with_aoi_and_gaze.mp4\n",
      "Processing ad  4 in  /Volumes/T7 Shield/fox/et/sub-078_tv-pickers-9e9192ba/ads/4/4.mp4\n"
     ]
    },
    {
     "name": "stderr",
     "output_type": "stream",
     "text": [
      "No accelerated colorspace conversion found from yuv420p to rgb24.\n",
      "No accelerated colorspace conversion found from yuv420p to rgb24.\n",
      " (repeated 1500 more times)\n"
     ]
    },
    {
     "name": "stdout",
     "output_type": "stream",
     "text": [
      "Output video with averaged gaze points, fixations, and scanpath saved as /Volumes/T7 Shield/fox/et/sub-078_tv-pickers-9e9192ba/ads/4/output_with_aoi_and_gaze.mp4\n",
      "Processing ad  5 in  /Volumes/T7 Shield/fox/et/sub-078_tv-pickers-9e9192ba/ads/5/5.mp4\n"
     ]
    },
    {
     "name": "stderr",
     "output_type": "stream",
     "text": [
      "No accelerated colorspace conversion found from yuv420p to rgb24.\n",
      "No accelerated colorspace conversion found from yuv420p to rgb24.\n",
      " (repeated 300 more times)\n"
     ]
    },
    {
     "name": "stdout",
     "output_type": "stream",
     "text": [
      "Output video with averaged gaze points, fixations, and scanpath saved as /Volumes/T7 Shield/fox/et/sub-078_tv-pickers-9e9192ba/ads/5/output_with_aoi_and_gaze.mp4\n",
      "Processing ad  7 in  /Volumes/T7 Shield/fox/et/sub-078_tv-pickers-9e9192ba/ads/7/7.mp4\n"
     ]
    },
    {
     "name": "stderr",
     "output_type": "stream",
     "text": [
      "No accelerated colorspace conversion found from yuv420p to rgb24.\n",
      "No accelerated colorspace conversion found from yuv420p to rgb24.\n",
      " (repeated 600 more times)\n"
     ]
    },
    {
     "name": "stdout",
     "output_type": "stream",
     "text": [
      "Output video with averaged gaze points, fixations, and scanpath saved as /Volumes/T7 Shield/fox/et/sub-078_tv-pickers-9e9192ba/ads/7/output_with_aoi_and_gaze.mp4\n",
      "Processing ad  8 in  /Volumes/T7 Shield/fox/et/sub-078_tv-pickers-9e9192ba/ads/8/8.mp4\n"
     ]
    },
    {
     "name": "stderr",
     "output_type": "stream",
     "text": [
      "No accelerated colorspace conversion found from yuv420p to rgb24.\n",
      "No accelerated colorspace conversion found from yuv420p to rgb24.\n",
      " (repeated 600 more times)\n"
     ]
    },
    {
     "name": "stdout",
     "output_type": "stream",
     "text": [
      "Output video with averaged gaze points, fixations, and scanpath saved as /Volumes/T7 Shield/fox/et/sub-078_tv-pickers-9e9192ba/ads/8/output_with_aoi_and_gaze.mp4\n",
      "Processing ad  9 in  /Volumes/T7 Shield/fox/et/sub-078_tv-pickers-9e9192ba/ads/9/9.mp4\n"
     ]
    },
    {
     "name": "stderr",
     "output_type": "stream",
     "text": [
      "No accelerated colorspace conversion found from yuv420p to rgb24.\n",
      "No accelerated colorspace conversion found from yuv420p to rgb24.\n",
      " (repeated 600 more times)\n"
     ]
    },
    {
     "name": "stdout",
     "output_type": "stream",
     "text": [
      "Output video with averaged gaze points, fixations, and scanpath saved as /Volumes/T7 Shield/fox/et/sub-078_tv-pickers-9e9192ba/ads/9/output_with_aoi_and_gaze.mp4\n",
      "Processing ad  10 in  /Volumes/T7 Shield/fox/et/sub-078_tv-pickers-9e9192ba/ads/10/10.mp4\n"
     ]
    },
    {
     "name": "stderr",
     "output_type": "stream",
     "text": [
      "No accelerated colorspace conversion found from yuv420p to rgb24.\n",
      "No accelerated colorspace conversion found from yuv420p to rgb24.\n",
      " (repeated 300 more times)\n"
     ]
    },
    {
     "name": "stdout",
     "output_type": "stream",
     "text": [
      "Output video with averaged gaze points, fixations, and scanpath saved as /Volumes/T7 Shield/fox/et/sub-078_tv-pickers-9e9192ba/ads/10/output_with_aoi_and_gaze.mp4\n",
      "Processing gaze data in ads for  sub-079\n",
      "Processing ad  2 in  /Volumes/T7 Shield/fox/et/sub-079_tv-cnn-65777e73/ads/2/2.mp4\n"
     ]
    },
    {
     "name": "stderr",
     "output_type": "stream",
     "text": [
      "No accelerated colorspace conversion found from yuv420p to rgb24.\n",
      "No accelerated colorspace conversion found from yuv420p to rgb24.\n",
      " (repeated 602 more times)\n"
     ]
    },
    {
     "name": "stdout",
     "output_type": "stream",
     "text": [
      "Output video with averaged gaze points, fixations, and scanpath saved as /Volumes/T7 Shield/fox/et/sub-079_tv-cnn-65777e73/ads/2/output_with_aoi_and_gaze.mp4\n",
      "Processing ad  3 in  /Volumes/T7 Shield/fox/et/sub-079_tv-cnn-65777e73/ads/3/3.mp4\n"
     ]
    },
    {
     "name": "stderr",
     "output_type": "stream",
     "text": [
      "No accelerated colorspace conversion found from yuv420p to rgb24.\n",
      "No accelerated colorspace conversion found from yuv420p to rgb24.\n",
      " (repeated 602 more times)\n"
     ]
    },
    {
     "name": "stdout",
     "output_type": "stream",
     "text": [
      "Output video with averaged gaze points, fixations, and scanpath saved as /Volumes/T7 Shield/fox/et/sub-079_tv-cnn-65777e73/ads/3/output_with_aoi_and_gaze.mp4\n",
      "Processing ad  4 in  /Volumes/T7 Shield/fox/et/sub-079_tv-cnn-65777e73/ads/4/4.mp4\n"
     ]
    },
    {
     "name": "stderr",
     "output_type": "stream",
     "text": [
      "No accelerated colorspace conversion found from yuv420p to rgb24.\n",
      "No accelerated colorspace conversion found from yuv420p to rgb24.\n",
      " (repeated 1506 more times)\n"
     ]
    },
    {
     "name": "stdout",
     "output_type": "stream",
     "text": [
      "Output video with averaged gaze points, fixations, and scanpath saved as /Volumes/T7 Shield/fox/et/sub-079_tv-cnn-65777e73/ads/4/output_with_aoi_and_gaze.mp4\n",
      "Processing ad  5 in  /Volumes/T7 Shield/fox/et/sub-079_tv-cnn-65777e73/ads/5/5.mp4\n"
     ]
    },
    {
     "name": "stderr",
     "output_type": "stream",
     "text": [
      "No accelerated colorspace conversion found from yuv420p to rgb24.\n",
      "No accelerated colorspace conversion found from yuv420p to rgb24.\n",
      " (repeated 301 more times)\n"
     ]
    },
    {
     "name": "stdout",
     "output_type": "stream",
     "text": [
      "Output video with averaged gaze points, fixations, and scanpath saved as /Volumes/T7 Shield/fox/et/sub-079_tv-cnn-65777e73/ads/5/output_with_aoi_and_gaze.mp4\n",
      "Processing ad  7 in  /Volumes/T7 Shield/fox/et/sub-079_tv-cnn-65777e73/ads/7/7.mp4\n"
     ]
    },
    {
     "name": "stderr",
     "output_type": "stream",
     "text": [
      "No accelerated colorspace conversion found from yuv420p to rgb24.\n",
      "No accelerated colorspace conversion found from yuv420p to rgb24.\n",
      " (repeated 602 more times)\n"
     ]
    },
    {
     "name": "stdout",
     "output_type": "stream",
     "text": [
      "Output video with averaged gaze points, fixations, and scanpath saved as /Volumes/T7 Shield/fox/et/sub-079_tv-cnn-65777e73/ads/7/output_with_aoi_and_gaze.mp4\n",
      "Processing ad  8 in  /Volumes/T7 Shield/fox/et/sub-079_tv-cnn-65777e73/ads/8/8.mp4\n"
     ]
    },
    {
     "name": "stderr",
     "output_type": "stream",
     "text": [
      "No accelerated colorspace conversion found from yuv420p to rgb24.\n",
      "No accelerated colorspace conversion found from yuv420p to rgb24.\n",
      " (repeated 602 more times)\n"
     ]
    },
    {
     "name": "stdout",
     "output_type": "stream",
     "text": [
      "Output video with averaged gaze points, fixations, and scanpath saved as /Volumes/T7 Shield/fox/et/sub-079_tv-cnn-65777e73/ads/8/output_with_aoi_and_gaze.mp4\n",
      "Processing ad  9 in  /Volumes/T7 Shield/fox/et/sub-079_tv-cnn-65777e73/ads/9/9.mp4\n"
     ]
    },
    {
     "name": "stderr",
     "output_type": "stream",
     "text": [
      "No accelerated colorspace conversion found from yuv420p to rgb24.\n",
      "No accelerated colorspace conversion found from yuv420p to rgb24.\n",
      " (repeated 602 more times)\n"
     ]
    },
    {
     "name": "stdout",
     "output_type": "stream",
     "text": [
      "Output video with averaged gaze points, fixations, and scanpath saved as /Volumes/T7 Shield/fox/et/sub-079_tv-cnn-65777e73/ads/9/output_with_aoi_and_gaze.mp4\n",
      "Processing ad  10 in  /Volumes/T7 Shield/fox/et/sub-079_tv-cnn-65777e73/ads/10/10.mp4\n"
     ]
    },
    {
     "name": "stderr",
     "output_type": "stream",
     "text": [
      "No accelerated colorspace conversion found from yuv420p to rgb24.\n",
      "No accelerated colorspace conversion found from yuv420p to rgb24.\n",
      " (repeated 301 more times)\n"
     ]
    },
    {
     "name": "stdout",
     "output_type": "stream",
     "text": [
      "Output video with averaged gaze points, fixations, and scanpath saved as /Volumes/T7 Shield/fox/et/sub-079_tv-cnn-65777e73/ads/10/output_with_aoi_and_gaze.mp4\n",
      "Processing gaze data in ads for  sub-080\n",
      "Processing ad  2 in  /Volumes/T7 Shield/fox/et/sub-080_tv-continental-47182ab6/ads/2/2.mp4\n"
     ]
    },
    {
     "name": "stderr",
     "output_type": "stream",
     "text": [
      "No accelerated colorspace conversion found from yuv420p to rgb24.\n",
      "No accelerated colorspace conversion found from yuv420p to rgb24.\n",
      " (repeated 600 more times)\n"
     ]
    },
    {
     "name": "stdout",
     "output_type": "stream",
     "text": [
      "Output video with averaged gaze points, fixations, and scanpath saved as /Volumes/T7 Shield/fox/et/sub-080_tv-continental-47182ab6/ads/2/output_with_aoi_and_gaze.mp4\n",
      "Processing ad  3 in  /Volumes/T7 Shield/fox/et/sub-080_tv-continental-47182ab6/ads/3/3.mp4\n"
     ]
    },
    {
     "name": "stderr",
     "output_type": "stream",
     "text": [
      "No accelerated colorspace conversion found from yuv420p to rgb24.\n",
      "No accelerated colorspace conversion found from yuv420p to rgb24.\n",
      " (repeated 600 more times)\n"
     ]
    },
    {
     "name": "stdout",
     "output_type": "stream",
     "text": [
      "Output video with averaged gaze points, fixations, and scanpath saved as /Volumes/T7 Shield/fox/et/sub-080_tv-continental-47182ab6/ads/3/output_with_aoi_and_gaze.mp4\n",
      "Processing ad  4 in  /Volumes/T7 Shield/fox/et/sub-080_tv-continental-47182ab6/ads/4/4.mp4\n"
     ]
    },
    {
     "name": "stderr",
     "output_type": "stream",
     "text": [
      "No accelerated colorspace conversion found from yuv420p to rgb24.\n",
      "No accelerated colorspace conversion found from yuv420p to rgb24.\n",
      " (repeated 1500 more times)\n"
     ]
    },
    {
     "name": "stdout",
     "output_type": "stream",
     "text": [
      "Output video with averaged gaze points, fixations, and scanpath saved as /Volumes/T7 Shield/fox/et/sub-080_tv-continental-47182ab6/ads/4/output_with_aoi_and_gaze.mp4\n",
      "Processing ad  5 in  /Volumes/T7 Shield/fox/et/sub-080_tv-continental-47182ab6/ads/5/5.mp4\n"
     ]
    },
    {
     "name": "stderr",
     "output_type": "stream",
     "text": [
      "No accelerated colorspace conversion found from yuv420p to rgb24.\n",
      "No accelerated colorspace conversion found from yuv420p to rgb24.\n",
      " (repeated 300 more times)\n"
     ]
    },
    {
     "name": "stdout",
     "output_type": "stream",
     "text": [
      "Output video with averaged gaze points, fixations, and scanpath saved as /Volumes/T7 Shield/fox/et/sub-080_tv-continental-47182ab6/ads/5/output_with_aoi_and_gaze.mp4\n",
      "Processing ad  7 in  /Volumes/T7 Shield/fox/et/sub-080_tv-continental-47182ab6/ads/7/7.mp4\n"
     ]
    },
    {
     "name": "stderr",
     "output_type": "stream",
     "text": [
      "No accelerated colorspace conversion found from yuv420p to rgb24.\n",
      "No accelerated colorspace conversion found from yuv420p to rgb24.\n",
      " (repeated 600 more times)\n"
     ]
    },
    {
     "name": "stdout",
     "output_type": "stream",
     "text": [
      "Output video with averaged gaze points, fixations, and scanpath saved as /Volumes/T7 Shield/fox/et/sub-080_tv-continental-47182ab6/ads/7/output_with_aoi_and_gaze.mp4\n",
      "Processing ad  8 in  /Volumes/T7 Shield/fox/et/sub-080_tv-continental-47182ab6/ads/8/8.mp4\n"
     ]
    },
    {
     "name": "stderr",
     "output_type": "stream",
     "text": [
      "No accelerated colorspace conversion found from yuv420p to rgb24.\n",
      "No accelerated colorspace conversion found from yuv420p to rgb24.\n",
      " (repeated 600 more times)\n"
     ]
    },
    {
     "name": "stdout",
     "output_type": "stream",
     "text": [
      "Output video with averaged gaze points, fixations, and scanpath saved as /Volumes/T7 Shield/fox/et/sub-080_tv-continental-47182ab6/ads/8/output_with_aoi_and_gaze.mp4\n",
      "Processing ad  9 in  /Volumes/T7 Shield/fox/et/sub-080_tv-continental-47182ab6/ads/9/9.mp4\n"
     ]
    },
    {
     "name": "stderr",
     "output_type": "stream",
     "text": [
      "No accelerated colorspace conversion found from yuv420p to rgb24.\n",
      "No accelerated colorspace conversion found from yuv420p to rgb24.\n",
      " (repeated 600 more times)\n"
     ]
    },
    {
     "name": "stdout",
     "output_type": "stream",
     "text": [
      "Output video with averaged gaze points, fixations, and scanpath saved as /Volumes/T7 Shield/fox/et/sub-080_tv-continental-47182ab6/ads/9/output_with_aoi_and_gaze.mp4\n",
      "Processing ad  10 in  /Volumes/T7 Shield/fox/et/sub-080_tv-continental-47182ab6/ads/10/10.mp4\n"
     ]
    },
    {
     "name": "stderr",
     "output_type": "stream",
     "text": [
      "No accelerated colorspace conversion found from yuv420p to rgb24.\n",
      "No accelerated colorspace conversion found from yuv420p to rgb24.\n",
      " (repeated 300 more times)\n"
     ]
    },
    {
     "name": "stdout",
     "output_type": "stream",
     "text": [
      "Output video with averaged gaze points, fixations, and scanpath saved as /Volumes/T7 Shield/fox/et/sub-080_tv-continental-47182ab6/ads/10/output_with_aoi_and_gaze.mp4\n",
      "Processing gaze data in ads for  sub-081\n",
      "Skipping control or youtube condition\n",
      "Processing gaze data in ads for  sub-082\n",
      "Processing ad  2 in  /Volumes/T7 Shield/fox/et/sub-082_tv-fox-25954b84/ads/2/2.mp4\n"
     ]
    },
    {
     "name": "stderr",
     "output_type": "stream",
     "text": [
      "No accelerated colorspace conversion found from yuv420p to rgb24.\n",
      "No accelerated colorspace conversion found from yuv420p to rgb24.\n",
      " (repeated 720 more times)\n"
     ]
    },
    {
     "name": "stdout",
     "output_type": "stream",
     "text": [
      "Output video with averaged gaze points, fixations, and scanpath saved as /Volumes/T7 Shield/fox/et/sub-082_tv-fox-25954b84/ads/2/output_with_aoi_and_gaze.mp4\n",
      "Processing ad  3 in  /Volumes/T7 Shield/fox/et/sub-082_tv-fox-25954b84/ads/3/3.mp4\n"
     ]
    },
    {
     "name": "stderr",
     "output_type": "stream",
     "text": [
      "No accelerated colorspace conversion found from yuv420p to rgb24.\n",
      "No accelerated colorspace conversion found from yuv420p to rgb24.\n",
      " (repeated 720 more times)\n"
     ]
    },
    {
     "name": "stdout",
     "output_type": "stream",
     "text": [
      "Output video with averaged gaze points, fixations, and scanpath saved as /Volumes/T7 Shield/fox/et/sub-082_tv-fox-25954b84/ads/3/output_with_aoi_and_gaze.mp4\n",
      "Processing ad  4 in  /Volumes/T7 Shield/fox/et/sub-082_tv-fox-25954b84/ads/4/4.mp4\n"
     ]
    },
    {
     "name": "stderr",
     "output_type": "stream",
     "text": [
      "No accelerated colorspace conversion found from yuv420p to rgb24.\n",
      "No accelerated colorspace conversion found from yuv420p to rgb24.\n",
      " (repeated 1800 more times)\n"
     ]
    },
    {
     "name": "stdout",
     "output_type": "stream",
     "text": [
      "Output video with averaged gaze points, fixations, and scanpath saved as /Volumes/T7 Shield/fox/et/sub-082_tv-fox-25954b84/ads/4/output_with_aoi_and_gaze.mp4\n",
      "Processing ad  5 in  /Volumes/T7 Shield/fox/et/sub-082_tv-fox-25954b84/ads/5/5.mp4\n"
     ]
    },
    {
     "name": "stderr",
     "output_type": "stream",
     "text": [
      "No accelerated colorspace conversion found from yuv420p to rgb24.\n",
      "No accelerated colorspace conversion found from yuv420p to rgb24.\n",
      " (repeated 360 more times)\n"
     ]
    },
    {
     "name": "stdout",
     "output_type": "stream",
     "text": [
      "Output video with averaged gaze points, fixations, and scanpath saved as /Volumes/T7 Shield/fox/et/sub-082_tv-fox-25954b84/ads/5/output_with_aoi_and_gaze.mp4\n",
      "Processing ad  7 in  /Volumes/T7 Shield/fox/et/sub-082_tv-fox-25954b84/ads/7/7.mp4\n"
     ]
    },
    {
     "name": "stderr",
     "output_type": "stream",
     "text": [
      "No accelerated colorspace conversion found from yuv420p to rgb24.\n",
      "No accelerated colorspace conversion found from yuv420p to rgb24.\n",
      " (repeated 720 more times)\n"
     ]
    },
    {
     "name": "stdout",
     "output_type": "stream",
     "text": [
      "Output video with averaged gaze points, fixations, and scanpath saved as /Volumes/T7 Shield/fox/et/sub-082_tv-fox-25954b84/ads/7/output_with_aoi_and_gaze.mp4\n",
      "Processing ad  8 in  /Volumes/T7 Shield/fox/et/sub-082_tv-fox-25954b84/ads/8/8.mp4\n"
     ]
    },
    {
     "name": "stderr",
     "output_type": "stream",
     "text": [
      "No accelerated colorspace conversion found from yuv420p to rgb24.\n",
      "No accelerated colorspace conversion found from yuv420p to rgb24.\n",
      " (repeated 720 more times)\n"
     ]
    },
    {
     "name": "stdout",
     "output_type": "stream",
     "text": [
      "Output video with averaged gaze points, fixations, and scanpath saved as /Volumes/T7 Shield/fox/et/sub-082_tv-fox-25954b84/ads/8/output_with_aoi_and_gaze.mp4\n",
      "Processing ad  9 in  /Volumes/T7 Shield/fox/et/sub-082_tv-fox-25954b84/ads/9/9.mp4\n"
     ]
    },
    {
     "name": "stderr",
     "output_type": "stream",
     "text": [
      "No accelerated colorspace conversion found from yuv420p to rgb24.\n",
      "No accelerated colorspace conversion found from yuv420p to rgb24.\n",
      " (repeated 720 more times)\n"
     ]
    },
    {
     "name": "stdout",
     "output_type": "stream",
     "text": [
      "Output video with averaged gaze points, fixations, and scanpath saved as /Volumes/T7 Shield/fox/et/sub-082_tv-fox-25954b84/ads/9/output_with_aoi_and_gaze.mp4\n",
      "Processing ad  10 in  /Volumes/T7 Shield/fox/et/sub-082_tv-fox-25954b84/ads/10/10.mp4\n"
     ]
    },
    {
     "name": "stderr",
     "output_type": "stream",
     "text": [
      "No accelerated colorspace conversion found from yuv420p to rgb24.\n",
      "No accelerated colorspace conversion found from yuv420p to rgb24.\n",
      " (repeated 360 more times)\n"
     ]
    },
    {
     "name": "stdout",
     "output_type": "stream",
     "text": [
      "Output video with averaged gaze points, fixations, and scanpath saved as /Volumes/T7 Shield/fox/et/sub-082_tv-fox-25954b84/ads/10/output_with_aoi_and_gaze.mp4\n",
      "Processing gaze data in ads for  sub-083\n",
      "Processing ad  2 in  /Volumes/T7 Shield/fox/et/sub-083_tv-lego-2988a03f/ads/2/2.mp4\n"
     ]
    },
    {
     "name": "stderr",
     "output_type": "stream",
     "text": [
      "No accelerated colorspace conversion found from yuv420p to rgb24.\n",
      "No accelerated colorspace conversion found from yuv420p to rgb24.\n",
      " (repeated 600 more times)\n"
     ]
    },
    {
     "name": "stdout",
     "output_type": "stream",
     "text": [
      "Output video with averaged gaze points, fixations, and scanpath saved as /Volumes/T7 Shield/fox/et/sub-083_tv-lego-2988a03f/ads/2/output_with_aoi_and_gaze.mp4\n",
      "Processing ad  3 in  /Volumes/T7 Shield/fox/et/sub-083_tv-lego-2988a03f/ads/3/3.mp4\n"
     ]
    },
    {
     "name": "stderr",
     "output_type": "stream",
     "text": [
      "No accelerated colorspace conversion found from yuv420p to rgb24.\n",
      "No accelerated colorspace conversion found from yuv420p to rgb24.\n",
      " (repeated 600 more times)\n"
     ]
    },
    {
     "name": "stdout",
     "output_type": "stream",
     "text": [
      "Output video with averaged gaze points, fixations, and scanpath saved as /Volumes/T7 Shield/fox/et/sub-083_tv-lego-2988a03f/ads/3/output_with_aoi_and_gaze.mp4\n",
      "Processing ad  4 in  /Volumes/T7 Shield/fox/et/sub-083_tv-lego-2988a03f/ads/4/4.mp4\n"
     ]
    },
    {
     "name": "stderr",
     "output_type": "stream",
     "text": [
      "No accelerated colorspace conversion found from yuv420p to rgb24.\n",
      "No accelerated colorspace conversion found from yuv420p to rgb24.\n",
      " (repeated 1500 more times)\n"
     ]
    },
    {
     "name": "stdout",
     "output_type": "stream",
     "text": [
      "Output video with averaged gaze points, fixations, and scanpath saved as /Volumes/T7 Shield/fox/et/sub-083_tv-lego-2988a03f/ads/4/output_with_aoi_and_gaze.mp4\n",
      "Processing ad  5 in  /Volumes/T7 Shield/fox/et/sub-083_tv-lego-2988a03f/ads/5/5.mp4\n"
     ]
    },
    {
     "name": "stderr",
     "output_type": "stream",
     "text": [
      "No accelerated colorspace conversion found from yuv420p to rgb24.\n",
      "No accelerated colorspace conversion found from yuv420p to rgb24.\n",
      " (repeated 300 more times)\n"
     ]
    },
    {
     "name": "stdout",
     "output_type": "stream",
     "text": [
      "Output video with averaged gaze points, fixations, and scanpath saved as /Volumes/T7 Shield/fox/et/sub-083_tv-lego-2988a03f/ads/5/output_with_aoi_and_gaze.mp4\n",
      "Processing ad  7 in  /Volumes/T7 Shield/fox/et/sub-083_tv-lego-2988a03f/ads/7/7.mp4\n"
     ]
    },
    {
     "name": "stderr",
     "output_type": "stream",
     "text": [
      "No accelerated colorspace conversion found from yuv420p to rgb24.\n",
      "No accelerated colorspace conversion found from yuv420p to rgb24.\n",
      " (repeated 600 more times)\n"
     ]
    },
    {
     "name": "stdout",
     "output_type": "stream",
     "text": [
      "Output video with averaged gaze points, fixations, and scanpath saved as /Volumes/T7 Shield/fox/et/sub-083_tv-lego-2988a03f/ads/7/output_with_aoi_and_gaze.mp4\n",
      "Processing ad  8 in  /Volumes/T7 Shield/fox/et/sub-083_tv-lego-2988a03f/ads/8/8.mp4\n"
     ]
    },
    {
     "name": "stderr",
     "output_type": "stream",
     "text": [
      "No accelerated colorspace conversion found from yuv420p to rgb24.\n",
      "No accelerated colorspace conversion found from yuv420p to rgb24.\n",
      " (repeated 600 more times)\n"
     ]
    },
    {
     "name": "stdout",
     "output_type": "stream",
     "text": [
      "Output video with averaged gaze points, fixations, and scanpath saved as /Volumes/T7 Shield/fox/et/sub-083_tv-lego-2988a03f/ads/8/output_with_aoi_and_gaze.mp4\n",
      "Processing ad  9 in  /Volumes/T7 Shield/fox/et/sub-083_tv-lego-2988a03f/ads/9/9.mp4\n"
     ]
    },
    {
     "name": "stderr",
     "output_type": "stream",
     "text": [
      "No accelerated colorspace conversion found from yuv420p to rgb24.\n",
      "No accelerated colorspace conversion found from yuv420p to rgb24.\n",
      " (repeated 600 more times)\n"
     ]
    },
    {
     "name": "stdout",
     "output_type": "stream",
     "text": [
      "Output video with averaged gaze points, fixations, and scanpath saved as /Volumes/T7 Shield/fox/et/sub-083_tv-lego-2988a03f/ads/9/output_with_aoi_and_gaze.mp4\n",
      "Processing ad  10 in  /Volumes/T7 Shield/fox/et/sub-083_tv-lego-2988a03f/ads/10/10.mp4\n"
     ]
    },
    {
     "name": "stderr",
     "output_type": "stream",
     "text": [
      "No accelerated colorspace conversion found from yuv420p to rgb24.\n",
      "No accelerated colorspace conversion found from yuv420p to rgb24.\n",
      " (repeated 300 more times)\n"
     ]
    },
    {
     "name": "stdout",
     "output_type": "stream",
     "text": [
      "Output video with averaged gaze points, fixations, and scanpath saved as /Volumes/T7 Shield/fox/et/sub-083_tv-lego-2988a03f/ads/10/output_with_aoi_and_gaze.mp4\n",
      "Processing gaze data in ads for  sub-084\n",
      "Processing ad  2 in  /Volumes/T7 Shield/fox/et/sub-084_tv-nfl-48d56dc8/ads/2/2.mp4\n"
     ]
    },
    {
     "name": "stderr",
     "output_type": "stream",
     "text": [
      "No accelerated colorspace conversion found from yuv420p to rgb24.\n",
      "No accelerated colorspace conversion found from yuv420p to rgb24.\n",
      " (repeated 600 more times)\n"
     ]
    },
    {
     "name": "stdout",
     "output_type": "stream",
     "text": [
      "Output video with averaged gaze points, fixations, and scanpath saved as /Volumes/T7 Shield/fox/et/sub-084_tv-nfl-48d56dc8/ads/2/output_with_aoi_and_gaze.mp4\n",
      "Processing ad  3 in  /Volumes/T7 Shield/fox/et/sub-084_tv-nfl-48d56dc8/ads/3/3.mp4\n"
     ]
    },
    {
     "name": "stderr",
     "output_type": "stream",
     "text": [
      "No accelerated colorspace conversion found from yuv420p to rgb24.\n",
      "No accelerated colorspace conversion found from yuv420p to rgb24.\n",
      " (repeated 600 more times)\n"
     ]
    },
    {
     "name": "stdout",
     "output_type": "stream",
     "text": [
      "Output video with averaged gaze points, fixations, and scanpath saved as /Volumes/T7 Shield/fox/et/sub-084_tv-nfl-48d56dc8/ads/3/output_with_aoi_and_gaze.mp4\n",
      "Processing ad  4 in  /Volumes/T7 Shield/fox/et/sub-084_tv-nfl-48d56dc8/ads/4/4.mp4\n"
     ]
    },
    {
     "name": "stderr",
     "output_type": "stream",
     "text": [
      "No accelerated colorspace conversion found from yuv420p to rgb24.\n",
      "No accelerated colorspace conversion found from yuv420p to rgb24.\n",
      " (repeated 1500 more times)\n"
     ]
    },
    {
     "name": "stdout",
     "output_type": "stream",
     "text": [
      "Output video with averaged gaze points, fixations, and scanpath saved as /Volumes/T7 Shield/fox/et/sub-084_tv-nfl-48d56dc8/ads/4/output_with_aoi_and_gaze.mp4\n",
      "Processing ad  5 in  /Volumes/T7 Shield/fox/et/sub-084_tv-nfl-48d56dc8/ads/5/5.mp4\n"
     ]
    },
    {
     "name": "stderr",
     "output_type": "stream",
     "text": [
      "No accelerated colorspace conversion found from yuv420p to rgb24.\n",
      "No accelerated colorspace conversion found from yuv420p to rgb24.\n",
      " (repeated 300 more times)\n"
     ]
    },
    {
     "name": "stdout",
     "output_type": "stream",
     "text": [
      "Output video with averaged gaze points, fixations, and scanpath saved as /Volumes/T7 Shield/fox/et/sub-084_tv-nfl-48d56dc8/ads/5/output_with_aoi_and_gaze.mp4\n",
      "Processing ad  7 in  /Volumes/T7 Shield/fox/et/sub-084_tv-nfl-48d56dc8/ads/7/7.mp4\n"
     ]
    },
    {
     "name": "stderr",
     "output_type": "stream",
     "text": [
      "No accelerated colorspace conversion found from yuv420p to rgb24.\n",
      "No accelerated colorspace conversion found from yuv420p to rgb24.\n",
      " (repeated 600 more times)\n"
     ]
    },
    {
     "name": "stdout",
     "output_type": "stream",
     "text": [
      "Output video with averaged gaze points, fixations, and scanpath saved as /Volumes/T7 Shield/fox/et/sub-084_tv-nfl-48d56dc8/ads/7/output_with_aoi_and_gaze.mp4\n",
      "Processing ad  8 in  /Volumes/T7 Shield/fox/et/sub-084_tv-nfl-48d56dc8/ads/8/8.mp4\n"
     ]
    },
    {
     "name": "stderr",
     "output_type": "stream",
     "text": [
      "No accelerated colorspace conversion found from yuv420p to rgb24.\n",
      "No accelerated colorspace conversion found from yuv420p to rgb24.\n",
      " (repeated 600 more times)\n"
     ]
    },
    {
     "name": "stdout",
     "output_type": "stream",
     "text": [
      "Output video with averaged gaze points, fixations, and scanpath saved as /Volumes/T7 Shield/fox/et/sub-084_tv-nfl-48d56dc8/ads/8/output_with_aoi_and_gaze.mp4\n",
      "Processing ad  9 in  /Volumes/T7 Shield/fox/et/sub-084_tv-nfl-48d56dc8/ads/9/9.mp4\n"
     ]
    },
    {
     "name": "stderr",
     "output_type": "stream",
     "text": [
      "No accelerated colorspace conversion found from yuv420p to rgb24.\n",
      "No accelerated colorspace conversion found from yuv420p to rgb24.\n",
      " (repeated 600 more times)\n"
     ]
    },
    {
     "name": "stdout",
     "output_type": "stream",
     "text": [
      "Output video with averaged gaze points, fixations, and scanpath saved as /Volumes/T7 Shield/fox/et/sub-084_tv-nfl-48d56dc8/ads/9/output_with_aoi_and_gaze.mp4\n",
      "Processing ad  10 in  /Volumes/T7 Shield/fox/et/sub-084_tv-nfl-48d56dc8/ads/10/10.mp4\n"
     ]
    },
    {
     "name": "stderr",
     "output_type": "stream",
     "text": [
      "No accelerated colorspace conversion found from yuv420p to rgb24.\n",
      "No accelerated colorspace conversion found from yuv420p to rgb24.\n",
      " (repeated 300 more times)\n"
     ]
    },
    {
     "name": "stdout",
     "output_type": "stream",
     "text": [
      "Output video with averaged gaze points, fixations, and scanpath saved as /Volumes/T7 Shield/fox/et/sub-084_tv-nfl-48d56dc8/ads/10/output_with_aoi_and_gaze.mp4\n",
      "Processing gaze data in ads for  sub-085\n",
      "Unexpected error: [Errno 2] No such file or directory: '/Volumes/T7 Shield/fox/et/sub-085_tv-x-29cd2b22/ads/aligned_events.csv'\n",
      "Processing gaze data in ads for  sub-086\n",
      "Processing ad  2 in  /Volumes/T7 Shield/fox/et/sub-086_tv-nfl-26da6c99/ads/2/2.mp4\n"
     ]
    },
    {
     "name": "stderr",
     "output_type": "stream",
     "text": [
      "No accelerated colorspace conversion found from yuv420p to rgb24.\n",
      "No accelerated colorspace conversion found from yuv420p to rgb24.\n",
      " (repeated 720 more times)\n"
     ]
    },
    {
     "name": "stdout",
     "output_type": "stream",
     "text": [
      "Output video with averaged gaze points, fixations, and scanpath saved as /Volumes/T7 Shield/fox/et/sub-086_tv-nfl-26da6c99/ads/2/output_with_aoi_and_gaze.mp4\n",
      "Processing ad  3 in  /Volumes/T7 Shield/fox/et/sub-086_tv-nfl-26da6c99/ads/3/3.mp4\n"
     ]
    },
    {
     "name": "stderr",
     "output_type": "stream",
     "text": [
      "No accelerated colorspace conversion found from yuv420p to rgb24.\n",
      "No accelerated colorspace conversion found from yuv420p to rgb24.\n",
      " (repeated 720 more times)\n"
     ]
    },
    {
     "name": "stdout",
     "output_type": "stream",
     "text": [
      "Output video with averaged gaze points, fixations, and scanpath saved as /Volumes/T7 Shield/fox/et/sub-086_tv-nfl-26da6c99/ads/3/output_with_aoi_and_gaze.mp4\n",
      "Processing ad  4 in  /Volumes/T7 Shield/fox/et/sub-086_tv-nfl-26da6c99/ads/4/4.mp4\n"
     ]
    },
    {
     "name": "stderr",
     "output_type": "stream",
     "text": [
      "No accelerated colorspace conversion found from yuv420p to rgb24.\n",
      "No accelerated colorspace conversion found from yuv420p to rgb24.\n",
      " (repeated 1800 more times)\n"
     ]
    },
    {
     "name": "stdout",
     "output_type": "stream",
     "text": [
      "Output video with averaged gaze points, fixations, and scanpath saved as /Volumes/T7 Shield/fox/et/sub-086_tv-nfl-26da6c99/ads/4/output_with_aoi_and_gaze.mp4\n",
      "Processing ad  5 in  /Volumes/T7 Shield/fox/et/sub-086_tv-nfl-26da6c99/ads/5/5.mp4\n"
     ]
    },
    {
     "name": "stderr",
     "output_type": "stream",
     "text": [
      "No accelerated colorspace conversion found from yuv420p to rgb24.\n",
      "No accelerated colorspace conversion found from yuv420p to rgb24.\n",
      " (repeated 360 more times)\n"
     ]
    },
    {
     "name": "stdout",
     "output_type": "stream",
     "text": [
      "Output video with averaged gaze points, fixations, and scanpath saved as /Volumes/T7 Shield/fox/et/sub-086_tv-nfl-26da6c99/ads/5/output_with_aoi_and_gaze.mp4\n",
      "Processing ad  7 in  /Volumes/T7 Shield/fox/et/sub-086_tv-nfl-26da6c99/ads/7/7.mp4\n"
     ]
    },
    {
     "name": "stderr",
     "output_type": "stream",
     "text": [
      "No accelerated colorspace conversion found from yuv420p to rgb24.\n",
      "No accelerated colorspace conversion found from yuv420p to rgb24.\n",
      " (repeated 720 more times)\n"
     ]
    },
    {
     "name": "stdout",
     "output_type": "stream",
     "text": [
      "Output video with averaged gaze points, fixations, and scanpath saved as /Volumes/T7 Shield/fox/et/sub-086_tv-nfl-26da6c99/ads/7/output_with_aoi_and_gaze.mp4\n",
      "Processing ad  8 in  /Volumes/T7 Shield/fox/et/sub-086_tv-nfl-26da6c99/ads/8/8.mp4\n"
     ]
    },
    {
     "name": "stderr",
     "output_type": "stream",
     "text": [
      "No accelerated colorspace conversion found from yuv420p to rgb24.\n",
      "No accelerated colorspace conversion found from yuv420p to rgb24.\n",
      " (repeated 720 more times)\n"
     ]
    },
    {
     "name": "stdout",
     "output_type": "stream",
     "text": [
      "Output video with averaged gaze points, fixations, and scanpath saved as /Volumes/T7 Shield/fox/et/sub-086_tv-nfl-26da6c99/ads/8/output_with_aoi_and_gaze.mp4\n",
      "Processing ad  9 in  /Volumes/T7 Shield/fox/et/sub-086_tv-nfl-26da6c99/ads/9/9.mp4\n"
     ]
    },
    {
     "name": "stderr",
     "output_type": "stream",
     "text": [
      "No accelerated colorspace conversion found from yuv420p to rgb24.\n",
      "No accelerated colorspace conversion found from yuv420p to rgb24.\n",
      " (repeated 720 more times)\n"
     ]
    },
    {
     "name": "stdout",
     "output_type": "stream",
     "text": [
      "Output video with averaged gaze points, fixations, and scanpath saved as /Volumes/T7 Shield/fox/et/sub-086_tv-nfl-26da6c99/ads/9/output_with_aoi_and_gaze.mp4\n",
      "Processing ad  10 in  /Volumes/T7 Shield/fox/et/sub-086_tv-nfl-26da6c99/ads/10/10.mp4\n"
     ]
    },
    {
     "name": "stderr",
     "output_type": "stream",
     "text": [
      "No accelerated colorspace conversion found from yuv420p to rgb24.\n",
      "No accelerated colorspace conversion found from yuv420p to rgb24.\n",
      " (repeated 360 more times)\n"
     ]
    },
    {
     "name": "stdout",
     "output_type": "stream",
     "text": [
      "Output video with averaged gaze points, fixations, and scanpath saved as /Volumes/T7 Shield/fox/et/sub-086_tv-nfl-26da6c99/ads/10/output_with_aoi_and_gaze.mp4\n",
      "Processing gaze data in ads for  sub-087\n",
      "Processing ad  2 in  /Volumes/T7 Shield/fox/et/sub-087_tv-bigmood-9f9214c5/ads/2/2.mp4\n"
     ]
    },
    {
     "name": "stderr",
     "output_type": "stream",
     "text": [
      "No accelerated colorspace conversion found from yuv420p to rgb24.\n",
      "No accelerated colorspace conversion found from yuv420p to rgb24.\n",
      " (repeated 600 more times)\n"
     ]
    },
    {
     "name": "stdout",
     "output_type": "stream",
     "text": [
      "Output video with averaged gaze points, fixations, and scanpath saved as /Volumes/T7 Shield/fox/et/sub-087_tv-bigmood-9f9214c5/ads/2/output_with_aoi_and_gaze.mp4\n",
      "Processing ad  3 in  /Volumes/T7 Shield/fox/et/sub-087_tv-bigmood-9f9214c5/ads/3/3.mp4\n"
     ]
    },
    {
     "name": "stderr",
     "output_type": "stream",
     "text": [
      "No accelerated colorspace conversion found from yuv420p to rgb24.\n",
      "No accelerated colorspace conversion found from yuv420p to rgb24.\n",
      " (repeated 600 more times)\n"
     ]
    },
    {
     "name": "stdout",
     "output_type": "stream",
     "text": [
      "Output video with averaged gaze points, fixations, and scanpath saved as /Volumes/T7 Shield/fox/et/sub-087_tv-bigmood-9f9214c5/ads/3/output_with_aoi_and_gaze.mp4\n",
      "Processing ad  4 in  /Volumes/T7 Shield/fox/et/sub-087_tv-bigmood-9f9214c5/ads/4/4.mp4\n"
     ]
    },
    {
     "name": "stderr",
     "output_type": "stream",
     "text": [
      "No accelerated colorspace conversion found from yuv420p to rgb24.\n",
      "No accelerated colorspace conversion found from yuv420p to rgb24.\n",
      " (repeated 1500 more times)\n"
     ]
    },
    {
     "name": "stdout",
     "output_type": "stream",
     "text": [
      "Output video with averaged gaze points, fixations, and scanpath saved as /Volumes/T7 Shield/fox/et/sub-087_tv-bigmood-9f9214c5/ads/4/output_with_aoi_and_gaze.mp4\n",
      "Processing ad  5 in  /Volumes/T7 Shield/fox/et/sub-087_tv-bigmood-9f9214c5/ads/5/5.mp4\n"
     ]
    },
    {
     "name": "stderr",
     "output_type": "stream",
     "text": [
      "No accelerated colorspace conversion found from yuv420p to rgb24.\n",
      "No accelerated colorspace conversion found from yuv420p to rgb24.\n",
      " (repeated 300 more times)\n"
     ]
    },
    {
     "name": "stdout",
     "output_type": "stream",
     "text": [
      "Output video with averaged gaze points, fixations, and scanpath saved as /Volumes/T7 Shield/fox/et/sub-087_tv-bigmood-9f9214c5/ads/5/output_with_aoi_and_gaze.mp4\n",
      "Processing ad  7 in  /Volumes/T7 Shield/fox/et/sub-087_tv-bigmood-9f9214c5/ads/7/7.mp4\n"
     ]
    },
    {
     "name": "stderr",
     "output_type": "stream",
     "text": [
      "No accelerated colorspace conversion found from yuv420p to rgb24.\n",
      "No accelerated colorspace conversion found from yuv420p to rgb24.\n",
      " (repeated 600 more times)\n"
     ]
    },
    {
     "name": "stdout",
     "output_type": "stream",
     "text": [
      "Output video with averaged gaze points, fixations, and scanpath saved as /Volumes/T7 Shield/fox/et/sub-087_tv-bigmood-9f9214c5/ads/7/output_with_aoi_and_gaze.mp4\n",
      "Processing ad  8 in  /Volumes/T7 Shield/fox/et/sub-087_tv-bigmood-9f9214c5/ads/8/8.mp4\n"
     ]
    },
    {
     "name": "stderr",
     "output_type": "stream",
     "text": [
      "No accelerated colorspace conversion found from yuv420p to rgb24.\n",
      "No accelerated colorspace conversion found from yuv420p to rgb24.\n",
      " (repeated 600 more times)\n"
     ]
    },
    {
     "name": "stdout",
     "output_type": "stream",
     "text": [
      "Output video with averaged gaze points, fixations, and scanpath saved as /Volumes/T7 Shield/fox/et/sub-087_tv-bigmood-9f9214c5/ads/8/output_with_aoi_and_gaze.mp4\n",
      "Processing ad  9 in  /Volumes/T7 Shield/fox/et/sub-087_tv-bigmood-9f9214c5/ads/9/9.mp4\n"
     ]
    },
    {
     "name": "stderr",
     "output_type": "stream",
     "text": [
      "No accelerated colorspace conversion found from yuv420p to rgb24.\n",
      "No accelerated colorspace conversion found from yuv420p to rgb24.\n",
      " (repeated 600 more times)\n"
     ]
    },
    {
     "name": "stdout",
     "output_type": "stream",
     "text": [
      "Output video with averaged gaze points, fixations, and scanpath saved as /Volumes/T7 Shield/fox/et/sub-087_tv-bigmood-9f9214c5/ads/9/output_with_aoi_and_gaze.mp4\n",
      "Processing ad  10 in  /Volumes/T7 Shield/fox/et/sub-087_tv-bigmood-9f9214c5/ads/10/10.mp4\n"
     ]
    },
    {
     "name": "stderr",
     "output_type": "stream",
     "text": [
      "No accelerated colorspace conversion found from yuv420p to rgb24.\n",
      "No accelerated colorspace conversion found from yuv420p to rgb24.\n",
      " (repeated 300 more times)\n"
     ]
    },
    {
     "name": "stdout",
     "output_type": "stream",
     "text": [
      "Output video with averaged gaze points, fixations, and scanpath saved as /Volumes/T7 Shield/fox/et/sub-087_tv-bigmood-9f9214c5/ads/10/output_with_aoi_and_gaze.mp4\n",
      "Processing gaze data in ads for  sub-088\n",
      "Processing ad  2 in  /Volumes/T7 Shield/fox/et/sub-088_tv-pickers-5a5d4a11/ads/2/2.mp4\n"
     ]
    },
    {
     "name": "stderr",
     "output_type": "stream",
     "text": [
      "No accelerated colorspace conversion found from yuv420p to rgb24.\n",
      "No accelerated colorspace conversion found from yuv420p to rgb24.\n",
      " (repeated 600 more times)\n"
     ]
    },
    {
     "name": "stdout",
     "output_type": "stream",
     "text": [
      "Output video with averaged gaze points, fixations, and scanpath saved as /Volumes/T7 Shield/fox/et/sub-088_tv-pickers-5a5d4a11/ads/2/output_with_aoi_and_gaze.mp4\n",
      "Processing ad  3 in  /Volumes/T7 Shield/fox/et/sub-088_tv-pickers-5a5d4a11/ads/3/3.mp4\n"
     ]
    },
    {
     "name": "stderr",
     "output_type": "stream",
     "text": [
      "No accelerated colorspace conversion found from yuv420p to rgb24.\n",
      "No accelerated colorspace conversion found from yuv420p to rgb24.\n",
      " (repeated 600 more times)\n"
     ]
    },
    {
     "name": "stdout",
     "output_type": "stream",
     "text": [
      "Output video with averaged gaze points, fixations, and scanpath saved as /Volumes/T7 Shield/fox/et/sub-088_tv-pickers-5a5d4a11/ads/3/output_with_aoi_and_gaze.mp4\n",
      "Processing ad  4 in  /Volumes/T7 Shield/fox/et/sub-088_tv-pickers-5a5d4a11/ads/4/4.mp4\n"
     ]
    },
    {
     "name": "stderr",
     "output_type": "stream",
     "text": [
      "No accelerated colorspace conversion found from yuv420p to rgb24.\n",
      "No accelerated colorspace conversion found from yuv420p to rgb24.\n",
      " (repeated 1500 more times)\n"
     ]
    },
    {
     "name": "stdout",
     "output_type": "stream",
     "text": [
      "Output video with averaged gaze points, fixations, and scanpath saved as /Volumes/T7 Shield/fox/et/sub-088_tv-pickers-5a5d4a11/ads/4/output_with_aoi_and_gaze.mp4\n",
      "Processing ad  5 in  /Volumes/T7 Shield/fox/et/sub-088_tv-pickers-5a5d4a11/ads/5/5.mp4\n"
     ]
    },
    {
     "name": "stderr",
     "output_type": "stream",
     "text": [
      "No accelerated colorspace conversion found from yuv420p to rgb24.\n",
      "No accelerated colorspace conversion found from yuv420p to rgb24.\n",
      " (repeated 300 more times)\n"
     ]
    },
    {
     "name": "stdout",
     "output_type": "stream",
     "text": [
      "Output video with averaged gaze points, fixations, and scanpath saved as /Volumes/T7 Shield/fox/et/sub-088_tv-pickers-5a5d4a11/ads/5/output_with_aoi_and_gaze.mp4\n",
      "Processing ad  7 in  /Volumes/T7 Shield/fox/et/sub-088_tv-pickers-5a5d4a11/ads/7/7.mp4\n"
     ]
    },
    {
     "name": "stderr",
     "output_type": "stream",
     "text": [
      "No accelerated colorspace conversion found from yuv420p to rgb24.\n",
      "No accelerated colorspace conversion found from yuv420p to rgb24.\n",
      " (repeated 600 more times)\n"
     ]
    },
    {
     "name": "stdout",
     "output_type": "stream",
     "text": [
      "Output video with averaged gaze points, fixations, and scanpath saved as /Volumes/T7 Shield/fox/et/sub-088_tv-pickers-5a5d4a11/ads/7/output_with_aoi_and_gaze.mp4\n",
      "Processing ad  8 in  /Volumes/T7 Shield/fox/et/sub-088_tv-pickers-5a5d4a11/ads/8/8.mp4\n"
     ]
    },
    {
     "name": "stderr",
     "output_type": "stream",
     "text": [
      "No accelerated colorspace conversion found from yuv420p to rgb24.\n",
      "No accelerated colorspace conversion found from yuv420p to rgb24.\n",
      " (repeated 600 more times)\n"
     ]
    },
    {
     "name": "stdout",
     "output_type": "stream",
     "text": [
      "Output video with averaged gaze points, fixations, and scanpath saved as /Volumes/T7 Shield/fox/et/sub-088_tv-pickers-5a5d4a11/ads/8/output_with_aoi_and_gaze.mp4\n",
      "Processing ad  9 in  /Volumes/T7 Shield/fox/et/sub-088_tv-pickers-5a5d4a11/ads/9/9.mp4\n"
     ]
    },
    {
     "name": "stderr",
     "output_type": "stream",
     "text": [
      "No accelerated colorspace conversion found from yuv420p to rgb24.\n",
      "No accelerated colorspace conversion found from yuv420p to rgb24.\n",
      " (repeated 600 more times)\n"
     ]
    },
    {
     "name": "stdout",
     "output_type": "stream",
     "text": [
      "Output video with averaged gaze points, fixations, and scanpath saved as /Volumes/T7 Shield/fox/et/sub-088_tv-pickers-5a5d4a11/ads/9/output_with_aoi_and_gaze.mp4\n",
      "Processing ad  10 in  /Volumes/T7 Shield/fox/et/sub-088_tv-pickers-5a5d4a11/ads/10/10.mp4\n"
     ]
    },
    {
     "name": "stderr",
     "output_type": "stream",
     "text": [
      "No accelerated colorspace conversion found from yuv420p to rgb24.\n",
      "No accelerated colorspace conversion found from yuv420p to rgb24.\n",
      " (repeated 300 more times)\n"
     ]
    },
    {
     "name": "stdout",
     "output_type": "stream",
     "text": [
      "Output video with averaged gaze points, fixations, and scanpath saved as /Volumes/T7 Shield/fox/et/sub-088_tv-pickers-5a5d4a11/ads/10/output_with_aoi_and_gaze.mp4\n",
      "Processing gaze data in ads for  sub-089\n",
      "Processing ad  2 in  /Volumes/T7 Shield/fox/et/sub-089_tv-foxnews-6ca45d4d/ads/2/2.mp4\n",
      "Error processing AOI for each frame: [Errno 2] No such file or directory: '/Volumes/T7 Shield/fox/et/sub-089_tv-foxnews-6ca45d4d/ads/2/filtered_rectangle_data.csv'\n",
      "Processing ad  3 in  /Volumes/T7 Shield/fox/et/sub-089_tv-foxnews-6ca45d4d/ads/3/3.mp4\n",
      "Error processing AOI for each frame: [Errno 2] No such file or directory: '/Volumes/T7 Shield/fox/et/sub-089_tv-foxnews-6ca45d4d/ads/3/filtered_rectangle_data.csv'\n",
      "Unexpected error: list index out of range\n",
      "Processing gaze data in ads for  sub-090\n",
      "Processing ad  2 in  /Volumes/T7 Shield/fox/et/sub-090_tv-cnn-43253432/ads/2/2.mp4\n"
     ]
    },
    {
     "name": "stderr",
     "output_type": "stream",
     "text": [
      "No accelerated colorspace conversion found from yuv420p to rgb24.\n",
      "No accelerated colorspace conversion found from yuv420p to rgb24.\n",
      " (repeated 600 more times)\n"
     ]
    },
    {
     "name": "stdout",
     "output_type": "stream",
     "text": [
      "Output video with averaged gaze points, fixations, and scanpath saved as /Volumes/T7 Shield/fox/et/sub-090_tv-cnn-43253432/ads/2/output_with_aoi_and_gaze.mp4\n",
      "Processing ad  3 in  /Volumes/T7 Shield/fox/et/sub-090_tv-cnn-43253432/ads/3/3.mp4\n"
     ]
    },
    {
     "name": "stderr",
     "output_type": "stream",
     "text": [
      "No accelerated colorspace conversion found from yuv420p to rgb24.\n",
      "No accelerated colorspace conversion found from yuv420p to rgb24.\n",
      " (repeated 600 more times)\n"
     ]
    },
    {
     "name": "stdout",
     "output_type": "stream",
     "text": [
      "Output video with averaged gaze points, fixations, and scanpath saved as /Volumes/T7 Shield/fox/et/sub-090_tv-cnn-43253432/ads/3/output_with_aoi_and_gaze.mp4\n",
      "Processing ad  4 in  /Volumes/T7 Shield/fox/et/sub-090_tv-cnn-43253432/ads/4/4.mp4\n"
     ]
    },
    {
     "name": "stderr",
     "output_type": "stream",
     "text": [
      "No accelerated colorspace conversion found from yuv420p to rgb24.\n",
      "No accelerated colorspace conversion found from yuv420p to rgb24.\n",
      " (repeated 1500 more times)\n"
     ]
    },
    {
     "name": "stdout",
     "output_type": "stream",
     "text": [
      "Output video with averaged gaze points, fixations, and scanpath saved as /Volumes/T7 Shield/fox/et/sub-090_tv-cnn-43253432/ads/4/output_with_aoi_and_gaze.mp4\n",
      "Processing ad  5 in  /Volumes/T7 Shield/fox/et/sub-090_tv-cnn-43253432/ads/5/5.mp4\n"
     ]
    },
    {
     "name": "stderr",
     "output_type": "stream",
     "text": [
      "No accelerated colorspace conversion found from yuv420p to rgb24.\n",
      "No accelerated colorspace conversion found from yuv420p to rgb24.\n",
      " (repeated 300 more times)\n"
     ]
    },
    {
     "name": "stdout",
     "output_type": "stream",
     "text": [
      "Output video with averaged gaze points, fixations, and scanpath saved as /Volumes/T7 Shield/fox/et/sub-090_tv-cnn-43253432/ads/5/output_with_aoi_and_gaze.mp4\n",
      "Processing ad  7 in  /Volumes/T7 Shield/fox/et/sub-090_tv-cnn-43253432/ads/7/7.mp4\n"
     ]
    },
    {
     "name": "stderr",
     "output_type": "stream",
     "text": [
      "No accelerated colorspace conversion found from yuv420p to rgb24.\n",
      "No accelerated colorspace conversion found from yuv420p to rgb24.\n",
      " (repeated 600 more times)\n"
     ]
    },
    {
     "name": "stdout",
     "output_type": "stream",
     "text": [
      "Output video with averaged gaze points, fixations, and scanpath saved as /Volumes/T7 Shield/fox/et/sub-090_tv-cnn-43253432/ads/7/output_with_aoi_and_gaze.mp4\n",
      "Processing ad  8 in  /Volumes/T7 Shield/fox/et/sub-090_tv-cnn-43253432/ads/8/8.mp4\n"
     ]
    },
    {
     "name": "stderr",
     "output_type": "stream",
     "text": [
      "No accelerated colorspace conversion found from yuv420p to rgb24.\n",
      "No accelerated colorspace conversion found from yuv420p to rgb24.\n",
      " (repeated 600 more times)\n"
     ]
    },
    {
     "name": "stdout",
     "output_type": "stream",
     "text": [
      "Output video with averaged gaze points, fixations, and scanpath saved as /Volumes/T7 Shield/fox/et/sub-090_tv-cnn-43253432/ads/8/output_with_aoi_and_gaze.mp4\n",
      "Processing ad  9 in  /Volumes/T7 Shield/fox/et/sub-090_tv-cnn-43253432/ads/9/9.mp4\n"
     ]
    },
    {
     "name": "stderr",
     "output_type": "stream",
     "text": [
      "No accelerated colorspace conversion found from yuv420p to rgb24.\n",
      "No accelerated colorspace conversion found from yuv420p to rgb24.\n",
      " (repeated 600 more times)\n"
     ]
    },
    {
     "name": "stdout",
     "output_type": "stream",
     "text": [
      "Output video with averaged gaze points, fixations, and scanpath saved as /Volumes/T7 Shield/fox/et/sub-090_tv-cnn-43253432/ads/9/output_with_aoi_and_gaze.mp4\n",
      "Processing ad  10 in  /Volumes/T7 Shield/fox/et/sub-090_tv-cnn-43253432/ads/10/10.mp4\n"
     ]
    },
    {
     "name": "stderr",
     "output_type": "stream",
     "text": [
      "No accelerated colorspace conversion found from yuv420p to rgb24.\n",
      "No accelerated colorspace conversion found from yuv420p to rgb24.\n",
      " (repeated 300 more times)\n"
     ]
    },
    {
     "name": "stdout",
     "output_type": "stream",
     "text": [
      "Output video with averaged gaze points, fixations, and scanpath saved as /Volumes/T7 Shield/fox/et/sub-090_tv-cnn-43253432/ads/10/output_with_aoi_and_gaze.mp4\n",
      "Processing gaze data in ads for  sub-091\n",
      "Processing ad  2 in  /Volumes/T7 Shield/fox/et/sub-091_tv-foxnews-08834a6c/ads/2/2.mp4\n"
     ]
    },
    {
     "name": "stderr",
     "output_type": "stream",
     "text": [
      "No accelerated colorspace conversion found from yuv420p to rgb24.\n",
      "No accelerated colorspace conversion found from yuv420p to rgb24.\n",
      " (repeated 600 more times)\n"
     ]
    },
    {
     "name": "stdout",
     "output_type": "stream",
     "text": [
      "Output video with averaged gaze points, fixations, and scanpath saved as /Volumes/T7 Shield/fox/et/sub-091_tv-foxnews-08834a6c/ads/2/output_with_aoi_and_gaze.mp4\n",
      "Processing ad  3 in  /Volumes/T7 Shield/fox/et/sub-091_tv-foxnews-08834a6c/ads/3/3.mp4\n"
     ]
    },
    {
     "name": "stderr",
     "output_type": "stream",
     "text": [
      "No accelerated colorspace conversion found from yuv420p to rgb24.\n",
      "No accelerated colorspace conversion found from yuv420p to rgb24.\n",
      " (repeated 600 more times)\n"
     ]
    },
    {
     "name": "stdout",
     "output_type": "stream",
     "text": [
      "Output video with averaged gaze points, fixations, and scanpath saved as /Volumes/T7 Shield/fox/et/sub-091_tv-foxnews-08834a6c/ads/3/output_with_aoi_and_gaze.mp4\n",
      "Processing ad  4 in  /Volumes/T7 Shield/fox/et/sub-091_tv-foxnews-08834a6c/ads/4/4.mp4\n"
     ]
    },
    {
     "name": "stderr",
     "output_type": "stream",
     "text": [
      "No accelerated colorspace conversion found from yuv420p to rgb24.\n",
      "No accelerated colorspace conversion found from yuv420p to rgb24.\n",
      " (repeated 1500 more times)\n"
     ]
    },
    {
     "name": "stdout",
     "output_type": "stream",
     "text": [
      "Output video with averaged gaze points, fixations, and scanpath saved as /Volumes/T7 Shield/fox/et/sub-091_tv-foxnews-08834a6c/ads/4/output_with_aoi_and_gaze.mp4\n",
      "Processing ad  5 in  /Volumes/T7 Shield/fox/et/sub-091_tv-foxnews-08834a6c/ads/5/5.mp4\n"
     ]
    },
    {
     "name": "stderr",
     "output_type": "stream",
     "text": [
      "No accelerated colorspace conversion found from yuv420p to rgb24.\n",
      "No accelerated colorspace conversion found from yuv420p to rgb24.\n",
      " (repeated 300 more times)\n"
     ]
    },
    {
     "name": "stdout",
     "output_type": "stream",
     "text": [
      "Output video with averaged gaze points, fixations, and scanpath saved as /Volumes/T7 Shield/fox/et/sub-091_tv-foxnews-08834a6c/ads/5/output_with_aoi_and_gaze.mp4\n",
      "Processing ad  7 in  /Volumes/T7 Shield/fox/et/sub-091_tv-foxnews-08834a6c/ads/7/7.mp4\n"
     ]
    },
    {
     "name": "stderr",
     "output_type": "stream",
     "text": [
      "No accelerated colorspace conversion found from yuv420p to rgb24.\n",
      "No accelerated colorspace conversion found from yuv420p to rgb24.\n",
      " (repeated 600 more times)\n"
     ]
    },
    {
     "name": "stdout",
     "output_type": "stream",
     "text": [
      "Output video with averaged gaze points, fixations, and scanpath saved as /Volumes/T7 Shield/fox/et/sub-091_tv-foxnews-08834a6c/ads/7/output_with_aoi_and_gaze.mp4\n",
      "Processing ad  8 in  /Volumes/T7 Shield/fox/et/sub-091_tv-foxnews-08834a6c/ads/8/8.mp4\n"
     ]
    },
    {
     "name": "stderr",
     "output_type": "stream",
     "text": [
      "No accelerated colorspace conversion found from yuv420p to rgb24.\n",
      "No accelerated colorspace conversion found from yuv420p to rgb24.\n",
      " (repeated 600 more times)\n"
     ]
    },
    {
     "name": "stdout",
     "output_type": "stream",
     "text": [
      "Output video with averaged gaze points, fixations, and scanpath saved as /Volumes/T7 Shield/fox/et/sub-091_tv-foxnews-08834a6c/ads/8/output_with_aoi_and_gaze.mp4\n",
      "Processing ad  9 in  /Volumes/T7 Shield/fox/et/sub-091_tv-foxnews-08834a6c/ads/9/9.mp4\n"
     ]
    },
    {
     "name": "stderr",
     "output_type": "stream",
     "text": [
      "No accelerated colorspace conversion found from yuv420p to rgb24.\n",
      "No accelerated colorspace conversion found from yuv420p to rgb24.\n",
      " (repeated 600 more times)\n"
     ]
    },
    {
     "name": "stdout",
     "output_type": "stream",
     "text": [
      "Output video with averaged gaze points, fixations, and scanpath saved as /Volumes/T7 Shield/fox/et/sub-091_tv-foxnews-08834a6c/ads/9/output_with_aoi_and_gaze.mp4\n",
      "Processing ad  10 in  /Volumes/T7 Shield/fox/et/sub-091_tv-foxnews-08834a6c/ads/10/10.mp4\n"
     ]
    },
    {
     "name": "stderr",
     "output_type": "stream",
     "text": [
      "No accelerated colorspace conversion found from yuv420p to rgb24.\n",
      "No accelerated colorspace conversion found from yuv420p to rgb24.\n",
      " (repeated 300 more times)\n"
     ]
    },
    {
     "name": "stdout",
     "output_type": "stream",
     "text": [
      "Output video with averaged gaze points, fixations, and scanpath saved as /Volumes/T7 Shield/fox/et/sub-091_tv-foxnews-08834a6c/ads/10/output_with_aoi_and_gaze.mp4\n",
      "Processing gaze data in ads for  sub-101\n",
      "Skipping control or youtube condition\n",
      "Processing gaze data in ads for  sub-102\n",
      "Skipping control or youtube condition\n",
      "Processing gaze data in ads for  sub-103\n",
      "Skipping control or youtube condition\n",
      "Processing gaze data in ads for  sub-112\n",
      "Skipping control or youtube condition\n",
      "Processing gaze data in ads for  sub-113\n",
      "Skipping control or youtube condition\n",
      "Processing gaze data in ads for  sub-114\n",
      "Skipping control or youtube condition\n",
      "Processing gaze data in ads for  sub-120\n",
      "Unexpected error: [Errno 2] No such file or directory: '/Volumes/T7 Shield/fox/et/sub-120_tv-continental-11b3e28a/ads/aligned_events.csv'\n",
      "Processing gaze data in ads for  sub-121\n",
      "Unexpected error: [Errno 2] No such file or directory: '/Volumes/T7 Shield/fox/et/sub-121_tv-continental-a8dba278/ads/aligned_events.csv'\n",
      "Processing gaze data in ads for  sub-123\n",
      "Unexpected error: [Errno 2] No such file or directory: '/Volumes/T7 Shield/fox/et/sub-123_tv-bigmood-e589eeb6/ads/aligned_events.csv'\n",
      "Processing gaze data in ads for  sub-124\n",
      "Unexpected error: [Errno 2] No such file or directory: '/Volumes/T7 Shield/fox/et/sub-124_tv-pickers-754cd85b/ads/aligned_events.csv'\n",
      "Processing gaze data in ads for  sub-125\n",
      "Unexpected error: [Errno 2] No such file or directory: '/Volumes/T7 Shield/fox/et/sub-125_tv-cnn-b7a4d7f1/ads/aligned_events.csv'\n",
      "Processing gaze data in ads for  sub-126\n",
      "Unexpected error: [Errno 2] No such file or directory: '/Volumes/T7 Shield/fox/et/sub-126_tv-nfl-8a3b7d10/ads/aligned_events.csv'\n",
      "Processing gaze data in ads for  sub-127\n",
      "Unexpected error: [Errno 2] No such file or directory: '/Volumes/T7 Shield/fox/et/sub-127_tv-lego-e4770d05/ads/aligned_events.csv'\n",
      "Processing gaze data in ads for  sub-129\n",
      "Unexpected error: [Errno 2] No such file or directory: '/Volumes/T7 Shield/fox/et/sub-129_tv-bigmood-61c12e40/ads/aligned_events.csv'\n",
      "Processing gaze data in ads for  sub-130\n",
      "Unexpected error: [Errno 2] No such file or directory: '/Volumes/T7 Shield/fox/et/sub-130_tv-pickers-8dc0d23e/ads/aligned_events.csv'\n",
      "Processing gaze data in ads for  sub-131\n",
      "Unexpected error: [Errno 2] No such file or directory: '/Volumes/T7 Shield/fox/et/sub-131_tv-fox-3ce1a73b/ads/aligned_events.csv'\n",
      "Processing gaze data in ads for  sub-132\n",
      "Unexpected error: [Errno 2] No such file or directory: '/Volumes/T7 Shield/fox/et/sub-132_tv-fox-b37908c1/ads/aligned_events.csv'\n",
      "Processing gaze data in ads for  sub-133\n",
      "Unexpected error: [Errno 2] No such file or directory: '/Volumes/T7 Shield/fox/et/sub-133_tv-nfl-f88dd9c5/ads/aligned_events.csv'\n",
      "Processing gaze data in ads for  sub-134\n",
      "Unexpected error: [Errno 2] No such file or directory: '/Volumes/T7 Shield/fox/et/sub-134_tv-fox-e0127dca/ads/aligned_events.csv'\n",
      "Processing gaze data in ads for  sub-135\n",
      "Unexpected error: [Errno 2] No such file or directory: '/Volumes/T7 Shield/fox/et/sub-135_tv-cnn-c18d0871/ads/aligned_events.csv'\n",
      "Processing gaze data in ads for  sub-136\n",
      "Unexpected error: [Errno 2] No such file or directory: '/Volumes/T7 Shield/fox/et/sub-136_tv-continental-60408165/ads/aligned_events.csv'\n",
      "Processing gaze data in ads for  sub-137\n",
      "Unexpected error: [Errno 2] No such file or directory: '/Volumes/T7 Shield/fox/et/sub-137_tv-fox-6e20cbbd/ads/aligned_events.csv'\n",
      "Processing gaze data in ads for  sub-138\n",
      "Skipping control or youtube condition\n",
      "Processing gaze data in ads for  sub-139\n",
      "Unexpected error: [Errno 2] No such file or directory: '/Volumes/T7 Shield/fox/et/sub-139_tv-nfl-c853e31c/ads/aligned_events.csv'\n",
      "Processing gaze data in ads for  sub-140\n",
      "Unexpected error: [Errno 2] No such file or directory: '/Volumes/T7 Shield/fox/et/sub-140_tv-bigmood-2f22df09/ads/aligned_events.csv'\n",
      "Processing gaze data in ads for  sub-141\n",
      "Unexpected error: [Errno 2] No such file or directory: '/Volumes/T7 Shield/fox/et/sub-141_tv-lego-5672168b/ads/aligned_events.csv'\n",
      "Processing gaze data in ads for  sub-142\n",
      "Unexpected error: [Errno 2] No such file or directory: '/Volumes/T7 Shield/fox/et/sub-142_tv-fox-0209c207/ads/aligned_events.csv'\n",
      "Processing gaze data in ads for  sub-143\n",
      "Unexpected error: [Errno 2] No such file or directory: '/Volumes/T7 Shield/fox/et/sub-143_tv-pickers-287a4656/ads/aligned_events.csv'\n",
      "Processing gaze data in ads for  sub-144\n",
      "Unexpected error: [Errno 2] No such file or directory: '/Volumes/T7 Shield/fox/et/sub-144_tv-cnn-f248f696/ads/aligned_events.csv'\n",
      "Processing gaze data in ads for  sub-145\n",
      "Unexpected error: [Errno 2] No such file or directory: '/Volumes/T7 Shield/fox/et/sub-145_tv-continental-8d8903a7/ads/aligned_events.csv'\n",
      "Processing gaze data in ads for  sub-146\n",
      "Skipping control or youtube condition\n",
      "Processing gaze data in ads for  sub-147\n",
      "Unexpected error: [Errno 2] No such file or directory: '/Volumes/T7 Shield/fox/et/sub-147_tv-lego-675532c1/ads/aligned_events.csv'\n",
      "Processing gaze data in ads for  sub-148\n",
      "Unexpected error: [Errno 2] No such file or directory: '/Volumes/T7 Shield/fox/et/sub-148_tv-lego-fa9fdcb9/ads/aligned_events.csv'\n",
      "Processing gaze data in ads for  sub-149\n",
      "Unexpected error: [Errno 2] No such file or directory: '/Volumes/T7 Shield/fox/et/sub-149_tv-bigmood-078a00e5/ads/aligned_events.csv'\n",
      "Processing gaze data in ads for  sub-150\n",
      "Unexpected error: [Errno 2] No such file or directory: '/Volumes/T7 Shield/fox/et/sub-150_tv-pickers-f517fd49/ads/aligned_events.csv'\n",
      "Processing gaze data in ads for  sub-151\n",
      "Unexpected error: [Errno 2] No such file or directory: '/Volumes/T7 Shield/fox/et/sub-151_tv-cnn-894dee50/ads/aligned_events.csv'\n",
      "Processing gaze data in ads for  sub-155\n",
      "Skipping control or youtube condition\n",
      "Processing gaze data in ads for  sub-159\n",
      "Unexpected error: [Errno 2] No such file or directory: '/Volumes/T7 Shield/fox/et/sub-159_tv-pickers-046a0016/ads/aligned_events.csv'\n",
      "Processing gaze data in ads for  sub-160\n",
      "Unexpected error: [Errno 2] No such file or directory: '/Volumes/T7 Shield/fox/et/sub-160_tv-cnn-0f5a2548/ads/aligned_events.csv'\n",
      "Processing gaze data in ads for  sub-165\n",
      "Unexpected error: [Errno 2] No such file or directory: '/Volumes/T7 Shield/fox/et/sub-165_tv-continental-7afd4bfa/ads/aligned_events.csv'\n",
      "Processing gaze data in ads for  sub-166\n",
      "Unexpected error: [Errno 2] No such file or directory: '/Volumes/T7 Shield/fox/et/sub-166_tv-continental-eb97a04f/ads/aligned_events.csv'\n",
      "Processing gaze data in ads for  sub-167\n",
      "Unexpected error: [Errno 2] No such file or directory: '/Volumes/T7 Shield/fox/et/sub-167_tv-fox-35f84d88/ads/aligned_events.csv'\n",
      "Processing gaze data in ads for  sub-173\n",
      "Skipping control or youtube condition\n",
      "Processing gaze data in ads for  sub-174\n",
      "Unexpected error: [Errno 2] No such file or directory: '/Volumes/T7 Shield/fox/et/sub-174_tv-lego-15a48bb4/ads/aligned_events.csv'\n",
      "Processing gaze data in ads for  sub-175\n",
      "Unexpected error: [Errno 2] No such file or directory: '/Volumes/T7 Shield/fox/et/sub-175_tv-bigmood-dc3484b5/ads/aligned_events.csv'\n",
      "Processing gaze data in ads for  sub-176\n",
      "Unexpected error: [Errno 2] No such file or directory: '/Volumes/T7 Shield/fox/et/sub-176_tv-pickers-ae18b3fa/ads/aligned_events.csv'\n",
      "Processing gaze data in ads for  sub-180\n",
      "Unexpected error: [Errno 2] No such file or directory: '/Volumes/T7 Shield/fox/et/sub-180_tv-cnn-458c55e4/ads/aligned_events.csv'\n",
      "Processing gaze data in ads for  sub-181\n",
      "Unexpected error: [Errno 2] No such file or directory: '/Volumes/T7 Shield/fox/et/sub-181_tv-continental-397237c0/ads/aligned_events.csv'\n"
     ]
    }
   ],
   "source": [
    "# with this loop we'll have an AOI for each frame of the ad video, the pupil labs video with the AOI and gaze overlayed, and whether the gaze point is within the AOI or not.\n",
    "for subj in subj_folders[1:]:\n",
    "    try:\n",
    "        subj_id = subj.split('/')[5].split('_')[0]\n",
    "        print('Processing gaze data in ads for ', subj_id)\n",
    "        \n",
    "        # subj info and files\n",
    "        subj_folder = subj\n",
    "\n",
    "        # if subj is in control condition or youtube condition, skip\n",
    "        cond = subj.split('/')[5].split('_')[1].split('-')[1]\n",
    "\n",
    "        if cond == 'control' or cond == 'youtube':\n",
    "            print('Skipping control or youtube condition')\n",
    "            continue\n",
    "        \n",
    "        aligned_events = pd.read_csv(os.path.join(subj_folder, 'ads','aligned_events.csv'))\n",
    "        ads_folders = glob.glob(os.path.join(subj, 'ads', '[0-9]*')) #'[0-9]*'))\n",
    "\n",
    "        # print(aligned_events)\n",
    "\n",
    "        for ad_folder in ads_folders:\n",
    "            ad_video = glob.glob(os.path.join(ad_folder, '*.mp4'))[0]\n",
    "            event_id = int(ad_folder.split('/')[-1])\n",
    "            print('Processing ad ', event_id, 'in ', ad_video)\n",
    "\n",
    "\n",
    "\n",
    "            try:\n",
    "                filtered_rectangle_data = os.path.join(ad_folder, 'filtered_rectangle_data.csv')            \n",
    "                aoi_df = interpolate_aoi_data_from_video(filtered_rectangle_data, ad_video)\n",
    "                aoi_df.to_csv(os.path.join(ad_folder, 'processed_aoi_for_each_frame.csv'))\n",
    "\n",
    "            except Exception as e:\n",
    "                error_message = f\"Error processing AOI for each frame: {e}\"\n",
    "                print(error_message)\n",
    "                log_error(error_message, subj=subj_id)\n",
    "                continue\n",
    "\n",
    "            try:\n",
    "                gaze_data_raw = os.path.join(ad_folder, 'gaze.csv')\n",
    "                video_start_timestamp = aligned_events.loc[aligned_events['event_id'] == event_id, 'nearest_timestamp_ns'].values[0]\n",
    "                # print(f\"Video start timestamp: {video_start_timestamp}\")\n",
    "\n",
    "                overlay_gaze_and_aoi_on_video_ffmpeg(ad_video, gaze_data_raw, aoi_df, ad_folder, video_start_timestamp)\n",
    "            \n",
    "            except Exception as e:\n",
    "                error_message = f\"Error overlaying gaze to video: {e}\"\n",
    "                print(error_message)\n",
    "                log_error(error_message, subj=subj_id)\n",
    "                continue\n",
    "            \n",
    "    except Exception as e:\n",
    "        error_message = f\"Unexpected error: {e}\"\n",
    "        print(error_message)\n",
    "        log_error(error_message, subj=subj_id)"
   ]
  },
  {
   "cell_type": "markdown",
   "metadata": {},
   "source": [
    "# Graveyard\n",
    "Where are all our unscessful functions/steps go to die. Gone but not forgotten."
   ]
  },
  {
   "cell_type": "code",
   "execution_count": null,
   "metadata": {},
   "outputs": [],
   "source": [
    "def calculate_fixation_durations(fixation_data):\n",
    "    \"\"\" Calculate fixation duration based on the number of gaze points for each fixation ID. \"\"\"\n",
    "    fixation_data['fixation_duration'] = fixation_data.groupby('fixation id')['fixation id'].transform('count')\n",
    "    return fixation_data\n",
    "\n",
    "def overlay_gaze_and_aoi_on_video_ffmpeg(video_path, gaze_data, aoi_data, output_path, video_start_timestamp):\n",
    "    \"\"\"\n",
    "    Overlays averaged gaze points (both fixation and non-fixation) onto each frame of a video.\n",
    "    Scanpaths are drawn between averaged gaze points for continuous movement visualization.\n",
    "    \n",
    "    Parameters:\n",
    "    - video_path (str): Path to the input video file.\n",
    "    - gaze_data (pd.DataFrame): Raw gaze data with 'timestamp [ns]', 'gaze x [px]', 'gaze y [px]', 'fixation id' columns.\n",
    "    - aoi_data (pd.DataFrame): AOI data with 'frame', 'x', 'y', 'width', 'height' columns for each frame.\n",
    "    - output_path (str): Path to save the output video with AOIs, gaze points, and scanpaths overlaid.\n",
    "    - video_start_timestamp (int): The starting timestamp of the subset video in nanoseconds.\n",
    "    \n",
    "    Returns:\n",
    "    - None\n",
    "    \"\"\"\n",
    "    # Check if gaze_data is a file path\n",
    "    if isinstance(gaze_data, str):\n",
    "        gaze_data = pd.read_csv(gaze_data)\n",
    "\n",
    "    # Check if aoi_data is a file path\n",
    "    if isinstance(aoi_data, str):\n",
    "        aoi_data = pd.read_csv(aoi_data)\n",
    "\n",
    "    # Calculate fixation durations based on the number of gaze points per fixation ID\n",
    "    fixation_data = gaze_data[gaze_data['fixation id'].notna()]\n",
    "    fixation_data = calculate_fixation_durations(fixation_data)  # Calculate fixation durations\n",
    "    \n",
    "    # Open the video file using PyAV\n",
    "    input_container = av.open(video_path)\n",
    "    output_container = av.open(output_path, mode='w')\n",
    "    \n",
    "    # Get the video stream\n",
    "    input_stream = input_container.streams.video[0]\n",
    "    output_stream = output_container.add_stream('mpeg4', rate=input_stream.average_rate)\n",
    "    output_stream.width = input_stream.width\n",
    "    output_stream.height = input_stream.height\n",
    "    output_stream.pix_fmt = 'yuv420p'\n",
    "    \n",
    "    # Calculate the frame duration based on average_rate\n",
    "    frame_rate = input_stream.average_rate\n",
    "    frame_duration_ns = int(1 / frame_rate * 1e9)\n",
    "    \n",
    "    # Variables to store previous averaged gaze point for scanpath drawing\n",
    "    prev_gaze_x = None\n",
    "    prev_gaze_y = None\n",
    "    \n",
    "    # Iterate over frames in the input video\n",
    "    for frame_idx, frame in enumerate(input_container.decode(video=0)):\n",
    "        # Convert the PyAV frame to a PIL image for drawing\n",
    "        img = frame.to_image()\n",
    "\n",
    "        # Calculate the timestamp for the current frame\n",
    "        current_frame_timestamp = video_start_timestamp + frame_idx * frame_duration_ns\n",
    "\n",
    "        # Draw AOI for the current frame if available\n",
    "        aoi_row = aoi_data[aoi_data['frame'] == frame_idx]\n",
    "        if not aoi_row.empty:\n",
    "            draw = ImageDraw.Draw(img)\n",
    "            aoi_x = int(aoi_row['x'].values[0])\n",
    "            aoi_y = int(aoi_row['y'].values[0])\n",
    "            aoi_width = int(aoi_row['width'].values[0])\n",
    "            aoi_height = int(aoi_row['height'].values[0])\n",
    "            draw.rectangle([(aoi_x, aoi_y), (aoi_x + aoi_width, aoi_y + aoi_height)], outline=(0, 255, 0), width=4)\n",
    "\n",
    "        # Find gaze points for the current frame and calculate the average\n",
    "        gaze_points = gaze_data[(gaze_data['timestamp [ns]'] >= current_frame_timestamp) &\n",
    "                                (gaze_data['timestamp [ns]'] < current_frame_timestamp + frame_duration_ns)]\n",
    "        \n",
    "        if not gaze_points.empty:\n",
    "            # Average the gaze points for this frame\n",
    "            avg_gaze_x = int(gaze_points['gaze x [px]'].mean())\n",
    "            avg_gaze_y = int(gaze_points['gaze y [px]'].mean())\n",
    "            \n",
    "            # Draw the averaged gaze point\n",
    "            draw.ellipse([(avg_gaze_x - 3, avg_gaze_y - 3), (avg_gaze_x + 3, avg_gaze_y + 3)], fill=\"blue\", outline=\"blue\")\n",
    "            \n",
    "            # Draw scanpath (line between consecutive averaged gaze points)\n",
    "            if prev_gaze_x is not None and prev_gaze_y is not None:\n",
    "                draw.line([(prev_gaze_x, prev_gaze_y), (avg_gaze_x, avg_gaze_y)], fill=\"blue\", width=2)\n",
    "\n",
    "            # Update the previous gaze point for the next frame\n",
    "            prev_gaze_x, prev_gaze_y = avg_gaze_x, avg_gaze_y\n",
    "\n",
    "        # Find fixation points within the current frame's time window and calculate the average\n",
    "        fixation_rows = fixation_data[(fixation_data['timestamp [ns]'] >= current_frame_timestamp) &\n",
    "                                      (fixation_data['timestamp [ns]'] < current_frame_timestamp + frame_duration_ns)]\n",
    "        if not fixation_rows.empty:\n",
    "            # Average the fixation points for this frame\n",
    "            avg_fixation_x = int(fixation_rows['gaze x [px]'].mean())\n",
    "            avg_fixation_y = int(fixation_rows['gaze y [px]'].mean())\n",
    "            avg_fixation_duration = fixation_rows['fixation_duration'].mean()\n",
    "            \n",
    "            # Base size of the circle and scaling it by the averaged fixation duration\n",
    "            base_size = 5\n",
    "            scaled_size = base_size + 2 * (avg_fixation_duration ** 0.5)\n",
    "            radius = int(scaled_size)\n",
    "            \n",
    "            # Draw the averaged fixation point with no fill and size proportional to the averaged fixation duration\n",
    "            draw.ellipse([(avg_fixation_x - radius, avg_fixation_y - radius), (avg_fixation_x + radius, avg_fixation_y + radius)], outline=\"red\", width=2)\n",
    "\n",
    "        # Convert the image back to a PyAV frame\n",
    "        frame = av.VideoFrame.from_image(img)\n",
    "\n",
    "        # Encode and write the frame\n",
    "        packet = output_stream.encode(frame)\n",
    "        output_container.mux(packet)\n",
    "    \n",
    "    # Finalize the video\n",
    "    packet = output_stream.encode(None)\n",
    "    output_container.mux(packet)\n",
    "\n",
    "    # Close the input and output containers\n",
    "    input_container.close()\n",
    "    output_container.close()\n",
    "\n",
    "    print(f\"Output video with averaged gaze points, fixations, and scanpath saved as {output_path}\")\n",
    "\n",
    "# Example usage:\n",
    "# video_start_timestamp = 1712761742852933376  # Taken from the 'aligned_events.csv'\n",
    "# overlay_gaze_and_aoi_on_video_ffmpeg('input_video.mp4', gaze_data_raw_df, aoi_df, 'output_with_averaged_gaze_and_scanpath.mp4', video_start_timestamp)\n"
   ]
  },
  {
   "cell_type": "code",
   "execution_count": null,
   "metadata": {},
   "outputs": [],
   "source": [
    "def smooth_fixation_durations(fixation_data, window_size=5):\n",
    "    \"\"\" Apply smoothing to fixation durations to avoid abrupt size changes. \"\"\"\n",
    "    fixation_data['smoothed_duration'] = fixation_data['fixation id'].rolling(window=window_size, min_periods=1).mean()\n",
    "    return fixation_data\n",
    "\n",
    "def interpolate_gaze_data(gaze_data, video_timestamps):\n",
    "    \"\"\" Interpolate gaze data to fill in gaps between video frames for smoother transitions. \"\"\"\n",
    "    interp_func_x = interp1d(gaze_data['timestamp [ns]'], gaze_data['gaze x [px]'], fill_value=\"extrapolate\")\n",
    "    interp_func_y = interp1d(gaze_data['timestamp [ns]'], gaze_data['gaze y [px]'], fill_value=\"extrapolate\")\n",
    "    interpolated_gaze_x = interp_func_x(video_timestamps)\n",
    "    interpolated_gaze_y = interp_func_y(video_timestamps)\n",
    "    return interpolated_gaze_x, interpolated_gaze_y\n",
    "\n",
    "def overlay_gaze_and_aoi_on_video_ffmpeg(video_path, gaze_data, aoi_data, output_path, video_start_timestamp):\n",
    "    \"\"\"\n",
    "    Overlays gaze points (both fixation and non-fixation), with smoother transitions, onto each frame of a video.\n",
    "    Scanpaths are drawn between all gaze points for continuous movement visualization.\n",
    "    \n",
    "    Parameters:\n",
    "    - video_path (str): Path to the input video file.\n",
    "    - gaze_data (pd.DataFrame): Raw gaze data with 'timestamp [ns]', 'gaze x [px]', 'gaze y [px]', 'fixation id' columns.\n",
    "    - aoi_data (pd.DataFrame): AOI data with 'frame', 'x', 'y', 'width', 'height' columns for each frame.\n",
    "    - output_path (str): Path to save the output video with AOIs, gaze points, and scanpaths overlaid.\n",
    "    - video_start_timestamp (int): The starting timestamp of the subset video in nanoseconds.\n",
    "    \n",
    "    Returns:\n",
    "    - None\n",
    "    \"\"\"\n",
    "\n",
    "    # Check if gaze_data is a file path\n",
    "    if isinstance(gaze_data, str):\n",
    "        gaze_data = pd.read_csv(gaze_data)\n",
    "\n",
    "    # Check if aoi_data is a file path\n",
    "    if isinstance(aoi_data, str):\n",
    "        aoi_data = pd.read_csv(aoi_data)\n",
    "\n",
    "    # Smooth the fixation durations\n",
    "    fixation_data = gaze_data[gaze_data['fixation id'].notna()]\n",
    "    fixation_data = smooth_fixation_durations(fixation_data)  # Apply smoothing\n",
    "    \n",
    "    # Open the video file using PyAV\n",
    "    input_container = av.open(video_path)\n",
    "    output_container = av.open(output_path, mode='w')\n",
    "    \n",
    "    # Get the video stream\n",
    "    input_stream = input_container.streams.video[0]\n",
    "    output_stream = output_container.add_stream('mpeg4', rate=input_stream.average_rate)\n",
    "    output_stream.width = input_stream.width\n",
    "    output_stream.height = input_stream.height\n",
    "    output_stream.pix_fmt = 'yuv420p'\n",
    "    \n",
    "    # Calculate the frame duration based on average_rate\n",
    "    frame_rate = input_stream.average_rate\n",
    "    frame_duration_ns = int(1 / frame_rate * 1e9)\n",
    "    \n",
    "    # Prepare interpolation over video timestamps\n",
    "    video_timestamps = [video_start_timestamp + frame_idx * frame_duration_ns for frame_idx in range(input_stream.frames)]\n",
    "    interpolated_gaze_x, interpolated_gaze_y = interpolate_gaze_data(gaze_data, video_timestamps)\n",
    "\n",
    "    # Variables to store previous gaze point for scanpath drawing\n",
    "    prev_gaze_x = None\n",
    "    prev_gaze_y = None\n",
    "    \n",
    "    # Iterate over frames in the input video\n",
    "    for frame_idx, frame in enumerate(input_container.decode(video=0)):\n",
    "        # Convert the PyAV frame to a PIL image for drawing\n",
    "        img = frame.to_image()\n",
    "\n",
    "        # Calculate the timestamp for the current frame\n",
    "        current_frame_timestamp = video_start_timestamp + frame_idx * frame_duration_ns\n",
    "\n",
    "        # Draw AOI for the current frame if available\n",
    "        aoi_row = aoi_data[aoi_data['frame'] == frame_idx]\n",
    "        if not aoi_row.empty:\n",
    "            draw = ImageDraw.Draw(img)\n",
    "            aoi_x = int(aoi_row['x'].values[0])\n",
    "            aoi_y = int(aoi_row['y'].values[0])\n",
    "            aoi_width = int(aoi_row['width'].values[0])\n",
    "            aoi_height = int(aoi_row['height'].values[0])\n",
    "            draw.rectangle([(aoi_x, aoi_y), (aoi_x + aoi_width, aoi_y + aoi_height)], outline=(0, 255, 0), width=4)\n",
    "\n",
    "        # Interpolated gaze points for smoother transitions\n",
    "        gaze_x = int(interpolated_gaze_x[frame_idx])\n",
    "        gaze_y = int(interpolated_gaze_y[frame_idx])\n",
    "        \n",
    "        # Draw gaze point\n",
    "        draw.ellipse([(gaze_x - 3, gaze_y - 3), (gaze_x + 3, gaze_y + 3)], fill=\"blue\", outline=\"blue\")\n",
    "\n",
    "        # Draw scanpath (line between consecutive gaze points)\n",
    "        if prev_gaze_x is not None and prev_gaze_y is not None:\n",
    "            draw.line([(prev_gaze_x, prev_gaze_y), (gaze_x, gaze_y)], fill=\"blue\", width=2)\n",
    "\n",
    "        # Update the previous gaze point for the next frame\n",
    "        prev_gaze_x, prev_gaze_y = gaze_x, gaze_y\n",
    "\n",
    "        # Handle fixation points for this frame\n",
    "        fixation_row = fixation_data[fixation_data['timestamp [ns]'] == current_frame_timestamp]\n",
    "        if not fixation_row.empty:\n",
    "            fixation_duration = fixation_row['smoothed_duration'].values[0]\n",
    "            \n",
    "            base_size = 5\n",
    "            scaled_size = base_size + 2 * (fixation_duration ** 0.5)\n",
    "            radius = int(scaled_size)\n",
    "            \n",
    "            # Draw the fixation point with no fill and size proportional to smoothed duration\n",
    "            draw.ellipse([(gaze_x - radius, gaze_y - radius), (gaze_x + radius, gaze_y + radius)], outline=\"red\", width=2)\n",
    "\n",
    "        # Convert the image back to a PyAV frame\n",
    "        frame = av.VideoFrame.from_image(img)\n",
    "\n",
    "        # Encode and write the frame\n",
    "        packet = output_stream.encode(frame)\n",
    "        output_container.mux(packet)\n",
    "    \n",
    "    # Finalize the video\n",
    "    packet = output_stream.encode(None)\n",
    "    output_container.mux(packet)\n",
    "\n",
    "    # Close the input and output containers\n",
    "    input_container.close()\n",
    "    output_container.close()\n",
    "\n",
    "    print(f\"Output video with gaze points, fixations, and scanpath saved as {output_path}\")\n",
    "\n",
    "# Example usage:\n",
    "# video_start_timestamp = 1712761742852933376  # Taken from the 'aligned_events.csv'\n",
    "# overlay_gaze_and_aoi_on_video_ffmpeg('input_video.mp4', gaze_data_raw_df, aoi_df, 'output_with_gaze_and_scanpath.mp4', video_start_timestamp)\n"
   ]
  },
  {
   "cell_type": "code",
   "execution_count": null,
   "metadata": {},
   "outputs": [],
   "source": [
    "def overlay_gaze_and_aoi_on_video_ffmpeg(video_path, gaze_data, aoi_data, output_path, video_start_timestamp):\n",
    "    \"\"\"\n",
    "    Overlays fixation points (with reasonable sizes) and scanpath onto each frame of a video,\n",
    "    using the fixation column from the gaze data, following Pupil Labs formatting.\n",
    "    \n",
    "    Parameters:\n",
    "    - video_path (str): Path to the input video file.\n",
    "    - gaze_data (pd.DataFrame): Raw gaze data with 'timestamp [ns]', 'gaze x [px]', 'gaze y [px]', 'fixation id' columns.\n",
    "    - aoi_data (pd.DataFrame): AOI data with 'frame', 'x', 'y', 'width', 'height' columns for each frame.\n",
    "    - output_path (str): Path to save the output video with AOIs, fixation points, and scanpaths overlaid.\n",
    "    - video_start_timestamp (int): The starting timestamp of the subset video in nanoseconds.\n",
    "    \n",
    "    Returns:\n",
    "    - None\n",
    "    \"\"\"\n",
    "\n",
    "    # Check if gaze_data is a file path\n",
    "    if isinstance(gaze_data, str):\n",
    "        gaze_data = pd.read_csv(gaze_data)\n",
    "\n",
    "    # Check if aoi_data is a file path\n",
    "    if isinstance(aoi_data, str):\n",
    "        aoi_data = pd.read_csv(aoi_data)\n",
    "        \n",
    "    # Filter the gaze data to only include fixation points\n",
    "    fixation_data = gaze_data[gaze_data['fixation id'].notna()]\n",
    "    \n",
    "    # Open the video file using PyAV\n",
    "    input_container = av.open(video_path)\n",
    "    output_container = av.open(output_path, mode='w')\n",
    "    \n",
    "    # Get the video stream\n",
    "    input_stream = input_container.streams.video[0]\n",
    "    output_stream = output_container.add_stream('mpeg4', rate=input_stream.average_rate)\n",
    "    output_stream.width = input_stream.width\n",
    "    output_stream.height = input_stream.height\n",
    "    output_stream.pix_fmt = 'yuv420p'\n",
    "    \n",
    "    # Calculate the frame duration based on average_rate\n",
    "    frame_rate = input_stream.average_rate\n",
    "    frame_duration_ns = int(1 / frame_rate * 1e9)\n",
    "\n",
    "    # Variables to store previous fixation point for scanpath drawing\n",
    "    prev_fixation_x = None\n",
    "    prev_fixation_y = None\n",
    "    prev_fixation_id = None\n",
    "    \n",
    "    # Iterate over frames in the input video\n",
    "    for frame_idx, frame in enumerate(input_container.decode(video=0)):\n",
    "        # Convert the PyAV frame to a PIL image for drawing\n",
    "        img = frame.to_image()\n",
    "\n",
    "        # Calculate the timestamp for the current frame\n",
    "        current_frame_timestamp = video_start_timestamp + frame_idx * frame_duration_ns\n",
    "\n",
    "        # Draw AOI for the current frame if available\n",
    "        aoi_row = aoi_data[aoi_data['frame'] == frame_idx]\n",
    "        if not aoi_row.empty:\n",
    "            draw = ImageDraw.Draw(img)\n",
    "            aoi_x = int(aoi_row['x'].values[0])\n",
    "            aoi_y = int(aoi_row['y'].values[0])\n",
    "            aoi_width = int(aoi_row['width'].values[0])\n",
    "            aoi_height = int(aoi_row['height'].values[0])\n",
    "            # Draw a brighter green AOI (brighter RGB value for green)\n",
    "            draw.rectangle([(aoi_x, aoi_y), (aoi_x + aoi_width, aoi_y + aoi_height)], outline=(0, 255, 0), width=4)\n",
    "\n",
    "        # Find fixation points in the current frame's time window\n",
    "        fixation_rows = fixation_data[(fixation_data['timestamp [ns]'] >= current_frame_timestamp) &\n",
    "                                      (fixation_data['timestamp [ns]'] < current_frame_timestamp + frame_duration_ns)]\n",
    "\n",
    "        if not fixation_rows.empty:\n",
    "            draw = ImageDraw.Draw(img)\n",
    "            \n",
    "            # Iterate over all fixation points in this frame\n",
    "            for _, fixation_row in fixation_rows.iterrows():\n",
    "                fixation_x = int(fixation_row['gaze x [px]'])\n",
    "                fixation_y = int(fixation_row['gaze y [px]'])\n",
    "                fixation_id = fixation_row['fixation id']\n",
    "\n",
    "                # Calculate the fixation duration (number of points with the same fixation id)\n",
    "                fixation_duration = len(fixation_data[fixation_data['fixation id'] == fixation_id])\n",
    "\n",
    "                # Pupil Labs circle size - base size of 5, scale with moderate multiplier\n",
    "                base_size = 5\n",
    "                scaled_size = base_size + 2 * (fixation_duration ** 0.5)  # Moderate scaling based on duration\n",
    "                radius = int(scaled_size)  # Ensure reasonable sizes\n",
    "                \n",
    "                # Draw the fixation point with no fill (transparent) and size proportional to fixation duration\n",
    "                draw.ellipse([(fixation_x - radius, fixation_y - radius), (fixation_x + radius, fixation_y + radius)], outline=\"red\", width=2)\n",
    "\n",
    "                # Draw the scanpath (line between consecutive fixation points)\n",
    "                if prev_fixation_x is not None and prev_fixation_y is not None and prev_fixation_id != fixation_id:\n",
    "                    draw.line([(prev_fixation_x, prev_fixation_y), (fixation_x, fixation_y)], fill=\"blue\", width=2)\n",
    "\n",
    "                # Update the previous fixation point for the next frame\n",
    "                prev_fixation_x, prev_fixation_y = fixation_x, fixation_y\n",
    "                prev_fixation_id = fixation_id\n",
    "\n",
    "        # Convert the image back to a PyAV frame\n",
    "        frame = av.VideoFrame.from_image(img)\n",
    "\n",
    "        # Encode and write the frame\n",
    "        packet = output_stream.encode(frame)\n",
    "        output_container.mux(packet)\n",
    "    \n",
    "    # Finalize the video\n",
    "    packet = output_stream.encode(None)\n",
    "    output_container.mux(packet)\n",
    "\n",
    "    # Close the input and output containers\n",
    "    input_container.close()\n",
    "    output_container.close()\n",
    "\n",
    "    print(f\"Output video with fixation points and scanpath saved as {output_path}\")\n",
    "\n",
    "# Example usage:\n",
    "# video_start_timestamp = 1712761742852933376  # Taken from the 'aligned_events.csv'\n",
    "# overlay_gaze_and_aoi_on_video_ffmpeg('input_video.mp4', gaze_data_raw_df, aoi_df, 'output_with_fixations_and_scanpath.mp4', video_start_timestamp)\n",
    "\n",
    "\n"
   ]
  },
  {
   "cell_type": "code",
   "execution_count": null,
   "metadata": {},
   "outputs": [],
   "source": [
    "def overlay_gaze_and_aoi_on_video_ffmpeg(video_path, gaze_data, aoi_data, output_path, video_start_timestamp):\n",
    "    \"\"\"\n",
    "    Overlays gaze points and AOI rectangles onto each frame of a video using PyAV for precise timestamp handling.\n",
    "    \n",
    "    Parameters:\n",
    "    - video_path (str): Path to the input video file.\n",
    "    - gaze_data (pd.DataFrame): Raw gaze data with 'timestamp [ns]', 'gaze x [px]', 'gaze y [px]' columns.\n",
    "    - aoi_data (pd.DataFrame): AOI data with 'frame', 'x', 'y', 'width', 'height' columns for each frame.\n",
    "    - output_path (str): Path to save the output video with AOIs and gaze points overlaid.\n",
    "    - video_start_timestamp (int): The starting timestamp of the subset video in nanoseconds.\n",
    "    \n",
    "    Returns:\n",
    "    - None\n",
    "    \"\"\"\n",
    "\n",
    "    # Check if gaze_data is a file path\n",
    "    if isinstance(gaze_data, str):\n",
    "        gaze_data = pd.read_csv(gaze_data)\n",
    "\n",
    "    # Check if aoi_data is a file path\n",
    "    if isinstance(aoi_data, str):\n",
    "        aoi_data = pd.read_csv(aoi_data)\n",
    "\n",
    "    # Open the video file using PyAV\n",
    "    input_container = av.open(video_path)\n",
    "    output_container = av.open(output_path, mode='w')\n",
    "    \n",
    "    # Get the video stream\n",
    "    input_stream = input_container.streams.video[0]\n",
    "    output_stream = output_container.add_stream('mpeg4', rate=input_stream.average_rate)\n",
    "    output_stream.width = input_stream.width\n",
    "    output_stream.height = input_stream.height\n",
    "    output_stream.pix_fmt = 'yuv420p'\n",
    "    \n",
    "    # Calculate the frame duration based on average_rate\n",
    "    frame_rate = input_stream.average_rate\n",
    "    frame_duration_ns = int(1 / frame_rate * 1e9)\n",
    "    \n",
    "    # Iterate over frames in the input video\n",
    "    for frame_idx, frame in enumerate(input_container.decode(video=0)):\n",
    "        # Convert the PyAV frame to a PIL image for drawing\n",
    "        img = frame.to_image()\n",
    "\n",
    "        # Calculate the timestamp for the current frame\n",
    "        current_frame_timestamp = video_start_timestamp + frame_idx * frame_duration_ns\n",
    "\n",
    "        # Draw AOI for the current frame if available\n",
    "        aoi_row = aoi_data[aoi_data['frame'] == frame_idx]\n",
    "        if not aoi_row.empty:\n",
    "            draw = ImageDraw.Draw(img)\n",
    "            aoi_x = int(aoi_row['x'].values[0])\n",
    "            aoi_y = int(aoi_row['y'].values[0])\n",
    "            aoi_width = int(aoi_row['width'].values[0])\n",
    "            aoi_height = int(aoi_row['height'].values[0])\n",
    "            draw.rectangle([(aoi_x, aoi_y), (aoi_x + aoi_width, aoi_y + aoi_height)], outline=\"green\", width=2)\n",
    "        \n",
    "        # Find the closest gaze point based on the current frame timestamp (use raw gaze data)\n",
    "        gaze_row = gaze_data[(gaze_data['timestamp [ns]'] >= current_frame_timestamp) &\n",
    "                             (gaze_data['timestamp [ns]'] < current_frame_timestamp + frame_duration_ns)]\n",
    "        if not gaze_row.empty:\n",
    "            gaze_x = int(gaze_row['gaze x [px]'].values[0])\n",
    "            gaze_y = int(gaze_row['gaze y [px]'].values[0])\n",
    "            draw.ellipse([(gaze_x - 5, gaze_y - 5), (gaze_x + 5, gaze_y + 5)], fill=\"red\")\n",
    "\n",
    "        # Convert the image back to a PyAV frame\n",
    "        frame = av.VideoFrame.from_image(img)\n",
    "\n",
    "        # Encode and write the frame\n",
    "        packet = output_stream.encode(frame)\n",
    "        output_container.mux(packet)\n",
    "    \n",
    "    # Finalize the video\n",
    "    packet = output_stream.encode(None)\n",
    "    output_container.mux(packet)\n",
    "\n",
    "    # Close the input and output containers\n",
    "    input_container.close()\n",
    "    output_container.close()\n",
    "\n",
    "    print(f\"Output video with AOI and gaze data saved as {output_path}\")\n",
    "\n",
    "# Example usage:\n",
    "# video_start_timestamp = 1712761742852933376  # Taken from the 'aligned_events.csv'\n",
    "# overlay_gaze_and_aoi_on_video_ffmpeg('input_video.mp4', gaze_data_raw_df, aoi_df, 'output_with_raw_gaze.mp4', video_start_timestamp)\n",
    "\n",
    "  "
   ]
  },
  {
   "cell_type": "code",
   "execution_count": null,
   "metadata": {},
   "outputs": [],
   "source": [
    "def calculate_fixation_durations(fixation_data):\n",
    "    \"\"\" Calculate fixation duration based on the number of gaze points for each fixation ID. \"\"\"\n",
    "    fixation_data['fixation_duration'] = fixation_data.groupby('fixation id')['fixation id'].transform('count')\n",
    "    return fixation_data\n",
    "\n",
    "def overlay_gaze_and_aoi_on_video_ffmpeg(video_path, gaze_data, aoi_data, output_path, video_start_timestamp):\n",
    "    \"\"\"\n",
    "    Overlays gaze points (both fixation and non-fixation), with smoother transitions, onto each frame of a video.\n",
    "    Scanpaths are drawn between all gaze points for continuous movement visualization.\n",
    "    \n",
    "    Parameters:\n",
    "    - video_path (str): Path to the input video file.\n",
    "    - gaze_data (pd.DataFrame): Raw gaze data with 'timestamp [ns]', 'gaze x [px]', 'gaze y [px]', 'fixation id' columns.\n",
    "    - aoi_data (pd.DataFrame): AOI data with 'frame', 'x', 'y', 'width', 'height' columns for each frame.\n",
    "    - output_path (str): Path to save the output video with AOIs, gaze points, and scanpaths overlaid.\n",
    "    - video_start_timestamp (int): The starting timestamp of the subset video in nanoseconds.\n",
    "    \n",
    "    Returns:\n",
    "    - None\n",
    "    \"\"\"\n",
    "    # Check if gaze_data is a file path\n",
    "    if isinstance(gaze_data, str):\n",
    "        gaze_data = pd.read_csv(gaze_data)\n",
    "\n",
    "    # Check if aoi_data is a file path\n",
    "    if isinstance(aoi_data, str):\n",
    "        aoi_data = pd.read_csv(aoi_data)\n",
    "\n",
    "    # Calculate fixation durations based on the number of gaze points per fixation ID\n",
    "    fixation_data = gaze_data[gaze_data['fixation id'].notna()]\n",
    "    fixation_data = calculate_fixation_durations(fixation_data)  # Calculate fixation durations\n",
    "    \n",
    "    # Open the video file using PyAV\n",
    "    input_container = av.open(video_path)\n",
    "    output_container = av.open(output_path, mode='w')\n",
    "    \n",
    "    # Get the video stream\n",
    "    input_stream = input_container.streams.video[0]\n",
    "    output_stream = output_container.add_stream('mpeg4', rate=input_stream.average_rate)\n",
    "    output_stream.width = input_stream.width\n",
    "    output_stream.height = input_stream.height\n",
    "    output_stream.pix_fmt = 'yuv420p'\n",
    "    \n",
    "    # Calculate the frame duration based on average_rate\n",
    "    frame_rate = input_stream.average_rate\n",
    "    frame_duration_ns = int(1 / frame_rate * 1e9)\n",
    "    \n",
    "    # Variables to store previous gaze point for scanpath drawing\n",
    "    prev_gaze_x = None\n",
    "    prev_gaze_y = None\n",
    "    \n",
    "    # Iterate over frames in the input video\n",
    "    for frame_idx, frame in enumerate(input_container.decode(video=0)):\n",
    "        # Convert the PyAV frame to a PIL image for drawing\n",
    "        img = frame.to_image()\n",
    "\n",
    "        # Calculate the timestamp for the current frame\n",
    "        current_frame_timestamp = video_start_timestamp + frame_idx * frame_duration_ns\n",
    "\n",
    "        # Draw AOI for the current frame if available\n",
    "        aoi_row = aoi_data[aoi_data['frame'] == frame_idx]\n",
    "        if not aoi_row.empty:\n",
    "            draw = ImageDraw.Draw(img)\n",
    "            aoi_x = int(aoi_row['x'].values[0])\n",
    "            aoi_y = int(aoi_row['y'].values[0])\n",
    "            aoi_width = int(aoi_row['width'].values[0])\n",
    "            aoi_height = int(aoi_row['height'].values[0])\n",
    "            draw.rectangle([(aoi_x, aoi_y), (aoi_x + aoi_width, aoi_y + aoi_height)], outline=(0, 255, 0), width=4)\n",
    "\n",
    "        # Find gaze points for the current frame\n",
    "        gaze_points = gaze_data[(gaze_data['timestamp [ns]'] >= current_frame_timestamp) &\n",
    "                                (gaze_data['timestamp [ns]'] < current_frame_timestamp + frame_duration_ns)]\n",
    "        \n",
    "        if not gaze_points.empty:\n",
    "            for _, gaze_row in gaze_points.iterrows():\n",
    "                gaze_x = int(gaze_row['gaze x [px]'])\n",
    "                gaze_y = int(gaze_row['gaze y [px]'])\n",
    "                \n",
    "                # Draw the gaze point\n",
    "                draw.ellipse([(gaze_x - 3, gaze_y - 3), (gaze_x + 3, gaze_y + 3)], fill=\"blue\", outline=\"blue\")\n",
    "                \n",
    "                # Draw scanpath (line between consecutive gaze points)\n",
    "                if prev_gaze_x is not None and prev_gaze_y is not None:\n",
    "                    draw.line([(prev_gaze_x, prev_gaze_y), (gaze_x, gaze_y)], fill=\"blue\", width=2)\n",
    "\n",
    "                # Update the previous gaze point for the next frame\n",
    "                prev_gaze_x, prev_gaze_y = gaze_x, gaze_y\n",
    "\n",
    "        # Find fixation points within the current frame's time window\n",
    "        fixation_rows = fixation_data[(fixation_data['timestamp [ns]'] >= current_frame_timestamp) &\n",
    "                                      (fixation_data['timestamp [ns]'] < current_frame_timestamp + frame_duration_ns)]\n",
    "        if not fixation_rows.empty:\n",
    "            for _, fixation_row in fixation_rows.iterrows():\n",
    "                fixation_x = int(fixation_row['gaze x [px]'])\n",
    "                fixation_y = int(fixation_row['gaze y [px]'])\n",
    "                fixation_duration = fixation_row['fixation_duration']\n",
    "                \n",
    "                # Base size of the circle and scaling it by the fixation duration\n",
    "                base_size = 5\n",
    "                scaled_size = base_size + 2 * (fixation_duration ** 0.5)\n",
    "                radius = int(scaled_size)\n",
    "                \n",
    "                # Draw the fixation point with no fill and size proportional to fixation duration\n",
    "                draw.ellipse([(fixation_x - radius, fixation_y - radius), (fixation_x + radius, fixation_y + radius)], outline=\"red\", width=2)\n",
    "\n",
    "        # Convert the image back to a PyAV frame\n",
    "        frame = av.VideoFrame.from_image(img)\n",
    "\n",
    "        # Encode and write the frame\n",
    "        packet = output_stream.encode(frame)\n",
    "        output_container.mux(packet)\n",
    "    \n",
    "    # Finalize the video\n",
    "    packet = output_stream.encode(None)\n",
    "    output_container.mux(packet)\n",
    "\n",
    "    # Close the input and output containers\n",
    "    input_container.close()\n",
    "    output_container.close()\n",
    "\n",
    "    print(f\"Output video with gaze points, fixations, and scanpath saved as {output_path}\")\n",
    "\n",
    "# Example usage:\n",
    "# video_start_timestamp = 1712761742852933376  # Taken from the 'aligned_events.csv'\n",
    "# overlay_gaze_and_aoi_on_video_ffmpeg('input_video.mp4', gaze_data_raw_df, aoi_df, 'output_with_gaze_and_scanpath.mp4', video_start_timestamp)\n"
   ]
  },
  {
   "cell_type": "code",
   "execution_count": null,
   "metadata": {},
   "outputs": [],
   "source": [
    "def overlay_gaze_and_aoi_on_video(video_path, gaze_data, aoi_data, output_path, video_start_timestamp):\n",
    "    \"\"\"\n",
    "    Overlays gaze points and AOI rectangles onto each frame of a video, adjusting for timestamp synchronization.\n",
    "    \n",
    "    Parameters:\n",
    "    - video_path (str): Path to the input video file.\n",
    "    - gaze_data (pd.DataFrame): Gaze data with 'world_timestamp [ns]', 'gaze x [px]', 'gaze y [px]' columns.\n",
    "    - aoi_data (pd.DataFrame): AOI data with 'frame', 'x', 'y', 'width', 'height' columns for each frame.\n",
    "    - output_path (str): Path to save the output video with AOIs and gaze points overlaid.\n",
    "    - video_start_timestamp (int): The starting timestamp of the subset video in nanoseconds.\n",
    "    \n",
    "    Returns:\n",
    "    - None\n",
    "    \"\"\"\n",
    "\n",
    "    # Check if gaze_data is a file path\n",
    "    if isinstance(gaze_data, str):\n",
    "        gaze_data = pd.read_csv(gaze_data)\n",
    "\n",
    "    # Open the video file\n",
    "    cap = cv2.VideoCapture(video_path)\n",
    "    \n",
    "    # Get video properties\n",
    "    frame_width = int(cap.get(cv2.CAP_PROP_FRAME_WIDTH))\n",
    "    frame_height = int(cap.get(cv2.CAP_PROP_FRAME_HEIGHT))\n",
    "    fps = cap.get(cv2.CAP_PROP_FPS)\n",
    "    total_frames = int(cap.get(cv2.CAP_PROP_FRAME_COUNT))\n",
    "    \n",
    "    # Define the codec and create VideoWriter object to save output video\n",
    "    fourcc = cv2.VideoWriter_fourcc(*'mp4v')\n",
    "    out = cv2.VideoWriter(output_path, fourcc, fps, (frame_width, frame_height))\n",
    "    \n",
    "    # Calculate the time duration per frame (in nanoseconds)\n",
    "    frame_duration_ns = int(1 / fps * 1e9)\n",
    "    \n",
    "    # Loop through each frame in the video\n",
    "    for frame_idx in range(total_frames):\n",
    "        ret, frame = cap.read()\n",
    "        if not ret:\n",
    "            break\n",
    "        \n",
    "        # Calculate the timestamp for the current frame\n",
    "        current_frame_timestamp = video_start_timestamp + frame_idx * frame_duration_ns\n",
    "        \n",
    "        # Get AOI for the current frame\n",
    "        aoi_row = aoi_data[aoi_data['frame'] == frame_idx]\n",
    "        \n",
    "        if not aoi_row.empty:\n",
    "            # Extract x, y, width, height of the AOI\n",
    "            aoi_x = int(aoi_row['x'].values[0])\n",
    "            aoi_y = int(aoi_row['y'].values[0])\n",
    "            aoi_width = int(aoi_row['width'].values[0])\n",
    "            aoi_height = int(aoi_row['height'].values[0])\n",
    "            \n",
    "            # Draw the AOI rectangle on the frame (Green color, thickness 2)\n",
    "            cv2.rectangle(frame, (aoi_x, aoi_y), (aoi_x + aoi_width, aoi_y + aoi_height), (0, 255, 0), 2)\n",
    "        \n",
    "        # Find the closest gaze point based on the current frame timestamp\n",
    "        gaze_row = gaze_data[(gaze_data['world_timestamp [ns]'] >= current_frame_timestamp) & \n",
    "                             (gaze_data['world_timestamp [ns]'] < current_frame_timestamp + frame_duration_ns)]\n",
    "        \n",
    "        if not gaze_row.empty:\n",
    "            # Extract gaze coordinates (gaze_x and gaze_y)\n",
    "            gaze_x = int(gaze_row['gaze x [px]'].values[0])\n",
    "            gaze_y = int(gaze_row['gaze y [px]'].values[0])\n",
    "            \n",
    "            # Draw a circle representing the gaze point (Red color, thickness -1 for filled circle)\n",
    "            cv2.circle(frame, (gaze_x, gaze_y), radius=10, color=(0, 0, 255), thickness=-1)\n",
    "        \n",
    "        # Write the frame with AOI and gaze overlay to the output video\n",
    "        out.write(frame)\n",
    "    \n",
    "    # Release everything\n",
    "    cap.release()\n",
    "    out.release()\n",
    "    print(f\"Output video with AOI and gaze data saved as {output_path}\")\n",
    "\n",
    "# Example usage:\n",
    "# video_start_timestamp = 1712761742852933376  # Taken from the 'aligned_events.csv'\n",
    "# overlay_gaze_and_aoi_on_video('input_video.mp4', gaze_data, aoi_data, 'output_with_aoi_and_gaze.mp4', video_start_timestamp)\n"
   ]
  },
  {
   "cell_type": "code",
   "execution_count": null,
   "metadata": {},
   "outputs": [],
   "source": [
    "def process_video_test(video_path, gaze_data_path, rectangle_data_path, output_video_path, output_folder):\n",
    "    try:\n",
    "        # Load data\n",
    "        gaze_data = pd.read_csv(gaze_data_path)\n",
    "        rectangles = pd.read_csv(rectangle_data_path)\n",
    "        \n",
    "        # Initialize 'within_aoi' column in gaze data\n",
    "        gaze_data['within_aoi'] = False\n",
    "\n",
    "        # Assume the world timestamp data frames are indexed properly as frame numbers\n",
    "        gaze_data['frame_index'] = gaze_data.index + 1  # Sequential frame numbers starting from 1\n",
    "        \n",
    "        # Open the video\n",
    "        cap = cv2.VideoCapture(video_path)\n",
    "        if not cap.isOpened():\n",
    "            print(\"Error opening video file\")\n",
    "            return\n",
    "        \n",
    "        # Prepare the video writer to save output\n",
    "        fourcc = cv2.VideoWriter_fourcc(*'mp4v')\n",
    "        out = cv2.VideoWriter(output_video_path, fourcc, cap.get(cv2.CAP_PROP_FPS),\n",
    "                              (int(cap.get(3)), int(cap.get(4))))\n",
    "        \n",
    "        frame_index = 1  # Assuming the first frame is index 1\n",
    "        while cap.isOpened():\n",
    "            ret, frame = cap.read()\n",
    "            if not ret:\n",
    "                break\n",
    "\n",
    "            # Get AOI for the current frame\n",
    "            if frame_index in rectangles['frame'].values:\n",
    "                rect = rectangles[rectangles['frame'] == frame_index].iloc[0]\n",
    "                x, y, w, h = int(rect['x']), int(rect['y']), int(rect['width']), int(rect['height'])\n",
    "\n",
    "                # Ensure the AOI doesn't go out of frame bounds\n",
    "                x, y = max(0, x), max(0, y)\n",
    "                w = min(w, frame.shape[1] - x)\n",
    "                h = min(h, frame.shape[0] - y)\n",
    "\n",
    "                # Debugging output\n",
    "                print(f\"Frame {frame_index}: AOI at ({x}, {y}) with width {w} and height {h}\")\n",
    "\n",
    "                # Draw rectangle (AOI)\n",
    "                if np.all(np.isfinite([x, y, w, h])):\n",
    "                    cv2.rectangle(frame, (x, y), (x + w, y + h), (0, 255, 0), 2)\n",
    "            else:\n",
    "                x, y, w, h = 0, 0, 0, 0  # No AOI for this frame\n",
    "                print(f\"Frame {frame_index}: No AOI found\")\n",
    "\n",
    "            # Check gaze points for this frame\n",
    "            if frame_index in gaze_data['frame_index'].values:\n",
    "                gaze_points = gaze_data[gaze_data['frame_index'] == frame_index]\n",
    "                for index, gaze in gaze_points.iterrows():\n",
    "                    gaze_x, gaze_y = int(gaze['gaze x [px]']), int(gaze['gaze y [px]'])\n",
    "                    # Check if gaze is within the rectangle\n",
    "                    if x <= gaze_x <= x + w and y <= gaze_y <= y + h:\n",
    "                        gaze_data.at[index, 'within_aoi'] = True  # Update gaze data\n",
    "                        cv2.circle(frame, (gaze_x, gaze_y), 5, (0, 0, 255), -1)  # Red circle for gaze within AOI\n",
    "                    else:\n",
    "                        cv2.circle(frame, (gaze_x, gaze_y), 5, (255, 0, 0), -1)  # Blue circle for gaze outside AOI\n",
    "\n",
    "            # Add frame index text for debugging\n",
    "            cv2.putText(frame, f'Frame: {frame_index}', (10, 30), cv2.FONT_HERSHEY_SIMPLEX, 1, (255, 255, 255), 2, cv2.LINE_AA)\n",
    "\n",
    "            # Write the frame with overlays to the output video\n",
    "            out.write(frame)\n",
    "            \n",
    "            frame_index += 1  # Increment frame index\n",
    "\n",
    "        cap.release()\n",
    "        out.release()\n",
    "        cv2.destroyAllWindows()\n",
    "\n",
    "        # Save the updated gaze data to a new CSV file\n",
    "        gaze_data.to_csv(os.path.join(output_folder, 'updated_gaze_data.csv'), index=False)\n",
    "\n",
    "        for i in range(2):\n",
    "            cv2.waitKey(1)\n",
    " \n",
    "    except Exception as e:\n",
    "        print(f\"An error occurred: {e}\")\n",
    "        # Ensure resources are released if an error occurs\n",
    "        cap.release()\n",
    "        out.release()\n",
    "        cv2.destroyAllWindows()\n",
    "\n",
    "        for i in range(2):\n",
    "            cv2.waitKey(1)\n"
   ]
  },
  {
   "cell_type": "code",
   "execution_count": null,
   "metadata": {},
   "outputs": [],
   "source": [
    "def process_video_noScale(video_path, gaze_data_path, rectangle_data_path, output_video_path, output_folder):\n",
    "    try:\n",
    "        # Load data\n",
    "        gaze_data = pd.read_csv(gaze_data_path)\n",
    "        rectangles = pd.read_csv(rectangle_data_path)\n",
    "        \n",
    "        # Initialize 'within_aoi' column in gaze data\n",
    "        gaze_data['within_aoi'] = False\n",
    "\n",
    "        # Assume the world timestamp data frames are indexed properly as frame numbers\n",
    "        gaze_data['frame_index'] = gaze_data.index + 1  # Sequential frame numbers starting from 1\n",
    "        \n",
    "        # Open the video\n",
    "        cap = cv2.VideoCapture(video_path)\n",
    "        if not cap.isOpened():\n",
    "            print(\"Error opening video file\")\n",
    "            return\n",
    "        \n",
    "        # Prepare the video writer to save output\n",
    "        fourcc = cv2.VideoWriter_fourcc(*'mp4v')\n",
    "        out = cv2.VideoWriter(output_video_path, fourcc, cap.get(cv2.CAP_PROP_FPS),\n",
    "                              (int(cap.get(3)), int(cap.get(4))))\n",
    "        \n",
    "        frame_index = 0\n",
    "        while cap.isOpened():\n",
    "            ret, frame = cap.read()\n",
    "            if not ret:\n",
    "                break\n",
    "\n",
    "            # Get AOI for the current frame\n",
    "            if frame_index in rectangles['frame'].values:\n",
    "                rect = rectangles[rectangles['frame'] == frame_index].iloc[0]\n",
    "                x, y, w, h = int(rect['x']), int(rect['y']), int(rect['width']), int(rect['height'])\n",
    "\n",
    "                # Ensure the AOI doesn't go out of frame bounds\n",
    "                x, y = max(0, x), max(0, y)\n",
    "                w = min(w, frame.shape[1] - x)\n",
    "                h = min(h, frame.shape[0] - y)\n",
    "\n",
    "                # Draw rectangle (AOI)\n",
    "                if np.all(np.isfinite([x, y, w, h])):\n",
    "                    cv2.rectangle(frame, (x, y), (x + w, y + h), (0, 255, 0), 2)\n",
    "            else:\n",
    "                x, y, w, h = 0, 0, 0, 0  # No AOI for this frame\n",
    "\n",
    "            # Check gaze points for this frame\n",
    "            if frame_index in gaze_data['frame_index'].values:\n",
    "                gaze_points = gaze_data[gaze_data['frame_index'] == frame_index]\n",
    "                for index, gaze in gaze_points.iterrows():\n",
    "                    gaze_x, gaze_y = int(gaze['gaze x [px]']), int(gaze['gaze y [px]'])\n",
    "                    # Check if gaze is within the rectangle\n",
    "                    if x <= gaze_x <= x + w and y <= gaze_y <= y + h:\n",
    "                        gaze_data.at[index, 'within_aoi'] = True  # Update gaze data\n",
    "                        cv2.circle(frame, (gaze_x, gaze_y), 5, (0, 0, 255), -1)  # Red circle for gaze within AOI\n",
    "                    else:\n",
    "                        cv2.circle(frame, (gaze_x, gaze_y), 5, (255, 0, 0), -1)  # Blue circle for gaze outside AOI\n",
    "\n",
    "            # Add frame index text for debugging\n",
    "            cv2.putText(frame, f'Frame: {frame_index}', (10, 30), cv2.FONT_HERSHEY_SIMPLEX, 1, (255, 255, 255), 2, cv2.LINE_AA)\n",
    "\n",
    "            # Write the frame with overlays to the output video\n",
    "            out.write(frame)\n",
    "            \n",
    "            frame_index += 1  # Increment frame index\n",
    "\n",
    "        cap.release()\n",
    "        out.release()\n",
    "        cv2.destroyAllWindows()\n",
    "\n",
    "        # Save the updated gaze data to a new CSV file\n",
    "        gaze_data.to_csv(os.path.join(output_folder, 'updated_gaze_data.csv'), index=False)\n",
    "\n",
    "        for i in range(2):\n",
    "            cv2.waitKey(1)\n",
    " \n",
    "    except Exception as e:\n",
    "        print(f\"An error occurred: {e}\")\n",
    "        # Ensure resources are released if an error occurs\n",
    "        cap.release()\n",
    "        out.release()\n",
    "        cv2.destroyAllWindows()\n",
    "\n",
    "        for i in range(2):\n",
    "            cv2.waitKey(1)\n"
   ]
  },
  {
   "cell_type": "code",
   "execution_count": null,
   "metadata": {},
   "outputs": [],
   "source": [
    "def process_video_2(video_path, gaze_data_path, rectangle_data_path, output_video_path, output_folder, scale_factor=1.0):\n",
    "    try:\n",
    "        # Load data\n",
    "        gaze_data = pd.read_csv(gaze_data_path)\n",
    "        rectangles = pd.read_csv(rectangle_data_path)\n",
    "        \n",
    "        # Initialize 'within_aoi' column in gaze data\n",
    "        gaze_data['within_aoi'] = False\n",
    "\n",
    "        # Assume the world timestamp data frames are indexed properly as frame numbers\n",
    "        gaze_data['frame_index'] = gaze_data.index + 1  # Sequential frame numbers starting from 1\n",
    "        \n",
    "        # Open the video\n",
    "        cap = cv2.VideoCapture(video_path)\n",
    "        if not cap.isOpened():\n",
    "            print(\"Error opening video file\")\n",
    "            return\n",
    "        \n",
    "        # Prepare the video writer to save output\n",
    "        fourcc = cv2.VideoWriter_fourcc(*'mp4v')\n",
    "        out = cv2.VideoWriter(output_video_path, fourcc, cap.get(cv2.CAP_PROP_FPS),\n",
    "                              (int(cap.get(3)), int(cap.get(4))))\n",
    "        \n",
    "        frame_index = 0\n",
    "        while cap.isOpened():\n",
    "            ret, frame = cap.read()\n",
    "            if not ret:\n",
    "                break\n",
    "\n",
    "            # Get AOI for the current frame\n",
    "            if frame_index in rectangles['frame'].values:\n",
    "                rect = rectangles[rectangles['frame'] == frame_index].iloc[0]\n",
    "                cx, cy = int(rect['x']) + int(rect['width']) // 2, int(rect['y']) + int(rect['height']) // 2\n",
    "                nw, nh = int(rect['width'] * scale_factor), int(rect['height'] * scale_factor)\n",
    "                nx, ny = cx - nw // 2, cy - nh // 2\n",
    "\n",
    "                # Ensure the AOI doesn't go out of frame bounds\n",
    "                nx, ny = max(0, nx), max(0, ny)\n",
    "                nw = min(nw, frame.shape[1] - nx)\n",
    "                nh = min(nh, frame.shape[0] - ny)\n",
    "\n",
    "                # Draw scaled rectangle (AOI)\n",
    "                if np.all(np.isfinite([nx, ny, nw, nh])):\n",
    "                    cv2.rectangle(frame, (nx, ny), (nx + nw, ny + nh), (0, 255, 0), 2)\n",
    "            else:\n",
    "                nx, ny, nw, nh = 0, 0, 0, 0  # No AOI for this frame\n",
    "\n",
    "            # Check gaze points for this frame\n",
    "            if frame_index in gaze_data['frame_index'].values:\n",
    "                gaze_points = gaze_data[gaze_data['frame_index'] == frame_index]\n",
    "                for index, gaze in gaze_points.iterrows():\n",
    "                    gaze_x, gaze_y = int(gaze['gaze x [px]']), int(gaze['gaze y [px]'])\n",
    "                    # Check if gaze is within the scaled rectangle\n",
    "                    if nx <= gaze_x <= nx + nw and ny <= gaze_y <= ny + nh:\n",
    "                        gaze_data.at[index, 'within_aoi'] = True  # Update gaze data\n",
    "                        cv2.circle(frame, (gaze_x, gaze_y), 5, (0, 0, 255), -1)  # Red circle for gaze within AOI\n",
    "                    else:\n",
    "                        cv2.circle(frame, (gaze_x, gaze_y), 5, (255, 0, 0), -1)  # Blue circle for gaze outside AOI\n",
    "\n",
    "            # Add frame index text for debugging\n",
    "            cv2.putText(frame, f'Frame: {frame_index}', (10, 30), cv2.FONT_HERSHEY_SIMPLEX, 1, (255, 255, 255), 2, cv2.LINE_AA)\n",
    "\n",
    "            # Write the frame with overlays to the output video\n",
    "            out.write(frame)\n",
    "            \n",
    "            frame_index += 1  # Increment frame index\n",
    "\n",
    "        cap.release()\n",
    "        out.release()\n",
    "        cv2.destroyAllWindows()\n",
    "\n",
    "        # Save the updated gaze data to a new CSV file\n",
    "        gaze_data.to_csv(os.path.join(output_folder, 'updated_gaze_data.csv'), index=False)\n",
    "\n",
    "        for i in range(2):\n",
    "            cv2.waitKey(1)\n",
    " \n",
    "    except Exception as e:\n",
    "        print(f\"An error occurred: {e}\")\n",
    "        # Ensure resources are released if an error occurs\n",
    "        cap.release()\n",
    "        out.release()\n",
    "        cv2.destroyAllWindows()\n",
    "\n",
    "        for i in range(2):\n",
    "            cv2.waitKey(1)\n"
   ]
  },
  {
   "cell_type": "code",
   "execution_count": null,
   "metadata": {},
   "outputs": [],
   "source": [
    "def process_video(video_path, gaze_data_path, rectangle_data_path, output_video_path, output_folder, scale_factor=1.0):\n",
    "    try:\n",
    "        # Load data\n",
    "        gaze_data = pd.read_csv(gaze_data_path)\n",
    "        rectangles = pd.read_csv(rectangle_data_path)\n",
    "        \n",
    "        # Initialize 'within_aoi' column in gaze data\n",
    "        gaze_data['within_aoi'] = False\n",
    "\n",
    "        # Assume the world timestamp data frames are indexed properly as frame numbers\n",
    "        gaze_data['frame_index'] = gaze_data.index + 1  # Sequential frame numbers starting from 1\n",
    "        \n",
    "        # Open the video\n",
    "        cap = cv2.VideoCapture(video_path)\n",
    "        if not cap.isOpened():\n",
    "            print(\"Error opening video file\")\n",
    "            return\n",
    "        \n",
    "        # Prepare the video writer to save output\n",
    "        fourcc = cv2.VideoWriter_fourcc(*'mp4v')\n",
    "        out = cv2.VideoWriter(output_video_path, fourcc, cap.get(cv2.CAP_PROP_FPS),\n",
    "                              (int(cap.get(3)), int(cap.get(4))))\n",
    "        \n",
    "        frame_index = 0\n",
    "        while cap.isOpened():\n",
    "            ret, frame = cap.read()\n",
    "            if not ret:\n",
    "                break\n",
    "\n",
    "            # Get AOI for the current frame\n",
    "            if frame_index in rectangles['frame'].values:\n",
    "                rect = rectangles[rectangles['frame'] == frame_index].iloc[0]\n",
    "                cx, cy = int(rect['x']) + int(rect['width']) // 2, int(rect['y']) + int(rect['height']) // 2\n",
    "                nw, nh = int(rect['width'] * scale_factor), int(rect['height'] * scale_factor)\n",
    "                nx, ny = cx - nw // 2, cy - nh // 2\n",
    "                # Draw scaled rectangle (AOI)\n",
    "                if np.all(np.isfinite([nx, ny, nw, nh])):\n",
    "                    cv2.rectangle(frame, (nx, ny), (nx + nw, ny + nh), (0, 255, 0), 2)\n",
    "            else:\n",
    "                nx, ny, nw, nh = 0, 0, 0, 0  # No AOI for this frame\n",
    "\n",
    "            # Check gaze points for this frame\n",
    "            if frame_index in gaze_data['frame_index'].values:\n",
    "                gaze_points = gaze_data[gaze_data['frame_index'] == frame_index]\n",
    "                for index, gaze in gaze_points.iterrows():\n",
    "                    gaze_x, gaze_y = int(gaze['gaze x [px]']), int(gaze['gaze y [px]'])\n",
    "                    # Check if gaze is within the scaled rectangle\n",
    "                    if nx <= gaze_x <= nx + nw and ny <= gaze_y <= ny + nh:\n",
    "                        gaze_data.at[index, 'within_aoi'] = True  # Update gaze data\n",
    "                        cv2.circle(frame, (gaze_x, gaze_y), 5, (0, 0, 255), -1)  # Red circle for gaze within AOI\n",
    "                    else:\n",
    "                        cv2.circle(frame, (gaze_x, gaze_y), 5, (255, 0, 0), -1)  # Blue circle for gaze outside AOI\n",
    "\n",
    "            # Write the frame with overlays to the output video\n",
    "            out.write(frame)\n",
    "            \n",
    "            frame_index += 1  # Increment frame index\n",
    "\n",
    "        cap.release()\n",
    "        out.release()\n",
    "        cv2.destroyAllWindows()\n",
    "\n",
    "        # Save the updated gaze data to a new CSV file\n",
    "        gaze_data.to_csv(os.path.join(output_folder, 'updated_gaze_data.csv'), index=False)\n",
    "\n",
    "        for i in range(2):\n",
    "            cv2.waitKey(1)\n",
    " \n",
    "    except Exception as e:\n",
    "        print(f\"An error occurred: {e}\")\n",
    "        # Ensure resources are released if an error occurs\n",
    "        cap.release()\n",
    "        out.release()\n",
    "        cv2.destroyAllWindows()\n",
    "\n",
    "        for i in range(2):\n",
    "            cv2.waitKey(1)\n",
    "\n",
    "# Example of how to call the function\n",
    "# gaze_path = os.path.join(output_file, 'averaged_gaze_data.csv')\n",
    "# rectangle_path = os.path.join(output_file, 'processed_aoi_for_each_frame.csv')\n",
    "# output_video = os.path.join(output_file, 'world_video_with_gaze_and_aoi.mp4')\n",
    "\n",
    "# process_video(video, gaze_path, rectangle_path, output_video, output_folder=output_file)\n"
   ]
  },
  {
   "cell_type": "code",
   "execution_count": null,
   "metadata": {},
   "outputs": [],
   "source": [
    "def draw_aoi_on_video(video_path, aoi_data_path, output_video_path):\n",
    "    # Load the AOI data\n",
    "    aoi_data = pd.read_csv(aoi_data_path)\n",
    "\n",
    "    # Open the video\n",
    "    cap = cv2.VideoCapture(video_path)\n",
    "    if not cap.isOpened():\n",
    "        print(\"Error opening video file\")\n",
    "        return\n",
    "\n",
    "    # Get video properties\n",
    "    frame_width = int(cap.get(cv2.CAP_PROP_FRAME_WIDTH))\n",
    "    frame_height = int(cap.get(cv2.CAP_PROP_FRAME_HEIGHT))\n",
    "    fps = int(cap.get(cv2.CAP_PROP_FPS))\n",
    "    total_frames = int(cap.get(cv2.CAP_PROP_FRAME_COUNT))\n",
    "\n",
    "    # Prepare the video writer to save output\n",
    "    fourcc = cv2.VideoWriter_fourcc(*'mp4v')\n",
    "    out = cv2.VideoWriter(output_video_path, fourcc, fps, (frame_width, frame_height))\n",
    "\n",
    "    frame_index = 0\n",
    "    while cap.isOpened():\n",
    "        ret, frame = cap.read()\n",
    "        if not ret:\n",
    "            break\n",
    "\n",
    "        # Get the AOI for the current frame\n",
    "        if frame_index < len(aoi_data):\n",
    "            row = aoi_data.iloc[frame_index]\n",
    "            x, y, w, h = int(row['x']), int(row['y']), int(row['width']), int(row['height'])\n",
    "\n",
    "            # Draw the AOI rectangle on the frame\n",
    "            cv2.rectangle(frame, (x, y), (x + w, y + h), (0, 255, 0), 2)\n",
    "\n",
    "        # Write the frame with the AOI drawn\n",
    "        out.write(frame)\n",
    "\n",
    "        frame_index += 1\n",
    "\n",
    "    cap.release()\n",
    "    out.release()\n",
    "    cv2.destroyAllWindows()\n",
    "\n",
    "    print(f\"Video with AOI overlay saved to {output_video_path}\")\n",
    "\n",
    "# Example usage:\n",
    "video_path = '/mnt/data/7.mp4'\n",
    "aoi_data_path = '/mnt/data/complete_aoi_data.csv'\n",
    "output_video_path = '/mnt/data/video_with_aoi.mp4'\n",
    "\n",
    "draw_aoi_on_video(video_path, aoi_data_path, output_video_path)"
   ]
  },
  {
   "cell_type": "code",
   "execution_count": null,
   "metadata": {},
   "outputs": [],
   "source": [
    "def ensure_aoi_for_all_frames(video_path, filtered_rectangle_data_path, output_folder):\n",
    "    # Load the filtered AOI data\n",
    "    aois_df = pd.read_csv(filtered_rectangle_data_path)\n",
    "\n",
    "    # Open the video to get the total number of frames\n",
    "    cap = cv2.VideoCapture(video_path)\n",
    "    total_frames = int(cap.get(cv2.CAP_PROP_FRAME_COUNT))\n",
    "    cap.release()\n",
    "\n",
    "    # Create a DataFrame with all frame numbers\n",
    "    all_frames_df = pd.DataFrame({'frame': range(total_frames)})\n",
    "\n",
    "    # Merge the AOI data with the all frames DataFrame\n",
    "    merged_df = pd.merge(all_frames_df, aois_df, on='frame', how='left')\n",
    "\n",
    "    # Interpolate missing AOIs\n",
    "    merged_df[['x', 'y', 'width', 'height']] = merged_df[['x', 'y', 'width', 'height']].interpolate(method='linear', limit_direction='both')\n",
    "\n",
    "    # Fill any remaining NaN values (at the start or end of the video) using forward fill\n",
    "    merged_df[['x', 'y', 'width', 'height']] = merged_df[['x', 'y', 'width', 'height']].fillna(method='ffill')\n",
    "    merged_df[['x', 'y', 'width', 'height']] = merged_df[['x', 'y', 'width', 'height']].fillna(method='bfill')\n",
    "\n",
    "    # Save the cleaned data to a new CSV file\n",
    "    output_path = os.path.join(output_folder, 'complete_aoi_data.csv')\n",
    "    merged_df.to_csv(output_path, index=False)\n",
    "\n",
    "    print(f\"Completed AOI data saved to {output_path}\")\n",
    "\n",
    "# Example usage:\n",
    "filtered_rectangle_data_path = os.path.join(save_dir_7,'filtered_rectangle_data.csv')\n",
    "output_folder = save_dir_7\n",
    "short_video = os.path.join(subj_folder,'ads','7.mp4')\n",
    "\n",
    "ensure_aoi_for_all_frames(short_video, filtered_rectangle_data_path, output_folder)"
   ]
  },
  {
   "cell_type": "code",
   "execution_count": null,
   "metadata": {},
   "outputs": [],
   "source": [
    "def extract_aoi_templates(rectangle_data_path, video_path, output_folder):\n",
    "    # Load rectangle data\n",
    "    rectangle_data = pd.read_csv(rectangle_data_path)\n",
    "\n",
    "    # Open the video\n",
    "    cap = cv2.VideoCapture(video_path)\n",
    "\n",
    "    # Ensure the output folder exists\n",
    "    if not os.path.exists(output_folder):\n",
    "        os.makedirs(output_folder)\n",
    "\n",
    "    # Extract and save AOI templates\n",
    "    for index, row in rectangle_data.iterrows():\n",
    "        cap.set(cv2.CAP_PROP_POS_FRAMES, row['frame'])\n",
    "        ret, frame = cap.read()\n",
    "        if ret:\n",
    "            x, y, w, h = int(row['x']), int(row['y']), int(row['width']), int(row['height'])\n",
    "            aoi = frame[y:y+h, x:x+w]\n",
    "            cv2.imwrite(f\"{output_folder}/aoi_template_{row['frame']}.jpg\", aoi)\n",
    "\n",
    "    cap.release()\n",
    "\n",
    "def match_missing_aois_with_templates(video_path, missing_frames, template_folder, output_folder, save_frame=True):\n",
    "    # Open the video\n",
    "    cap = cv2.VideoCapture(video_path)\n",
    "    frame_index = 0\n",
    "\n",
    "    if not os.path.exists(output_folder):\n",
    "        os.makedirs(output_folder)\n",
    "\n",
    "    frame_folder = os.path.join(output_folder, 'matched_frames')\n",
    "    os.makedirs(frame_folder, exist_ok=True)\n",
    "\n",
    "    # Prepare to save rectangle data\n",
    "    rectangle_data = []\n",
    "\n",
    "    while cap.isOpened():\n",
    "        ret, frame = cap.read()\n",
    "        if not ret:\n",
    "            break\n",
    "        \n",
    "        # Only process frames that are missing AOIs\n",
    "        if frame_index in missing_frames:\n",
    "            best_match = None\n",
    "            best_val = None\n",
    "\n",
    "            # Iterate over all templates and find the best match\n",
    "            for template_file in os.listdir(template_folder):\n",
    "                template_path = os.path.join(template_folder, template_file)\n",
    "                template = cv2.imread(template_path, cv2.IMREAD_GRAYSCALE)\n",
    "                frame_gray = cv2.cvtColor(frame, cv2.COLOR_BGR2GRAY)\n",
    "\n",
    "                res = cv2.matchTemplate(frame_gray, template, cv2.TM_CCOEFF_NORMED)\n",
    "                min_val, max_val, min_loc, max_loc = cv2.minMaxLoc(res)\n",
    "\n",
    "                if best_val is None or max_val > best_val:\n",
    "                    best_val = max_val\n",
    "                    best_match = (max_loc, template.shape[1], template.shape[0])\n",
    "\n",
    "            # If a good match is found, save it\n",
    "            if best_match:\n",
    "                x, y = best_match[0]\n",
    "                w, h = best_match[1], best_match[2]\n",
    "\n",
    "                # Draw rectangle on the matched region\n",
    "                cv2.rectangle(frame, (x, y), (x + w, y + h), (0, 255, 0), 3)\n",
    "\n",
    "                # Save rectangle data\n",
    "                rectangle_data.append({\n",
    "                    'frame': frame_index,\n",
    "                    'x': x,\n",
    "                    'y': y,\n",
    "                    'width': w,\n",
    "                    'height': h\n",
    "                })\n",
    "\n",
    "                # Optionally save frames with drawn rectangles\n",
    "                if save_frame:\n",
    "                    cv2.imwrite(f'{frame_folder}/frame_{frame_index}.jpg', frame)  # Save each frame to a file\n",
    "\n",
    "        frame_index += 1\n",
    "\n",
    "        # Display the resulting frame\n",
    "        cv2.imshow('Frame', frame)\n",
    "\n",
    "        if cv2.waitKey(1) & 0xFF == ord('q'):\n",
    "            break\n",
    "\n",
    "    cap.release()\n",
    "    cv2.destroyAllWindows()\n",
    "\n",
    "    for i in range(2):\n",
    "        cv2.waitKey(1)\n",
    "\n",
    "    # Save rectangle data to a CSV file\n",
    "    with open(os.path.join(output_folder, 'matched_rectangle_data.csv'), 'w', newline='') as csvfile:\n",
    "        fieldnames = ['frame', 'x', 'y', 'width', 'height']\n",
    "        writer = csv.DictWriter(csvfile, fieldnames=fieldnames)\n",
    "        writer.writeheader()\n",
    "        for data in rectangle_data:\n",
    "            writer.writerow(data)\n",
    "\n",
    "    print(f\"Matched AOI data saved to {output_folder}\")\n",
    "\n",
    "# Example usage:\n",
    "# 1. Extract AOI templates from the first pass:\n",
    "extract_aoi_templates(rectangle_data_path=os.path.join(save_dir_7,'rectangle_data.csv'), \n",
    "                      video_path=os.path.join(subj_folder,'ads','7.mp4'),\n",
    "                      output_folder=os.path.join(save_dir_7,'aoi_templates'))\n",
    "\n",
    "# 2. Match missing AOIs using the extracted templates:\n",
    "missing_frames = find_missing_frames(video_path=os.path.join(subj_folder,'ads','7.mp4'), \n",
    "                                     rectangle_data_path=os.path.join(save_dir_7,'rectangle_data.csv'))\n",
    "match_missing_aois_with_templates(video_path=short_video, \n",
    "                                  missing_frames=missing_frames, \n",
    "                                  template_folder=os.path.join(save_dir_7,'aoi_templates'),\n",
    "                                  output_folder=os.path.join(save_dir_7,'matched_frames'))"
   ]
  },
  {
   "cell_type": "code",
   "execution_count": null,
   "metadata": {},
   "outputs": [],
   "source": [
    "def find_missing_frames(video_path, rectangle_data_path):\n",
    "    # Load rectangle data\n",
    "    rectangle_data = pd.read_csv(rectangle_data_path)\n",
    "\n",
    "    # Open the video to get the total number of frames\n",
    "    cap = cv2.VideoCapture(video_path)\n",
    "    total_frames = int(cap.get(cv2.CAP_PROP_FRAME_COUNT))\n",
    "    cap.release()\n",
    "\n",
    "    # Extract the frames that have AOIs from the CSV\n",
    "    frames_with_aois = set(rectangle_data['frame'].values)\n",
    "\n",
    "    # Find the missing frames\n",
    "    all_frames = set(range(total_frames))\n",
    "    missing_frames = list(all_frames - frames_with_aois)\n",
    "\n",
    "    return missing_frames\n",
    "\n",
    "# Example usage:\n",
    "video_path = short_video\n",
    "rectangle_data_path = os.path.join(save_dir_7,'rectangle_data.csv')\n",
    "\n",
    "missing_frames = find_missing_frames(video_path, rectangle_data_path)\n",
    "print(f\"Missing frames: {missing_frames}\")\n"
   ]
  },
  {
   "cell_type": "code",
   "execution_count": null,
   "metadata": {},
   "outputs": [],
   "source": [
    "def process_aoi_data_interpolation(aois_csv_path, timestamps_csv_path, output_folder):\n",
    "    # Load the AOIs data\n",
    "    aois_df = pd.read_csv(aois_csv_path)\n",
    "\n",
    "    # Load the frame timestamps data\n",
    "    timestamps_df = pd.read_csv(timestamps_csv_path)\n",
    "\n",
    "    # Assume the world timestamp data frames are indexed properly as frame numbers\n",
    "    timestamps_df['frame'] = timestamps_df.index + 1  # Sequential frame numbers starting from 1\n",
    "\n",
    "    # Merge the dataframes to align AOI with frames\n",
    "    merged_df = pd.merge_asof(timestamps_df.sort_values('frame'), \n",
    "                              aois_df.sort_values('frame'),\n",
    "                              on='frame', \n",
    "                              direction='nearest',\n",
    "                              tolerance=5)  # Adjust tolerance if needed\n",
    "\n",
    "    # Interpolate missing AOI values to ensure every frame has an AOI\n",
    "    merged_df[['x', 'y', 'width', 'height']] = merged_df[['x', 'y', 'width', 'height']].interpolate(method='linear', limit_direction='both')\n",
    "\n",
    "    # Handle any remaining NaN values by forward filling as a fallback\n",
    "    merged_df[['x', 'y', 'width', 'height']] = merged_df[['x', 'y', 'width', 'height']].fillna(method='ffill')\n",
    "\n",
    "    # Clean up the DataFrame for final output\n",
    "    final_df = merged_df[['frame', 'x', 'y', 'width', 'height']]\n",
    "\n",
    "    # Save the cleaned data to a new CSV file\n",
    "    final_df.to_csv(os.path.join(output_folder, 'processed_aoi_for_each_frame.csv'), index=False)\n",
    "\n",
    "    print(f\"Processed AOI data saved to {output_folder}\")\n",
    "\n",
    "# Example usage\n",
    "process_aoi_data_interpolation(\n",
    "    aois_csv_path=os.path.join(save_dir_7, 'filtered_rectangle_data.csv'),\n",
    "    timestamps_csv_path=os.path.join(save_dir_7,'averaged_gaze_data.csv'),\n",
    "    output_folder=save_dir_7\n",
    ")\n"
   ]
  },
  {
   "cell_type": "code",
   "execution_count": null,
   "metadata": {},
   "outputs": [],
   "source": [
    "def process_aoi_data(aois_csv_path, timestamps_csv_path, output_folder, pos_diff_threshold=0.05, rolling_frame_count=3):\n",
    "    # Load the AOIs data\n",
    "    aois_df = pd.read_csv(aois_csv_path)\n",
    "\n",
    "    # Load the frame timestamps data\n",
    "    timestamps_df = pd.read_csv(timestamps_csv_path)\n",
    "\n",
    "    # Assume the world timestamp data frames are indexed properly as frame numbers\n",
    "    timestamps_df['frame'] = timestamps_df.index + 1  # Sequential frame numbers starting from 1\n",
    "\n",
    "    # Map frames from AOIs to timestamps using nearest match (simplified merge without tolerance)\n",
    "    merged_df = pd.merge_asof(timestamps_df.sort_values('frame'), \n",
    "                              aois_df.sort_values('frame'),\n",
    "                              on='frame', \n",
    "                              direction='nearest')\n",
    "\n",
    "    # Add previous frame AOI info for comparison\n",
    "    merged_df['prev_x'] = merged_df['x'].shift(1)\n",
    "    merged_df['prev_y'] = merged_df['y'].shift(1)\n",
    "\n",
    "    # Calculate percentage differences for position only\n",
    "    merged_df['diff_x'] = (merged_df['x'] - merged_df['prev_x']).abs() / merged_df['prev_x']\n",
    "    merged_df['diff_y'] = (merged_df['y'] - merged_df['prev_y']).abs() / merged_df['prev_y']\n",
    "\n",
    "    # Identify rows that exceed position difference threshold\n",
    "    condition = (merged_df['diff_x'] > pos_diff_threshold) | (merged_df['diff_y'] > pos_diff_threshold)\n",
    "\n",
    "    # Apply rolling average for the identified frames based on the specified number of frames\n",
    "    for index, row in merged_df[condition].iterrows():\n",
    "        window_start = max(index - (rolling_frame_count // 2), 0)\n",
    "        window_end = min(index + (rolling_frame_count // 2), len(merged_df) - 1)\n",
    "        window = merged_df.loc[window_start:window_end]\n",
    "        merged_df.loc[index, ['x', 'y']] = window[['x', 'y']].mean().astype(int)\n",
    "\n",
    "    # Clean up the DataFrame for final output\n",
    "    final_df = merged_df[['frame', 'x', 'y', 'width', 'height']]\n",
    "\n",
    "    # Save the cleaned data to a new CSV file\n",
    "    final_df.to_csv(os.path.join(output_folder, 'processed_aoi_for_each_frame.csv'), index=False)\n",
    "\n",
    "    print(f\"Processed AOI data saved to {output_folder}\")\n",
    "\n",
    "# process_aoi_data(\n",
    "#     aois_csv_path=os.path.join(output_file, 'filtered_rectangle_data.csv'),\n",
    "#     timestamps_csv_path=os.path.join(subj_folder,'world_timestamps.csv'),\n",
    "#     output_folder=output_file,\n",
    "#     pos_diff_threshold=0.05,\n",
    "#     rolling_frame_count=3\n",
    "# )"
   ]
  },
  {
   "cell_type": "code",
   "execution_count": null,
   "metadata": {},
   "outputs": [],
   "source": [
    "# template matching for tv screen detection\n",
    "def detect_tv_screen_template(video_path, template_path, threshold, output_folder):\n",
    "    # Load the template\n",
    "    template = cv2.imread(template_path, 0)\n",
    "    w, h = template.shape[::-1]\n",
    "\n",
    "    # Open the video\n",
    "    cap = cv2.VideoCapture(video_path)\n",
    "    frame_index = 0  # To keep track of frame numbers\n",
    "\n",
    "    if not os.path.exists(output_folder):\n",
    "        os.makedirs(output_folder)\n",
    "\n",
    "    frame_folder = os.path.join(output_folder, 'tv_frames')\n",
    "    os.makedirs(frame_folder, exist_ok=True)\n",
    "    \n",
    "    # Prepare to save rectangle data\n",
    "    rectangle_data = []\n",
    "\n",
    "    while cap.isOpened():\n",
    "        ret, frame = cap.read()\n",
    "        if not ret:\n",
    "            break\n",
    "        \n",
    "        gray = cv2.cvtColor(frame, cv2.COLOR_BGR2GRAY)\n",
    "\n",
    "        # Apply template matching\n",
    "        res = cv2.matchTemplate(gray, template, cv2.TM_CCOEFF_NORMED)\n",
    "        loc = np.where(res >= threshold)\n",
    "\n",
    "        # Draw rectangle around matched region\n",
    "        for pt in zip(*loc[::-1]):\n",
    "            cv2.rectangle(frame, pt, (pt[0] + w, pt[1] + h), (0, 255, 0), 2)\n",
    "            rectangle_data.append({\n",
    "                'frame': frame_index,\n",
    "                'x': pt[0],\n",
    "                'y': pt[1],\n",
    "                'width': w,\n",
    "                'height': h\n",
    "            })\n",
    "\n",
    "        frame_index += 1\n",
    "\n",
    "        # Save the frame with the detected screen\n",
    "        cv2.imwrite(f'{frame_folder}/frame_{frame_index}.jpg', frame)\n",
    "\n",
    "        # Display the resulting frame\n",
    "        cv2.imshow('Frame', frame)\n",
    "        if cv2.waitKey(1) & 0xFF == ord('q'):\n",
    "            break\n",
    "\n",
    "    cap.release()\n",
    "    cv2.destroyAllWindows()\n",
    "\n",
    "    # Save rectangle data to a CSV file\n",
    "    with open(os.path.join(output_folder, 'rectangle_data.csv'), 'w', newline='') as csvfile:\n",
    "        fieldnames = ['frame', 'x', 'y', 'width', 'height']\n",
    "        writer = csv.DictWriter(csvfile, fieldnames=fieldnames)\n",
    "        writer.writeheader()\n",
    "        for data in rectangle_data:\n",
    "            writer.writerow(data)\n",
    "\n",
    "# Example usage\n",
    "# detect_tv_screen_template('video.mp4', 'template.jpg', 0.8, 'output_folder')\n"
   ]
  },
  {
   "cell_type": "code",
   "execution_count": null,
   "metadata": {},
   "outputs": [],
   "source": [
    "# function for finding TV screens in a video using YOLOv3\n",
    "def detect_and_save_aoi(video_path, output_folder, aoi_object, skip_frames=5):\n",
    "\n",
    "    if not aoi_object:\n",
    "        print(\"Please provide an AOI object to detect.\")\n",
    "        return\n",
    "    \n",
    "    net = cv2.dnn.readNet(\"/Users/ebeard/Documents/darknet/yolov3.weights\", \"/Users/ebeard/Documents/darknet/cfg/yolov3.cfg\")\n",
    "    layer_names = net.getLayerNames()\n",
    "    classes = []\n",
    "    with open(\"/Users/ebeard/Documents/darknet/data/coco.names\", \"r\") as f:\n",
    "        classes = [line.strip() for line in f.readlines()]\n",
    "    \n",
    "    # Handling output layers based on the format of getUnconnectedOutLayers\n",
    "    unconnected_out_layers = net.getUnconnectedOutLayers()\n",
    "    if unconnected_out_layers.ndim == 1:\n",
    "        output_layers = [layer_names[i - 1] for i in unconnected_out_layers.flatten()]\n",
    "    else:\n",
    "        output_layers = [layer_names[i[0] - 1] for i in unconnected_out_layers]\n",
    "\n",
    "    cap = cv2.VideoCapture(video_path)\n",
    "    frame_index = 0\n",
    "    aoi_data = []\n",
    "\n",
    "    video_name = os.path.basename(video_path).split('.mp4')[0]\n",
    "\n",
    "    if not os.path.exists(output_folder):\n",
    "        os.makedirs(output_folder)\n",
    "\n",
    "    if not os.path.exists(os.path.join(output_folder, video_name, \"frames\")):\n",
    "        os.makedirs(os.path.join(output_folder, video_name, \"frames\"))\n",
    "\n",
    "    while True:\n",
    "        ret, frame = cap.read()\n",
    "        if not ret:\n",
    "            break\n",
    "\n",
    "        if frame_index % skip_frames == 0:  # Process this frame\n",
    "            height, width, channels = frame.shape\n",
    "            blob = cv2.dnn.blobFromImage(frame, 0.00392, (416, 416), (0, 0, 0), True, crop=False)\n",
    "            net.setInput(blob)\n",
    "            outs = net.forward(output_layers)\n",
    "\n",
    "            class_ids = []\n",
    "            confidences = []\n",
    "            boxes = []\n",
    "\n",
    "            for out in outs:\n",
    "                for detection in out:\n",
    "                    scores = detection[5:]\n",
    "                    class_id = np.argmax(scores)\n",
    "                    confidence = scores[class_id]\n",
    "                    if confidence > 0.5:\n",
    "                        center_x = int(detection[0] * width)\n",
    "                        center_y = int(detection[1] * height)\n",
    "                        w = int(detection[2] * width)\n",
    "                        h = int(detection[3] * height)\n",
    "                        x = int(center_x - w / 2)\n",
    "                        y = int(center_y - h / 2)\n",
    "\n",
    "                        if classes[class_id].lower() == aoi_object: \n",
    "                            boxes.append([x, y, w, h])\n",
    "                            confidences.append(float(confidence))\n",
    "                            class_ids.append(class_id)\n",
    "\n",
    "            indexes = cv2.dnn.NMSBoxes(boxes, confidences, 0.5, 0.4)\n",
    "            found_phone = False\n",
    "            if len(indexes) > 0:  # Check if indexes is not empty\n",
    "                for i in indexes.flatten():\n",
    "                    x, y, w, h = boxes[i]\n",
    "                    label = str(classes[class_ids[i]])\n",
    "                    cv2.rectangle(frame, (x, y), (x + w, y + h), (0, 255, 0), 2)\n",
    "                    cv2.putText(frame, label, (x, y - 5), cv2.FONT_HERSHEY_SIMPLEX, 0.5, (0, 255, 0), 2)\n",
    "                    aoi_data.append({'frame': frame_index, 'x': x, 'y': y, 'width': w, 'height': h})\n",
    "                    found_phone = True\n",
    "\n",
    "            if found_phone:\n",
    "                cv2.imwrite(os.path.join(output_folder, video_name, \"frames\", f\"frame_{frame_index}.jpg\"), frame)\n",
    "\n",
    "        frame_index += 1\n",
    "\n",
    "        if cv2.waitKey(1) & 0xFF == ord('q'):\n",
    "            break\n",
    "\n",
    "    cap.release()\n",
    "    cv2.destroyAllWindows()\n",
    "\n",
    "    for i in range(2):\n",
    "        cv2.waitKey(1)\n",
    "\n",
    "    # Save rectangle data to a CSV file\n",
    "    if ' ' in aoi_object:\n",
    "        aoi_object = aoi_object.replace(' ', '')\n",
    "\n",
    "    with open(os.path.join(output_folder, video_name, f'{aoi_object}_rectangle_data.csv'), 'w', newline='') as csvfile: \n",
    "        fieldnames = ['frame', 'x', 'y', 'width', 'height']\n",
    "        writer = csv.DictWriter(csvfile, fieldnames=fieldnames)\n",
    "        writer.writeheader()\n",
    "        for data in aoi_data:\n",
    "            writer.writerow(data)\n",
    "\n",
    "# Example usage\n",
    "#aois = detect_and_save_smartphones(video, 'full_frame', skip_frames=100)\n",
    "#television = detect_and_save_smartphones(video_path = os.path.join('data', 'sub-019_tv-lego-42b0cb7d', '09e25ad2_0.0-784.762.mp4'), output_folder='full_frame_tv', skip_frames=200)\n"
   ]
  }
 ],
 "metadata": {
  "kernelspec": {
   "display_name": "base",
   "language": "python",
   "name": "python3"
  },
  "language_info": {
   "codemirror_mode": {
    "name": "ipython",
    "version": 3
   },
   "file_extension": ".py",
   "mimetype": "text/x-python",
   "name": "python",
   "nbconvert_exporter": "python",
   "pygments_lexer": "ipython3",
   "version": "3.11.4"
  }
 },
 "nbformat": 4,
 "nbformat_minor": 2
}
